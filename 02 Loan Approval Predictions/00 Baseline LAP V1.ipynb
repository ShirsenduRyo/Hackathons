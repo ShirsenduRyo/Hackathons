{
 "cells": [
  {
   "cell_type": "code",
   "execution_count": 1,
   "id": "0c54b408",
   "metadata": {
    "_cell_guid": "b1076dfc-b9ad-4769-8c92-a6c4dae69d19",
    "_uuid": "8f2839f25d086af736a60e9eeb907d3b93b6e0e5",
    "execution": {
     "iopub.execute_input": "2024-10-01T22:55:56.246066Z",
     "iopub.status.busy": "2024-10-01T22:55:56.245552Z",
     "iopub.status.idle": "2024-10-01T22:55:57.321504Z",
     "shell.execute_reply": "2024-10-01T22:55:57.319779Z"
    },
    "papermill": {
     "duration": 1.090708,
     "end_time": "2024-10-01T22:55:57.324508",
     "exception": false,
     "start_time": "2024-10-01T22:55:56.233800",
     "status": "completed"
    },
    "tags": []
   },
   "outputs": [
    {
     "name": "stdout",
     "output_type": "stream",
     "text": [
      "/kaggle/input/playground-series-s4e10/sample_submission.csv\n",
      "/kaggle/input/playground-series-s4e10/train.csv\n",
      "/kaggle/input/playground-series-s4e10/test.csv\n"
     ]
    }
   ],
   "source": [
    "# This Python 3 environment comes with many helpful analytics libraries installed\n",
    "# It is defined by the kaggle/python Docker image: https://github.com/kaggle/docker-python\n",
    "# For example, here's several helpful packages to load\n",
    "\n",
    "import numpy as np # linear algebra\n",
    "import pandas as pd # data processing, CSV file I/O (e.g. pd.read_csv)\n",
    "\n",
    "# Input data files are available in the read-only \"../input/\" directory\n",
    "# For example, running this (by clicking run or pressing Shift+Enter) will list all files under the input directory\n",
    "\n",
    "import os\n",
    "for dirname, _, filenames in os.walk('/kaggle/input'):\n",
    "    for filename in filenames:\n",
    "        print(os.path.join(dirname, filename))\n",
    "\n",
    "# You can write up to 20GB to the current directory (/kaggle/working/) that gets preserved as output when you create a version using \"Save & Run All\" \n",
    "# You can also write temporary files to /kaggle/temp/, but they won't be saved outside of the current session"
   ]
  },
  {
   "cell_type": "markdown",
   "id": "baf7d4c3",
   "metadata": {
    "papermill": {
     "duration": 0.008592,
     "end_time": "2024-10-01T22:55:57.342532",
     "exception": false,
     "start_time": "2024-10-01T22:55:57.333940",
     "status": "completed"
    },
    "tags": []
   },
   "source": [
    "# 0. Import Packages"
   ]
  },
  {
   "cell_type": "code",
   "execution_count": 2,
   "id": "f8ab3217",
   "metadata": {
    "execution": {
     "iopub.execute_input": "2024-10-01T22:55:57.362200Z",
     "iopub.status.busy": "2024-10-01T22:55:57.361558Z",
     "iopub.status.idle": "2024-10-01T22:55:59.390879Z",
     "shell.execute_reply": "2024-10-01T22:55:59.389593Z"
    },
    "papermill": {
     "duration": 2.042698,
     "end_time": "2024-10-01T22:55:59.393918",
     "exception": false,
     "start_time": "2024-10-01T22:55:57.351220",
     "status": "completed"
    },
    "tags": []
   },
   "outputs": [],
   "source": [
    "import pandas as pd\n",
    "import numpy as np\n",
    "\n",
    "import matplotlib.pyplot as plt\n",
    "import seaborn as sns\n",
    "from matplotlib.patches import ConnectionPatch"
   ]
  },
  {
   "cell_type": "code",
   "execution_count": 3,
   "id": "9748c1e0",
   "metadata": {
    "execution": {
     "iopub.execute_input": "2024-10-01T22:55:59.415155Z",
     "iopub.status.busy": "2024-10-01T22:55:59.414515Z",
     "iopub.status.idle": "2024-10-01T22:56:00.069238Z",
     "shell.execute_reply": "2024-10-01T22:56:00.067812Z"
    },
    "papermill": {
     "duration": 0.668652,
     "end_time": "2024-10-01T22:56:00.072327",
     "exception": false,
     "start_time": "2024-10-01T22:55:59.403675",
     "status": "completed"
    },
    "tags": []
   },
   "outputs": [
    {
     "name": "stderr",
     "output_type": "stream",
     "text": [
      "/opt/conda/lib/python3.10/site-packages/sklearn/experimental/enable_hist_gradient_boosting.py:16: UserWarning: Since version 1.0, it is not needed to import enable_hist_gradient_boosting anymore. HistGradientBoostingClassifier and HistGradientBoostingRegressor are now stable and can be normally imported from sklearn.ensemble.\n",
      "  warnings.warn(\n"
     ]
    }
   ],
   "source": [
    "from sklearn.experimental import enable_hist_gradient_boosting  \n",
    "from sklearn.ensemble import HistGradientBoostingRegressor\n",
    "from sklearn.metrics import median_absolute_error\n",
    "from sklearn.model_selection import KFold\n",
    "from sklearn.model_selection import train_test_split\n",
    "\n",
    "\n",
    "from sklearn.metrics import roc_auc_score\n",
    "from sklearn.model_selection import KFold\n"
   ]
  },
  {
   "cell_type": "code",
   "execution_count": 4,
   "id": "d47dbbd9",
   "metadata": {
    "execution": {
     "iopub.execute_input": "2024-10-01T22:56:00.092362Z",
     "iopub.status.busy": "2024-10-01T22:56:00.091828Z",
     "iopub.status.idle": "2024-10-01T22:56:00.544635Z",
     "shell.execute_reply": "2024-10-01T22:56:00.542857Z"
    },
    "papermill": {
     "duration": 0.466672,
     "end_time": "2024-10-01T22:56:00.548028",
     "exception": false,
     "start_time": "2024-10-01T22:56:00.081356",
     "status": "completed"
    },
    "tags": []
   },
   "outputs": [],
   "source": [
    "from xgboost import XGBClassifier\n",
    "from catboost import CatBoostClassifier"
   ]
  },
  {
   "cell_type": "markdown",
   "id": "28f93a4b",
   "metadata": {
    "papermill": {
     "duration": 0.010364,
     "end_time": "2024-10-01T22:56:00.569338",
     "exception": false,
     "start_time": "2024-10-01T22:56:00.558974",
     "status": "completed"
    },
    "tags": []
   },
   "source": [
    "# 1. Read Data"
   ]
  },
  {
   "cell_type": "code",
   "execution_count": 5,
   "id": "c79b53af",
   "metadata": {
    "execution": {
     "iopub.execute_input": "2024-10-01T22:56:00.590557Z",
     "iopub.status.busy": "2024-10-01T22:56:00.590103Z",
     "iopub.status.idle": "2024-10-01T22:56:00.910571Z",
     "shell.execute_reply": "2024-10-01T22:56:00.909063Z"
    },
    "papermill": {
     "duration": 0.334313,
     "end_time": "2024-10-01T22:56:00.914030",
     "exception": false,
     "start_time": "2024-10-01T22:56:00.579717",
     "status": "completed"
    },
    "tags": []
   },
   "outputs": [],
   "source": [
    "df_train = pd.read_csv('/kaggle/input/playground-series-s4e10/train.csv')\n",
    "df_test  = pd.read_csv('/kaggle/input/playground-series-s4e10/test.csv')\n",
    "df_sub = pd.read_csv('/kaggle/input/playground-series-s4e10/sample_submission.csv')"
   ]
  },
  {
   "cell_type": "code",
   "execution_count": 6,
   "id": "a90b5f58",
   "metadata": {
    "execution": {
     "iopub.execute_input": "2024-10-01T22:56:00.939861Z",
     "iopub.status.busy": "2024-10-01T22:56:00.939135Z",
     "iopub.status.idle": "2024-10-01T22:56:00.982216Z",
     "shell.execute_reply": "2024-10-01T22:56:00.980984Z"
    },
    "papermill": {
     "duration": 0.063189,
     "end_time": "2024-10-01T22:56:00.987176",
     "exception": false,
     "start_time": "2024-10-01T22:56:00.923987",
     "status": "completed"
    },
    "tags": []
   },
   "outputs": [
    {
     "data": {
      "text/html": [
       "<div>\n",
       "<style scoped>\n",
       "    .dataframe tbody tr th:only-of-type {\n",
       "        vertical-align: middle;\n",
       "    }\n",
       "\n",
       "    .dataframe tbody tr th {\n",
       "        vertical-align: top;\n",
       "    }\n",
       "\n",
       "    .dataframe thead th {\n",
       "        text-align: right;\n",
       "    }\n",
       "</style>\n",
       "<table border=\"1\" class=\"dataframe\">\n",
       "  <thead>\n",
       "    <tr style=\"text-align: right;\">\n",
       "      <th></th>\n",
       "      <th>id</th>\n",
       "      <th>person_age</th>\n",
       "      <th>person_income</th>\n",
       "      <th>person_home_ownership</th>\n",
       "      <th>person_emp_length</th>\n",
       "      <th>loan_intent</th>\n",
       "      <th>loan_grade</th>\n",
       "      <th>loan_amnt</th>\n",
       "      <th>loan_int_rate</th>\n",
       "      <th>loan_percent_income</th>\n",
       "      <th>cb_person_default_on_file</th>\n",
       "      <th>cb_person_cred_hist_length</th>\n",
       "      <th>loan_status</th>\n",
       "    </tr>\n",
       "  </thead>\n",
       "  <tbody>\n",
       "    <tr>\n",
       "      <th>0</th>\n",
       "      <td>0</td>\n",
       "      <td>37</td>\n",
       "      <td>35000</td>\n",
       "      <td>RENT</td>\n",
       "      <td>0.0</td>\n",
       "      <td>EDUCATION</td>\n",
       "      <td>B</td>\n",
       "      <td>6000</td>\n",
       "      <td>11.49</td>\n",
       "      <td>0.17</td>\n",
       "      <td>N</td>\n",
       "      <td>14</td>\n",
       "      <td>0</td>\n",
       "    </tr>\n",
       "    <tr>\n",
       "      <th>1</th>\n",
       "      <td>1</td>\n",
       "      <td>22</td>\n",
       "      <td>56000</td>\n",
       "      <td>OWN</td>\n",
       "      <td>6.0</td>\n",
       "      <td>MEDICAL</td>\n",
       "      <td>C</td>\n",
       "      <td>4000</td>\n",
       "      <td>13.35</td>\n",
       "      <td>0.07</td>\n",
       "      <td>N</td>\n",
       "      <td>2</td>\n",
       "      <td>0</td>\n",
       "    </tr>\n",
       "    <tr>\n",
       "      <th>2</th>\n",
       "      <td>2</td>\n",
       "      <td>29</td>\n",
       "      <td>28800</td>\n",
       "      <td>OWN</td>\n",
       "      <td>8.0</td>\n",
       "      <td>PERSONAL</td>\n",
       "      <td>A</td>\n",
       "      <td>6000</td>\n",
       "      <td>8.90</td>\n",
       "      <td>0.21</td>\n",
       "      <td>N</td>\n",
       "      <td>10</td>\n",
       "      <td>0</td>\n",
       "    </tr>\n",
       "    <tr>\n",
       "      <th>3</th>\n",
       "      <td>3</td>\n",
       "      <td>30</td>\n",
       "      <td>70000</td>\n",
       "      <td>RENT</td>\n",
       "      <td>14.0</td>\n",
       "      <td>VENTURE</td>\n",
       "      <td>B</td>\n",
       "      <td>12000</td>\n",
       "      <td>11.11</td>\n",
       "      <td>0.17</td>\n",
       "      <td>N</td>\n",
       "      <td>5</td>\n",
       "      <td>0</td>\n",
       "    </tr>\n",
       "    <tr>\n",
       "      <th>4</th>\n",
       "      <td>4</td>\n",
       "      <td>22</td>\n",
       "      <td>60000</td>\n",
       "      <td>RENT</td>\n",
       "      <td>2.0</td>\n",
       "      <td>MEDICAL</td>\n",
       "      <td>A</td>\n",
       "      <td>6000</td>\n",
       "      <td>6.92</td>\n",
       "      <td>0.10</td>\n",
       "      <td>N</td>\n",
       "      <td>3</td>\n",
       "      <td>0</td>\n",
       "    </tr>\n",
       "  </tbody>\n",
       "</table>\n",
       "</div>"
      ],
      "text/plain": [
       "   id  person_age  person_income person_home_ownership  person_emp_length  \\\n",
       "0   0          37          35000                  RENT                0.0   \n",
       "1   1          22          56000                   OWN                6.0   \n",
       "2   2          29          28800                   OWN                8.0   \n",
       "3   3          30          70000                  RENT               14.0   \n",
       "4   4          22          60000                  RENT                2.0   \n",
       "\n",
       "  loan_intent loan_grade  loan_amnt  loan_int_rate  loan_percent_income  \\\n",
       "0   EDUCATION          B       6000          11.49                 0.17   \n",
       "1     MEDICAL          C       4000          13.35                 0.07   \n",
       "2    PERSONAL          A       6000           8.90                 0.21   \n",
       "3     VENTURE          B      12000          11.11                 0.17   \n",
       "4     MEDICAL          A       6000           6.92                 0.10   \n",
       "\n",
       "  cb_person_default_on_file  cb_person_cred_hist_length  loan_status  \n",
       "0                         N                          14            0  \n",
       "1                         N                           2            0  \n",
       "2                         N                          10            0  \n",
       "3                         N                           5            0  \n",
       "4                         N                           3            0  "
      ]
     },
     "execution_count": 6,
     "metadata": {},
     "output_type": "execute_result"
    }
   ],
   "source": [
    "df_train.head()"
   ]
  },
  {
   "cell_type": "code",
   "execution_count": 7,
   "id": "0661d7e1",
   "metadata": {
    "execution": {
     "iopub.execute_input": "2024-10-01T22:56:01.018151Z",
     "iopub.status.busy": "2024-10-01T22:56:01.017640Z",
     "iopub.status.idle": "2024-10-01T22:56:01.088096Z",
     "shell.execute_reply": "2024-10-01T22:56:01.086722Z"
    },
    "papermill": {
     "duration": 0.088599,
     "end_time": "2024-10-01T22:56:01.090733",
     "exception": false,
     "start_time": "2024-10-01T22:56:01.002134",
     "status": "completed"
    },
    "tags": []
   },
   "outputs": [
    {
     "data": {
      "text/html": [
       "<div>\n",
       "<style scoped>\n",
       "    .dataframe tbody tr th:only-of-type {\n",
       "        vertical-align: middle;\n",
       "    }\n",
       "\n",
       "    .dataframe tbody tr th {\n",
       "        vertical-align: top;\n",
       "    }\n",
       "\n",
       "    .dataframe thead th {\n",
       "        text-align: right;\n",
       "    }\n",
       "</style>\n",
       "<table border=\"1\" class=\"dataframe\">\n",
       "  <thead>\n",
       "    <tr style=\"text-align: right;\">\n",
       "      <th></th>\n",
       "      <th>id</th>\n",
       "      <th>person_age</th>\n",
       "      <th>person_income</th>\n",
       "      <th>person_emp_length</th>\n",
       "      <th>loan_amnt</th>\n",
       "      <th>loan_int_rate</th>\n",
       "      <th>loan_percent_income</th>\n",
       "      <th>cb_person_cred_hist_length</th>\n",
       "      <th>loan_status</th>\n",
       "    </tr>\n",
       "  </thead>\n",
       "  <tbody>\n",
       "    <tr>\n",
       "      <th>count</th>\n",
       "      <td>58645.000000</td>\n",
       "      <td>58645.000000</td>\n",
       "      <td>5.864500e+04</td>\n",
       "      <td>58645.000000</td>\n",
       "      <td>58645.000000</td>\n",
       "      <td>58645.000000</td>\n",
       "      <td>58645.000000</td>\n",
       "      <td>58645.000000</td>\n",
       "      <td>58645.000000</td>\n",
       "    </tr>\n",
       "    <tr>\n",
       "      <th>mean</th>\n",
       "      <td>29322.000000</td>\n",
       "      <td>27.550857</td>\n",
       "      <td>6.404617e+04</td>\n",
       "      <td>4.701015</td>\n",
       "      <td>9217.556518</td>\n",
       "      <td>10.677874</td>\n",
       "      <td>0.159238</td>\n",
       "      <td>5.813556</td>\n",
       "      <td>0.142382</td>\n",
       "    </tr>\n",
       "    <tr>\n",
       "      <th>std</th>\n",
       "      <td>16929.497605</td>\n",
       "      <td>6.033216</td>\n",
       "      <td>3.793111e+04</td>\n",
       "      <td>3.959784</td>\n",
       "      <td>5563.807384</td>\n",
       "      <td>3.034697</td>\n",
       "      <td>0.091692</td>\n",
       "      <td>4.029196</td>\n",
       "      <td>0.349445</td>\n",
       "    </tr>\n",
       "    <tr>\n",
       "      <th>min</th>\n",
       "      <td>0.000000</td>\n",
       "      <td>20.000000</td>\n",
       "      <td>4.200000e+03</td>\n",
       "      <td>0.000000</td>\n",
       "      <td>500.000000</td>\n",
       "      <td>5.420000</td>\n",
       "      <td>0.000000</td>\n",
       "      <td>2.000000</td>\n",
       "      <td>0.000000</td>\n",
       "    </tr>\n",
       "    <tr>\n",
       "      <th>25%</th>\n",
       "      <td>14661.000000</td>\n",
       "      <td>23.000000</td>\n",
       "      <td>4.200000e+04</td>\n",
       "      <td>2.000000</td>\n",
       "      <td>5000.000000</td>\n",
       "      <td>7.880000</td>\n",
       "      <td>0.090000</td>\n",
       "      <td>3.000000</td>\n",
       "      <td>0.000000</td>\n",
       "    </tr>\n",
       "    <tr>\n",
       "      <th>50%</th>\n",
       "      <td>29322.000000</td>\n",
       "      <td>26.000000</td>\n",
       "      <td>5.800000e+04</td>\n",
       "      <td>4.000000</td>\n",
       "      <td>8000.000000</td>\n",
       "      <td>10.750000</td>\n",
       "      <td>0.140000</td>\n",
       "      <td>4.000000</td>\n",
       "      <td>0.000000</td>\n",
       "    </tr>\n",
       "    <tr>\n",
       "      <th>75%</th>\n",
       "      <td>43983.000000</td>\n",
       "      <td>30.000000</td>\n",
       "      <td>7.560000e+04</td>\n",
       "      <td>7.000000</td>\n",
       "      <td>12000.000000</td>\n",
       "      <td>12.990000</td>\n",
       "      <td>0.210000</td>\n",
       "      <td>8.000000</td>\n",
       "      <td>0.000000</td>\n",
       "    </tr>\n",
       "    <tr>\n",
       "      <th>max</th>\n",
       "      <td>58644.000000</td>\n",
       "      <td>123.000000</td>\n",
       "      <td>1.900000e+06</td>\n",
       "      <td>123.000000</td>\n",
       "      <td>35000.000000</td>\n",
       "      <td>23.220000</td>\n",
       "      <td>0.830000</td>\n",
       "      <td>30.000000</td>\n",
       "      <td>1.000000</td>\n",
       "    </tr>\n",
       "  </tbody>\n",
       "</table>\n",
       "</div>"
      ],
      "text/plain": [
       "                 id    person_age  person_income  person_emp_length  \\\n",
       "count  58645.000000  58645.000000   5.864500e+04       58645.000000   \n",
       "mean   29322.000000     27.550857   6.404617e+04           4.701015   \n",
       "std    16929.497605      6.033216   3.793111e+04           3.959784   \n",
       "min        0.000000     20.000000   4.200000e+03           0.000000   \n",
       "25%    14661.000000     23.000000   4.200000e+04           2.000000   \n",
       "50%    29322.000000     26.000000   5.800000e+04           4.000000   \n",
       "75%    43983.000000     30.000000   7.560000e+04           7.000000   \n",
       "max    58644.000000    123.000000   1.900000e+06         123.000000   \n",
       "\n",
       "          loan_amnt  loan_int_rate  loan_percent_income  \\\n",
       "count  58645.000000   58645.000000         58645.000000   \n",
       "mean    9217.556518      10.677874             0.159238   \n",
       "std     5563.807384       3.034697             0.091692   \n",
       "min      500.000000       5.420000             0.000000   \n",
       "25%     5000.000000       7.880000             0.090000   \n",
       "50%     8000.000000      10.750000             0.140000   \n",
       "75%    12000.000000      12.990000             0.210000   \n",
       "max    35000.000000      23.220000             0.830000   \n",
       "\n",
       "       cb_person_cred_hist_length   loan_status  \n",
       "count                58645.000000  58645.000000  \n",
       "mean                     5.813556      0.142382  \n",
       "std                      4.029196      0.349445  \n",
       "min                      2.000000      0.000000  \n",
       "25%                      3.000000      0.000000  \n",
       "50%                      4.000000      0.000000  \n",
       "75%                      8.000000      0.000000  \n",
       "max                     30.000000      1.000000  "
      ]
     },
     "execution_count": 7,
     "metadata": {},
     "output_type": "execute_result"
    }
   ],
   "source": [
    "df_train.describe()"
   ]
  },
  {
   "cell_type": "code",
   "execution_count": 8,
   "id": "67a74cd6",
   "metadata": {
    "execution": {
     "iopub.execute_input": "2024-10-01T22:56:01.112366Z",
     "iopub.status.busy": "2024-10-01T22:56:01.111855Z",
     "iopub.status.idle": "2024-10-01T22:56:01.122711Z",
     "shell.execute_reply": "2024-10-01T22:56:01.120953Z"
    },
    "papermill": {
     "duration": 0.025152,
     "end_time": "2024-10-01T22:56:01.125799",
     "exception": false,
     "start_time": "2024-10-01T22:56:01.100647",
     "status": "completed"
    },
    "tags": []
   },
   "outputs": [
    {
     "data": {
      "text/plain": [
       "{'loan_status'}"
      ]
     },
     "execution_count": 8,
     "metadata": {},
     "output_type": "execute_result"
    }
   ],
   "source": [
    "set(df_train.columns) - set(df_test.columns)"
   ]
  },
  {
   "cell_type": "code",
   "execution_count": 9,
   "id": "1627d5a8",
   "metadata": {
    "execution": {
     "iopub.execute_input": "2024-10-01T22:56:01.155916Z",
     "iopub.status.busy": "2024-10-01T22:56:01.155415Z",
     "iopub.status.idle": "2024-10-01T22:56:01.167570Z",
     "shell.execute_reply": "2024-10-01T22:56:01.166335Z"
    },
    "papermill": {
     "duration": 0.030413,
     "end_time": "2024-10-01T22:56:01.170143",
     "exception": false,
     "start_time": "2024-10-01T22:56:01.139730",
     "status": "completed"
    },
    "tags": []
   },
   "outputs": [
    {
     "data": {
      "text/html": [
       "<div>\n",
       "<style scoped>\n",
       "    .dataframe tbody tr th:only-of-type {\n",
       "        vertical-align: middle;\n",
       "    }\n",
       "\n",
       "    .dataframe tbody tr th {\n",
       "        vertical-align: top;\n",
       "    }\n",
       "\n",
       "    .dataframe thead th {\n",
       "        text-align: right;\n",
       "    }\n",
       "</style>\n",
       "<table border=\"1\" class=\"dataframe\">\n",
       "  <thead>\n",
       "    <tr style=\"text-align: right;\">\n",
       "      <th></th>\n",
       "      <th>id</th>\n",
       "      <th>loan_status</th>\n",
       "    </tr>\n",
       "  </thead>\n",
       "  <tbody>\n",
       "    <tr>\n",
       "      <th>0</th>\n",
       "      <td>58645</td>\n",
       "      <td>0.5</td>\n",
       "    </tr>\n",
       "    <tr>\n",
       "      <th>1</th>\n",
       "      <td>58646</td>\n",
       "      <td>0.5</td>\n",
       "    </tr>\n",
       "    <tr>\n",
       "      <th>2</th>\n",
       "      <td>58647</td>\n",
       "      <td>0.5</td>\n",
       "    </tr>\n",
       "    <tr>\n",
       "      <th>3</th>\n",
       "      <td>58648</td>\n",
       "      <td>0.5</td>\n",
       "    </tr>\n",
       "    <tr>\n",
       "      <th>4</th>\n",
       "      <td>58649</td>\n",
       "      <td>0.5</td>\n",
       "    </tr>\n",
       "  </tbody>\n",
       "</table>\n",
       "</div>"
      ],
      "text/plain": [
       "      id  loan_status\n",
       "0  58645          0.5\n",
       "1  58646          0.5\n",
       "2  58647          0.5\n",
       "3  58648          0.5\n",
       "4  58649          0.5"
      ]
     },
     "execution_count": 9,
     "metadata": {},
     "output_type": "execute_result"
    }
   ],
   "source": [
    "df_sub.head()"
   ]
  },
  {
   "cell_type": "code",
   "execution_count": 10,
   "id": "158f409b",
   "metadata": {
    "execution": {
     "iopub.execute_input": "2024-10-01T22:56:01.194513Z",
     "iopub.status.busy": "2024-10-01T22:56:01.193195Z",
     "iopub.status.idle": "2024-10-01T22:56:01.213902Z",
     "shell.execute_reply": "2024-10-01T22:56:01.212053Z"
    },
    "papermill": {
     "duration": 0.036828,
     "end_time": "2024-10-01T22:56:01.217488",
     "exception": false,
     "start_time": "2024-10-01T22:56:01.180660",
     "status": "completed"
    },
    "tags": []
   },
   "outputs": [],
   "source": [
    "df_train = df_train.drop(columns=['id'])\n",
    "df_test = df_test.drop(columns=['id'])"
   ]
  },
  {
   "cell_type": "markdown",
   "id": "bca9c90a",
   "metadata": {
    "papermill": {
     "duration": 0.010883,
     "end_time": "2024-10-01T22:56:01.238810",
     "exception": false,
     "start_time": "2024-10-01T22:56:01.227927",
     "status": "completed"
    },
    "tags": []
   },
   "source": [
    "# 2. Data EDA"
   ]
  },
  {
   "cell_type": "code",
   "execution_count": 11,
   "id": "922c92ce",
   "metadata": {
    "execution": {
     "iopub.execute_input": "2024-10-01T22:56:01.262278Z",
     "iopub.status.busy": "2024-10-01T22:56:01.261843Z",
     "iopub.status.idle": "2024-10-01T22:56:01.269767Z",
     "shell.execute_reply": "2024-10-01T22:56:01.268413Z"
    },
    "papermill": {
     "duration": 0.02302,
     "end_time": "2024-10-01T22:56:01.272455",
     "exception": false,
     "start_time": "2024-10-01T22:56:01.249435",
     "status": "completed"
    },
    "tags": []
   },
   "outputs": [
    {
     "data": {
      "text/plain": [
       "((58645, 12), (39098, 11))"
      ]
     },
     "execution_count": 11,
     "metadata": {},
     "output_type": "execute_result"
    }
   ],
   "source": [
    "df_train.shape,df_test.shape"
   ]
  },
  {
   "cell_type": "code",
   "execution_count": 12,
   "id": "f6b67e10",
   "metadata": {
    "execution": {
     "iopub.execute_input": "2024-10-01T22:56:01.294588Z",
     "iopub.status.busy": "2024-10-01T22:56:01.294144Z",
     "iopub.status.idle": "2024-10-01T22:56:01.330815Z",
     "shell.execute_reply": "2024-10-01T22:56:01.329573Z"
    },
    "papermill": {
     "duration": 0.050868,
     "end_time": "2024-10-01T22:56:01.333471",
     "exception": false,
     "start_time": "2024-10-01T22:56:01.282603",
     "status": "completed"
    },
    "tags": []
   },
   "outputs": [
    {
     "data": {
      "text/plain": [
       "person_age                    0\n",
       "person_income                 0\n",
       "person_home_ownership         0\n",
       "person_emp_length             0\n",
       "loan_intent                   0\n",
       "loan_grade                    0\n",
       "loan_amnt                     0\n",
       "loan_int_rate                 0\n",
       "loan_percent_income           0\n",
       "cb_person_default_on_file     0\n",
       "cb_person_cred_hist_length    0\n",
       "loan_status                   0\n",
       "dtype: int64"
      ]
     },
     "execution_count": 12,
     "metadata": {},
     "output_type": "execute_result"
    }
   ],
   "source": [
    "df_train.isnull().sum()"
   ]
  },
  {
   "cell_type": "code",
   "execution_count": 13,
   "id": "207faec0",
   "metadata": {
    "execution": {
     "iopub.execute_input": "2024-10-01T22:56:01.356091Z",
     "iopub.status.busy": "2024-10-01T22:56:01.355513Z",
     "iopub.status.idle": "2024-10-01T22:56:01.383932Z",
     "shell.execute_reply": "2024-10-01T22:56:01.382774Z"
    },
    "papermill": {
     "duration": 0.042664,
     "end_time": "2024-10-01T22:56:01.386678",
     "exception": false,
     "start_time": "2024-10-01T22:56:01.344014",
     "status": "completed"
    },
    "tags": []
   },
   "outputs": [
    {
     "data": {
      "text/plain": [
       "person_age                    0\n",
       "person_income                 0\n",
       "person_home_ownership         0\n",
       "person_emp_length             0\n",
       "loan_intent                   0\n",
       "loan_grade                    0\n",
       "loan_amnt                     0\n",
       "loan_int_rate                 0\n",
       "loan_percent_income           0\n",
       "cb_person_default_on_file     0\n",
       "cb_person_cred_hist_length    0\n",
       "dtype: int64"
      ]
     },
     "execution_count": 13,
     "metadata": {},
     "output_type": "execute_result"
    }
   ],
   "source": [
    "df_test.isnull().sum()"
   ]
  },
  {
   "cell_type": "code",
   "execution_count": 14,
   "id": "f0805c4b",
   "metadata": {
    "execution": {
     "iopub.execute_input": "2024-10-01T22:56:01.410326Z",
     "iopub.status.busy": "2024-10-01T22:56:01.409835Z",
     "iopub.status.idle": "2024-10-01T22:56:01.896482Z",
     "shell.execute_reply": "2024-10-01T22:56:01.895207Z"
    },
    "papermill": {
     "duration": 0.501456,
     "end_time": "2024-10-01T22:56:01.899130",
     "exception": false,
     "start_time": "2024-10-01T22:56:01.397674",
     "status": "completed"
    },
    "tags": []
   },
   "outputs": [
    {
     "data": {
      "image/png": "[encoded data removed]",
      "text/plain": [
       "<Figure size 1000x600 with 1 Axes>"
      ]
     },
     "metadata": {},
     "output_type": "display_data"
    }
   ],
   "source": [
    "def stacked_bar_plot(df, feature, target='loan_status'):\n",
    "    crosstab = pd.crosstab(df[feature], df[target], normalize='index')\n",
    "    crosstab.plot(kind='bar', stacked=True, figsize=(10, 6), cmap='magma')\n",
    "    plt.title(f'Stacked Bar Plotting of {feature} vs {target}')\n",
    "    plt.ylabel('PROPORTION')\n",
    "    plt.show()\n",
    "stacked_bar_plot(df_train, 'loan_intent')"
   ]
  },
  {
   "cell_type": "code",
   "execution_count": 15,
   "id": "02ac7757",
   "metadata": {
    "execution": {
     "iopub.execute_input": "2024-10-01T22:56:01.924104Z",
     "iopub.status.busy": "2024-10-01T22:56:01.923620Z",
     "iopub.status.idle": "2024-10-01T22:56:01.935466Z",
     "shell.execute_reply": "2024-10-01T22:56:01.933869Z"
    },
    "papermill": {
     "duration": 0.02781,
     "end_time": "2024-10-01T22:56:01.938892",
     "exception": false,
     "start_time": "2024-10-01T22:56:01.911082",
     "status": "completed"
    },
    "tags": []
   },
   "outputs": [],
   "source": [
    "y = df_train['loan_status'] \n",
    "df_train = df_train.drop(['loan_status'],axis=1)\n",
    "X = df_train"
   ]
  },
  {
   "cell_type": "code",
   "execution_count": 16,
   "id": "b88885c4",
   "metadata": {
    "execution": {
     "iopub.execute_input": "2024-10-01T22:56:01.965557Z",
     "iopub.status.busy": "2024-10-01T22:56:01.964911Z",
     "iopub.status.idle": "2024-10-01T22:56:01.972268Z",
     "shell.execute_reply": "2024-10-01T22:56:01.970536Z"
    },
    "papermill": {
     "duration": 0.024937,
     "end_time": "2024-10-01T22:56:01.975663",
     "exception": false,
     "start_time": "2024-10-01T22:56:01.950726",
     "status": "completed"
    },
    "tags": []
   },
   "outputs": [],
   "source": [
    "from sklearn.preprocessing import StandardScaler\n",
    "scaler = StandardScaler()\n",
    "scaled_train_data = df_train\n",
    "scaled_test_data = df_test"
   ]
  },
  {
   "cell_type": "code",
   "execution_count": 17,
   "id": "bca54893",
   "metadata": {
    "execution": {
     "iopub.execute_input": "2024-10-01T22:56:02.004544Z",
     "iopub.status.busy": "2024-10-01T22:56:02.003770Z",
     "iopub.status.idle": "2024-10-01T22:56:02.051625Z",
     "shell.execute_reply": "2024-10-01T22:56:02.050010Z"
    },
    "papermill": {
     "duration": 0.067798,
     "end_time": "2024-10-01T22:56:02.056538",
     "exception": false,
     "start_time": "2024-10-01T22:56:01.988740",
     "status": "completed"
    },
    "tags": []
   },
   "outputs": [
    {
     "name": "stdout",
     "output_type": "stream",
     "text": [
      "<class 'pandas.core.frame.DataFrame'>\n",
      "RangeIndex: 58645 entries, 0 to 58644\n",
      "Data columns (total 11 columns):\n",
      " #   Column                      Non-Null Count  Dtype  \n",
      "---  ------                      --------------  -----  \n",
      " 0   person_age                  58645 non-null  int64  \n",
      " 1   person_income               58645 non-null  int64  \n",
      " 2   person_home_ownership       58645 non-null  object \n",
      " 3   person_emp_length           58645 non-null  float64\n",
      " 4   loan_intent                 58645 non-null  object \n",
      " 5   loan_grade                  58645 non-null  object \n",
      " 6   loan_amnt                   58645 non-null  int64  \n",
      " 7   loan_int_rate               58645 non-null  float64\n",
      " 8   loan_percent_income         58645 non-null  float64\n",
      " 9   cb_person_default_on_file   58645 non-null  object \n",
      " 10  cb_person_cred_hist_length  58645 non-null  int64  \n",
      "dtypes: float64(3), int64(4), object(4)\n",
      "memory usage: 4.9+ MB\n"
     ]
    }
   ],
   "source": [
    "df_train.info()"
   ]
  },
  {
   "cell_type": "code",
   "execution_count": 18,
   "id": "56f9bb9e",
   "metadata": {
    "execution": {
     "iopub.execute_input": "2024-10-01T22:56:02.082380Z",
     "iopub.status.busy": "2024-10-01T22:56:02.081871Z",
     "iopub.status.idle": "2024-10-01T22:56:02.116144Z",
     "shell.execute_reply": "2024-10-01T22:56:02.114115Z"
    },
    "papermill": {
     "duration": 0.051174,
     "end_time": "2024-10-01T22:56:02.119556",
     "exception": false,
     "start_time": "2024-10-01T22:56:02.068382",
     "status": "completed"
    },
    "tags": []
   },
   "outputs": [
    {
     "name": "stdout",
     "output_type": "stream",
     "text": [
      "<class 'pandas.core.frame.DataFrame'>\n",
      "RangeIndex: 39098 entries, 0 to 39097\n",
      "Data columns (total 11 columns):\n",
      " #   Column                      Non-Null Count  Dtype  \n",
      "---  ------                      --------------  -----  \n",
      " 0   person_age                  39098 non-null  int64  \n",
      " 1   person_income               39098 non-null  int64  \n",
      " 2   person_home_ownership       39098 non-null  object \n",
      " 3   person_emp_length           39098 non-null  float64\n",
      " 4   loan_intent                 39098 non-null  object \n",
      " 5   loan_grade                  39098 non-null  object \n",
      " 6   loan_amnt                   39098 non-null  int64  \n",
      " 7   loan_int_rate               39098 non-null  float64\n",
      " 8   loan_percent_income         39098 non-null  float64\n",
      " 9   cb_person_default_on_file   39098 non-null  object \n",
      " 10  cb_person_cred_hist_length  39098 non-null  int64  \n",
      "dtypes: float64(3), int64(4), object(4)\n",
      "memory usage: 3.3+ MB\n"
     ]
    }
   ],
   "source": [
    "df_test.info()"
   ]
  },
  {
   "cell_type": "code",
   "execution_count": 19,
   "id": "c608a062",
   "metadata": {
    "execution": {
     "iopub.execute_input": "2024-10-01T22:56:02.145630Z",
     "iopub.status.busy": "2024-10-01T22:56:02.145143Z",
     "iopub.status.idle": "2024-10-01T22:56:02.157042Z",
     "shell.execute_reply": "2024-10-01T22:56:02.155503Z"
    },
    "papermill": {
     "duration": 0.028392,
     "end_time": "2024-10-01T22:56:02.160207",
     "exception": false,
     "start_time": "2024-10-01T22:56:02.131815",
     "status": "completed"
    },
    "tags": []
   },
   "outputs": [],
   "source": [
    "df_train.drop([\"person_home_ownership\", \"loan_intent\", \"loan_grade\", \"cb_person_default_on_file\"], axis=1, inplace=True)\n",
    "df_test.drop([\"person_home_ownership\", \"loan_intent\", \"loan_grade\", \"cb_person_default_on_file\"], axis=1, inplace=True)"
   ]
  },
  {
   "cell_type": "code",
   "execution_count": 20,
   "id": "baa9c902",
   "metadata": {
    "execution": {
     "iopub.execute_input": "2024-10-01T22:56:02.185454Z",
     "iopub.status.busy": "2024-10-01T22:56:02.184977Z",
     "iopub.status.idle": "2024-10-01T22:56:11.314163Z",
     "shell.execute_reply": "2024-10-01T22:56:11.312849Z"
    },
    "papermill": {
     "duration": 9.145604,
     "end_time": "2024-10-01T22:56:11.317110",
     "exception": false,
     "start_time": "2024-10-01T22:56:02.171506",
     "status": "completed"
    },
    "tags": []
   },
   "outputs": [
    {
     "name": "stdout",
     "output_type": "stream",
     "text": [
      "[0]\tvalidation_0-auc:0.92124\tvalidation_1-auc:0.89991\n"
     ]
    },
    {
     "name": "stderr",
     "output_type": "stream",
     "text": [
      "/opt/conda/lib/python3.10/site-packages/xgboost/sklearn.py:889: UserWarning: `early_stopping_rounds` in `fit` method is deprecated for better compatibility with scikit-learn, use `early_stopping_rounds` in constructor or`set_params` instead.\n",
      "  warnings.warn(\n"
     ]
    },
    {
     "name": "stdout",
     "output_type": "stream",
     "text": [
      "[100]\tvalidation_0-auc:0.97608\tvalidation_1-auc:0.92484\n",
      "[147]\tvalidation_0-auc:0.98244\tvalidation_1-auc:0.92508\n",
      "[0]\tvalidation_0-auc:0.92129\tvalidation_1-auc:0.90187\n"
     ]
    },
    {
     "name": "stderr",
     "output_type": "stream",
     "text": [
      "/opt/conda/lib/python3.10/site-packages/xgboost/sklearn.py:889: UserWarning: `early_stopping_rounds` in `fit` method is deprecated for better compatibility with scikit-learn, use `early_stopping_rounds` in constructor or`set_params` instead.\n",
      "  warnings.warn(\n"
     ]
    },
    {
     "name": "stdout",
     "output_type": "stream",
     "text": [
      "[100]\tvalidation_0-auc:0.97487\tvalidation_1-auc:0.92696\n",
      "[109]\tvalidation_0-auc:0.97601\tvalidation_1-auc:0.92687\n",
      "[0]\tvalidation_0-auc:0.92088\tvalidation_1-auc:0.89966\n"
     ]
    },
    {
     "name": "stderr",
     "output_type": "stream",
     "text": [
      "/opt/conda/lib/python3.10/site-packages/xgboost/sklearn.py:889: UserWarning: `early_stopping_rounds` in `fit` method is deprecated for better compatibility with scikit-learn, use `early_stopping_rounds` in constructor or`set_params` instead.\n",
      "  warnings.warn(\n"
     ]
    },
    {
     "name": "stdout",
     "output_type": "stream",
     "text": [
      "[100]\tvalidation_0-auc:0.97428\tvalidation_1-auc:0.92322\n",
      "[159]\tvalidation_0-auc:0.98080\tvalidation_1-auc:0.92527\n",
      "[0]\tvalidation_0-auc:0.91833\tvalidation_1-auc:0.91124\n"
     ]
    },
    {
     "name": "stderr",
     "output_type": "stream",
     "text": [
      "/opt/conda/lib/python3.10/site-packages/xgboost/sklearn.py:889: UserWarning: `early_stopping_rounds` in `fit` method is deprecated for better compatibility with scikit-learn, use `early_stopping_rounds` in constructor or`set_params` instead.\n",
      "  warnings.warn(\n"
     ]
    },
    {
     "name": "stdout",
     "output_type": "stream",
     "text": [
      "[100]\tvalidation_0-auc:0.97383\tvalidation_1-auc:0.93296\n",
      "[108]\tvalidation_0-auc:0.97476\tvalidation_1-auc:0.93310\n",
      "[0]\tvalidation_0-auc:0.92239\tvalidation_1-auc:0.90515\n"
     ]
    },
    {
     "name": "stderr",
     "output_type": "stream",
     "text": [
      "/opt/conda/lib/python3.10/site-packages/xgboost/sklearn.py:889: UserWarning: `early_stopping_rounds` in `fit` method is deprecated for better compatibility with scikit-learn, use `early_stopping_rounds` in constructor or`set_params` instead.\n",
      "  warnings.warn(\n"
     ]
    },
    {
     "name": "stdout",
     "output_type": "stream",
     "text": [
      "[46]\tvalidation_0-auc:0.95951\tvalidation_1-auc:0.91821\n",
      "Overall AUC (XGBClassifier): 0.9238681348903743\n"
     ]
    }
   ],
   "source": [
    "xgb_params = {\n",
    "    'n_estimators': 600,\n",
    "    'max_depth': 10,\n",
    "    'learning_rate': 0.06,\n",
    "    'random_state': 99,\n",
    "    \n",
    "    'eval_metric': 'auc'\n",
    "}\n",
    "\n",
    "n_splits = 5\n",
    "kf = KFold(n_splits=n_splits, shuffle=True, random_state=99)\n",
    "\n",
    "xgb_predictions = np.zeros(len(scaled_train_data))\n",
    "xgb_true_labels = np.zeros(len(scaled_train_data))\n",
    "xgb_test_predictions = np.zeros(len(scaled_test_data))\n",
    "\n",
    "for fold, (train_idx, val_idx) in enumerate(kf.split(scaled_train_data, y)):\n",
    "    X_train, X_val = scaled_train_data.iloc[train_idx], scaled_train_data.iloc[val_idx]\n",
    "    y_train, y_val = y.iloc[train_idx], y.iloc[val_idx]\n",
    "\n",
    "    xgb_model = XGBClassifier(**xgb_params)\n",
    "\n",
    "    xgb_model.fit(X_train, y_train,\n",
    "                  eval_set=[(X_train, y_train), (X_val, y_val)],\n",
    "                  early_stopping_rounds=10,\n",
    "                  verbose=100)\n",
    "    xgb_fold_preds = xgb_model.predict_proba(X_val)[:, 1] \n",
    "    xgb_fold_test_preds = xgb_model.predict_proba(scaled_test_data)[:, 1]\n",
    "    xgb_predictions[val_idx] = xgb_fold_preds\n",
    "    xgb_true_labels[val_idx] = y_val\n",
    "    xgb_test_predictions += xgb_fold_test_preds / n_splits\n",
    "\n",
    "overall_auc_xgb = roc_auc_score(xgb_true_labels, xgb_predictions)\n",
    "print(\"Overall AUC (XGBClassifier):\", overall_auc_xgb)"
   ]
  },
  {
   "cell_type": "markdown",
   "id": "dcdf8982",
   "metadata": {
    "papermill": {
     "duration": 0.013012,
     "end_time": "2024-10-01T22:56:11.343674",
     "exception": false,
     "start_time": "2024-10-01T22:56:11.330662",
     "status": "completed"
    },
    "tags": []
   },
   "source": [
    "# 99. Submission"
   ]
  },
  {
   "cell_type": "code",
   "execution_count": 21,
   "id": "f83f061e",
   "metadata": {
    "execution": {
     "iopub.execute_input": "2024-10-01T22:56:11.372804Z",
     "iopub.status.busy": "2024-10-01T22:56:11.371537Z",
     "iopub.status.idle": "2024-10-01T22:56:11.414377Z",
     "shell.execute_reply": "2024-10-01T22:56:11.413148Z"
    },
    "papermill": {
     "duration": 0.060372,
     "end_time": "2024-10-01T22:56:11.417275",
     "exception": false,
     "start_time": "2024-10-01T22:56:11.356903",
     "status": "completed"
    },
    "tags": []
   },
   "outputs": [
    {
     "data": {
      "text/html": [
       "<div>\n",
       "<style scoped>\n",
       "    .dataframe tbody tr th:only-of-type {\n",
       "        vertical-align: middle;\n",
       "    }\n",
       "\n",
       "    .dataframe tbody tr th {\n",
       "        vertical-align: top;\n",
       "    }\n",
       "\n",
       "    .dataframe thead th {\n",
       "        text-align: right;\n",
       "    }\n",
       "</style>\n",
       "<table border=\"1\" class=\"dataframe\">\n",
       "  <thead>\n",
       "    <tr style=\"text-align: right;\">\n",
       "      <th></th>\n",
       "      <th>id</th>\n",
       "      <th>loan_status</th>\n",
       "    </tr>\n",
       "  </thead>\n",
       "  <tbody>\n",
       "    <tr>\n",
       "      <th>0</th>\n",
       "      <td>58645</td>\n",
       "      <td>1</td>\n",
       "    </tr>\n",
       "    <tr>\n",
       "      <th>1</th>\n",
       "      <td>58646</td>\n",
       "      <td>0</td>\n",
       "    </tr>\n",
       "    <tr>\n",
       "      <th>2</th>\n",
       "      <td>58647</td>\n",
       "      <td>1</td>\n",
       "    </tr>\n",
       "    <tr>\n",
       "      <th>3</th>\n",
       "      <td>58648</td>\n",
       "      <td>0</td>\n",
       "    </tr>\n",
       "    <tr>\n",
       "      <th>4</th>\n",
       "      <td>58649</td>\n",
       "      <td>0</td>\n",
       "    </tr>\n",
       "  </tbody>\n",
       "</table>\n",
       "</div>"
      ],
      "text/plain": [
       "      id  loan_status\n",
       "0  58645            1\n",
       "1  58646            0\n",
       "2  58647            1\n",
       "3  58648            0\n",
       "4  58649            0"
      ]
     },
     "execution_count": 21,
     "metadata": {},
     "output_type": "execute_result"
    }
   ],
   "source": [
    "df_sub['loan_status'] = [1 if x > 0.5 else 0 for x in xgb_test_predictions]\n",
    "df_sub.head()"
   ]
  },
  {
   "cell_type": "code",
   "execution_count": 22,
   "id": "8a88ff67",
   "metadata": {
    "execution": {
     "iopub.execute_input": "2024-10-01T22:56:11.447622Z",
     "iopub.status.busy": "2024-10-01T22:56:11.446289Z",
     "iopub.status.idle": "2024-10-01T22:56:11.508509Z",
     "shell.execute_reply": "2024-10-01T22:56:11.507203Z"
    },
    "papermill": {
     "duration": 0.080838,
     "end_time": "2024-10-01T22:56:11.511477",
     "exception": false,
     "start_time": "2024-10-01T22:56:11.430639",
     "status": "completed"
    },
    "tags": []
   },
   "outputs": [],
   "source": [
    "df_sub.to_csv('submission.csv', index=False)"
   ]
  }
 ],
 "metadata": {
  "kaggle": {
   "accelerator": "none",
   "dataSources": [
    {
     "databundleVersionId": 9709193,
     "sourceId": 84894,
     "sourceType": "competition"
    }
   ],
   "dockerImageVersionId": 30775,
   "isGpuEnabled": false,
   "isInternetEnabled": true,
   "language": "python",
   "sourceType": "notebook"
  },
  "kernelspec": {
   "display_name": "Python 3",
   "language": "python",
   "name": "python3"
  },
  "language_info": {
   "codemirror_mode": {
    "name": "ipython",
    "version": 3
   },
   "file_extension": ".py",
   "mimetype": "text/x-python",
   "name": "python",
   "nbconvert_exporter": "python",
   "pygments_lexer": "ipython3",
   "version": "3.10.14"
  },
  "papermill": {
   "default_parameters": {},
   "duration": 19.404527,
   "end_time": "2024-10-01T22:56:12.248798",
   "environment_variables": {},
   "exception": null,
   "input_path": "__notebook__.ipynb",
   "output_path": "__notebook__.ipynb",
   "parameters": {},
   "start_time": "2024-10-01T22:55:52.844271",
   "version": "2.6.0"
  }
 },
 "nbformat": 4,
 "nbformat_minor": 5
}
