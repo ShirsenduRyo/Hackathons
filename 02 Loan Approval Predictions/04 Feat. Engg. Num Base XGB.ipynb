{
 "cells": [
  {
   "cell_type": "code",
   "execution_count": 1,
   "id": "d17c45a1",
   "metadata": {
    "_cell_guid": "b1076dfc-b9ad-4769-8c92-a6c4dae69d19",
    "_uuid": "8f2839f25d086af736a60e9eeb907d3b93b6e0e5",
    "execution": {
     "iopub.execute_input": "2024-10-09T19:16:10.801170Z",
     "iopub.status.busy": "2024-10-09T19:16:10.800680Z",
     "iopub.status.idle": "2024-10-09T19:16:11.793617Z",
     "shell.execute_reply": "2024-10-09T19:16:11.792257Z"
    },
    "papermill": {
     "duration": 1.017498,
     "end_time": "2024-10-09T19:16:11.796373",
     "exception": false,
     "start_time": "2024-10-09T19:16:10.778875",
     "status": "completed"
    },
    "tags": []
   },
   "outputs": [
    {
     "name": "stdout",
     "output_type": "stream",
     "text": [
      "/kaggle/input/playground-series-s4e10/sample_submission.csv\n",
      "/kaggle/input/playground-series-s4e10/train.csv\n",
      "/kaggle/input/playground-series-s4e10/test.csv\n"
     ]
    }
   ],
   "source": [
    "# This Python 3 environment comes with many helpful analytics libraries installed\n",
    "# It is defined by the kaggle/python Docker image: https://github.com/kaggle/docker-python\n",
    "# For example, here's several helpful packages to load\n",
    "\n",
    "import numpy as np # linear algebra\n",
    "import pandas as pd # data processing, CSV file I/O (e.g. pd.read_csv)\n",
    "\n",
    "# Input data files are available in the read-only \"../input/\" directory\n",
    "# For example, running this (by clicking run or pressing Shift+Enter) will list all files under the input directory\n",
    "\n",
    "import os\n",
    "for dirname, _, filenames in os.walk('/kaggle/input'):\n",
    "    for filename in filenames:\n",
    "        print(os.path.join(dirname, filename))\n",
    "\n",
    "# You can write up to 20GB to the current directory (/kaggle/working/) that gets preserved as output when you create a version using \"Save & Run All\" \n",
    "# You can also write temporary files to /kaggle/temp/, but they won't be saved outside of the current session"
   ]
  },
  {
   "cell_type": "markdown",
   "id": "96556ace",
   "metadata": {
    "papermill": {
     "duration": 0.01963,
     "end_time": "2024-10-09T19:16:11.835103",
     "exception": false,
     "start_time": "2024-10-09T19:16:11.815473",
     "status": "completed"
    },
    "tags": []
   },
   "source": [
    "# 0. Import Packages"
   ]
  },
  {
   "cell_type": "code",
   "execution_count": 2,
   "id": "316364bd",
   "metadata": {
    "execution": {
     "iopub.execute_input": "2024-10-09T19:16:11.874645Z",
     "iopub.status.busy": "2024-10-09T19:16:11.874029Z",
     "iopub.status.idle": "2024-10-09T19:16:13.738471Z",
     "shell.execute_reply": "2024-10-09T19:16:13.736942Z"
    },
    "papermill": {
     "duration": 1.887502,
     "end_time": "2024-10-09T19:16:13.741380",
     "exception": false,
     "start_time": "2024-10-09T19:16:11.853878",
     "status": "completed"
    },
    "tags": []
   },
   "outputs": [],
   "source": [
    "import pandas as pd\n",
    "import numpy as np\n",
    "from tqdm import tqdm\n",
    "\n",
    "import matplotlib.pyplot as plt\n",
    "import seaborn as sns\n",
    "from matplotlib.patches import ConnectionPatch"
   ]
  },
  {
   "cell_type": "code",
   "execution_count": 3,
   "id": "953ca81d",
   "metadata": {
    "execution": {
     "iopub.execute_input": "2024-10-09T19:16:13.781470Z",
     "iopub.status.busy": "2024-10-09T19:16:13.780259Z",
     "iopub.status.idle": "2024-10-09T19:16:14.349114Z",
     "shell.execute_reply": "2024-10-09T19:16:14.347768Z"
    },
    "papermill": {
     "duration": 0.59183,
     "end_time": "2024-10-09T19:16:14.351980",
     "exception": false,
     "start_time": "2024-10-09T19:16:13.760150",
     "status": "completed"
    },
    "tags": []
   },
   "outputs": [
    {
     "name": "stderr",
     "output_type": "stream",
     "text": [
      "/opt/conda/lib/python3.10/site-packages/sklearn/experimental/enable_hist_gradient_boosting.py:16: UserWarning: Since version 1.0, it is not needed to import enable_hist_gradient_boosting anymore. HistGradientBoostingClassifier and HistGradientBoostingRegressor are now stable and can be normally imported from sklearn.ensemble.\n",
      "  warnings.warn(\n"
     ]
    }
   ],
   "source": [
    "from sklearn.experimental import enable_hist_gradient_boosting  \n",
    "from sklearn.ensemble import HistGradientBoostingRegressor\n",
    "from sklearn.metrics import median_absolute_error\n",
    "from sklearn.model_selection import KFold\n",
    "from sklearn.model_selection import train_test_split\n",
    "\n",
    "\n",
    "from sklearn.metrics import roc_auc_score\n",
    "from sklearn.model_selection import KFold\n"
   ]
  },
  {
   "cell_type": "code",
   "execution_count": 4,
   "id": "4263d95b",
   "metadata": {
    "execution": {
     "iopub.execute_input": "2024-10-09T19:16:14.394111Z",
     "iopub.status.busy": "2024-10-09T19:16:14.393608Z",
     "iopub.status.idle": "2024-10-09T19:16:14.799560Z",
     "shell.execute_reply": "2024-10-09T19:16:14.798123Z"
    },
    "papermill": {
     "duration": 0.430014,
     "end_time": "2024-10-09T19:16:14.802579",
     "exception": false,
     "start_time": "2024-10-09T19:16:14.372565",
     "status": "completed"
    },
    "tags": []
   },
   "outputs": [],
   "source": [
    "from xgboost import XGBClassifier\n",
    "from catboost import CatBoostClassifier"
   ]
  },
  {
   "cell_type": "markdown",
   "id": "9f58becd",
   "metadata": {
    "papermill": {
     "duration": 0.018419,
     "end_time": "2024-10-09T19:16:14.840039",
     "exception": false,
     "start_time": "2024-10-09T19:16:14.821620",
     "status": "completed"
    },
    "tags": []
   },
   "source": [
    "# 1. Read Data"
   ]
  },
  {
   "cell_type": "code",
   "execution_count": 5,
   "id": "81ca6c8e",
   "metadata": {
    "execution": {
     "iopub.execute_input": "2024-10-09T19:16:14.885017Z",
     "iopub.status.busy": "2024-10-09T19:16:14.884136Z",
     "iopub.status.idle": "2024-10-09T19:16:15.198466Z",
     "shell.execute_reply": "2024-10-09T19:16:15.197408Z"
    },
    "papermill": {
     "duration": 0.342658,
     "end_time": "2024-10-09T19:16:15.201387",
     "exception": false,
     "start_time": "2024-10-09T19:16:14.858729",
     "status": "completed"
    },
    "tags": []
   },
   "outputs": [],
   "source": [
    "df_train = pd.read_csv('/kaggle/input/playground-series-s4e10/train.csv')\n",
    "df_test  = pd.read_csv('/kaggle/input/playground-series-s4e10/test.csv')\n",
    "df_sub = pd.read_csv('/kaggle/input/playground-series-s4e10/sample_submission.csv')"
   ]
  },
  {
   "cell_type": "code",
   "execution_count": 6,
   "id": "1e815d28",
   "metadata": {
    "execution": {
     "iopub.execute_input": "2024-10-09T19:16:15.248798Z",
     "iopub.status.busy": "2024-10-09T19:16:15.248243Z",
     "iopub.status.idle": "2024-10-09T19:16:15.288522Z",
     "shell.execute_reply": "2024-10-09T19:16:15.287128Z"
    },
    "papermill": {
     "duration": 0.066214,
     "end_time": "2024-10-09T19:16:15.291173",
     "exception": false,
     "start_time": "2024-10-09T19:16:15.224959",
     "status": "completed"
    },
    "tags": []
   },
   "outputs": [
    {
     "data": {
      "text/html": [
       "<div>\n",
       "<style scoped>\n",
       "    .dataframe tbody tr th:only-of-type {\n",
       "        vertical-align: middle;\n",
       "    }\n",
       "\n",
       "    .dataframe tbody tr th {\n",
       "        vertical-align: top;\n",
       "    }\n",
       "\n",
       "    .dataframe thead th {\n",
       "        text-align: right;\n",
       "    }\n",
       "</style>\n",
       "<table border=\"1\" class=\"dataframe\">\n",
       "  <thead>\n",
       "    <tr style=\"text-align: right;\">\n",
       "      <th></th>\n",
       "      <th>id</th>\n",
       "      <th>person_age</th>\n",
       "      <th>person_income</th>\n",
       "      <th>person_home_ownership</th>\n",
       "      <th>person_emp_length</th>\n",
       "      <th>loan_intent</th>\n",
       "      <th>loan_grade</th>\n",
       "      <th>loan_amnt</th>\n",
       "      <th>loan_int_rate</th>\n",
       "      <th>loan_percent_income</th>\n",
       "      <th>cb_person_default_on_file</th>\n",
       "      <th>cb_person_cred_hist_length</th>\n",
       "      <th>loan_status</th>\n",
       "    </tr>\n",
       "  </thead>\n",
       "  <tbody>\n",
       "    <tr>\n",
       "      <th>0</th>\n",
       "      <td>0</td>\n",
       "      <td>37</td>\n",
       "      <td>35000</td>\n",
       "      <td>RENT</td>\n",
       "      <td>0.0</td>\n",
       "      <td>EDUCATION</td>\n",
       "      <td>B</td>\n",
       "      <td>6000</td>\n",
       "      <td>11.49</td>\n",
       "      <td>0.17</td>\n",
       "      <td>N</td>\n",
       "      <td>14</td>\n",
       "      <td>0</td>\n",
       "    </tr>\n",
       "    <tr>\n",
       "      <th>1</th>\n",
       "      <td>1</td>\n",
       "      <td>22</td>\n",
       "      <td>56000</td>\n",
       "      <td>OWN</td>\n",
       "      <td>6.0</td>\n",
       "      <td>MEDICAL</td>\n",
       "      <td>C</td>\n",
       "      <td>4000</td>\n",
       "      <td>13.35</td>\n",
       "      <td>0.07</td>\n",
       "      <td>N</td>\n",
       "      <td>2</td>\n",
       "      <td>0</td>\n",
       "    </tr>\n",
       "    <tr>\n",
       "      <th>2</th>\n",
       "      <td>2</td>\n",
       "      <td>29</td>\n",
       "      <td>28800</td>\n",
       "      <td>OWN</td>\n",
       "      <td>8.0</td>\n",
       "      <td>PERSONAL</td>\n",
       "      <td>A</td>\n",
       "      <td>6000</td>\n",
       "      <td>8.90</td>\n",
       "      <td>0.21</td>\n",
       "      <td>N</td>\n",
       "      <td>10</td>\n",
       "      <td>0</td>\n",
       "    </tr>\n",
       "    <tr>\n",
       "      <th>3</th>\n",
       "      <td>3</td>\n",
       "      <td>30</td>\n",
       "      <td>70000</td>\n",
       "      <td>RENT</td>\n",
       "      <td>14.0</td>\n",
       "      <td>VENTURE</td>\n",
       "      <td>B</td>\n",
       "      <td>12000</td>\n",
       "      <td>11.11</td>\n",
       "      <td>0.17</td>\n",
       "      <td>N</td>\n",
       "      <td>5</td>\n",
       "      <td>0</td>\n",
       "    </tr>\n",
       "    <tr>\n",
       "      <th>4</th>\n",
       "      <td>4</td>\n",
       "      <td>22</td>\n",
       "      <td>60000</td>\n",
       "      <td>RENT</td>\n",
       "      <td>2.0</td>\n",
       "      <td>MEDICAL</td>\n",
       "      <td>A</td>\n",
       "      <td>6000</td>\n",
       "      <td>6.92</td>\n",
       "      <td>0.10</td>\n",
       "      <td>N</td>\n",
       "      <td>3</td>\n",
       "      <td>0</td>\n",
       "    </tr>\n",
       "  </tbody>\n",
       "</table>\n",
       "</div>"
      ],
      "text/plain": [
       "   id  person_age  person_income person_home_ownership  person_emp_length  \\\n",
       "0   0          37          35000                  RENT                0.0   \n",
       "1   1          22          56000                   OWN                6.0   \n",
       "2   2          29          28800                   OWN                8.0   \n",
       "3   3          30          70000                  RENT               14.0   \n",
       "4   4          22          60000                  RENT                2.0   \n",
       "\n",
       "  loan_intent loan_grade  loan_amnt  loan_int_rate  loan_percent_income  \\\n",
       "0   EDUCATION          B       6000          11.49                 0.17   \n",
       "1     MEDICAL          C       4000          13.35                 0.07   \n",
       "2    PERSONAL          A       6000           8.90                 0.21   \n",
       "3     VENTURE          B      12000          11.11                 0.17   \n",
       "4     MEDICAL          A       6000           6.92                 0.10   \n",
       "\n",
       "  cb_person_default_on_file  cb_person_cred_hist_length  loan_status  \n",
       "0                         N                          14            0  \n",
       "1                         N                           2            0  \n",
       "2                         N                          10            0  \n",
       "3                         N                           5            0  \n",
       "4                         N                           3            0  "
      ]
     },
     "execution_count": 6,
     "metadata": {},
     "output_type": "execute_result"
    }
   ],
   "source": [
    "df_train.head()"
   ]
  },
  {
   "cell_type": "code",
   "execution_count": 7,
   "id": "ff3e40e2",
   "metadata": {
    "execution": {
     "iopub.execute_input": "2024-10-09T19:16:15.331606Z",
     "iopub.status.busy": "2024-10-09T19:16:15.331140Z",
     "iopub.status.idle": "2024-10-09T19:16:15.392908Z",
     "shell.execute_reply": "2024-10-09T19:16:15.391737Z"
    },
    "papermill": {
     "duration": 0.085322,
     "end_time": "2024-10-09T19:16:15.395663",
     "exception": false,
     "start_time": "2024-10-09T19:16:15.310341",
     "status": "completed"
    },
    "tags": []
   },
   "outputs": [
    {
     "data": {
      "text/html": [
       "<div>\n",
       "<style scoped>\n",
       "    .dataframe tbody tr th:only-of-type {\n",
       "        vertical-align: middle;\n",
       "    }\n",
       "\n",
       "    .dataframe tbody tr th {\n",
       "        vertical-align: top;\n",
       "    }\n",
       "\n",
       "    .dataframe thead th {\n",
       "        text-align: right;\n",
       "    }\n",
       "</style>\n",
       "<table border=\"1\" class=\"dataframe\">\n",
       "  <thead>\n",
       "    <tr style=\"text-align: right;\">\n",
       "      <th></th>\n",
       "      <th>id</th>\n",
       "      <th>person_age</th>\n",
       "      <th>person_income</th>\n",
       "      <th>person_emp_length</th>\n",
       "      <th>loan_amnt</th>\n",
       "      <th>loan_int_rate</th>\n",
       "      <th>loan_percent_income</th>\n",
       "      <th>cb_person_cred_hist_length</th>\n",
       "      <th>loan_status</th>\n",
       "    </tr>\n",
       "  </thead>\n",
       "  <tbody>\n",
       "    <tr>\n",
       "      <th>count</th>\n",
       "      <td>58645.000000</td>\n",
       "      <td>58645.000000</td>\n",
       "      <td>5.864500e+04</td>\n",
       "      <td>58645.000000</td>\n",
       "      <td>58645.000000</td>\n",
       "      <td>58645.000000</td>\n",
       "      <td>58645.000000</td>\n",
       "      <td>58645.000000</td>\n",
       "      <td>58645.000000</td>\n",
       "    </tr>\n",
       "    <tr>\n",
       "      <th>mean</th>\n",
       "      <td>29322.000000</td>\n",
       "      <td>27.550857</td>\n",
       "      <td>6.404617e+04</td>\n",
       "      <td>4.701015</td>\n",
       "      <td>9217.556518</td>\n",
       "      <td>10.677874</td>\n",
       "      <td>0.159238</td>\n",
       "      <td>5.813556</td>\n",
       "      <td>0.142382</td>\n",
       "    </tr>\n",
       "    <tr>\n",
       "      <th>std</th>\n",
       "      <td>16929.497605</td>\n",
       "      <td>6.033216</td>\n",
       "      <td>3.793111e+04</td>\n",
       "      <td>3.959784</td>\n",
       "      <td>5563.807384</td>\n",
       "      <td>3.034697</td>\n",
       "      <td>0.091692</td>\n",
       "      <td>4.029196</td>\n",
       "      <td>0.349445</td>\n",
       "    </tr>\n",
       "    <tr>\n",
       "      <th>min</th>\n",
       "      <td>0.000000</td>\n",
       "      <td>20.000000</td>\n",
       "      <td>4.200000e+03</td>\n",
       "      <td>0.000000</td>\n",
       "      <td>500.000000</td>\n",
       "      <td>5.420000</td>\n",
       "      <td>0.000000</td>\n",
       "      <td>2.000000</td>\n",
       "      <td>0.000000</td>\n",
       "    </tr>\n",
       "    <tr>\n",
       "      <th>25%</th>\n",
       "      <td>14661.000000</td>\n",
       "      <td>23.000000</td>\n",
       "      <td>4.200000e+04</td>\n",
       "      <td>2.000000</td>\n",
       "      <td>5000.000000</td>\n",
       "      <td>7.880000</td>\n",
       "      <td>0.090000</td>\n",
       "      <td>3.000000</td>\n",
       "      <td>0.000000</td>\n",
       "    </tr>\n",
       "    <tr>\n",
       "      <th>50%</th>\n",
       "      <td>29322.000000</td>\n",
       "      <td>26.000000</td>\n",
       "      <td>5.800000e+04</td>\n",
       "      <td>4.000000</td>\n",
       "      <td>8000.000000</td>\n",
       "      <td>10.750000</td>\n",
       "      <td>0.140000</td>\n",
       "      <td>4.000000</td>\n",
       "      <td>0.000000</td>\n",
       "    </tr>\n",
       "    <tr>\n",
       "      <th>75%</th>\n",
       "      <td>43983.000000</td>\n",
       "      <td>30.000000</td>\n",
       "      <td>7.560000e+04</td>\n",
       "      <td>7.000000</td>\n",
       "      <td>12000.000000</td>\n",
       "      <td>12.990000</td>\n",
       "      <td>0.210000</td>\n",
       "      <td>8.000000</td>\n",
       "      <td>0.000000</td>\n",
       "    </tr>\n",
       "    <tr>\n",
       "      <th>max</th>\n",
       "      <td>58644.000000</td>\n",
       "      <td>123.000000</td>\n",
       "      <td>1.900000e+06</td>\n",
       "      <td>123.000000</td>\n",
       "      <td>35000.000000</td>\n",
       "      <td>23.220000</td>\n",
       "      <td>0.830000</td>\n",
       "      <td>30.000000</td>\n",
       "      <td>1.000000</td>\n",
       "    </tr>\n",
       "  </tbody>\n",
       "</table>\n",
       "</div>"
      ],
      "text/plain": [
       "                 id    person_age  person_income  person_emp_length  \\\n",
       "count  58645.000000  58645.000000   5.864500e+04       58645.000000   \n",
       "mean   29322.000000     27.550857   6.404617e+04           4.701015   \n",
       "std    16929.497605      6.033216   3.793111e+04           3.959784   \n",
       "min        0.000000     20.000000   4.200000e+03           0.000000   \n",
       "25%    14661.000000     23.000000   4.200000e+04           2.000000   \n",
       "50%    29322.000000     26.000000   5.800000e+04           4.000000   \n",
       "75%    43983.000000     30.000000   7.560000e+04           7.000000   \n",
       "max    58644.000000    123.000000   1.900000e+06         123.000000   \n",
       "\n",
       "          loan_amnt  loan_int_rate  loan_percent_income  \\\n",
       "count  58645.000000   58645.000000         58645.000000   \n",
       "mean    9217.556518      10.677874             0.159238   \n",
       "std     5563.807384       3.034697             0.091692   \n",
       "min      500.000000       5.420000             0.000000   \n",
       "25%     5000.000000       7.880000             0.090000   \n",
       "50%     8000.000000      10.750000             0.140000   \n",
       "75%    12000.000000      12.990000             0.210000   \n",
       "max    35000.000000      23.220000             0.830000   \n",
       "\n",
       "       cb_person_cred_hist_length   loan_status  \n",
       "count                58645.000000  58645.000000  \n",
       "mean                     5.813556      0.142382  \n",
       "std                      4.029196      0.349445  \n",
       "min                      2.000000      0.000000  \n",
       "25%                      3.000000      0.000000  \n",
       "50%                      4.000000      0.000000  \n",
       "75%                      8.000000      0.000000  \n",
       "max                     30.000000      1.000000  "
      ]
     },
     "execution_count": 7,
     "metadata": {},
     "output_type": "execute_result"
    }
   ],
   "source": [
    "df_train.describe()"
   ]
  },
  {
   "cell_type": "code",
   "execution_count": 8,
   "id": "f8695c41",
   "metadata": {
    "execution": {
     "iopub.execute_input": "2024-10-09T19:16:15.437709Z",
     "iopub.status.busy": "2024-10-09T19:16:15.437134Z",
     "iopub.status.idle": "2024-10-09T19:16:15.444800Z",
     "shell.execute_reply": "2024-10-09T19:16:15.443584Z"
    },
    "papermill": {
     "duration": 0.032029,
     "end_time": "2024-10-09T19:16:15.447387",
     "exception": false,
     "start_time": "2024-10-09T19:16:15.415358",
     "status": "completed"
    },
    "tags": []
   },
   "outputs": [
    {
     "data": {
      "text/plain": [
       "{'loan_status'}"
      ]
     },
     "execution_count": 8,
     "metadata": {},
     "output_type": "execute_result"
    }
   ],
   "source": [
    "set(df_train.columns) - set(df_test.columns)"
   ]
  },
  {
   "cell_type": "code",
   "execution_count": 9,
   "id": "96b36bc2",
   "metadata": {
    "execution": {
     "iopub.execute_input": "2024-10-09T19:16:15.489028Z",
     "iopub.status.busy": "2024-10-09T19:16:15.488562Z",
     "iopub.status.idle": "2024-10-09T19:16:15.500249Z",
     "shell.execute_reply": "2024-10-09T19:16:15.499130Z"
    },
    "papermill": {
     "duration": 0.035694,
     "end_time": "2024-10-09T19:16:15.502615",
     "exception": false,
     "start_time": "2024-10-09T19:16:15.466921",
     "status": "completed"
    },
    "tags": []
   },
   "outputs": [
    {
     "data": {
      "text/html": [
       "<div>\n",
       "<style scoped>\n",
       "    .dataframe tbody tr th:only-of-type {\n",
       "        vertical-align: middle;\n",
       "    }\n",
       "\n",
       "    .dataframe tbody tr th {\n",
       "        vertical-align: top;\n",
       "    }\n",
       "\n",
       "    .dataframe thead th {\n",
       "        text-align: right;\n",
       "    }\n",
       "</style>\n",
       "<table border=\"1\" class=\"dataframe\">\n",
       "  <thead>\n",
       "    <tr style=\"text-align: right;\">\n",
       "      <th></th>\n",
       "      <th>id</th>\n",
       "      <th>loan_status</th>\n",
       "    </tr>\n",
       "  </thead>\n",
       "  <tbody>\n",
       "    <tr>\n",
       "      <th>0</th>\n",
       "      <td>58645</td>\n",
       "      <td>0.5</td>\n",
       "    </tr>\n",
       "    <tr>\n",
       "      <th>1</th>\n",
       "      <td>58646</td>\n",
       "      <td>0.5</td>\n",
       "    </tr>\n",
       "    <tr>\n",
       "      <th>2</th>\n",
       "      <td>58647</td>\n",
       "      <td>0.5</td>\n",
       "    </tr>\n",
       "    <tr>\n",
       "      <th>3</th>\n",
       "      <td>58648</td>\n",
       "      <td>0.5</td>\n",
       "    </tr>\n",
       "    <tr>\n",
       "      <th>4</th>\n",
       "      <td>58649</td>\n",
       "      <td>0.5</td>\n",
       "    </tr>\n",
       "  </tbody>\n",
       "</table>\n",
       "</div>"
      ],
      "text/plain": [
       "      id  loan_status\n",
       "0  58645          0.5\n",
       "1  58646          0.5\n",
       "2  58647          0.5\n",
       "3  58648          0.5\n",
       "4  58649          0.5"
      ]
     },
     "execution_count": 9,
     "metadata": {},
     "output_type": "execute_result"
    }
   ],
   "source": [
    "df_sub.head()"
   ]
  },
  {
   "cell_type": "code",
   "execution_count": 10,
   "id": "8cdf8081",
   "metadata": {
    "execution": {
     "iopub.execute_input": "2024-10-09T19:16:15.545326Z",
     "iopub.status.busy": "2024-10-09T19:16:15.544192Z",
     "iopub.status.idle": "2024-10-09T19:16:15.562057Z",
     "shell.execute_reply": "2024-10-09T19:16:15.560879Z"
    },
    "papermill": {
     "duration": 0.042215,
     "end_time": "2024-10-09T19:16:15.564894",
     "exception": false,
     "start_time": "2024-10-09T19:16:15.522679",
     "status": "completed"
    },
    "tags": []
   },
   "outputs": [],
   "source": [
    "df_train = df_train.drop(columns=['id'])\n",
    "df_test = df_test.drop(columns=['id'])"
   ]
  },
  {
   "cell_type": "markdown",
   "id": "d1027eea",
   "metadata": {
    "papermill": {
     "duration": 0.019732,
     "end_time": "2024-10-09T19:16:15.604607",
     "exception": false,
     "start_time": "2024-10-09T19:16:15.584875",
     "status": "completed"
    },
    "tags": []
   },
   "source": [
    "# 2. Data EDA"
   ]
  },
  {
   "cell_type": "code",
   "execution_count": 11,
   "id": "8d75d0c2",
   "metadata": {
    "execution": {
     "iopub.execute_input": "2024-10-09T19:16:15.646427Z",
     "iopub.status.busy": "2024-10-09T19:16:15.645920Z",
     "iopub.status.idle": "2024-10-09T19:16:15.653509Z",
     "shell.execute_reply": "2024-10-09T19:16:15.652405Z"
    },
    "papermill": {
     "duration": 0.031481,
     "end_time": "2024-10-09T19:16:15.656063",
     "exception": false,
     "start_time": "2024-10-09T19:16:15.624582",
     "status": "completed"
    },
    "tags": []
   },
   "outputs": [
    {
     "data": {
      "text/plain": [
       "((58645, 12), (39098, 11))"
      ]
     },
     "execution_count": 11,
     "metadata": {},
     "output_type": "execute_result"
    }
   ],
   "source": [
    "df_train.shape,df_test.shape"
   ]
  },
  {
   "cell_type": "code",
   "execution_count": 12,
   "id": "ba2ba64a",
   "metadata": {
    "execution": {
     "iopub.execute_input": "2024-10-09T19:16:15.698935Z",
     "iopub.status.busy": "2024-10-09T19:16:15.698492Z",
     "iopub.status.idle": "2024-10-09T19:16:15.735655Z",
     "shell.execute_reply": "2024-10-09T19:16:15.734385Z"
    },
    "papermill": {
     "duration": 0.061959,
     "end_time": "2024-10-09T19:16:15.738603",
     "exception": false,
     "start_time": "2024-10-09T19:16:15.676644",
     "status": "completed"
    },
    "tags": []
   },
   "outputs": [
    {
     "data": {
      "text/plain": [
       "person_age                    0\n",
       "person_income                 0\n",
       "person_home_ownership         0\n",
       "person_emp_length             0\n",
       "loan_intent                   0\n",
       "loan_grade                    0\n",
       "loan_amnt                     0\n",
       "loan_int_rate                 0\n",
       "loan_percent_income           0\n",
       "cb_person_default_on_file     0\n",
       "cb_person_cred_hist_length    0\n",
       "loan_status                   0\n",
       "dtype: int64"
      ]
     },
     "execution_count": 12,
     "metadata": {},
     "output_type": "execute_result"
    }
   ],
   "source": [
    "df_train.isnull().sum()"
   ]
  },
  {
   "cell_type": "code",
   "execution_count": 13,
   "id": "6e93f0b0",
   "metadata": {
    "execution": {
     "iopub.execute_input": "2024-10-09T19:16:15.781538Z",
     "iopub.status.busy": "2024-10-09T19:16:15.781034Z",
     "iopub.status.idle": "2024-10-09T19:16:15.808975Z",
     "shell.execute_reply": "2024-10-09T19:16:15.807749Z"
    },
    "papermill": {
     "duration": 0.05217,
     "end_time": "2024-10-09T19:16:15.811534",
     "exception": false,
     "start_time": "2024-10-09T19:16:15.759364",
     "status": "completed"
    },
    "tags": []
   },
   "outputs": [
    {
     "data": {
      "text/plain": [
       "person_age                    0\n",
       "person_income                 0\n",
       "person_home_ownership         0\n",
       "person_emp_length             0\n",
       "loan_intent                   0\n",
       "loan_grade                    0\n",
       "loan_amnt                     0\n",
       "loan_int_rate                 0\n",
       "loan_percent_income           0\n",
       "cb_person_default_on_file     0\n",
       "cb_person_cred_hist_length    0\n",
       "dtype: int64"
      ]
     },
     "execution_count": 13,
     "metadata": {},
     "output_type": "execute_result"
    }
   ],
   "source": [
    "df_test.isnull().sum()"
   ]
  },
  {
   "cell_type": "code",
   "execution_count": 14,
   "id": "23f9613f",
   "metadata": {
    "execution": {
     "iopub.execute_input": "2024-10-09T19:16:15.855035Z",
     "iopub.status.busy": "2024-10-09T19:16:15.854566Z",
     "iopub.status.idle": "2024-10-09T19:16:16.307696Z",
     "shell.execute_reply": "2024-10-09T19:16:16.306474Z"
    },
    "papermill": {
     "duration": 0.478189,
     "end_time": "2024-10-09T19:16:16.310384",
     "exception": false,
     "start_time": "2024-10-09T19:16:15.832195",
     "status": "completed"
    },
    "tags": []
   },
   "outputs": [
    {
     "data": {
      "image/png": "[encoded data removed]",
      "text/plain": [
       "<Figure size 1000x600 with 1 Axes>"
      ]
     },
     "metadata": {},
     "output_type": "display_data"
    }
   ],
   "source": [
    "def stacked_bar_plot(df, feature, target='loan_status'):\n",
    "    crosstab = pd.crosstab(df[feature], df[target], normalize='index')\n",
    "    crosstab.plot(kind='bar', stacked=True, figsize=(10, 6), cmap='magma')\n",
    "    plt.title(f'Stacked Bar Plotting of {feature} vs {target}')\n",
    "    plt.ylabel('PROPORTION')\n",
    "    plt.show()\n",
    "stacked_bar_plot(df_train, 'loan_intent')"
   ]
  },
  {
   "cell_type": "code",
   "execution_count": 15,
   "id": "45593d80",
   "metadata": {
    "execution": {
     "iopub.execute_input": "2024-10-09T19:16:16.354422Z",
     "iopub.status.busy": "2024-10-09T19:16:16.353944Z",
     "iopub.status.idle": "2024-10-09T19:16:17.182885Z",
     "shell.execute_reply": "2024-10-09T19:16:17.181315Z"
    },
    "papermill": {
     "duration": 0.854187,
     "end_time": "2024-10-09T19:16:17.185720",
     "exception": false,
     "start_time": "2024-10-09T19:16:16.331533",
     "status": "completed"
    },
    "tags": []
   },
   "outputs": [
    {
     "name": "stderr",
     "output_type": "stream",
     "text": [
      "/opt/conda/lib/python3.10/site-packages/seaborn/_oldcore.py:1119: FutureWarning: use_inf_as_na option is deprecated and will be removed in a future version. Convert inf values to NaN before operating instead.\n",
      "  with pd.option_context('mode.use_inf_as_na', True):\n",
      "/opt/conda/lib/python3.10/site-packages/seaborn/_oldcore.py:1119: FutureWarning: use_inf_as_na option is deprecated and will be removed in a future version. Convert inf values to NaN before operating instead.\n",
      "  with pd.option_context('mode.use_inf_as_na', True):\n"
     ]
    },
    {
     "data": {
      "image/png": "[encoded data removed]",
      "text/plain": [
       "<Figure size 1000x600 with 1 Axes>"
      ]
     },
     "metadata": {},
     "output_type": "display_data"
    }
   ],
   "source": [
    "plt.figure(figsize=(10, 6))\n",
    "sns.kdeplot(df_train[df_train['loan_status'] == 1]['loan_amnt'], label='Default', fill=True)\n",
    "sns.kdeplot(df_train[df_train['loan_status'] == 0]['loan_amnt'], label='Non-Default', fill=True)\n",
    "plt.title('CDF of Loan Amount by Loan Status')\n",
    "plt.xlabel('Loan Amount')\n",
    "plt.ylabel('Density')\n",
    "plt.legend()\n",
    "plt.show()"
   ]
  },
  {
   "cell_type": "code",
   "execution_count": 16,
   "id": "8bc66a87",
   "metadata": {
    "execution": {
     "iopub.execute_input": "2024-10-09T19:16:17.232761Z",
     "iopub.status.busy": "2024-10-09T19:16:17.232128Z",
     "iopub.status.idle": "2024-10-09T19:16:17.246831Z",
     "shell.execute_reply": "2024-10-09T19:16:17.245516Z"
    },
    "papermill": {
     "duration": 0.041615,
     "end_time": "2024-10-09T19:16:17.249782",
     "exception": false,
     "start_time": "2024-10-09T19:16:17.208167",
     "status": "completed"
    },
    "tags": []
   },
   "outputs": [],
   "source": [
    "target_df = pd.DataFrame()\n",
    "target_df['loan_status'] = df_train['loan_status'] \n",
    "df_train = df_train.drop(['loan_status'],axis=1)\n",
    "X = df_train"
   ]
  },
  {
   "cell_type": "code",
   "execution_count": 17,
   "id": "e4d80ec2",
   "metadata": {
    "execution": {
     "iopub.execute_input": "2024-10-09T19:16:17.296704Z",
     "iopub.status.busy": "2024-10-09T19:16:17.296266Z",
     "iopub.status.idle": "2024-10-09T19:16:17.309832Z",
     "shell.execute_reply": "2024-10-09T19:16:17.308680Z"
    },
    "papermill": {
     "duration": 0.040235,
     "end_time": "2024-10-09T19:16:17.312606",
     "exception": false,
     "start_time": "2024-10-09T19:16:17.272371",
     "status": "completed"
    },
    "tags": []
   },
   "outputs": [
    {
     "data": {
      "text/plain": [
       "loan_status\n",
       "0    0.857618\n",
       "1    0.142382\n",
       "Name: proportion, dtype: float64"
      ]
     },
     "execution_count": 17,
     "metadata": {},
     "output_type": "execute_result"
    }
   ],
   "source": [
    "target_df['loan_status'].value_counts(normalize=True)"
   ]
  },
  {
   "cell_type": "code",
   "execution_count": 18,
   "id": "5800250a",
   "metadata": {
    "execution": {
     "iopub.execute_input": "2024-10-09T19:16:17.360166Z",
     "iopub.status.busy": "2024-10-09T19:16:17.359691Z",
     "iopub.status.idle": "2024-10-09T19:16:17.364857Z",
     "shell.execute_reply": "2024-10-09T19:16:17.363587Z"
    },
    "papermill": {
     "duration": 0.031888,
     "end_time": "2024-10-09T19:16:17.367581",
     "exception": false,
     "start_time": "2024-10-09T19:16:17.335693",
     "status": "completed"
    },
    "tags": []
   },
   "outputs": [],
   "source": [
    "# from sklearn.preprocessing import StandardScaler\n",
    "# scaler = StandardScaler()\n",
    "# scaled_train_data = X\n",
    "# scaled_test_data = df_test"
   ]
  },
  {
   "cell_type": "code",
   "execution_count": 19,
   "id": "95547969",
   "metadata": {
    "execution": {
     "iopub.execute_input": "2024-10-09T19:16:17.415064Z",
     "iopub.status.busy": "2024-10-09T19:16:17.414615Z",
     "iopub.status.idle": "2024-10-09T19:16:17.457510Z",
     "shell.execute_reply": "2024-10-09T19:16:17.456332Z"
    },
    "papermill": {
     "duration": 0.069722,
     "end_time": "2024-10-09T19:16:17.460254",
     "exception": false,
     "start_time": "2024-10-09T19:16:17.390532",
     "status": "completed"
    },
    "tags": []
   },
   "outputs": [
    {
     "name": "stdout",
     "output_type": "stream",
     "text": [
      "<class 'pandas.core.frame.DataFrame'>\n",
      "RangeIndex: 58645 entries, 0 to 58644\n",
      "Data columns (total 11 columns):\n",
      " #   Column                      Non-Null Count  Dtype  \n",
      "---  ------                      --------------  -----  \n",
      " 0   person_age                  58645 non-null  int64  \n",
      " 1   person_income               58645 non-null  int64  \n",
      " 2   person_home_ownership       58645 non-null  object \n",
      " 3   person_emp_length           58645 non-null  float64\n",
      " 4   loan_intent                 58645 non-null  object \n",
      " 5   loan_grade                  58645 non-null  object \n",
      " 6   loan_amnt                   58645 non-null  int64  \n",
      " 7   loan_int_rate               58645 non-null  float64\n",
      " 8   loan_percent_income         58645 non-null  float64\n",
      " 9   cb_person_default_on_file   58645 non-null  object \n",
      " 10  cb_person_cred_hist_length  58645 non-null  int64  \n",
      "dtypes: float64(3), int64(4), object(4)\n",
      "memory usage: 4.9+ MB\n"
     ]
    }
   ],
   "source": [
    "X.info()"
   ]
  },
  {
   "cell_type": "code",
   "execution_count": 20,
   "id": "2384e4b2",
   "metadata": {
    "execution": {
     "iopub.execute_input": "2024-10-09T19:16:17.507975Z",
     "iopub.status.busy": "2024-10-09T19:16:17.507515Z",
     "iopub.status.idle": "2024-10-09T19:16:17.538734Z",
     "shell.execute_reply": "2024-10-09T19:16:17.537127Z"
    },
    "papermill": {
     "duration": 0.058488,
     "end_time": "2024-10-09T19:16:17.541820",
     "exception": false,
     "start_time": "2024-10-09T19:16:17.483332",
     "status": "completed"
    },
    "tags": []
   },
   "outputs": [
    {
     "name": "stdout",
     "output_type": "stream",
     "text": [
      "<class 'pandas.core.frame.DataFrame'>\n",
      "RangeIndex: 39098 entries, 0 to 39097\n",
      "Data columns (total 11 columns):\n",
      " #   Column                      Non-Null Count  Dtype  \n",
      "---  ------                      --------------  -----  \n",
      " 0   person_age                  39098 non-null  int64  \n",
      " 1   person_income               39098 non-null  int64  \n",
      " 2   person_home_ownership       39098 non-null  object \n",
      " 3   person_emp_length           39098 non-null  float64\n",
      " 4   loan_intent                 39098 non-null  object \n",
      " 5   loan_grade                  39098 non-null  object \n",
      " 6   loan_amnt                   39098 non-null  int64  \n",
      " 7   loan_int_rate               39098 non-null  float64\n",
      " 8   loan_percent_income         39098 non-null  float64\n",
      " 9   cb_person_default_on_file   39098 non-null  object \n",
      " 10  cb_person_cred_hist_length  39098 non-null  int64  \n",
      "dtypes: float64(3), int64(4), object(4)\n",
      "memory usage: 3.3+ MB\n"
     ]
    }
   ],
   "source": [
    "df_test.info()"
   ]
  },
  {
   "cell_type": "code",
   "execution_count": 21,
   "id": "63a740f3",
   "metadata": {
    "execution": {
     "iopub.execute_input": "2024-10-09T19:16:17.590518Z",
     "iopub.status.busy": "2024-10-09T19:16:17.590036Z",
     "iopub.status.idle": "2024-10-09T19:16:17.595597Z",
     "shell.execute_reply": "2024-10-09T19:16:17.594291Z"
    },
    "papermill": {
     "duration": 0.032488,
     "end_time": "2024-10-09T19:16:17.598106",
     "exception": false,
     "start_time": "2024-10-09T19:16:17.565618",
     "status": "completed"
    },
    "tags": []
   },
   "outputs": [],
   "source": [
    "# df_train.drop([\"person_home_ownership\", \"loan_intent\", \"loan_grade\", \"cb_person_default_on_file\"], axis=1, inplace=True)\n",
    "# df_test.drop([\"person_home_ownership\", \"loan_intent\", \"loan_grade\", \"cb_person_default_on_file\"], axis=1, inplace=True)"
   ]
  },
  {
   "cell_type": "markdown",
   "id": "707641f1",
   "metadata": {
    "papermill": {
     "duration": 0.022531,
     "end_time": "2024-10-09T19:16:17.643485",
     "exception": false,
     "start_time": "2024-10-09T19:16:17.620954",
     "status": "completed"
    },
    "tags": []
   },
   "source": [
    "# 3. Data Processing"
   ]
  },
  {
   "cell_type": "markdown",
   "id": "8417bafa",
   "metadata": {
    "papermill": {
     "duration": 0.022771,
     "end_time": "2024-10-09T19:16:17.689124",
     "exception": false,
     "start_time": "2024-10-09T19:16:17.666353",
     "status": "completed"
    },
    "tags": []
   },
   "source": [
    "## 3.0 Data Types"
   ]
  },
  {
   "cell_type": "code",
   "execution_count": 22,
   "id": "2a6add23",
   "metadata": {
    "execution": {
     "iopub.execute_input": "2024-10-09T19:16:17.736775Z",
     "iopub.status.busy": "2024-10-09T19:16:17.736305Z",
     "iopub.status.idle": "2024-10-09T19:16:17.747727Z",
     "shell.execute_reply": "2024-10-09T19:16:17.746498Z"
    },
    "papermill": {
     "duration": 0.038107,
     "end_time": "2024-10-09T19:16:17.750236",
     "exception": false,
     "start_time": "2024-10-09T19:16:17.712129",
     "status": "completed"
    },
    "tags": []
   },
   "outputs": [
    {
     "name": "stdout",
     "output_type": "stream",
     "text": [
      "11\n",
      "(58645, 11)\n"
     ]
    }
   ],
   "source": [
    "int_cols = X.select_dtypes('int64').columns.to_list()\n",
    "float_cols = X.select_dtypes('float64').columns.to_list()\n",
    "\n",
    "obj_cols = X.select_dtypes('object').columns.to_list()\n",
    "\n",
    "print(len(int_cols) + len(float_cols) + len(obj_cols))\n",
    "print(X.shape)"
   ]
  },
  {
   "cell_type": "code",
   "execution_count": 23,
   "id": "52bf30bd",
   "metadata": {
    "execution": {
     "iopub.execute_input": "2024-10-09T19:16:17.798122Z",
     "iopub.status.busy": "2024-10-09T19:16:17.797631Z",
     "iopub.status.idle": "2024-10-09T19:16:17.805902Z",
     "shell.execute_reply": "2024-10-09T19:16:17.804744Z"
    },
    "papermill": {
     "duration": 0.035301,
     "end_time": "2024-10-09T19:16:17.808585",
     "exception": false,
     "start_time": "2024-10-09T19:16:17.773284",
     "status": "completed"
    },
    "tags": []
   },
   "outputs": [],
   "source": [
    "temp = X.copy()"
   ]
  },
  {
   "cell_type": "markdown",
   "id": "da7f564f",
   "metadata": {
    "papermill": {
     "duration": 0.023255,
     "end_time": "2024-10-09T19:16:17.855291",
     "exception": false,
     "start_time": "2024-10-09T19:16:17.832036",
     "status": "completed"
    },
    "tags": []
   },
   "source": [
    "## 3.1 Feature Engineering"
   ]
  },
  {
   "cell_type": "code",
   "execution_count": 24,
   "id": "41d54e87",
   "metadata": {
    "execution": {
     "iopub.execute_input": "2024-10-09T19:16:17.903832Z",
     "iopub.status.busy": "2024-10-09T19:16:17.902850Z",
     "iopub.status.idle": "2024-10-09T19:16:17.914802Z",
     "shell.execute_reply": "2024-10-09T19:16:17.913581Z"
    },
    "papermill": {
     "duration": 0.038884,
     "end_time": "2024-10-09T19:16:17.917486",
     "exception": false,
     "start_time": "2024-10-09T19:16:17.878602",
     "status": "completed"
    },
    "tags": []
   },
   "outputs": [],
   "source": [
    "def transform(df):\n",
    "    df['loan_to_income'] = ((df['loan_amnt'] / df['person_income']) - df['loan_percent_income'])\n",
    "    df['age_income_interaction'] = (df['person_age'] * df['person_income'])\n",
    "    df['loan_to_emp_length_ratio'] = (df['loan_amnt'] / (0.1 + df['person_emp_length']).astype('float'))\n",
    "    df['monthly_debt'] = (df['loan_amnt'] * (1 + df['loan_int_rate']) / 12)\n",
    "    \n",
    "    monthly_income = df['person_income'] / 12\n",
    "    df['dti_ratio'] = (df['monthly_debt'] / monthly_income)\n",
    "    \n",
    "    df['monthly_debt'] = (df['loan_amnt'] * (1 + df['loan_int_rate']) / 12)\n",
    "    df['risk_flag'] = (np.where((df['cb_person_default_on_file'] == 'Y') & (df['loan_grade'].isin(['C', 'D', 'E'])), 1, 0))\n",
    "    \n",
    "    \n",
    "    df['loan_int_rate'] = (df['loan_int_rate'] * 100)\n",
    "    df['loan_percent_income'] = (df['loan_percent_income'] * 100)\n",
    "    return df"
   ]
  },
  {
   "cell_type": "code",
   "execution_count": 25,
   "id": "38a842ed",
   "metadata": {
    "execution": {
     "iopub.execute_input": "2024-10-09T19:16:17.967589Z",
     "iopub.status.busy": "2024-10-09T19:16:17.967149Z",
     "iopub.status.idle": "2024-10-09T19:16:18.017639Z",
     "shell.execute_reply": "2024-10-09T19:16:18.016337Z"
    },
    "papermill": {
     "duration": 0.078302,
     "end_time": "2024-10-09T19:16:18.020634",
     "exception": false,
     "start_time": "2024-10-09T19:16:17.942332",
     "status": "completed"
    },
    "tags": []
   },
   "outputs": [
    {
     "name": "stdout",
     "output_type": "stream",
     "text": [
      "(58645, 17)\n"
     ]
    },
    {
     "data": {
      "text/html": [
       "<div>\n",
       "<style scoped>\n",
       "    .dataframe tbody tr th:only-of-type {\n",
       "        vertical-align: middle;\n",
       "    }\n",
       "\n",
       "    .dataframe tbody tr th {\n",
       "        vertical-align: top;\n",
       "    }\n",
       "\n",
       "    .dataframe thead th {\n",
       "        text-align: right;\n",
       "    }\n",
       "</style>\n",
       "<table border=\"1\" class=\"dataframe\">\n",
       "  <thead>\n",
       "    <tr style=\"text-align: right;\">\n",
       "      <th></th>\n",
       "      <th>person_age</th>\n",
       "      <th>person_income</th>\n",
       "      <th>person_home_ownership</th>\n",
       "      <th>person_emp_length</th>\n",
       "      <th>loan_intent</th>\n",
       "      <th>loan_grade</th>\n",
       "      <th>loan_amnt</th>\n",
       "      <th>loan_int_rate</th>\n",
       "      <th>loan_percent_income</th>\n",
       "      <th>cb_person_default_on_file</th>\n",
       "      <th>cb_person_cred_hist_length</th>\n",
       "      <th>loan_to_income</th>\n",
       "      <th>age_income_interaction</th>\n",
       "      <th>loan_to_emp_length_ratio</th>\n",
       "      <th>monthly_debt</th>\n",
       "      <th>dti_ratio</th>\n",
       "      <th>risk_flag</th>\n",
       "    </tr>\n",
       "  </thead>\n",
       "  <tbody>\n",
       "    <tr>\n",
       "      <th>0</th>\n",
       "      <td>37</td>\n",
       "      <td>35000</td>\n",
       "      <td>RENT</td>\n",
       "      <td>0.0</td>\n",
       "      <td>EDUCATION</td>\n",
       "      <td>B</td>\n",
       "      <td>6000</td>\n",
       "      <td>1149.0</td>\n",
       "      <td>17.0</td>\n",
       "      <td>N</td>\n",
       "      <td>14</td>\n",
       "      <td>0.001429</td>\n",
       "      <td>1295000</td>\n",
       "      <td>60000.000000</td>\n",
       "      <td>6245.000000</td>\n",
       "      <td>2.141143</td>\n",
       "      <td>0</td>\n",
       "    </tr>\n",
       "    <tr>\n",
       "      <th>1</th>\n",
       "      <td>22</td>\n",
       "      <td>56000</td>\n",
       "      <td>OWN</td>\n",
       "      <td>6.0</td>\n",
       "      <td>MEDICAL</td>\n",
       "      <td>C</td>\n",
       "      <td>4000</td>\n",
       "      <td>1335.0</td>\n",
       "      <td>7.0</td>\n",
       "      <td>N</td>\n",
       "      <td>2</td>\n",
       "      <td>0.001429</td>\n",
       "      <td>1232000</td>\n",
       "      <td>655.737705</td>\n",
       "      <td>4783.333333</td>\n",
       "      <td>1.025000</td>\n",
       "      <td>0</td>\n",
       "    </tr>\n",
       "    <tr>\n",
       "      <th>2</th>\n",
       "      <td>29</td>\n",
       "      <td>28800</td>\n",
       "      <td>OWN</td>\n",
       "      <td>8.0</td>\n",
       "      <td>PERSONAL</td>\n",
       "      <td>A</td>\n",
       "      <td>6000</td>\n",
       "      <td>890.0</td>\n",
       "      <td>21.0</td>\n",
       "      <td>N</td>\n",
       "      <td>10</td>\n",
       "      <td>-0.001667</td>\n",
       "      <td>835200</td>\n",
       "      <td>740.740741</td>\n",
       "      <td>4950.000000</td>\n",
       "      <td>2.062500</td>\n",
       "      <td>0</td>\n",
       "    </tr>\n",
       "  </tbody>\n",
       "</table>\n",
       "</div>"
      ],
      "text/plain": [
       "   person_age  person_income person_home_ownership  person_emp_length  \\\n",
       "0          37          35000                  RENT                0.0   \n",
       "1          22          56000                   OWN                6.0   \n",
       "2          29          28800                   OWN                8.0   \n",
       "\n",
       "  loan_intent loan_grade  loan_amnt  loan_int_rate  loan_percent_income  \\\n",
       "0   EDUCATION          B       6000         1149.0                 17.0   \n",
       "1     MEDICAL          C       4000         1335.0                  7.0   \n",
       "2    PERSONAL          A       6000          890.0                 21.0   \n",
       "\n",
       "  cb_person_default_on_file  cb_person_cred_hist_length  loan_to_income  \\\n",
       "0                         N                          14        0.001429   \n",
       "1                         N                           2        0.001429   \n",
       "2                         N                          10       -0.001667   \n",
       "\n",
       "   age_income_interaction  loan_to_emp_length_ratio  monthly_debt  dti_ratio  \\\n",
       "0                 1295000              60000.000000   6245.000000   2.141143   \n",
       "1                 1232000                655.737705   4783.333333   1.025000   \n",
       "2                  835200                740.740741   4950.000000   2.062500   \n",
       "\n",
       "   risk_flag  \n",
       "0          0  \n",
       "1          0  \n",
       "2          0  "
      ]
     },
     "execution_count": 25,
     "metadata": {},
     "output_type": "execute_result"
    }
   ],
   "source": [
    "temp = transform(temp)\n",
    "print(temp.shape)\n",
    "temp.head(3)"
   ]
  },
  {
   "cell_type": "code",
   "execution_count": 26,
   "id": "0e497abe",
   "metadata": {
    "execution": {
     "iopub.execute_input": "2024-10-09T19:16:18.070779Z",
     "iopub.status.busy": "2024-10-09T19:16:18.070322Z",
     "iopub.status.idle": "2024-10-09T19:16:18.097581Z",
     "shell.execute_reply": "2024-10-09T19:16:18.096175Z"
    },
    "papermill": {
     "duration": 0.056043,
     "end_time": "2024-10-09T19:16:18.100429",
     "exception": false,
     "start_time": "2024-10-09T19:16:18.044386",
     "status": "completed"
    },
    "tags": []
   },
   "outputs": [
    {
     "name": "stdout",
     "output_type": "stream",
     "text": [
      "17\n",
      "(58645, 17)\n"
     ]
    }
   ],
   "source": [
    "int_cols = temp.select_dtypes('int64').columns.to_list()\n",
    "float_cols = temp.select_dtypes('float64').columns.to_list()\n",
    "\n",
    "obj_cols = temp.select_dtypes('object').columns.to_list()\n",
    "\n",
    "print(len(int_cols) + len(float_cols) + len(obj_cols))\n",
    "print(temp.shape)"
   ]
  },
  {
   "cell_type": "markdown",
   "id": "80d11762",
   "metadata": {
    "papermill": {
     "duration": 0.023351,
     "end_time": "2024-10-09T19:16:18.147337",
     "exception": false,
     "start_time": "2024-10-09T19:16:18.123986",
     "status": "completed"
    },
    "tags": []
   },
   "source": [
    "## 3.2 Converting The Features Into Numericals"
   ]
  },
  {
   "cell_type": "markdown",
   "id": "e2c61850",
   "metadata": {
    "papermill": {
     "duration": 0.023161,
     "end_time": "2024-10-09T19:16:18.194678",
     "exception": false,
     "start_time": "2024-10-09T19:16:18.171517",
     "status": "completed"
    },
    "tags": []
   },
   "source": [
    "### 3.2.1 Numerical Columns"
   ]
  },
  {
   "cell_type": "code",
   "execution_count": 27,
   "id": "f9b7eb44",
   "metadata": {
    "execution": {
     "iopub.execute_input": "2024-10-09T19:16:18.244426Z",
     "iopub.status.busy": "2024-10-09T19:16:18.243924Z",
     "iopub.status.idle": "2024-10-09T19:16:18.258249Z",
     "shell.execute_reply": "2024-10-09T19:16:18.257102Z"
    },
    "papermill": {
     "duration": 0.041842,
     "end_time": "2024-10-09T19:16:18.260872",
     "exception": false,
     "start_time": "2024-10-09T19:16:18.219030",
     "status": "completed"
    },
    "tags": []
   },
   "outputs": [
    {
     "data": {
      "text/html": [
       "<div>\n",
       "<style scoped>\n",
       "    .dataframe tbody tr th:only-of-type {\n",
       "        vertical-align: middle;\n",
       "    }\n",
       "\n",
       "    .dataframe tbody tr th {\n",
       "        vertical-align: top;\n",
       "    }\n",
       "\n",
       "    .dataframe thead th {\n",
       "        text-align: right;\n",
       "    }\n",
       "</style>\n",
       "<table border=\"1\" class=\"dataframe\">\n",
       "  <thead>\n",
       "    <tr style=\"text-align: right;\">\n",
       "      <th></th>\n",
       "      <th>person_age</th>\n",
       "      <th>person_income</th>\n",
       "      <th>loan_amnt</th>\n",
       "      <th>cb_person_cred_hist_length</th>\n",
       "      <th>age_income_interaction</th>\n",
       "      <th>risk_flag</th>\n",
       "    </tr>\n",
       "  </thead>\n",
       "  <tbody>\n",
       "    <tr>\n",
       "      <th>0</th>\n",
       "      <td>37</td>\n",
       "      <td>35000</td>\n",
       "      <td>6000</td>\n",
       "      <td>14</td>\n",
       "      <td>1295000</td>\n",
       "      <td>0</td>\n",
       "    </tr>\n",
       "    <tr>\n",
       "      <th>1</th>\n",
       "      <td>22</td>\n",
       "      <td>56000</td>\n",
       "      <td>4000</td>\n",
       "      <td>2</td>\n",
       "      <td>1232000</td>\n",
       "      <td>0</td>\n",
       "    </tr>\n",
       "    <tr>\n",
       "      <th>2</th>\n",
       "      <td>29</td>\n",
       "      <td>28800</td>\n",
       "      <td>6000</td>\n",
       "      <td>10</td>\n",
       "      <td>835200</td>\n",
       "      <td>0</td>\n",
       "    </tr>\n",
       "  </tbody>\n",
       "</table>\n",
       "</div>"
      ],
      "text/plain": [
       "   person_age  person_income  loan_amnt  cb_person_cred_hist_length  \\\n",
       "0          37          35000       6000                          14   \n",
       "1          22          56000       4000                           2   \n",
       "2          29          28800       6000                          10   \n",
       "\n",
       "   age_income_interaction  risk_flag  \n",
       "0                 1295000          0  \n",
       "1                 1232000          0  \n",
       "2                  835200          0  "
      ]
     },
     "execution_count": 27,
     "metadata": {},
     "output_type": "execute_result"
    }
   ],
   "source": [
    "temp[int_cols].head(3)"
   ]
  },
  {
   "cell_type": "code",
   "execution_count": 28,
   "id": "8e3c5412",
   "metadata": {
    "execution": {
     "iopub.execute_input": "2024-10-09T19:16:18.310290Z",
     "iopub.status.busy": "2024-10-09T19:16:18.309809Z",
     "iopub.status.idle": "2024-10-09T19:16:18.329642Z",
     "shell.execute_reply": "2024-10-09T19:16:18.328442Z"
    },
    "papermill": {
     "duration": 0.047695,
     "end_time": "2024-10-09T19:16:18.332327",
     "exception": false,
     "start_time": "2024-10-09T19:16:18.284632",
     "status": "completed"
    },
    "tags": []
   },
   "outputs": [
    {
     "data": {
      "text/html": [
       "<div>\n",
       "<style scoped>\n",
       "    .dataframe tbody tr th:only-of-type {\n",
       "        vertical-align: middle;\n",
       "    }\n",
       "\n",
       "    .dataframe tbody tr th {\n",
       "        vertical-align: top;\n",
       "    }\n",
       "\n",
       "    .dataframe thead th {\n",
       "        text-align: right;\n",
       "    }\n",
       "</style>\n",
       "<table border=\"1\" class=\"dataframe\">\n",
       "  <thead>\n",
       "    <tr style=\"text-align: right;\">\n",
       "      <th></th>\n",
       "      <th>person_emp_length</th>\n",
       "      <th>loan_int_rate</th>\n",
       "      <th>loan_percent_income</th>\n",
       "      <th>loan_to_income</th>\n",
       "      <th>loan_to_emp_length_ratio</th>\n",
       "      <th>monthly_debt</th>\n",
       "      <th>dti_ratio</th>\n",
       "    </tr>\n",
       "  </thead>\n",
       "  <tbody>\n",
       "    <tr>\n",
       "      <th>0</th>\n",
       "      <td>0.0</td>\n",
       "      <td>1149.0</td>\n",
       "      <td>17.0</td>\n",
       "      <td>0.001429</td>\n",
       "      <td>60000.000000</td>\n",
       "      <td>6245.000000</td>\n",
       "      <td>2.141143</td>\n",
       "    </tr>\n",
       "    <tr>\n",
       "      <th>1</th>\n",
       "      <td>6.0</td>\n",
       "      <td>1335.0</td>\n",
       "      <td>7.0</td>\n",
       "      <td>0.001429</td>\n",
       "      <td>655.737705</td>\n",
       "      <td>4783.333333</td>\n",
       "      <td>1.025000</td>\n",
       "    </tr>\n",
       "    <tr>\n",
       "      <th>2</th>\n",
       "      <td>8.0</td>\n",
       "      <td>890.0</td>\n",
       "      <td>21.0</td>\n",
       "      <td>-0.001667</td>\n",
       "      <td>740.740741</td>\n",
       "      <td>4950.000000</td>\n",
       "      <td>2.062500</td>\n",
       "    </tr>\n",
       "  </tbody>\n",
       "</table>\n",
       "</div>"
      ],
      "text/plain": [
       "   person_emp_length  loan_int_rate  loan_percent_income  loan_to_income  \\\n",
       "0                0.0         1149.0                 17.0        0.001429   \n",
       "1                6.0         1335.0                  7.0        0.001429   \n",
       "2                8.0          890.0                 21.0       -0.001667   \n",
       "\n",
       "   loan_to_emp_length_ratio  monthly_debt  dti_ratio  \n",
       "0              60000.000000   6245.000000   2.141143  \n",
       "1                655.737705   4783.333333   1.025000  \n",
       "2                740.740741   4950.000000   2.062500  "
      ]
     },
     "execution_count": 28,
     "metadata": {},
     "output_type": "execute_result"
    }
   ],
   "source": [
    "temp[float_cols].head(3)"
   ]
  },
  {
   "cell_type": "markdown",
   "id": "f83589a7",
   "metadata": {
    "papermill": {
     "duration": 0.024314,
     "end_time": "2024-10-09T19:16:18.382163",
     "exception": false,
     "start_time": "2024-10-09T19:16:18.357849",
     "status": "completed"
    },
    "tags": []
   },
   "source": [
    "No extra transformation required"
   ]
  },
  {
   "cell_type": "markdown",
   "id": "2d2386ca",
   "metadata": {
    "papermill": {
     "duration": 0.023443,
     "end_time": "2024-10-09T19:16:18.429546",
     "exception": false,
     "start_time": "2024-10-09T19:16:18.406103",
     "status": "completed"
    },
    "tags": []
   },
   "source": [
    "### 3.2.2 Categorical Columns"
   ]
  },
  {
   "cell_type": "code",
   "execution_count": 29,
   "id": "4bb5a965",
   "metadata": {
    "execution": {
     "iopub.execute_input": "2024-10-09T19:16:18.479135Z",
     "iopub.status.busy": "2024-10-09T19:16:18.478692Z",
     "iopub.status.idle": "2024-10-09T19:16:18.563981Z",
     "shell.execute_reply": "2024-10-09T19:16:18.562901Z"
    },
    "papermill": {
     "duration": 0.112971,
     "end_time": "2024-10-09T19:16:18.566351",
     "exception": false,
     "start_time": "2024-10-09T19:16:18.453380",
     "status": "completed"
    },
    "tags": []
   },
   "outputs": [
    {
     "data": {
      "text/html": [
       "<div>\n",
       "<style scoped>\n",
       "    .dataframe tbody tr th:only-of-type {\n",
       "        vertical-align: middle;\n",
       "    }\n",
       "\n",
       "    .dataframe tbody tr th {\n",
       "        vertical-align: top;\n",
       "    }\n",
       "\n",
       "    .dataframe thead th {\n",
       "        text-align: right;\n",
       "    }\n",
       "</style>\n",
       "<table border=\"1\" class=\"dataframe\">\n",
       "  <thead>\n",
       "    <tr style=\"text-align: right;\">\n",
       "      <th></th>\n",
       "      <th>Feat</th>\n",
       "      <th>count</th>\n",
       "      <th>unique</th>\n",
       "      <th>top</th>\n",
       "      <th>freq</th>\n",
       "    </tr>\n",
       "  </thead>\n",
       "  <tbody>\n",
       "    <tr>\n",
       "      <th>0</th>\n",
       "      <td>person_home_ownership</td>\n",
       "      <td>58645</td>\n",
       "      <td>4</td>\n",
       "      <td>RENT</td>\n",
       "      <td>30594</td>\n",
       "    </tr>\n",
       "    <tr>\n",
       "      <th>1</th>\n",
       "      <td>loan_intent</td>\n",
       "      <td>58645</td>\n",
       "      <td>6</td>\n",
       "      <td>EDUCATION</td>\n",
       "      <td>12271</td>\n",
       "    </tr>\n",
       "    <tr>\n",
       "      <th>2</th>\n",
       "      <td>loan_grade</td>\n",
       "      <td>58645</td>\n",
       "      <td>7</td>\n",
       "      <td>A</td>\n",
       "      <td>20984</td>\n",
       "    </tr>\n",
       "    <tr>\n",
       "      <th>3</th>\n",
       "      <td>cb_person_default_on_file</td>\n",
       "      <td>58645</td>\n",
       "      <td>2</td>\n",
       "      <td>N</td>\n",
       "      <td>49943</td>\n",
       "    </tr>\n",
       "  </tbody>\n",
       "</table>\n",
       "</div>"
      ],
      "text/plain": [
       "                        Feat  count unique        top   freq\n",
       "0      person_home_ownership  58645      4       RENT  30594\n",
       "1                loan_intent  58645      6  EDUCATION  12271\n",
       "2                 loan_grade  58645      7          A  20984\n",
       "3  cb_person_default_on_file  58645      2          N  49943"
      ]
     },
     "execution_count": 29,
     "metadata": {},
     "output_type": "execute_result"
    }
   ],
   "source": [
    "string_feat = temp[obj_cols].describe().T.reset_index().rename(columns = {'index': 'Feat'})\n",
    "string_feat.head()"
   ]
  },
  {
   "cell_type": "code",
   "execution_count": 30,
   "id": "75a04ce0",
   "metadata": {
    "execution": {
     "iopub.execute_input": "2024-10-09T19:16:18.616720Z",
     "iopub.status.busy": "2024-10-09T19:16:18.616245Z",
     "iopub.status.idle": "2024-10-09T19:16:18.662375Z",
     "shell.execute_reply": "2024-10-09T19:16:18.661133Z"
    },
    "papermill": {
     "duration": 0.074509,
     "end_time": "2024-10-09T19:16:18.664983",
     "exception": false,
     "start_time": "2024-10-09T19:16:18.590474",
     "status": "completed"
    },
    "tags": []
   },
   "outputs": [
    {
     "name": "stdout",
     "output_type": "stream",
     "text": [
      "person_home_ownership\n",
      "RENT        0.521681\n",
      "MORTGAGE    0.423293\n",
      "OWN         0.053508\n",
      "OTHER       0.001518\n",
      "Name: proportion, dtype: float64\n",
      "********************\n",
      "loan_intent\n",
      "EDUCATION            0.209242\n",
      "MEDICAL              0.186444\n",
      "PERSONAL             0.170790\n",
      "VENTURE              0.170705\n",
      "DEBTCONSOLIDATION    0.155734\n",
      "HOMEIMPROVEMENT      0.107085\n",
      "Name: proportion, dtype: float64\n",
      "********************\n",
      "loan_grade\n",
      "A    0.357814\n",
      "B    0.347856\n",
      "C    0.188183\n",
      "D    0.085839\n",
      "E    0.017205\n",
      "F    0.002541\n",
      "G    0.000563\n",
      "Name: proportion, dtype: float64\n",
      "********************\n",
      "cb_person_default_on_file\n",
      "N    0.851616\n",
      "Y    0.148384\n",
      "Name: proportion, dtype: float64\n",
      "********************\n"
     ]
    }
   ],
   "source": [
    "for cat in obj_cols:\n",
    "#     print(cat)\n",
    "    print(temp[cat].value_counts(normalize=True))\n",
    "    print(\"*\"*20)"
   ]
  },
  {
   "cell_type": "code",
   "execution_count": 31,
   "id": "96dcca18",
   "metadata": {
    "execution": {
     "iopub.execute_input": "2024-10-09T19:16:18.716064Z",
     "iopub.status.busy": "2024-10-09T19:16:18.715581Z",
     "iopub.status.idle": "2024-10-09T19:16:18.773290Z",
     "shell.execute_reply": "2024-10-09T19:16:18.772120Z"
    },
    "papermill": {
     "duration": 0.086383,
     "end_time": "2024-10-09T19:16:18.775944",
     "exception": false,
     "start_time": "2024-10-09T19:16:18.689561",
     "status": "completed"
    },
    "tags": []
   },
   "outputs": [
    {
     "name": "stdout",
     "output_type": "stream",
     "text": [
      "(58645, 15)\n"
     ]
    },
    {
     "data": {
      "text/html": [
       "<div>\n",
       "<style scoped>\n",
       "    .dataframe tbody tr th:only-of-type {\n",
       "        vertical-align: middle;\n",
       "    }\n",
       "\n",
       "    .dataframe tbody tr th {\n",
       "        vertical-align: top;\n",
       "    }\n",
       "\n",
       "    .dataframe thead th {\n",
       "        text-align: right;\n",
       "    }\n",
       "</style>\n",
       "<table border=\"1\" class=\"dataframe\">\n",
       "  <thead>\n",
       "    <tr style=\"text-align: right;\">\n",
       "      <th></th>\n",
       "      <th>person_home_ownership_OTHER</th>\n",
       "      <th>person_home_ownership_OWN</th>\n",
       "      <th>person_home_ownership_RENT</th>\n",
       "      <th>loan_intent_EDUCATION</th>\n",
       "      <th>loan_intent_HOMEIMPROVEMENT</th>\n",
       "      <th>loan_intent_MEDICAL</th>\n",
       "      <th>loan_intent_PERSONAL</th>\n",
       "      <th>loan_intent_VENTURE</th>\n",
       "      <th>loan_grade_B</th>\n",
       "      <th>loan_grade_C</th>\n",
       "      <th>loan_grade_D</th>\n",
       "      <th>loan_grade_E</th>\n",
       "      <th>loan_grade_F</th>\n",
       "      <th>loan_grade_G</th>\n",
       "      <th>cb_person_default_on_file_Y</th>\n",
       "    </tr>\n",
       "  </thead>\n",
       "  <tbody>\n",
       "    <tr>\n",
       "      <th>0</th>\n",
       "      <td>0</td>\n",
       "      <td>0</td>\n",
       "      <td>1</td>\n",
       "      <td>1</td>\n",
       "      <td>0</td>\n",
       "      <td>0</td>\n",
       "      <td>0</td>\n",
       "      <td>0</td>\n",
       "      <td>1</td>\n",
       "      <td>0</td>\n",
       "      <td>0</td>\n",
       "      <td>0</td>\n",
       "      <td>0</td>\n",
       "      <td>0</td>\n",
       "      <td>0</td>\n",
       "    </tr>\n",
       "    <tr>\n",
       "      <th>1</th>\n",
       "      <td>0</td>\n",
       "      <td>1</td>\n",
       "      <td>0</td>\n",
       "      <td>0</td>\n",
       "      <td>0</td>\n",
       "      <td>1</td>\n",
       "      <td>0</td>\n",
       "      <td>0</td>\n",
       "      <td>0</td>\n",
       "      <td>1</td>\n",
       "      <td>0</td>\n",
       "      <td>0</td>\n",
       "      <td>0</td>\n",
       "      <td>0</td>\n",
       "      <td>0</td>\n",
       "    </tr>\n",
       "    <tr>\n",
       "      <th>2</th>\n",
       "      <td>0</td>\n",
       "      <td>1</td>\n",
       "      <td>0</td>\n",
       "      <td>0</td>\n",
       "      <td>0</td>\n",
       "      <td>0</td>\n",
       "      <td>1</td>\n",
       "      <td>0</td>\n",
       "      <td>0</td>\n",
       "      <td>0</td>\n",
       "      <td>0</td>\n",
       "      <td>0</td>\n",
       "      <td>0</td>\n",
       "      <td>0</td>\n",
       "      <td>0</td>\n",
       "    </tr>\n",
       "  </tbody>\n",
       "</table>\n",
       "</div>"
      ],
      "text/plain": [
       "   person_home_ownership_OTHER  person_home_ownership_OWN  \\\n",
       "0                            0                          0   \n",
       "1                            0                          1   \n",
       "2                            0                          1   \n",
       "\n",
       "   person_home_ownership_RENT  loan_intent_EDUCATION  \\\n",
       "0                           1                      1   \n",
       "1                           0                      0   \n",
       "2                           0                      0   \n",
       "\n",
       "   loan_intent_HOMEIMPROVEMENT  loan_intent_MEDICAL  loan_intent_PERSONAL  \\\n",
       "0                            0                    0                     0   \n",
       "1                            0                    1                     0   \n",
       "2                            0                    0                     1   \n",
       "\n",
       "   loan_intent_VENTURE  loan_grade_B  loan_grade_C  loan_grade_D  \\\n",
       "0                    0             1             0             0   \n",
       "1                    0             0             1             0   \n",
       "2                    0             0             0             0   \n",
       "\n",
       "   loan_grade_E  loan_grade_F  loan_grade_G  cb_person_default_on_file_Y  \n",
       "0             0             0             0                            0  \n",
       "1             0             0             0                            0  \n",
       "2             0             0             0                            0  "
      ]
     },
     "execution_count": 31,
     "metadata": {},
     "output_type": "execute_result"
    }
   ],
   "source": [
    "cat_data = pd.get_dummies(\n",
    "            temp[obj_cols],\n",
    "            drop_first = True\n",
    ")\n",
    "cat_data = cat_data.astype(int)\n",
    "print(cat_data.shape)\n",
    "cat_data.head(3)"
   ]
  },
  {
   "cell_type": "code",
   "execution_count": null,
   "id": "ee22f6d0",
   "metadata": {
    "papermill": {
     "duration": 0.024389,
     "end_time": "2024-10-09T19:16:18.825952",
     "exception": false,
     "start_time": "2024-10-09T19:16:18.801563",
     "status": "completed"
    },
    "tags": []
   },
   "outputs": [],
   "source": []
  },
  {
   "cell_type": "markdown",
   "id": "9c328fe1",
   "metadata": {
    "papermill": {
     "duration": 0.024225,
     "end_time": "2024-10-09T19:16:18.874820",
     "exception": false,
     "start_time": "2024-10-09T19:16:18.850595",
     "status": "completed"
    },
    "tags": []
   },
   "source": [
    "## 3.4 Remove High Corr. Data"
   ]
  },
  {
   "cell_type": "code",
   "execution_count": 32,
   "id": "30c41190",
   "metadata": {
    "execution": {
     "iopub.execute_input": "2024-10-09T19:16:18.926678Z",
     "iopub.status.busy": "2024-10-09T19:16:18.925804Z",
     "iopub.status.idle": "2024-10-09T19:16:19.116330Z",
     "shell.execute_reply": "2024-10-09T19:16:19.115135Z"
    },
    "papermill": {
     "duration": 0.219918,
     "end_time": "2024-10-09T19:16:19.119240",
     "exception": false,
     "start_time": "2024-10-09T19:16:18.899322",
     "status": "completed"
    },
    "tags": []
   },
   "outputs": [
    {
     "name": "stdout",
     "output_type": "stream",
     "text": [
      "Low Corr. Feat. :\n",
      "\n",
      "person_age                    -0.001130\n",
      "cb_person_cred_hist_length    -0.003030\n",
      "loan_to_income                 0.031176\n",
      "person_home_ownership_OTHER    0.002918\n",
      "loan_intent_HOMEIMPROVEMENT    0.031063\n",
      "loan_intent_MEDICAL            0.049139\n",
      "loan_intent_PERSONAL          -0.012461\n",
      "loan_grade_C                  -0.009654\n",
      "loan_grade_G                   0.045889\n",
      "Name: loan_status, dtype: float64\n",
      "1st Stage Feat. :\n",
      "\n",
      "20 \n",
      " person_income                 -0.169956\n",
      "loan_amnt                      0.144982\n",
      "age_income_interaction        -0.150138\n",
      "risk_flag                      0.180697\n",
      "person_emp_length             -0.100428\n",
      "loan_int_rate                  0.338948\n",
      "loan_percent_income            0.378280\n",
      "loan_to_emp_length_ratio       0.098961\n",
      "monthly_debt                   0.247493\n",
      "dti_ratio                      0.455077\n",
      "person_home_ownership_OWN     -0.087556\n",
      "person_home_ownership_RENT     0.239620\n",
      "loan_intent_EDUCATION         -0.051005\n",
      "loan_intent_VENTURE           -0.064378\n",
      "loan_grade_B                  -0.083765\n",
      "loan_grade_D                   0.395646\n",
      "loan_grade_E                   0.182878\n",
      "loan_grade_F                   0.067644\n",
      "cb_person_default_on_file_Y    0.186962\n",
      "loan_status                    1.000000\n",
      "Name: loan_status, dtype: float64\n"
     ]
    }
   ],
   "source": [
    "combined_df = pd.concat([temp[int_cols], temp[float_cols], cat_data, target_df['loan_status']], axis=1)\n",
    "corr_matrix = combined_df.corr()\n",
    "\n",
    "corr_with_target = corr_matrix['loan_status']\n",
    "low_corr = corr_with_target[corr_with_target.abs() < 0.05]\n",
    "\n",
    "filter_feat = corr_with_target[corr_with_target.abs() >= 0.05]\n",
    "# filter_feat.drop('loan_status', axis = 0)\n",
    "\n",
    "print('Low Corr. Feat. :\\n')\n",
    "print(low_corr)\n",
    "\n",
    "\n",
    "print('1st Stage Feat. :\\n')\n",
    "print(len(filter_feat), '\\n', filter_feat)"
   ]
  },
  {
   "cell_type": "code",
   "execution_count": 33,
   "id": "b3e2700d",
   "metadata": {
    "execution": {
     "iopub.execute_input": "2024-10-09T19:16:19.170758Z",
     "iopub.status.busy": "2024-10-09T19:16:19.170296Z",
     "iopub.status.idle": "2024-10-09T19:16:19.181488Z",
     "shell.execute_reply": "2024-10-09T19:16:19.180525Z"
    },
    "papermill": {
     "duration": 0.039793,
     "end_time": "2024-10-09T19:16:19.183801",
     "exception": false,
     "start_time": "2024-10-09T19:16:19.144008",
     "status": "completed"
    },
    "tags": []
   },
   "outputs": [],
   "source": [
    "def filter_corr_columns(df, target='target', th = 0.7):\n",
    "    corr_matrix = df.corr().abs()\n",
    "    \n",
    "    target_corr = corr_matrix[target].drop(labels = [target])\n",
    "    columns_to_drop = set()\n",
    "    \n",
    "    for i in tqdm(range(len(corr_matrix.columns[:-1]))):\n",
    "        for j in range(i+1, len(corr_matrix.columns[:-1])):\n",
    "            col1 = corr_matrix.columns[i]\n",
    "            col2 = corr_matrix.columns[j]\n",
    "            \n",
    "            if corr_matrix.loc[col1, col2] > th:\n",
    "                print(f\"Corr. : {corr_matrix.loc[col1, col2]}\")\n",
    "                if target_corr[col1] > target_corr[col2]:\n",
    "                    columns_to_drop.add(col2)\n",
    "                    \n",
    "                    print(f\"Drop Column: {col2} (Corr With {target}: {target_corr[col2]:.2f}),\\\n",
    "                    \\Keep Column: {col1} (Corr with {target}: {target_corr[col1]:.2f})\")\n",
    "                else:\n",
    "                    columns_to_drop.add(col1)\n",
    "                    print(f\"Drop Column: {col1} (Corr With {target}: {target_corr[col1]:.2f}),\\\n",
    "                    Keep Column: {col2} (Corr with {target}: {target_corr[col2]:.2f})\")\n",
    "                    \n",
    "    df_filtered = df.drop(columns = columns_to_drop)\n",
    "    return df_filtered\n",
    "                \n",
    "    "
   ]
  },
  {
   "cell_type": "code",
   "execution_count": 34,
   "id": "60fb604a",
   "metadata": {
    "execution": {
     "iopub.execute_input": "2024-10-09T19:16:19.235184Z",
     "iopub.status.busy": "2024-10-09T19:16:19.234695Z",
     "iopub.status.idle": "2024-10-09T19:16:19.406038Z",
     "shell.execute_reply": "2024-10-09T19:16:19.404516Z"
    },
    "papermill": {
     "duration": 0.200287,
     "end_time": "2024-10-09T19:16:19.408768",
     "exception": false,
     "start_time": "2024-10-09T19:16:19.208481",
     "status": "completed"
    },
    "tags": []
   },
   "outputs": [
    {
     "name": "stderr",
     "output_type": "stream",
     "text": [
      "100%|██████████| 28/28 [00:00<00:00, 2551.00it/s]"
     ]
    },
    {
     "name": "stdout",
     "output_type": "stream",
     "text": [
      "Corr. : 0.8742597354896693\n",
      "Drop Column: person_age (Corr With loan_status: 0.00),                    Keep Column: cb_person_cred_hist_length (Corr with loan_status: 0.00)\n",
      "Corr. : 0.9281219270339907\n",
      "Drop Column: age_income_interaction (Corr With loan_status: 0.15),                    \\Keep Column: person_income (Corr with loan_status: 0.17)\n",
      "Corr. : 0.9118178264160725\n",
      "Drop Column: loan_amnt (Corr With loan_status: 0.14),                    Keep Column: monthly_debt (Corr with loan_status: 0.25)\n",
      "Corr. : 0.9926347196813035\n",
      "Drop Column: risk_flag (Corr With loan_status: 0.18),                    Keep Column: cb_person_default_on_file_Y (Corr with loan_status: 0.19)\n",
      "Corr. : 0.8722474107535992\n",
      "Drop Column: loan_percent_income (Corr With loan_status: 0.38),                    Keep Column: dti_ratio (Corr with loan_status: 0.46)\n",
      "Corr. : 0.7161217337082184\n",
      "Drop Column: monthly_debt (Corr With loan_status: 0.25),                    Keep Column: dti_ratio (Corr with loan_status: 0.46)\n"
     ]
    },
    {
     "name": "stderr",
     "output_type": "stream",
     "text": [
      "\n"
     ]
    }
   ],
   "source": [
    "num_table = filter_corr_columns(combined_df, target='loan_status', th = 0.7)"
   ]
  },
  {
   "cell_type": "code",
   "execution_count": 35,
   "id": "3bc578e0",
   "metadata": {
    "execution": {
     "iopub.execute_input": "2024-10-09T19:16:19.461878Z",
     "iopub.status.busy": "2024-10-09T19:16:19.461434Z",
     "iopub.status.idle": "2024-10-09T19:16:19.472140Z",
     "shell.execute_reply": "2024-10-09T19:16:19.471014Z"
    },
    "papermill": {
     "duration": 0.040153,
     "end_time": "2024-10-09T19:16:19.474622",
     "exception": false,
     "start_time": "2024-10-09T19:16:19.434469",
     "status": "completed"
    },
    "tags": []
   },
   "outputs": [
    {
     "data": {
      "text/plain": [
       "22"
      ]
     },
     "execution_count": 35,
     "metadata": {},
     "output_type": "execute_result"
    }
   ],
   "source": [
    "num_table.drop('loan_status', axis = 1, inplace= True)\n",
    "len(num_table.columns)\n"
   ]
  },
  {
   "cell_type": "markdown",
   "id": "bde452aa",
   "metadata": {
    "papermill": {
     "duration": 0.025219,
     "end_time": "2024-10-09T19:16:19.525468",
     "exception": false,
     "start_time": "2024-10-09T19:16:19.500249",
     "status": "completed"
    },
    "tags": []
   },
   "source": [
    "## 3.4 VIF"
   ]
  },
  {
   "cell_type": "code",
   "execution_count": 36,
   "id": "9f5b1f95",
   "metadata": {
    "execution": {
     "iopub.execute_input": "2024-10-09T19:16:19.579076Z",
     "iopub.status.busy": "2024-10-09T19:16:19.578586Z",
     "iopub.status.idle": "2024-10-09T19:16:19.588988Z",
     "shell.execute_reply": "2024-10-09T19:16:19.587952Z"
    },
    "papermill": {
     "duration": 0.040231,
     "end_time": "2024-10-09T19:16:19.591539",
     "exception": false,
     "start_time": "2024-10-09T19:16:19.551308",
     "status": "completed"
    },
    "tags": []
   },
   "outputs": [],
   "source": [
    "from sklearn.linear_model import LinearRegression\n",
    "from joblib import Parallel, delayed\n",
    "\n",
    "def compute_vif_parallel(df):\n",
    "    def compute_vif_single(column):\n",
    "        x_columns = [i for i in df.columns if i != column]\n",
    "        lr_model = LinearRegression().fit(df[x_columns], df[column])\n",
    "        r2 = lr_model.score(df[x_columns], df[column])\n",
    "        \n",
    "        vif = 1/(1 - r2)\n",
    "        return {\"Variable\":column, \"VIF\": vif}\n",
    "    num_cores = -1\n",
    "    vif_results = Parallel(n_jobs = num_cores)(\n",
    "        delayed(compute_vif_single)(col) for col in df.columns\n",
    "    )\n",
    "    \n",
    "    return vif_results"
   ]
  },
  {
   "cell_type": "code",
   "execution_count": 37,
   "id": "68262b59",
   "metadata": {
    "execution": {
     "iopub.execute_input": "2024-10-09T19:16:19.644974Z",
     "iopub.status.busy": "2024-10-09T19:16:19.644524Z",
     "iopub.status.idle": "2024-10-09T19:16:23.592588Z",
     "shell.execute_reply": "2024-10-09T19:16:23.591164Z"
    },
    "papermill": {
     "duration": 3.978069,
     "end_time": "2024-10-09T19:16:23.595413",
     "exception": false,
     "start_time": "2024-10-09T19:16:19.617344",
     "status": "completed"
    },
    "tags": []
   },
   "outputs": [
    {
     "name": "stdout",
     "output_type": "stream",
     "text": [
      "Dropped:  loan_int_rate VIF 11.047577512031427\n",
      "21\n"
     ]
    }
   ],
   "source": [
    "while True:\n",
    "    temp = compute_vif_parallel(num_table)\n",
    "    vif_data_sorted = pd.DataFrame(temp)\n",
    "    vif_data_sorted.sort_values(by ='VIF', ascending= False, inplace=True)\n",
    "    \n",
    "    \n",
    "    if vif_data_sorted.iloc[0, 1] > 6:\n",
    "        print(\"Dropped: \", vif_data_sorted.iloc[0,0], \"VIF\", vif_data_sorted.iloc[0,1])\n",
    "        drop_feat = vif_data_sorted.iloc[0,0]\n",
    "        num_table.drop(drop_feat, axis = 1, inplace=True)\n",
    "        print(num_table.shape[1])\n",
    "    else:\n",
    "        break"
   ]
  },
  {
   "cell_type": "markdown",
   "id": "004a7ace",
   "metadata": {
    "papermill": {
     "duration": 0.025866,
     "end_time": "2024-10-09T19:16:23.647712",
     "exception": false,
     "start_time": "2024-10-09T19:16:23.621846",
     "status": "completed"
    },
    "tags": []
   },
   "source": [
    "## 3.5 Adjusting Test Set Accordingly"
   ]
  },
  {
   "cell_type": "code",
   "execution_count": 38,
   "id": "d22415ca",
   "metadata": {
    "execution": {
     "iopub.execute_input": "2024-10-09T19:16:23.700868Z",
     "iopub.status.busy": "2024-10-09T19:16:23.700406Z",
     "iopub.status.idle": "2024-10-09T19:16:23.709445Z",
     "shell.execute_reply": "2024-10-09T19:16:23.708346Z"
    },
    "papermill": {
     "duration": 0.039574,
     "end_time": "2024-10-09T19:16:23.712804",
     "exception": false,
     "start_time": "2024-10-09T19:16:23.673230",
     "status": "completed"
    },
    "tags": []
   },
   "outputs": [
    {
     "name": "stdout",
     "output_type": "stream",
     "text": [
      "21\n"
     ]
    },
    {
     "data": {
      "text/plain": [
       "Index(['person_income', 'cb_person_cred_hist_length', 'person_emp_length',\n",
       "       'loan_to_income', 'loan_to_emp_length_ratio', 'dti_ratio',\n",
       "       'person_home_ownership_OTHER', 'person_home_ownership_OWN',\n",
       "       'person_home_ownership_RENT', 'loan_intent_EDUCATION',\n",
       "       'loan_intent_HOMEIMPROVEMENT', 'loan_intent_MEDICAL',\n",
       "       'loan_intent_PERSONAL', 'loan_intent_VENTURE', 'loan_grade_B',\n",
       "       'loan_grade_C', 'loan_grade_D', 'loan_grade_E', 'loan_grade_F',\n",
       "       'loan_grade_G', 'cb_person_default_on_file_Y'],\n",
       "      dtype='object')"
      ]
     },
     "execution_count": 38,
     "metadata": {},
     "output_type": "execute_result"
    }
   ],
   "source": [
    "print(len(vif_data_sorted))\n",
    "\n",
    "num_table.columns"
   ]
  },
  {
   "cell_type": "code",
   "execution_count": 39,
   "id": "920cdd27",
   "metadata": {
    "execution": {
     "iopub.execute_input": "2024-10-09T19:16:23.767087Z",
     "iopub.status.busy": "2024-10-09T19:16:23.766598Z",
     "iopub.status.idle": "2024-10-09T19:16:23.794578Z",
     "shell.execute_reply": "2024-10-09T19:16:23.793300Z"
    },
    "papermill": {
     "duration": 0.058536,
     "end_time": "2024-10-09T19:16:23.797419",
     "exception": false,
     "start_time": "2024-10-09T19:16:23.738883",
     "status": "completed"
    },
    "tags": []
   },
   "outputs": [],
   "source": [
    "df_test = transform(df_test)"
   ]
  },
  {
   "cell_type": "code",
   "execution_count": 40,
   "id": "9dbfa3c5",
   "metadata": {
    "execution": {
     "iopub.execute_input": "2024-10-09T19:16:23.852373Z",
     "iopub.status.busy": "2024-10-09T19:16:23.851410Z",
     "iopub.status.idle": "2024-10-09T19:16:23.878366Z",
     "shell.execute_reply": "2024-10-09T19:16:23.877194Z"
    },
    "papermill": {
     "duration": 0.057206,
     "end_time": "2024-10-09T19:16:23.880784",
     "exception": false,
     "start_time": "2024-10-09T19:16:23.823578",
     "status": "completed"
    },
    "tags": []
   },
   "outputs": [
    {
     "name": "stdout",
     "output_type": "stream",
     "text": [
      "(39098, 13)\n"
     ]
    },
    {
     "data": {
      "text/html": [
       "<div>\n",
       "<style scoped>\n",
       "    .dataframe tbody tr th:only-of-type {\n",
       "        vertical-align: middle;\n",
       "    }\n",
       "\n",
       "    .dataframe tbody tr th {\n",
       "        vertical-align: top;\n",
       "    }\n",
       "\n",
       "    .dataframe thead th {\n",
       "        text-align: right;\n",
       "    }\n",
       "</style>\n",
       "<table border=\"1\" class=\"dataframe\">\n",
       "  <thead>\n",
       "    <tr style=\"text-align: right;\">\n",
       "      <th></th>\n",
       "      <th>person_age</th>\n",
       "      <th>person_income</th>\n",
       "      <th>loan_amnt</th>\n",
       "      <th>cb_person_cred_hist_length</th>\n",
       "      <th>age_income_interaction</th>\n",
       "      <th>risk_flag</th>\n",
       "      <th>person_emp_length</th>\n",
       "      <th>loan_int_rate</th>\n",
       "      <th>loan_percent_income</th>\n",
       "      <th>loan_to_income</th>\n",
       "      <th>loan_to_emp_length_ratio</th>\n",
       "      <th>monthly_debt</th>\n",
       "      <th>dti_ratio</th>\n",
       "    </tr>\n",
       "  </thead>\n",
       "  <tbody>\n",
       "    <tr>\n",
       "      <th>0</th>\n",
       "      <td>23</td>\n",
       "      <td>69000</td>\n",
       "      <td>25000</td>\n",
       "      <td>2</td>\n",
       "      <td>1587000</td>\n",
       "      <td>0</td>\n",
       "      <td>3.0</td>\n",
       "      <td>1576.0</td>\n",
       "      <td>36.0</td>\n",
       "      <td>0.002319</td>\n",
       "      <td>8064.516129</td>\n",
       "      <td>34916.666667</td>\n",
       "      <td>6.072464</td>\n",
       "    </tr>\n",
       "    <tr>\n",
       "      <th>1</th>\n",
       "      <td>26</td>\n",
       "      <td>96000</td>\n",
       "      <td>10000</td>\n",
       "      <td>4</td>\n",
       "      <td>2496000</td>\n",
       "      <td>1</td>\n",
       "      <td>6.0</td>\n",
       "      <td>1268.0</td>\n",
       "      <td>10.0</td>\n",
       "      <td>0.004167</td>\n",
       "      <td>1639.344262</td>\n",
       "      <td>11400.000000</td>\n",
       "      <td>1.425000</td>\n",
       "    </tr>\n",
       "    <tr>\n",
       "      <th>2</th>\n",
       "      <td>26</td>\n",
       "      <td>30000</td>\n",
       "      <td>4000</td>\n",
       "      <td>2</td>\n",
       "      <td>780000</td>\n",
       "      <td>1</td>\n",
       "      <td>5.0</td>\n",
       "      <td>1719.0</td>\n",
       "      <td>13.0</td>\n",
       "      <td>0.003333</td>\n",
       "      <td>784.313725</td>\n",
       "      <td>6063.333333</td>\n",
       "      <td>2.425333</td>\n",
       "    </tr>\n",
       "  </tbody>\n",
       "</table>\n",
       "</div>"
      ],
      "text/plain": [
       "   person_age  person_income  loan_amnt  cb_person_cred_hist_length  \\\n",
       "0          23          69000      25000                           2   \n",
       "1          26          96000      10000                           4   \n",
       "2          26          30000       4000                           2   \n",
       "\n",
       "   age_income_interaction  risk_flag  person_emp_length  loan_int_rate  \\\n",
       "0                 1587000          0                3.0         1576.0   \n",
       "1                 2496000          1                6.0         1268.0   \n",
       "2                  780000          1                5.0         1719.0   \n",
       "\n",
       "   loan_percent_income  loan_to_income  loan_to_emp_length_ratio  \\\n",
       "0                 36.0        0.002319               8064.516129   \n",
       "1                 10.0        0.004167               1639.344262   \n",
       "2                 13.0        0.003333                784.313725   \n",
       "\n",
       "   monthly_debt  dti_ratio  \n",
       "0  34916.666667   6.072464  \n",
       "1  11400.000000   1.425000  \n",
       "2   6063.333333   2.425333  "
      ]
     },
     "execution_count": 40,
     "metadata": {},
     "output_type": "execute_result"
    }
   ],
   "source": [
    "test_num_data = pd.concat([df_test[int_cols], df_test[float_cols]], axis = 1 )\n",
    "print(test_num_data.shape)\n",
    "test_num_data.head(3)"
   ]
  },
  {
   "cell_type": "code",
   "execution_count": 41,
   "id": "96f7b922",
   "metadata": {
    "execution": {
     "iopub.execute_input": "2024-10-09T19:16:23.935563Z",
     "iopub.status.busy": "2024-10-09T19:16:23.935117Z",
     "iopub.status.idle": "2024-10-09T19:16:23.981679Z",
     "shell.execute_reply": "2024-10-09T19:16:23.980548Z"
    },
    "papermill": {
     "duration": 0.077377,
     "end_time": "2024-10-09T19:16:23.984624",
     "exception": false,
     "start_time": "2024-10-09T19:16:23.907247",
     "status": "completed"
    },
    "tags": []
   },
   "outputs": [
    {
     "name": "stdout",
     "output_type": "stream",
     "text": [
      "(39098, 19)\n"
     ]
    },
    {
     "data": {
      "text/html": [
       "<div>\n",
       "<style scoped>\n",
       "    .dataframe tbody tr th:only-of-type {\n",
       "        vertical-align: middle;\n",
       "    }\n",
       "\n",
       "    .dataframe tbody tr th {\n",
       "        vertical-align: top;\n",
       "    }\n",
       "\n",
       "    .dataframe thead th {\n",
       "        text-align: right;\n",
       "    }\n",
       "</style>\n",
       "<table border=\"1\" class=\"dataframe\">\n",
       "  <thead>\n",
       "    <tr style=\"text-align: right;\">\n",
       "      <th></th>\n",
       "      <th>person_home_ownership_MORTGAGE</th>\n",
       "      <th>person_home_ownership_OTHER</th>\n",
       "      <th>person_home_ownership_OWN</th>\n",
       "      <th>person_home_ownership_RENT</th>\n",
       "      <th>loan_intent_DEBTCONSOLIDATION</th>\n",
       "      <th>loan_intent_EDUCATION</th>\n",
       "      <th>loan_intent_HOMEIMPROVEMENT</th>\n",
       "      <th>loan_intent_MEDICAL</th>\n",
       "      <th>loan_intent_PERSONAL</th>\n",
       "      <th>loan_intent_VENTURE</th>\n",
       "      <th>loan_grade_A</th>\n",
       "      <th>loan_grade_B</th>\n",
       "      <th>loan_grade_C</th>\n",
       "      <th>loan_grade_D</th>\n",
       "      <th>loan_grade_E</th>\n",
       "      <th>loan_grade_F</th>\n",
       "      <th>loan_grade_G</th>\n",
       "      <th>cb_person_default_on_file_N</th>\n",
       "      <th>cb_person_default_on_file_Y</th>\n",
       "    </tr>\n",
       "  </thead>\n",
       "  <tbody>\n",
       "    <tr>\n",
       "      <th>0</th>\n",
       "      <td>0</td>\n",
       "      <td>0</td>\n",
       "      <td>0</td>\n",
       "      <td>1</td>\n",
       "      <td>0</td>\n",
       "      <td>0</td>\n",
       "      <td>1</td>\n",
       "      <td>0</td>\n",
       "      <td>0</td>\n",
       "      <td>0</td>\n",
       "      <td>0</td>\n",
       "      <td>0</td>\n",
       "      <td>0</td>\n",
       "      <td>0</td>\n",
       "      <td>0</td>\n",
       "      <td>1</td>\n",
       "      <td>0</td>\n",
       "      <td>1</td>\n",
       "      <td>0</td>\n",
       "    </tr>\n",
       "    <tr>\n",
       "      <th>1</th>\n",
       "      <td>1</td>\n",
       "      <td>0</td>\n",
       "      <td>0</td>\n",
       "      <td>0</td>\n",
       "      <td>0</td>\n",
       "      <td>0</td>\n",
       "      <td>0</td>\n",
       "      <td>0</td>\n",
       "      <td>1</td>\n",
       "      <td>0</td>\n",
       "      <td>0</td>\n",
       "      <td>0</td>\n",
       "      <td>1</td>\n",
       "      <td>0</td>\n",
       "      <td>0</td>\n",
       "      <td>0</td>\n",
       "      <td>0</td>\n",
       "      <td>0</td>\n",
       "      <td>1</td>\n",
       "    </tr>\n",
       "    <tr>\n",
       "      <th>2</th>\n",
       "      <td>0</td>\n",
       "      <td>0</td>\n",
       "      <td>0</td>\n",
       "      <td>1</td>\n",
       "      <td>0</td>\n",
       "      <td>0</td>\n",
       "      <td>0</td>\n",
       "      <td>0</td>\n",
       "      <td>0</td>\n",
       "      <td>1</td>\n",
       "      <td>0</td>\n",
       "      <td>0</td>\n",
       "      <td>0</td>\n",
       "      <td>0</td>\n",
       "      <td>1</td>\n",
       "      <td>0</td>\n",
       "      <td>0</td>\n",
       "      <td>0</td>\n",
       "      <td>1</td>\n",
       "    </tr>\n",
       "  </tbody>\n",
       "</table>\n",
       "</div>"
      ],
      "text/plain": [
       "   person_home_ownership_MORTGAGE  person_home_ownership_OTHER  \\\n",
       "0                               0                            0   \n",
       "1                               1                            0   \n",
       "2                               0                            0   \n",
       "\n",
       "   person_home_ownership_OWN  person_home_ownership_RENT  \\\n",
       "0                          0                           1   \n",
       "1                          0                           0   \n",
       "2                          0                           1   \n",
       "\n",
       "   loan_intent_DEBTCONSOLIDATION  loan_intent_EDUCATION  \\\n",
       "0                              0                      0   \n",
       "1                              0                      0   \n",
       "2                              0                      0   \n",
       "\n",
       "   loan_intent_HOMEIMPROVEMENT  loan_intent_MEDICAL  loan_intent_PERSONAL  \\\n",
       "0                            1                    0                     0   \n",
       "1                            0                    0                     1   \n",
       "2                            0                    0                     0   \n",
       "\n",
       "   loan_intent_VENTURE  loan_grade_A  loan_grade_B  loan_grade_C  \\\n",
       "0                    0             0             0             0   \n",
       "1                    0             0             0             1   \n",
       "2                    1             0             0             0   \n",
       "\n",
       "   loan_grade_D  loan_grade_E  loan_grade_F  loan_grade_G  \\\n",
       "0             0             0             1             0   \n",
       "1             0             0             0             0   \n",
       "2             0             1             0             0   \n",
       "\n",
       "   cb_person_default_on_file_N  cb_person_default_on_file_Y  \n",
       "0                            1                            0  \n",
       "1                            0                            1  \n",
       "2                            0                            1  "
      ]
     },
     "execution_count": 41,
     "metadata": {},
     "output_type": "execute_result"
    }
   ],
   "source": [
    "test_cat_data = pd.get_dummies(\n",
    "            df_test[obj_cols],\n",
    "#             drop_first = True\n",
    ")\n",
    "test_cat_data = test_cat_data.astype(int)\n",
    "print(test_cat_data.shape)\n",
    "test_cat_data.head(3)"
   ]
  },
  {
   "cell_type": "code",
   "execution_count": 42,
   "id": "3b89c2ae",
   "metadata": {
    "execution": {
     "iopub.execute_input": "2024-10-09T19:16:24.040355Z",
     "iopub.status.busy": "2024-10-09T19:16:24.039902Z",
     "iopub.status.idle": "2024-10-09T19:16:24.077988Z",
     "shell.execute_reply": "2024-10-09T19:16:24.076342Z"
    },
    "papermill": {
     "duration": 0.069801,
     "end_time": "2024-10-09T19:16:24.081409",
     "exception": false,
     "start_time": "2024-10-09T19:16:24.011608",
     "status": "completed"
    },
    "tags": []
   },
   "outputs": [
    {
     "name": "stdout",
     "output_type": "stream",
     "text": [
      "(39098, 32)\n"
     ]
    },
    {
     "data": {
      "text/html": [
       "<div>\n",
       "<style scoped>\n",
       "    .dataframe tbody tr th:only-of-type {\n",
       "        vertical-align: middle;\n",
       "    }\n",
       "\n",
       "    .dataframe tbody tr th {\n",
       "        vertical-align: top;\n",
       "    }\n",
       "\n",
       "    .dataframe thead th {\n",
       "        text-align: right;\n",
       "    }\n",
       "</style>\n",
       "<table border=\"1\" class=\"dataframe\">\n",
       "  <thead>\n",
       "    <tr style=\"text-align: right;\">\n",
       "      <th></th>\n",
       "      <th>person_home_ownership_MORTGAGE</th>\n",
       "      <th>person_home_ownership_OTHER</th>\n",
       "      <th>person_home_ownership_OWN</th>\n",
       "      <th>person_home_ownership_RENT</th>\n",
       "      <th>loan_intent_DEBTCONSOLIDATION</th>\n",
       "      <th>loan_intent_EDUCATION</th>\n",
       "      <th>loan_intent_HOMEIMPROVEMENT</th>\n",
       "      <th>loan_intent_MEDICAL</th>\n",
       "      <th>loan_intent_PERSONAL</th>\n",
       "      <th>loan_intent_VENTURE</th>\n",
       "      <th>...</th>\n",
       "      <th>cb_person_cred_hist_length</th>\n",
       "      <th>age_income_interaction</th>\n",
       "      <th>risk_flag</th>\n",
       "      <th>person_emp_length</th>\n",
       "      <th>loan_int_rate</th>\n",
       "      <th>loan_percent_income</th>\n",
       "      <th>loan_to_income</th>\n",
       "      <th>loan_to_emp_length_ratio</th>\n",
       "      <th>monthly_debt</th>\n",
       "      <th>dti_ratio</th>\n",
       "    </tr>\n",
       "  </thead>\n",
       "  <tbody>\n",
       "    <tr>\n",
       "      <th>0</th>\n",
       "      <td>0</td>\n",
       "      <td>0</td>\n",
       "      <td>0</td>\n",
       "      <td>1</td>\n",
       "      <td>0</td>\n",
       "      <td>0</td>\n",
       "      <td>1</td>\n",
       "      <td>0</td>\n",
       "      <td>0</td>\n",
       "      <td>0</td>\n",
       "      <td>...</td>\n",
       "      <td>2</td>\n",
       "      <td>1587000</td>\n",
       "      <td>0</td>\n",
       "      <td>3.0</td>\n",
       "      <td>1576.0</td>\n",
       "      <td>36.0</td>\n",
       "      <td>0.002319</td>\n",
       "      <td>8064.516129</td>\n",
       "      <td>34916.666667</td>\n",
       "      <td>6.072464</td>\n",
       "    </tr>\n",
       "    <tr>\n",
       "      <th>1</th>\n",
       "      <td>1</td>\n",
       "      <td>0</td>\n",
       "      <td>0</td>\n",
       "      <td>0</td>\n",
       "      <td>0</td>\n",
       "      <td>0</td>\n",
       "      <td>0</td>\n",
       "      <td>0</td>\n",
       "      <td>1</td>\n",
       "      <td>0</td>\n",
       "      <td>...</td>\n",
       "      <td>4</td>\n",
       "      <td>2496000</td>\n",
       "      <td>1</td>\n",
       "      <td>6.0</td>\n",
       "      <td>1268.0</td>\n",
       "      <td>10.0</td>\n",
       "      <td>0.004167</td>\n",
       "      <td>1639.344262</td>\n",
       "      <td>11400.000000</td>\n",
       "      <td>1.425000</td>\n",
       "    </tr>\n",
       "    <tr>\n",
       "      <th>2</th>\n",
       "      <td>0</td>\n",
       "      <td>0</td>\n",
       "      <td>0</td>\n",
       "      <td>1</td>\n",
       "      <td>0</td>\n",
       "      <td>0</td>\n",
       "      <td>0</td>\n",
       "      <td>0</td>\n",
       "      <td>0</td>\n",
       "      <td>1</td>\n",
       "      <td>...</td>\n",
       "      <td>2</td>\n",
       "      <td>780000</td>\n",
       "      <td>1</td>\n",
       "      <td>5.0</td>\n",
       "      <td>1719.0</td>\n",
       "      <td>13.0</td>\n",
       "      <td>0.003333</td>\n",
       "      <td>784.313725</td>\n",
       "      <td>6063.333333</td>\n",
       "      <td>2.425333</td>\n",
       "    </tr>\n",
       "  </tbody>\n",
       "</table>\n",
       "<p>3 rows × 32 columns</p>\n",
       "</div>"
      ],
      "text/plain": [
       "   person_home_ownership_MORTGAGE  person_home_ownership_OTHER  \\\n",
       "0                               0                            0   \n",
       "1                               1                            0   \n",
       "2                               0                            0   \n",
       "\n",
       "   person_home_ownership_OWN  person_home_ownership_RENT  \\\n",
       "0                          0                           1   \n",
       "1                          0                           0   \n",
       "2                          0                           1   \n",
       "\n",
       "   loan_intent_DEBTCONSOLIDATION  loan_intent_EDUCATION  \\\n",
       "0                              0                      0   \n",
       "1                              0                      0   \n",
       "2                              0                      0   \n",
       "\n",
       "   loan_intent_HOMEIMPROVEMENT  loan_intent_MEDICAL  loan_intent_PERSONAL  \\\n",
       "0                            1                    0                     0   \n",
       "1                            0                    0                     1   \n",
       "2                            0                    0                     0   \n",
       "\n",
       "   loan_intent_VENTURE  ...  cb_person_cred_hist_length  \\\n",
       "0                    0  ...                           2   \n",
       "1                    0  ...                           4   \n",
       "2                    1  ...                           2   \n",
       "\n",
       "   age_income_interaction  risk_flag  person_emp_length  loan_int_rate  \\\n",
       "0                 1587000          0                3.0         1576.0   \n",
       "1                 2496000          1                6.0         1268.0   \n",
       "2                  780000          1                5.0         1719.0   \n",
       "\n",
       "   loan_percent_income  loan_to_income  loan_to_emp_length_ratio  \\\n",
       "0                 36.0        0.002319               8064.516129   \n",
       "1                 10.0        0.004167               1639.344262   \n",
       "2                 13.0        0.003333                784.313725   \n",
       "\n",
       "   monthly_debt  dti_ratio  \n",
       "0  34916.666667   6.072464  \n",
       "1  11400.000000   1.425000  \n",
       "2   6063.333333   2.425333  \n",
       "\n",
       "[3 rows x 32 columns]"
      ]
     },
     "execution_count": 42,
     "metadata": {},
     "output_type": "execute_result"
    }
   ],
   "source": [
    "test_combined_df = pd.concat([test_cat_data, test_num_data], axis=1)\n",
    "print(test_combined_df.shape)\n",
    "test_combined_df.head(3)"
   ]
  },
  {
   "cell_type": "code",
   "execution_count": 43,
   "id": "ccff5f6e",
   "metadata": {
    "execution": {
     "iopub.execute_input": "2024-10-09T19:16:24.138195Z",
     "iopub.status.busy": "2024-10-09T19:16:24.137726Z",
     "iopub.status.idle": "2024-10-09T19:16:24.162547Z",
     "shell.execute_reply": "2024-10-09T19:16:24.161379Z"
    },
    "papermill": {
     "duration": 0.056115,
     "end_time": "2024-10-09T19:16:24.165181",
     "exception": false,
     "start_time": "2024-10-09T19:16:24.109066",
     "status": "completed"
    },
    "tags": []
   },
   "outputs": [
    {
     "name": "stdout",
     "output_type": "stream",
     "text": [
      "(39098, 21)\n"
     ]
    },
    {
     "data": {
      "text/html": [
       "<div>\n",
       "<style scoped>\n",
       "    .dataframe tbody tr th:only-of-type {\n",
       "        vertical-align: middle;\n",
       "    }\n",
       "\n",
       "    .dataframe tbody tr th {\n",
       "        vertical-align: top;\n",
       "    }\n",
       "\n",
       "    .dataframe thead th {\n",
       "        text-align: right;\n",
       "    }\n",
       "</style>\n",
       "<table border=\"1\" class=\"dataframe\">\n",
       "  <thead>\n",
       "    <tr style=\"text-align: right;\">\n",
       "      <th></th>\n",
       "      <th>person_income</th>\n",
       "      <th>cb_person_cred_hist_length</th>\n",
       "      <th>person_emp_length</th>\n",
       "      <th>loan_to_income</th>\n",
       "      <th>loan_to_emp_length_ratio</th>\n",
       "      <th>dti_ratio</th>\n",
       "      <th>person_home_ownership_OTHER</th>\n",
       "      <th>person_home_ownership_OWN</th>\n",
       "      <th>person_home_ownership_RENT</th>\n",
       "      <th>loan_intent_EDUCATION</th>\n",
       "      <th>...</th>\n",
       "      <th>loan_intent_MEDICAL</th>\n",
       "      <th>loan_intent_PERSONAL</th>\n",
       "      <th>loan_intent_VENTURE</th>\n",
       "      <th>loan_grade_B</th>\n",
       "      <th>loan_grade_C</th>\n",
       "      <th>loan_grade_D</th>\n",
       "      <th>loan_grade_E</th>\n",
       "      <th>loan_grade_F</th>\n",
       "      <th>loan_grade_G</th>\n",
       "      <th>cb_person_default_on_file_Y</th>\n",
       "    </tr>\n",
       "  </thead>\n",
       "  <tbody>\n",
       "    <tr>\n",
       "      <th>0</th>\n",
       "      <td>69000</td>\n",
       "      <td>2</td>\n",
       "      <td>3.0</td>\n",
       "      <td>0.002319</td>\n",
       "      <td>8064.516129</td>\n",
       "      <td>6.072464</td>\n",
       "      <td>0</td>\n",
       "      <td>0</td>\n",
       "      <td>1</td>\n",
       "      <td>0</td>\n",
       "      <td>...</td>\n",
       "      <td>0</td>\n",
       "      <td>0</td>\n",
       "      <td>0</td>\n",
       "      <td>0</td>\n",
       "      <td>0</td>\n",
       "      <td>0</td>\n",
       "      <td>0</td>\n",
       "      <td>1</td>\n",
       "      <td>0</td>\n",
       "      <td>0</td>\n",
       "    </tr>\n",
       "    <tr>\n",
       "      <th>1</th>\n",
       "      <td>96000</td>\n",
       "      <td>4</td>\n",
       "      <td>6.0</td>\n",
       "      <td>0.004167</td>\n",
       "      <td>1639.344262</td>\n",
       "      <td>1.425000</td>\n",
       "      <td>0</td>\n",
       "      <td>0</td>\n",
       "      <td>0</td>\n",
       "      <td>0</td>\n",
       "      <td>...</td>\n",
       "      <td>0</td>\n",
       "      <td>1</td>\n",
       "      <td>0</td>\n",
       "      <td>0</td>\n",
       "      <td>1</td>\n",
       "      <td>0</td>\n",
       "      <td>0</td>\n",
       "      <td>0</td>\n",
       "      <td>0</td>\n",
       "      <td>1</td>\n",
       "    </tr>\n",
       "    <tr>\n",
       "      <th>2</th>\n",
       "      <td>30000</td>\n",
       "      <td>2</td>\n",
       "      <td>5.0</td>\n",
       "      <td>0.003333</td>\n",
       "      <td>784.313725</td>\n",
       "      <td>2.425333</td>\n",
       "      <td>0</td>\n",
       "      <td>0</td>\n",
       "      <td>1</td>\n",
       "      <td>0</td>\n",
       "      <td>...</td>\n",
       "      <td>0</td>\n",
       "      <td>0</td>\n",
       "      <td>1</td>\n",
       "      <td>0</td>\n",
       "      <td>0</td>\n",
       "      <td>0</td>\n",
       "      <td>1</td>\n",
       "      <td>0</td>\n",
       "      <td>0</td>\n",
       "      <td>1</td>\n",
       "    </tr>\n",
       "  </tbody>\n",
       "</table>\n",
       "<p>3 rows × 21 columns</p>\n",
       "</div>"
      ],
      "text/plain": [
       "   person_income  cb_person_cred_hist_length  person_emp_length  \\\n",
       "0          69000                           2                3.0   \n",
       "1          96000                           4                6.0   \n",
       "2          30000                           2                5.0   \n",
       "\n",
       "   loan_to_income  loan_to_emp_length_ratio  dti_ratio  \\\n",
       "0        0.002319               8064.516129   6.072464   \n",
       "1        0.004167               1639.344262   1.425000   \n",
       "2        0.003333                784.313725   2.425333   \n",
       "\n",
       "   person_home_ownership_OTHER  person_home_ownership_OWN  \\\n",
       "0                            0                          0   \n",
       "1                            0                          0   \n",
       "2                            0                          0   \n",
       "\n",
       "   person_home_ownership_RENT  loan_intent_EDUCATION  ...  \\\n",
       "0                           1                      0  ...   \n",
       "1                           0                      0  ...   \n",
       "2                           1                      0  ...   \n",
       "\n",
       "   loan_intent_MEDICAL  loan_intent_PERSONAL  loan_intent_VENTURE  \\\n",
       "0                    0                     0                    0   \n",
       "1                    0                     1                    0   \n",
       "2                    0                     0                    1   \n",
       "\n",
       "   loan_grade_B  loan_grade_C  loan_grade_D  loan_grade_E  loan_grade_F  \\\n",
       "0             0             0             0             0             1   \n",
       "1             0             1             0             0             0   \n",
       "2             0             0             0             1             0   \n",
       "\n",
       "   loan_grade_G  cb_person_default_on_file_Y  \n",
       "0             0                            0  \n",
       "1             0                            1  \n",
       "2             0                            1  \n",
       "\n",
       "[3 rows x 21 columns]"
      ]
     },
     "execution_count": 43,
     "metadata": {},
     "output_type": "execute_result"
    }
   ],
   "source": [
    "final_test = test_combined_df[num_table.columns]\n",
    "print(final_test.shape)\n",
    "final_test.head(3)"
   ]
  },
  {
   "cell_type": "markdown",
   "id": "3104f1c8",
   "metadata": {
    "papermill": {
     "duration": 0.028365,
     "end_time": "2024-10-09T19:16:24.222713",
     "exception": false,
     "start_time": "2024-10-09T19:16:24.194348",
     "status": "completed"
    },
    "tags": []
   },
   "source": [
    "# 4. Model Building"
   ]
  },
  {
   "cell_type": "code",
   "execution_count": 44,
   "id": "b187d717",
   "metadata": {
    "execution": {
     "iopub.execute_input": "2024-10-09T19:16:24.279929Z",
     "iopub.status.busy": "2024-10-09T19:16:24.279485Z",
     "iopub.status.idle": "2024-10-09T19:16:24.285169Z",
     "shell.execute_reply": "2024-10-09T19:16:24.283987Z"
    },
    "papermill": {
     "duration": 0.037316,
     "end_time": "2024-10-09T19:16:24.287730",
     "exception": false,
     "start_time": "2024-10-09T19:16:24.250414",
     "status": "completed"
    },
    "tags": []
   },
   "outputs": [],
   "source": [
    "scaled_train_data = num_table\n",
    "scaled_test_data = final_test\n",
    "y = target_df['loan_status']"
   ]
  },
  {
   "cell_type": "code",
   "execution_count": 45,
   "id": "808f6863",
   "metadata": {
    "execution": {
     "iopub.execute_input": "2024-10-09T19:16:24.345600Z",
     "iopub.status.busy": "2024-10-09T19:16:24.345152Z",
     "iopub.status.idle": "2024-10-09T19:16:36.799166Z",
     "shell.execute_reply": "2024-10-09T19:16:36.797749Z"
    },
    "papermill": {
     "duration": 12.48591,
     "end_time": "2024-10-09T19:16:36.801868",
     "exception": false,
     "start_time": "2024-10-09T19:16:24.315958",
     "status": "completed"
    },
    "tags": []
   },
   "outputs": [
    {
     "name": "stdout",
     "output_type": "stream",
     "text": [
      "[0]\tvalidation_0-auc:0.92635\tvalidation_1-auc:0.90812\n"
     ]
    },
    {
     "name": "stderr",
     "output_type": "stream",
     "text": [
      "/opt/conda/lib/python3.10/site-packages/xgboost/sklearn.py:889: UserWarning: `early_stopping_rounds` in `fit` method is deprecated for better compatibility with scikit-learn, use `early_stopping_rounds` in constructor or`set_params` instead.\n",
      "  warnings.warn(\n"
     ]
    },
    {
     "name": "stdout",
     "output_type": "stream",
     "text": [
      "[100]\tvalidation_0-auc:0.98546\tvalidation_1-auc:0.94668\n",
      "[115]\tvalidation_0-auc:0.98689\tvalidation_1-auc:0.94714\n",
      "[0]\tvalidation_0-auc:0.92663\tvalidation_1-auc:0.91455\n"
     ]
    },
    {
     "name": "stderr",
     "output_type": "stream",
     "text": [
      "/opt/conda/lib/python3.10/site-packages/xgboost/sklearn.py:889: UserWarning: `early_stopping_rounds` in `fit` method is deprecated for better compatibility with scikit-learn, use `early_stopping_rounds` in constructor or`set_params` instead.\n",
      "  warnings.warn(\n"
     ]
    },
    {
     "name": "stdout",
     "output_type": "stream",
     "text": [
      "[100]\tvalidation_0-auc:0.98448\tvalidation_1-auc:0.94900\n",
      "[115]\tvalidation_0-auc:0.98609\tvalidation_1-auc:0.94913\n",
      "[0]\tvalidation_0-auc:0.92627\tvalidation_1-auc:0.91569\n"
     ]
    },
    {
     "name": "stderr",
     "output_type": "stream",
     "text": [
      "/opt/conda/lib/python3.10/site-packages/xgboost/sklearn.py:889: UserWarning: `early_stopping_rounds` in `fit` method is deprecated for better compatibility with scikit-learn, use `early_stopping_rounds` in constructor or`set_params` instead.\n",
      "  warnings.warn(\n"
     ]
    },
    {
     "name": "stdout",
     "output_type": "stream",
     "text": [
      "[100]\tvalidation_0-auc:0.98612\tvalidation_1-auc:0.94861\n",
      "[113]\tvalidation_0-auc:0.98776\tvalidation_1-auc:0.94863\n",
      "[0]\tvalidation_0-auc:0.92731\tvalidation_1-auc:0.91846\n"
     ]
    },
    {
     "name": "stderr",
     "output_type": "stream",
     "text": [
      "/opt/conda/lib/python3.10/site-packages/xgboost/sklearn.py:889: UserWarning: `early_stopping_rounds` in `fit` method is deprecated for better compatibility with scikit-learn, use `early_stopping_rounds` in constructor or`set_params` instead.\n",
      "  warnings.warn(\n"
     ]
    },
    {
     "name": "stdout",
     "output_type": "stream",
     "text": [
      "[89]\tvalidation_0-auc:0.98215\tvalidation_1-auc:0.94986\n",
      "[0]\tvalidation_0-auc:0.92722\tvalidation_1-auc:0.91286\n"
     ]
    },
    {
     "name": "stderr",
     "output_type": "stream",
     "text": [
      "/opt/conda/lib/python3.10/site-packages/xgboost/sklearn.py:889: UserWarning: `early_stopping_rounds` in `fit` method is deprecated for better compatibility with scikit-learn, use `early_stopping_rounds` in constructor or`set_params` instead.\n",
      "  warnings.warn(\n"
     ]
    },
    {
     "name": "stdout",
     "output_type": "stream",
     "text": [
      "[100]\tvalidation_0-auc:0.98523\tvalidation_1-auc:0.94601\n",
      "[165]\tvalidation_0-auc:0.99148\tvalidation_1-auc:0.94746\n",
      "Overall AUC (XGBClassifier): 0.9481492892532858\n"
     ]
    }
   ],
   "source": [
    "xgb_params = {\n",
    "    'n_estimators': 600,\n",
    "    'max_depth': 10,\n",
    "    'learning_rate': 0.06,\n",
    "    'random_state': 99,\n",
    "    \n",
    "    'eval_metric': 'auc'\n",
    "}\n",
    "\n",
    "n_splits = 5\n",
    "kf = KFold(n_splits=n_splits, shuffle=True, random_state=99)\n",
    "\n",
    "xgb_predictions = np.zeros(len(scaled_train_data))\n",
    "xgb_true_labels = np.zeros(len(scaled_train_data))\n",
    "xgb_test_predictions = np.zeros(len(scaled_test_data))\n",
    "\n",
    "for fold, (train_idx, val_idx) in enumerate(kf.split(scaled_train_data, y)):\n",
    "    X_train, X_val = scaled_train_data.iloc[train_idx], scaled_train_data.iloc[val_idx]\n",
    "    y_train, y_val = y.iloc[train_idx], y.iloc[val_idx]\n",
    "\n",
    "    xgb_model = XGBClassifier(**xgb_params)\n",
    "\n",
    "    xgb_model.fit(X_train, y_train,\n",
    "                  eval_set=[(X_train, y_train), (X_val, y_val)],\n",
    "                  early_stopping_rounds=10,\n",
    "                  verbose=100)\n",
    "    xgb_fold_preds = xgb_model.predict_proba(X_val)[:, 1] \n",
    "    xgb_fold_test_preds = xgb_model.predict_proba(scaled_test_data)[:, 1]\n",
    "    xgb_predictions[val_idx] = xgb_fold_preds\n",
    "    xgb_true_labels[val_idx] = y_val\n",
    "    xgb_test_predictions += xgb_fold_test_preds / n_splits\n",
    "\n",
    "overall_auc_xgb = roc_auc_score(xgb_true_labels, xgb_predictions)\n",
    "print(\"Overall AUC (XGBClassifier):\", overall_auc_xgb)"
   ]
  },
  {
   "cell_type": "markdown",
   "id": "42a094d9",
   "metadata": {
    "papermill": {
     "duration": 0.029731,
     "end_time": "2024-10-09T19:16:36.862156",
     "exception": false,
     "start_time": "2024-10-09T19:16:36.832425",
     "status": "completed"
    },
    "tags": []
   },
   "source": [
    "# 5. Tune Thresholds"
   ]
  },
  {
   "cell_type": "code",
   "execution_count": 46,
   "id": "e17e551d",
   "metadata": {
    "execution": {
     "iopub.execute_input": "2024-10-09T19:16:36.923422Z",
     "iopub.status.busy": "2024-10-09T19:16:36.922931Z",
     "iopub.status.idle": "2024-10-09T19:16:36.944219Z",
     "shell.execute_reply": "2024-10-09T19:16:36.942876Z"
    },
    "papermill": {
     "duration": 0.055194,
     "end_time": "2024-10-09T19:16:36.947037",
     "exception": false,
     "start_time": "2024-10-09T19:16:36.891843",
     "status": "completed"
    },
    "tags": []
   },
   "outputs": [
    {
     "name": "stdout",
     "output_type": "stream",
     "text": [
      "0.1275428980588913\n"
     ]
    }
   ],
   "source": [
    "from sklearn.metrics import roc_curve, auc\n",
    "fpr_xgb, tpr_xgb, thresholds = roc_curve(xgb_true_labels, xgb_predictions)\n",
    "roc_auc_xgb = auc(fpr_xgb, tpr_xgb)\n",
    "\n",
    "\n",
    "j_scores = tpr_xgb - fpr_xgb\n",
    "j_index = np.argmax(j_scores)\n",
    "best_threshold = thresholds[j_index]\n",
    "print(best_threshold)"
   ]
  },
  {
   "cell_type": "code",
   "execution_count": 47,
   "id": "8c0abe1b",
   "metadata": {
    "execution": {
     "iopub.execute_input": "2024-10-09T19:16:37.010864Z",
     "iopub.status.busy": "2024-10-09T19:16:37.010439Z",
     "iopub.status.idle": "2024-10-09T19:16:37.368404Z",
     "shell.execute_reply": "2024-10-09T19:16:37.367007Z"
    },
    "papermill": {
     "duration": 0.394028,
     "end_time": "2024-10-09T19:16:37.371297",
     "exception": false,
     "start_time": "2024-10-09T19:16:36.977269",
     "status": "completed"
    },
    "tags": []
   },
   "outputs": [
    {
     "data": {
      "image/png": "[encoded data removed]",
      "text/plain": [
       "<Figure size 1000x600 with 1 Axes>"
      ]
     },
     "metadata": {},
     "output_type": "display_data"
    }
   ],
   "source": [
    "\n",
    "plt.figure(figsize=(10, 6))\n",
    "\n",
    "plt.plot(fpr_xgb, tpr_xgb, color='blue', lw=2, label=f'xGBoost ROC Curve (AUC = {roc_auc_xgb:.4f})')\n",
    "plt.axvline(x=fpr_xgb[j_index], color='green', linestyle=':', lw=2, label=f'Best Threshold = {best_threshold:.4f}')\n",
    "\n",
    "plt.plot([0, 1], [0, 1], color='red', linestyle='--')  \n",
    "plt.xlim([0.0, 1.0])\n",
    "plt.ylim([0.0, 1.05])\n",
    "plt.xlabel('False Positive Rate')\n",
    "plt.ylabel('True Positive Rate')\n",
    "plt.title('Receiver Operating Characteristic (ROC) Curves')\n",
    "plt.legend(loc='lower right')\n",
    "plt.grid(True)\n",
    "plt.show()"
   ]
  },
  {
   "cell_type": "markdown",
   "id": "45a3df44",
   "metadata": {
    "papermill": {
     "duration": 0.030346,
     "end_time": "2024-10-09T19:16:37.432830",
     "exception": false,
     "start_time": "2024-10-09T19:16:37.402484",
     "status": "completed"
    },
    "tags": []
   },
   "source": [
    "# 99. Submission"
   ]
  },
  {
   "cell_type": "code",
   "execution_count": 48,
   "id": "696694bb",
   "metadata": {
    "execution": {
     "iopub.execute_input": "2024-10-09T19:16:37.496254Z",
     "iopub.status.busy": "2024-10-09T19:16:37.495736Z",
     "iopub.status.idle": "2024-10-09T19:16:37.537557Z",
     "shell.execute_reply": "2024-10-09T19:16:37.536393Z"
    },
    "papermill": {
     "duration": 0.076377,
     "end_time": "2024-10-09T19:16:37.540066",
     "exception": false,
     "start_time": "2024-10-09T19:16:37.463689",
     "status": "completed"
    },
    "tags": []
   },
   "outputs": [
    {
     "data": {
      "text/html": [
       "<div>\n",
       "<style scoped>\n",
       "    .dataframe tbody tr th:only-of-type {\n",
       "        vertical-align: middle;\n",
       "    }\n",
       "\n",
       "    .dataframe tbody tr th {\n",
       "        vertical-align: top;\n",
       "    }\n",
       "\n",
       "    .dataframe thead th {\n",
       "        text-align: right;\n",
       "    }\n",
       "</style>\n",
       "<table border=\"1\" class=\"dataframe\">\n",
       "  <thead>\n",
       "    <tr style=\"text-align: right;\">\n",
       "      <th></th>\n",
       "      <th>id</th>\n",
       "      <th>loan_status</th>\n",
       "    </tr>\n",
       "  </thead>\n",
       "  <tbody>\n",
       "    <tr>\n",
       "      <th>0</th>\n",
       "      <td>58645</td>\n",
       "      <td>1</td>\n",
       "    </tr>\n",
       "    <tr>\n",
       "      <th>1</th>\n",
       "      <td>58646</td>\n",
       "      <td>0</td>\n",
       "    </tr>\n",
       "    <tr>\n",
       "      <th>2</th>\n",
       "      <td>58647</td>\n",
       "      <td>1</td>\n",
       "    </tr>\n",
       "    <tr>\n",
       "      <th>3</th>\n",
       "      <td>58648</td>\n",
       "      <td>0</td>\n",
       "    </tr>\n",
       "    <tr>\n",
       "      <th>4</th>\n",
       "      <td>58649</td>\n",
       "      <td>0</td>\n",
       "    </tr>\n",
       "  </tbody>\n",
       "</table>\n",
       "</div>"
      ],
      "text/plain": [
       "      id  loan_status\n",
       "0  58645            1\n",
       "1  58646            0\n",
       "2  58647            1\n",
       "3  58648            0\n",
       "4  58649            0"
      ]
     },
     "execution_count": 48,
     "metadata": {},
     "output_type": "execute_result"
    }
   ],
   "source": [
    "df_sub['loan_status'] = [1 if x > best_threshold else 0 for x in xgb_test_predictions]\n",
    "df_sub.head()"
   ]
  },
  {
   "cell_type": "code",
   "execution_count": 49,
   "id": "d9ea560f",
   "metadata": {
    "execution": {
     "iopub.execute_input": "2024-10-09T19:16:37.604992Z",
     "iopub.status.busy": "2024-10-09T19:16:37.603888Z",
     "iopub.status.idle": "2024-10-09T19:16:37.664033Z",
     "shell.execute_reply": "2024-10-09T19:16:37.662750Z"
    },
    "papermill": {
     "duration": 0.095889,
     "end_time": "2024-10-09T19:16:37.666901",
     "exception": false,
     "start_time": "2024-10-09T19:16:37.571012",
     "status": "completed"
    },
    "tags": []
   },
   "outputs": [],
   "source": [
    "df_sub.to_csv('submission.csv', index=False)"
   ]
  }
 ],
 "metadata": {
  "kaggle": {
   "accelerator": "none",
   "dataSources": [
    {
     "databundleVersionId": 9709193,
     "sourceId": 84894,
     "sourceType": "competition"
    }
   ],
   "dockerImageVersionId": 30775,
   "isGpuEnabled": false,
   "isInternetEnabled": true,
   "language": "python",
   "sourceType": "notebook"
  },
  "kernelspec": {
   "display_name": "Python 3",
   "language": "python",
   "name": "python3"
  },
  "language_info": {
   "codemirror_mode": {
    "name": "ipython",
    "version": 3
   },
   "file_extension": ".py",
   "mimetype": "text/x-python",
   "name": "python",
   "nbconvert_exporter": "python",
   "pygments_lexer": "ipython3",
   "version": "3.10.14"
  },
  "papermill": {
   "default_parameters": {},
   "duration": 32.72529,
   "end_time": "2024-10-09T19:16:40.320496",
   "environment_variables": {},
   "exception": null,
   "input_path": "__notebook__.ipynb",
   "output_path": "__notebook__.ipynb",
   "parameters": {},
   "start_time": "2024-10-09T19:16:07.595206",
   "version": "2.6.0"
  }
 },
 "nbformat": 4,
 "nbformat_minor": 5
}
