{
 "cells": [
  {
   "cell_type": "code",
   "execution_count": 1,
   "id": "0f32e5ff",
   "metadata": {
    "_cell_guid": "b1076dfc-b9ad-4769-8c92-a6c4dae69d19",
    "_uuid": "8f2839f25d086af736a60e9eeb907d3b93b6e0e5",
    "execution": {
     "iopub.execute_input": "2024-10-16T20:50:46.315810Z",
     "iopub.status.busy": "2024-10-16T20:50:46.315217Z",
     "iopub.status.idle": "2024-10-16T20:50:47.315784Z",
     "shell.execute_reply": "2024-10-16T20:50:47.314337Z"
    },
    "papermill": {
     "duration": 1.025987,
     "end_time": "2024-10-16T20:50:47.318452",
     "exception": false,
     "start_time": "2024-10-16T20:50:46.292465",
     "status": "completed"
    },
    "tags": []
   },
   "outputs": [
    {
     "name": "stdout",
     "output_type": "stream",
     "text": [
      "/kaggle/input/playground-series-s4e10/sample_submission.csv\n",
      "/kaggle/input/playground-series-s4e10/train.csv\n",
      "/kaggle/input/playground-series-s4e10/test.csv\n"
     ]
    }
   ],
   "source": [
    "# This Python 3 environment comes with many helpful analytics libraries installed\n",
    "# It is defined by the kaggle/python Docker image: https://github.com/kaggle/docker-python\n",
    "# For example, here's several helpful packages to load\n",
    "\n",
    "import numpy as np # linear algebra\n",
    "import pandas as pd # data processing, CSV file I/O (e.g. pd.read_csv)\n",
    "\n",
    "# Input data files are available in the read-only \"../input/\" directory\n",
    "# For example, running this (by clicking run or pressing Shift+Enter) will list all files under the input directory\n",
    "\n",
    "import os\n",
    "for dirname, _, filenames in os.walk('/kaggle/input'):\n",
    "    for filename in filenames:\n",
    "        print(os.path.join(dirname, filename))\n",
    "\n",
    "# You can write up to 20GB to the current directory (/kaggle/working/) that gets preserved as output when you create a version using \"Save & Run All\" \n",
    "# You can also write temporary files to /kaggle/temp/, but they won't be saved outside of the current session"
   ]
  },
  {
   "cell_type": "markdown",
   "id": "92db7607",
   "metadata": {
    "papermill": {
     "duration": 0.01995,
     "end_time": "2024-10-16T20:50:47.357615",
     "exception": false,
     "start_time": "2024-10-16T20:50:47.337665",
     "status": "completed"
    },
    "tags": []
   },
   "source": [
    "# 0. Import Packages"
   ]
  },
  {
   "cell_type": "code",
   "execution_count": 2,
   "id": "26caf621",
   "metadata": {
    "execution": {
     "iopub.execute_input": "2024-10-16T20:50:47.397642Z",
     "iopub.status.busy": "2024-10-16T20:50:47.397091Z",
     "iopub.status.idle": "2024-10-16T20:50:49.293785Z",
     "shell.execute_reply": "2024-10-16T20:50:49.292474Z"
    },
    "papermill": {
     "duration": 1.920269,
     "end_time": "2024-10-16T20:50:49.296693",
     "exception": false,
     "start_time": "2024-10-16T20:50:47.376424",
     "status": "completed"
    },
    "tags": []
   },
   "outputs": [],
   "source": [
    "import pandas as pd\n",
    "import numpy as np\n",
    "from tqdm import tqdm\n",
    "\n",
    "import matplotlib.pyplot as plt\n",
    "import seaborn as sns\n",
    "from matplotlib.patches import ConnectionPatch"
   ]
  },
  {
   "cell_type": "code",
   "execution_count": 3,
   "id": "d99b23f3",
   "metadata": {
    "execution": {
     "iopub.execute_input": "2024-10-16T20:50:49.338706Z",
     "iopub.status.busy": "2024-10-16T20:50:49.338078Z",
     "iopub.status.idle": "2024-10-16T20:50:49.956371Z",
     "shell.execute_reply": "2024-10-16T20:50:49.955019Z"
    },
    "papermill": {
     "duration": 0.642643,
     "end_time": "2024-10-16T20:50:49.959322",
     "exception": false,
     "start_time": "2024-10-16T20:50:49.316679",
     "status": "completed"
    },
    "tags": []
   },
   "outputs": [
    {
     "name": "stderr",
     "output_type": "stream",
     "text": [
      "/opt/conda/lib/python3.10/site-packages/sklearn/experimental/enable_hist_gradient_boosting.py:16: UserWarning: Since version 1.0, it is not needed to import enable_hist_gradient_boosting anymore. HistGradientBoostingClassifier and HistGradientBoostingRegressor are now stable and can be normally imported from sklearn.ensemble.\n",
      "  warnings.warn(\n"
     ]
    }
   ],
   "source": [
    "from sklearn.experimental import enable_hist_gradient_boosting  \n",
    "from sklearn.ensemble import HistGradientBoostingRegressor\n",
    "from sklearn.metrics import median_absolute_error\n",
    "from sklearn.model_selection import KFold\n",
    "from sklearn.model_selection import train_test_split\n",
    "\n",
    "\n",
    "from sklearn.metrics import roc_auc_score\n",
    "from sklearn.model_selection import KFold\n"
   ]
  },
  {
   "cell_type": "code",
   "execution_count": 4,
   "id": "b49f96ed",
   "metadata": {
    "execution": {
     "iopub.execute_input": "2024-10-16T20:50:50.001387Z",
     "iopub.status.busy": "2024-10-16T20:50:50.000890Z",
     "iopub.status.idle": "2024-10-16T20:50:51.859172Z",
     "shell.execute_reply": "2024-10-16T20:50:51.857820Z"
    },
    "papermill": {
     "duration": 1.882991,
     "end_time": "2024-10-16T20:50:51.862498",
     "exception": false,
     "start_time": "2024-10-16T20:50:49.979507",
     "status": "completed"
    },
    "tags": []
   },
   "outputs": [],
   "source": [
    "from xgboost import XGBClassifier\n",
    "import lightgbm as lgb\n",
    "from catboost import CatBoostClassifier"
   ]
  },
  {
   "cell_type": "markdown",
   "id": "91d9066d",
   "metadata": {
    "papermill": {
     "duration": 0.024847,
     "end_time": "2024-10-16T20:50:51.907039",
     "exception": false,
     "start_time": "2024-10-16T20:50:51.882192",
     "status": "completed"
    },
    "tags": []
   },
   "source": [
    "# 1. Read Data"
   ]
  },
  {
   "cell_type": "code",
   "execution_count": 5,
   "id": "e77ea352",
   "metadata": {
    "execution": {
     "iopub.execute_input": "2024-10-16T20:50:51.968684Z",
     "iopub.status.busy": "2024-10-16T20:50:51.967436Z",
     "iopub.status.idle": "2024-10-16T20:50:52.279352Z",
     "shell.execute_reply": "2024-10-16T20:50:52.277972Z"
    },
    "papermill": {
     "duration": 0.343733,
     "end_time": "2024-10-16T20:50:52.282273",
     "exception": false,
     "start_time": "2024-10-16T20:50:51.938540",
     "status": "completed"
    },
    "tags": []
   },
   "outputs": [],
   "source": [
    "df_train = pd.read_csv('/kaggle/input/playground-series-s4e10/train.csv')\n",
    "df_test  = pd.read_csv('/kaggle/input/playground-series-s4e10/test.csv')\n",
    "df_sub = pd.read_csv('/kaggle/input/playground-series-s4e10/sample_submission.csv')"
   ]
  },
  {
   "cell_type": "code",
   "execution_count": 6,
   "id": "bcc6cd7e",
   "metadata": {
    "execution": {
     "iopub.execute_input": "2024-10-16T20:50:52.323884Z",
     "iopub.status.busy": "2024-10-16T20:50:52.323352Z",
     "iopub.status.idle": "2024-10-16T20:50:52.362317Z",
     "shell.execute_reply": "2024-10-16T20:50:52.360875Z"
    },
    "papermill": {
     "duration": 0.063394,
     "end_time": "2024-10-16T20:50:52.365208",
     "exception": false,
     "start_time": "2024-10-16T20:50:52.301814",
     "status": "completed"
    },
    "tags": []
   },
   "outputs": [
    {
     "data": {
      "text/html": [
       "<div>\n",
       "<style scoped>\n",
       "    .dataframe tbody tr th:only-of-type {\n",
       "        vertical-align: middle;\n",
       "    }\n",
       "\n",
       "    .dataframe tbody tr th {\n",
       "        vertical-align: top;\n",
       "    }\n",
       "\n",
       "    .dataframe thead th {\n",
       "        text-align: right;\n",
       "    }\n",
       "</style>\n",
       "<table border=\"1\" class=\"dataframe\">\n",
       "  <thead>\n",
       "    <tr style=\"text-align: right;\">\n",
       "      <th></th>\n",
       "      <th>id</th>\n",
       "      <th>person_age</th>\n",
       "      <th>person_income</th>\n",
       "      <th>person_home_ownership</th>\n",
       "      <th>person_emp_length</th>\n",
       "      <th>loan_intent</th>\n",
       "      <th>loan_grade</th>\n",
       "      <th>loan_amnt</th>\n",
       "      <th>loan_int_rate</th>\n",
       "      <th>loan_percent_income</th>\n",
       "      <th>cb_person_default_on_file</th>\n",
       "      <th>cb_person_cred_hist_length</th>\n",
       "      <th>loan_status</th>\n",
       "    </tr>\n",
       "  </thead>\n",
       "  <tbody>\n",
       "    <tr>\n",
       "      <th>0</th>\n",
       "      <td>0</td>\n",
       "      <td>37</td>\n",
       "      <td>35000</td>\n",
       "      <td>RENT</td>\n",
       "      <td>0.0</td>\n",
       "      <td>EDUCATION</td>\n",
       "      <td>B</td>\n",
       "      <td>6000</td>\n",
       "      <td>11.49</td>\n",
       "      <td>0.17</td>\n",
       "      <td>N</td>\n",
       "      <td>14</td>\n",
       "      <td>0</td>\n",
       "    </tr>\n",
       "    <tr>\n",
       "      <th>1</th>\n",
       "      <td>1</td>\n",
       "      <td>22</td>\n",
       "      <td>56000</td>\n",
       "      <td>OWN</td>\n",
       "      <td>6.0</td>\n",
       "      <td>MEDICAL</td>\n",
       "      <td>C</td>\n",
       "      <td>4000</td>\n",
       "      <td>13.35</td>\n",
       "      <td>0.07</td>\n",
       "      <td>N</td>\n",
       "      <td>2</td>\n",
       "      <td>0</td>\n",
       "    </tr>\n",
       "    <tr>\n",
       "      <th>2</th>\n",
       "      <td>2</td>\n",
       "      <td>29</td>\n",
       "      <td>28800</td>\n",
       "      <td>OWN</td>\n",
       "      <td>8.0</td>\n",
       "      <td>PERSONAL</td>\n",
       "      <td>A</td>\n",
       "      <td>6000</td>\n",
       "      <td>8.90</td>\n",
       "      <td>0.21</td>\n",
       "      <td>N</td>\n",
       "      <td>10</td>\n",
       "      <td>0</td>\n",
       "    </tr>\n",
       "    <tr>\n",
       "      <th>3</th>\n",
       "      <td>3</td>\n",
       "      <td>30</td>\n",
       "      <td>70000</td>\n",
       "      <td>RENT</td>\n",
       "      <td>14.0</td>\n",
       "      <td>VENTURE</td>\n",
       "      <td>B</td>\n",
       "      <td>12000</td>\n",
       "      <td>11.11</td>\n",
       "      <td>0.17</td>\n",
       "      <td>N</td>\n",
       "      <td>5</td>\n",
       "      <td>0</td>\n",
       "    </tr>\n",
       "    <tr>\n",
       "      <th>4</th>\n",
       "      <td>4</td>\n",
       "      <td>22</td>\n",
       "      <td>60000</td>\n",
       "      <td>RENT</td>\n",
       "      <td>2.0</td>\n",
       "      <td>MEDICAL</td>\n",
       "      <td>A</td>\n",
       "      <td>6000</td>\n",
       "      <td>6.92</td>\n",
       "      <td>0.10</td>\n",
       "      <td>N</td>\n",
       "      <td>3</td>\n",
       "      <td>0</td>\n",
       "    </tr>\n",
       "  </tbody>\n",
       "</table>\n",
       "</div>"
      ],
      "text/plain": [
       "   id  person_age  person_income person_home_ownership  person_emp_length  \\\n",
       "0   0          37          35000                  RENT                0.0   \n",
       "1   1          22          56000                   OWN                6.0   \n",
       "2   2          29          28800                   OWN                8.0   \n",
       "3   3          30          70000                  RENT               14.0   \n",
       "4   4          22          60000                  RENT                2.0   \n",
       "\n",
       "  loan_intent loan_grade  loan_amnt  loan_int_rate  loan_percent_income  \\\n",
       "0   EDUCATION          B       6000          11.49                 0.17   \n",
       "1     MEDICAL          C       4000          13.35                 0.07   \n",
       "2    PERSONAL          A       6000           8.90                 0.21   \n",
       "3     VENTURE          B      12000          11.11                 0.17   \n",
       "4     MEDICAL          A       6000           6.92                 0.10   \n",
       "\n",
       "  cb_person_default_on_file  cb_person_cred_hist_length  loan_status  \n",
       "0                         N                          14            0  \n",
       "1                         N                           2            0  \n",
       "2                         N                          10            0  \n",
       "3                         N                           5            0  \n",
       "4                         N                           3            0  "
      ]
     },
     "execution_count": 6,
     "metadata": {},
     "output_type": "execute_result"
    }
   ],
   "source": [
    "df_train.head()"
   ]
  },
  {
   "cell_type": "code",
   "execution_count": 7,
   "id": "0f6415f9",
   "metadata": {
    "execution": {
     "iopub.execute_input": "2024-10-16T20:50:52.408354Z",
     "iopub.status.busy": "2024-10-16T20:50:52.407763Z",
     "iopub.status.idle": "2024-10-16T20:50:52.474389Z",
     "shell.execute_reply": "2024-10-16T20:50:52.473095Z"
    },
    "papermill": {
     "duration": 0.091615,
     "end_time": "2024-10-16T20:50:52.477715",
     "exception": false,
     "start_time": "2024-10-16T20:50:52.386100",
     "status": "completed"
    },
    "tags": []
   },
   "outputs": [
    {
     "data": {
      "text/html": [
       "<div>\n",
       "<style scoped>\n",
       "    .dataframe tbody tr th:only-of-type {\n",
       "        vertical-align: middle;\n",
       "    }\n",
       "\n",
       "    .dataframe tbody tr th {\n",
       "        vertical-align: top;\n",
       "    }\n",
       "\n",
       "    .dataframe thead th {\n",
       "        text-align: right;\n",
       "    }\n",
       "</style>\n",
       "<table border=\"1\" class=\"dataframe\">\n",
       "  <thead>\n",
       "    <tr style=\"text-align: right;\">\n",
       "      <th></th>\n",
       "      <th>id</th>\n",
       "      <th>person_age</th>\n",
       "      <th>person_income</th>\n",
       "      <th>person_emp_length</th>\n",
       "      <th>loan_amnt</th>\n",
       "      <th>loan_int_rate</th>\n",
       "      <th>loan_percent_income</th>\n",
       "      <th>cb_person_cred_hist_length</th>\n",
       "      <th>loan_status</th>\n",
       "    </tr>\n",
       "  </thead>\n",
       "  <tbody>\n",
       "    <tr>\n",
       "      <th>count</th>\n",
       "      <td>58645.000000</td>\n",
       "      <td>58645.000000</td>\n",
       "      <td>5.864500e+04</td>\n",
       "      <td>58645.000000</td>\n",
       "      <td>58645.000000</td>\n",
       "      <td>58645.000000</td>\n",
       "      <td>58645.000000</td>\n",
       "      <td>58645.000000</td>\n",
       "      <td>58645.000000</td>\n",
       "    </tr>\n",
       "    <tr>\n",
       "      <th>mean</th>\n",
       "      <td>29322.000000</td>\n",
       "      <td>27.550857</td>\n",
       "      <td>6.404617e+04</td>\n",
       "      <td>4.701015</td>\n",
       "      <td>9217.556518</td>\n",
       "      <td>10.677874</td>\n",
       "      <td>0.159238</td>\n",
       "      <td>5.813556</td>\n",
       "      <td>0.142382</td>\n",
       "    </tr>\n",
       "    <tr>\n",
       "      <th>std</th>\n",
       "      <td>16929.497605</td>\n",
       "      <td>6.033216</td>\n",
       "      <td>3.793111e+04</td>\n",
       "      <td>3.959784</td>\n",
       "      <td>5563.807384</td>\n",
       "      <td>3.034697</td>\n",
       "      <td>0.091692</td>\n",
       "      <td>4.029196</td>\n",
       "      <td>0.349445</td>\n",
       "    </tr>\n",
       "    <tr>\n",
       "      <th>min</th>\n",
       "      <td>0.000000</td>\n",
       "      <td>20.000000</td>\n",
       "      <td>4.200000e+03</td>\n",
       "      <td>0.000000</td>\n",
       "      <td>500.000000</td>\n",
       "      <td>5.420000</td>\n",
       "      <td>0.000000</td>\n",
       "      <td>2.000000</td>\n",
       "      <td>0.000000</td>\n",
       "    </tr>\n",
       "    <tr>\n",
       "      <th>25%</th>\n",
       "      <td>14661.000000</td>\n",
       "      <td>23.000000</td>\n",
       "      <td>4.200000e+04</td>\n",
       "      <td>2.000000</td>\n",
       "      <td>5000.000000</td>\n",
       "      <td>7.880000</td>\n",
       "      <td>0.090000</td>\n",
       "      <td>3.000000</td>\n",
       "      <td>0.000000</td>\n",
       "    </tr>\n",
       "    <tr>\n",
       "      <th>50%</th>\n",
       "      <td>29322.000000</td>\n",
       "      <td>26.000000</td>\n",
       "      <td>5.800000e+04</td>\n",
       "      <td>4.000000</td>\n",
       "      <td>8000.000000</td>\n",
       "      <td>10.750000</td>\n",
       "      <td>0.140000</td>\n",
       "      <td>4.000000</td>\n",
       "      <td>0.000000</td>\n",
       "    </tr>\n",
       "    <tr>\n",
       "      <th>75%</th>\n",
       "      <td>43983.000000</td>\n",
       "      <td>30.000000</td>\n",
       "      <td>7.560000e+04</td>\n",
       "      <td>7.000000</td>\n",
       "      <td>12000.000000</td>\n",
       "      <td>12.990000</td>\n",
       "      <td>0.210000</td>\n",
       "      <td>8.000000</td>\n",
       "      <td>0.000000</td>\n",
       "    </tr>\n",
       "    <tr>\n",
       "      <th>max</th>\n",
       "      <td>58644.000000</td>\n",
       "      <td>123.000000</td>\n",
       "      <td>1.900000e+06</td>\n",
       "      <td>123.000000</td>\n",
       "      <td>35000.000000</td>\n",
       "      <td>23.220000</td>\n",
       "      <td>0.830000</td>\n",
       "      <td>30.000000</td>\n",
       "      <td>1.000000</td>\n",
       "    </tr>\n",
       "  </tbody>\n",
       "</table>\n",
       "</div>"
      ],
      "text/plain": [
       "                 id    person_age  person_income  person_emp_length  \\\n",
       "count  58645.000000  58645.000000   5.864500e+04       58645.000000   \n",
       "mean   29322.000000     27.550857   6.404617e+04           4.701015   \n",
       "std    16929.497605      6.033216   3.793111e+04           3.959784   \n",
       "min        0.000000     20.000000   4.200000e+03           0.000000   \n",
       "25%    14661.000000     23.000000   4.200000e+04           2.000000   \n",
       "50%    29322.000000     26.000000   5.800000e+04           4.000000   \n",
       "75%    43983.000000     30.000000   7.560000e+04           7.000000   \n",
       "max    58644.000000    123.000000   1.900000e+06         123.000000   \n",
       "\n",
       "          loan_amnt  loan_int_rate  loan_percent_income  \\\n",
       "count  58645.000000   58645.000000         58645.000000   \n",
       "mean    9217.556518      10.677874             0.159238   \n",
       "std     5563.807384       3.034697             0.091692   \n",
       "min      500.000000       5.420000             0.000000   \n",
       "25%     5000.000000       7.880000             0.090000   \n",
       "50%     8000.000000      10.750000             0.140000   \n",
       "75%    12000.000000      12.990000             0.210000   \n",
       "max    35000.000000      23.220000             0.830000   \n",
       "\n",
       "       cb_person_cred_hist_length   loan_status  \n",
       "count                58645.000000  58645.000000  \n",
       "mean                     5.813556      0.142382  \n",
       "std                      4.029196      0.349445  \n",
       "min                      2.000000      0.000000  \n",
       "25%                      3.000000      0.000000  \n",
       "50%                      4.000000      0.000000  \n",
       "75%                      8.000000      0.000000  \n",
       "max                     30.000000      1.000000  "
      ]
     },
     "execution_count": 7,
     "metadata": {},
     "output_type": "execute_result"
    }
   ],
   "source": [
    "df_train.describe()"
   ]
  },
  {
   "cell_type": "code",
   "execution_count": 8,
   "id": "db31347c",
   "metadata": {
    "execution": {
     "iopub.execute_input": "2024-10-16T20:50:52.524967Z",
     "iopub.status.busy": "2024-10-16T20:50:52.524086Z",
     "iopub.status.idle": "2024-10-16T20:50:52.532815Z",
     "shell.execute_reply": "2024-10-16T20:50:52.531168Z"
    },
    "papermill": {
     "duration": 0.034015,
     "end_time": "2024-10-16T20:50:52.535467",
     "exception": false,
     "start_time": "2024-10-16T20:50:52.501452",
     "status": "completed"
    },
    "tags": []
   },
   "outputs": [
    {
     "data": {
      "text/plain": [
       "{'loan_status'}"
      ]
     },
     "execution_count": 8,
     "metadata": {},
     "output_type": "execute_result"
    }
   ],
   "source": [
    "set(df_train.columns) - set(df_test.columns)"
   ]
  },
  {
   "cell_type": "code",
   "execution_count": 9,
   "id": "b68cfec3",
   "metadata": {
    "execution": {
     "iopub.execute_input": "2024-10-16T20:50:52.579543Z",
     "iopub.status.busy": "2024-10-16T20:50:52.578415Z",
     "iopub.status.idle": "2024-10-16T20:50:52.592665Z",
     "shell.execute_reply": "2024-10-16T20:50:52.591486Z"
    },
    "papermill": {
     "duration": 0.039526,
     "end_time": "2024-10-16T20:50:52.595640",
     "exception": false,
     "start_time": "2024-10-16T20:50:52.556114",
     "status": "completed"
    },
    "tags": []
   },
   "outputs": [
    {
     "data": {
      "text/html": [
       "<div>\n",
       "<style scoped>\n",
       "    .dataframe tbody tr th:only-of-type {\n",
       "        vertical-align: middle;\n",
       "    }\n",
       "\n",
       "    .dataframe tbody tr th {\n",
       "        vertical-align: top;\n",
       "    }\n",
       "\n",
       "    .dataframe thead th {\n",
       "        text-align: right;\n",
       "    }\n",
       "</style>\n",
       "<table border=\"1\" class=\"dataframe\">\n",
       "  <thead>\n",
       "    <tr style=\"text-align: right;\">\n",
       "      <th></th>\n",
       "      <th>id</th>\n",
       "      <th>loan_status</th>\n",
       "    </tr>\n",
       "  </thead>\n",
       "  <tbody>\n",
       "    <tr>\n",
       "      <th>0</th>\n",
       "      <td>58645</td>\n",
       "      <td>0.5</td>\n",
       "    </tr>\n",
       "    <tr>\n",
       "      <th>1</th>\n",
       "      <td>58646</td>\n",
       "      <td>0.5</td>\n",
       "    </tr>\n",
       "    <tr>\n",
       "      <th>2</th>\n",
       "      <td>58647</td>\n",
       "      <td>0.5</td>\n",
       "    </tr>\n",
       "    <tr>\n",
       "      <th>3</th>\n",
       "      <td>58648</td>\n",
       "      <td>0.5</td>\n",
       "    </tr>\n",
       "    <tr>\n",
       "      <th>4</th>\n",
       "      <td>58649</td>\n",
       "      <td>0.5</td>\n",
       "    </tr>\n",
       "  </tbody>\n",
       "</table>\n",
       "</div>"
      ],
      "text/plain": [
       "      id  loan_status\n",
       "0  58645          0.5\n",
       "1  58646          0.5\n",
       "2  58647          0.5\n",
       "3  58648          0.5\n",
       "4  58649          0.5"
      ]
     },
     "execution_count": 9,
     "metadata": {},
     "output_type": "execute_result"
    }
   ],
   "source": [
    "df_sub.head()"
   ]
  },
  {
   "cell_type": "code",
   "execution_count": 10,
   "id": "d8326d4a",
   "metadata": {
    "execution": {
     "iopub.execute_input": "2024-10-16T20:50:52.642116Z",
     "iopub.status.busy": "2024-10-16T20:50:52.640884Z",
     "iopub.status.idle": "2024-10-16T20:50:52.659526Z",
     "shell.execute_reply": "2024-10-16T20:50:52.658501Z"
    },
    "papermill": {
     "duration": 0.044055,
     "end_time": "2024-10-16T20:50:52.662441",
     "exception": false,
     "start_time": "2024-10-16T20:50:52.618386",
     "status": "completed"
    },
    "tags": []
   },
   "outputs": [],
   "source": [
    "df_train = df_train.drop(columns=['id'])\n",
    "df_test = df_test.drop(columns=['id'])"
   ]
  },
  {
   "cell_type": "markdown",
   "id": "cfa8423b",
   "metadata": {
    "papermill": {
     "duration": 0.020798,
     "end_time": "2024-10-16T20:50:52.704511",
     "exception": false,
     "start_time": "2024-10-16T20:50:52.683713",
     "status": "completed"
    },
    "tags": []
   },
   "source": [
    "# 2. Data EDA"
   ]
  },
  {
   "cell_type": "code",
   "execution_count": 11,
   "id": "8e0a12c5",
   "metadata": {
    "execution": {
     "iopub.execute_input": "2024-10-16T20:50:52.747262Z",
     "iopub.status.busy": "2024-10-16T20:50:52.746819Z",
     "iopub.status.idle": "2024-10-16T20:50:52.755045Z",
     "shell.execute_reply": "2024-10-16T20:50:52.753676Z"
    },
    "papermill": {
     "duration": 0.032844,
     "end_time": "2024-10-16T20:50:52.757564",
     "exception": false,
     "start_time": "2024-10-16T20:50:52.724720",
     "status": "completed"
    },
    "tags": []
   },
   "outputs": [
    {
     "data": {
      "text/plain": [
       "((58645, 12), (39098, 11))"
      ]
     },
     "execution_count": 11,
     "metadata": {},
     "output_type": "execute_result"
    }
   ],
   "source": [
    "df_train.shape,df_test.shape"
   ]
  },
  {
   "cell_type": "code",
   "execution_count": 12,
   "id": "8a2f0f13",
   "metadata": {
    "execution": {
     "iopub.execute_input": "2024-10-16T20:50:52.803494Z",
     "iopub.status.busy": "2024-10-16T20:50:52.802238Z",
     "iopub.status.idle": "2024-10-16T20:50:52.840025Z",
     "shell.execute_reply": "2024-10-16T20:50:52.838586Z"
    },
    "papermill": {
     "duration": 0.063634,
     "end_time": "2024-10-16T20:50:52.842762",
     "exception": false,
     "start_time": "2024-10-16T20:50:52.779128",
     "status": "completed"
    },
    "tags": []
   },
   "outputs": [
    {
     "data": {
      "text/plain": [
       "person_age                    0\n",
       "person_income                 0\n",
       "person_home_ownership         0\n",
       "person_emp_length             0\n",
       "loan_intent                   0\n",
       "loan_grade                    0\n",
       "loan_amnt                     0\n",
       "loan_int_rate                 0\n",
       "loan_percent_income           0\n",
       "cb_person_default_on_file     0\n",
       "cb_person_cred_hist_length    0\n",
       "loan_status                   0\n",
       "dtype: int64"
      ]
     },
     "execution_count": 12,
     "metadata": {},
     "output_type": "execute_result"
    }
   ],
   "source": [
    "df_train.isnull().sum()"
   ]
  },
  {
   "cell_type": "code",
   "execution_count": 13,
   "id": "e8e25edf",
   "metadata": {
    "execution": {
     "iopub.execute_input": "2024-10-16T20:50:52.887593Z",
     "iopub.status.busy": "2024-10-16T20:50:52.886491Z",
     "iopub.status.idle": "2024-10-16T20:50:52.917116Z",
     "shell.execute_reply": "2024-10-16T20:50:52.915860Z"
    },
    "papermill": {
     "duration": 0.056042,
     "end_time": "2024-10-16T20:50:52.919967",
     "exception": false,
     "start_time": "2024-10-16T20:50:52.863925",
     "status": "completed"
    },
    "tags": []
   },
   "outputs": [
    {
     "data": {
      "text/plain": [
       "person_age                    0\n",
       "person_income                 0\n",
       "person_home_ownership         0\n",
       "person_emp_length             0\n",
       "loan_intent                   0\n",
       "loan_grade                    0\n",
       "loan_amnt                     0\n",
       "loan_int_rate                 0\n",
       "loan_percent_income           0\n",
       "cb_person_default_on_file     0\n",
       "cb_person_cred_hist_length    0\n",
       "dtype: int64"
      ]
     },
     "execution_count": 13,
     "metadata": {},
     "output_type": "execute_result"
    }
   ],
   "source": [
    "df_test.isnull().sum()"
   ]
  },
  {
   "cell_type": "code",
   "execution_count": 14,
   "id": "3a8e4494",
   "metadata": {
    "execution": {
     "iopub.execute_input": "2024-10-16T20:50:52.964185Z",
     "iopub.status.busy": "2024-10-16T20:50:52.962955Z",
     "iopub.status.idle": "2024-10-16T20:50:53.419904Z",
     "shell.execute_reply": "2024-10-16T20:50:53.418679Z"
    },
    "papermill": {
     "duration": 0.481909,
     "end_time": "2024-10-16T20:50:53.422669",
     "exception": false,
     "start_time": "2024-10-16T20:50:52.940760",
     "status": "completed"
    },
    "tags": []
   },
   "outputs": [
    {
     "data": {
      "image/png": "[encoded data removed]",
      "text/plain": [
       "<Figure size 1000x600 with 1 Axes>"
      ]
     },
     "metadata": {},
     "output_type": "display_data"
    }
   ],
   "source": [
    "def stacked_bar_plot(df, feature, target='loan_status'):\n",
    "    crosstab = pd.crosstab(df[feature], df[target], normalize='index')\n",
    "    crosstab.plot(kind='bar', stacked=True, figsize=(10, 6), cmap='magma')\n",
    "    plt.title(f'Stacked Bar Plotting of {feature} vs {target}')\n",
    "    plt.ylabel('PROPORTION')\n",
    "    plt.show()\n",
    "stacked_bar_plot(df_train, 'loan_intent')"
   ]
  },
  {
   "cell_type": "code",
   "execution_count": 15,
   "id": "1e126c18",
   "metadata": {
    "execution": {
     "iopub.execute_input": "2024-10-16T20:50:53.466952Z",
     "iopub.status.busy": "2024-10-16T20:50:53.466515Z",
     "iopub.status.idle": "2024-10-16T20:50:54.270799Z",
     "shell.execute_reply": "2024-10-16T20:50:54.269072Z"
    },
    "papermill": {
     "duration": 0.829794,
     "end_time": "2024-10-16T20:50:54.273480",
     "exception": false,
     "start_time": "2024-10-16T20:50:53.443686",
     "status": "completed"
    },
    "tags": []
   },
   "outputs": [
    {
     "name": "stderr",
     "output_type": "stream",
     "text": [
      "/opt/conda/lib/python3.10/site-packages/seaborn/_oldcore.py:1119: FutureWarning: use_inf_as_na option is deprecated and will be removed in a future version. Convert inf values to NaN before operating instead.\n",
      "  with pd.option_context('mode.use_inf_as_na', True):\n",
      "/opt/conda/lib/python3.10/site-packages/seaborn/_oldcore.py:1119: FutureWarning: use_inf_as_na option is deprecated and will be removed in a future version. Convert inf values to NaN before operating instead.\n",
      "  with pd.option_context('mode.use_inf_as_na', True):\n"
     ]
    },
    {
     "data": {
      "image/png": "[encoded data removed]",
      "text/plain": [
       "<Figure size 1000x600 with 1 Axes>"
      ]
     },
     "metadata": {},
     "output_type": "display_data"
    }
   ],
   "source": [
    "plt.figure(figsize=(10, 6))\n",
    "sns.kdeplot(df_train[df_train['loan_status'] == 1]['loan_amnt'], label='Default', fill=True)\n",
    "sns.kdeplot(df_train[df_train['loan_status'] == 0]['loan_amnt'], label='Non-Default', fill=True)\n",
    "plt.title('CDF of Loan Amount by Loan Status')\n",
    "plt.xlabel('Loan Amount')\n",
    "plt.ylabel('Density')\n",
    "plt.legend()\n",
    "plt.show()"
   ]
  },
  {
   "cell_type": "code",
   "execution_count": 16,
   "id": "1fd716dc",
   "metadata": {
    "execution": {
     "iopub.execute_input": "2024-10-16T20:50:54.321170Z",
     "iopub.status.busy": "2024-10-16T20:50:54.320711Z",
     "iopub.status.idle": "2024-10-16T20:50:54.334277Z",
     "shell.execute_reply": "2024-10-16T20:50:54.332895Z"
    },
    "papermill": {
     "duration": 0.040627,
     "end_time": "2024-10-16T20:50:54.337217",
     "exception": false,
     "start_time": "2024-10-16T20:50:54.296590",
     "status": "completed"
    },
    "tags": []
   },
   "outputs": [],
   "source": [
    "target_df = pd.DataFrame()\n",
    "target_df['loan_status'] = df_train['loan_status'] \n",
    "df_train = df_train.drop(['loan_status'],axis=1)\n",
    "X = df_train"
   ]
  },
  {
   "cell_type": "code",
   "execution_count": 17,
   "id": "c1ec49a0",
   "metadata": {
    "execution": {
     "iopub.execute_input": "2024-10-16T20:50:54.385238Z",
     "iopub.status.busy": "2024-10-16T20:50:54.384795Z",
     "iopub.status.idle": "2024-10-16T20:50:54.398517Z",
     "shell.execute_reply": "2024-10-16T20:50:54.397338Z"
    },
    "papermill": {
     "duration": 0.041281,
     "end_time": "2024-10-16T20:50:54.401005",
     "exception": false,
     "start_time": "2024-10-16T20:50:54.359724",
     "status": "completed"
    },
    "tags": []
   },
   "outputs": [
    {
     "data": {
      "text/plain": [
       "loan_status\n",
       "0    0.857618\n",
       "1    0.142382\n",
       "Name: proportion, dtype: float64"
      ]
     },
     "execution_count": 17,
     "metadata": {},
     "output_type": "execute_result"
    }
   ],
   "source": [
    "target_df['loan_status'].value_counts(normalize=True)"
   ]
  },
  {
   "cell_type": "code",
   "execution_count": 18,
   "id": "2a1eb1e7",
   "metadata": {
    "execution": {
     "iopub.execute_input": "2024-10-16T20:50:54.448321Z",
     "iopub.status.busy": "2024-10-16T20:50:54.447489Z",
     "iopub.status.idle": "2024-10-16T20:50:54.452698Z",
     "shell.execute_reply": "2024-10-16T20:50:54.451371Z"
    },
    "papermill": {
     "duration": 0.031778,
     "end_time": "2024-10-16T20:50:54.455180",
     "exception": false,
     "start_time": "2024-10-16T20:50:54.423402",
     "status": "completed"
    },
    "tags": []
   },
   "outputs": [],
   "source": [
    "# from sklearn.preprocessing import StandardScaler\n",
    "# scaler = StandardScaler()\n",
    "# scaled_train_data = X\n",
    "# scaled_test_data = df_test"
   ]
  },
  {
   "cell_type": "code",
   "execution_count": 19,
   "id": "22421dcf",
   "metadata": {
    "execution": {
     "iopub.execute_input": "2024-10-16T20:50:54.503749Z",
     "iopub.status.busy": "2024-10-16T20:50:54.503250Z",
     "iopub.status.idle": "2024-10-16T20:50:54.546149Z",
     "shell.execute_reply": "2024-10-16T20:50:54.544736Z"
    },
    "papermill": {
     "duration": 0.07074,
     "end_time": "2024-10-16T20:50:54.548995",
     "exception": false,
     "start_time": "2024-10-16T20:50:54.478255",
     "status": "completed"
    },
    "tags": []
   },
   "outputs": [
    {
     "name": "stdout",
     "output_type": "stream",
     "text": [
      "<class 'pandas.core.frame.DataFrame'>\n",
      "RangeIndex: 58645 entries, 0 to 58644\n",
      "Data columns (total 11 columns):\n",
      " #   Column                      Non-Null Count  Dtype  \n",
      "---  ------                      --------------  -----  \n",
      " 0   person_age                  58645 non-null  int64  \n",
      " 1   person_income               58645 non-null  int64  \n",
      " 2   person_home_ownership       58645 non-null  object \n",
      " 3   person_emp_length           58645 non-null  float64\n",
      " 4   loan_intent                 58645 non-null  object \n",
      " 5   loan_grade                  58645 non-null  object \n",
      " 6   loan_amnt                   58645 non-null  int64  \n",
      " 7   loan_int_rate               58645 non-null  float64\n",
      " 8   loan_percent_income         58645 non-null  float64\n",
      " 9   cb_person_default_on_file   58645 non-null  object \n",
      " 10  cb_person_cred_hist_length  58645 non-null  int64  \n",
      "dtypes: float64(3), int64(4), object(4)\n",
      "memory usage: 4.9+ MB\n"
     ]
    }
   ],
   "source": [
    "X.info()"
   ]
  },
  {
   "cell_type": "code",
   "execution_count": 20,
   "id": "18e8a331",
   "metadata": {
    "execution": {
     "iopub.execute_input": "2024-10-16T20:50:54.596863Z",
     "iopub.status.busy": "2024-10-16T20:50:54.596417Z",
     "iopub.status.idle": "2024-10-16T20:50:54.626430Z",
     "shell.execute_reply": "2024-10-16T20:50:54.625111Z"
    },
    "papermill": {
     "duration": 0.057759,
     "end_time": "2024-10-16T20:50:54.629523",
     "exception": false,
     "start_time": "2024-10-16T20:50:54.571764",
     "status": "completed"
    },
    "tags": []
   },
   "outputs": [
    {
     "name": "stdout",
     "output_type": "stream",
     "text": [
      "<class 'pandas.core.frame.DataFrame'>\n",
      "RangeIndex: 39098 entries, 0 to 39097\n",
      "Data columns (total 11 columns):\n",
      " #   Column                      Non-Null Count  Dtype  \n",
      "---  ------                      --------------  -----  \n",
      " 0   person_age                  39098 non-null  int64  \n",
      " 1   person_income               39098 non-null  int64  \n",
      " 2   person_home_ownership       39098 non-null  object \n",
      " 3   person_emp_length           39098 non-null  float64\n",
      " 4   loan_intent                 39098 non-null  object \n",
      " 5   loan_grade                  39098 non-null  object \n",
      " 6   loan_amnt                   39098 non-null  int64  \n",
      " 7   loan_int_rate               39098 non-null  float64\n",
      " 8   loan_percent_income         39098 non-null  float64\n",
      " 9   cb_person_default_on_file   39098 non-null  object \n",
      " 10  cb_person_cred_hist_length  39098 non-null  int64  \n",
      "dtypes: float64(3), int64(4), object(4)\n",
      "memory usage: 3.3+ MB\n"
     ]
    }
   ],
   "source": [
    "df_test.info()"
   ]
  },
  {
   "cell_type": "code",
   "execution_count": 21,
   "id": "753987cf",
   "metadata": {
    "execution": {
     "iopub.execute_input": "2024-10-16T20:50:54.679104Z",
     "iopub.status.busy": "2024-10-16T20:50:54.678668Z",
     "iopub.status.idle": "2024-10-16T20:50:54.684231Z",
     "shell.execute_reply": "2024-10-16T20:50:54.683016Z"
    },
    "papermill": {
     "duration": 0.034416,
     "end_time": "2024-10-16T20:50:54.686990",
     "exception": false,
     "start_time": "2024-10-16T20:50:54.652574",
     "status": "completed"
    },
    "tags": []
   },
   "outputs": [],
   "source": [
    "# df_train.drop([\"person_home_ownership\", \"loan_intent\", \"loan_grade\", \"cb_person_default_on_file\"], axis=1, inplace=True)\n",
    "# df_test.drop([\"person_home_ownership\", \"loan_intent\", \"loan_grade\", \"cb_person_default_on_file\"], axis=1, inplace=True)"
   ]
  },
  {
   "cell_type": "markdown",
   "id": "d2c6f3ce",
   "metadata": {
    "papermill": {
     "duration": 0.022973,
     "end_time": "2024-10-16T20:50:54.733473",
     "exception": false,
     "start_time": "2024-10-16T20:50:54.710500",
     "status": "completed"
    },
    "tags": []
   },
   "source": [
    "# 3. Data Processing"
   ]
  },
  {
   "cell_type": "markdown",
   "id": "2cc2da7e",
   "metadata": {
    "papermill": {
     "duration": 0.02298,
     "end_time": "2024-10-16T20:50:54.780135",
     "exception": false,
     "start_time": "2024-10-16T20:50:54.757155",
     "status": "completed"
    },
    "tags": []
   },
   "source": [
    "## 3.0 Data Types"
   ]
  },
  {
   "cell_type": "code",
   "execution_count": 22,
   "id": "975ba928",
   "metadata": {
    "execution": {
     "iopub.execute_input": "2024-10-16T20:50:54.829165Z",
     "iopub.status.busy": "2024-10-16T20:50:54.828682Z",
     "iopub.status.idle": "2024-10-16T20:50:54.841002Z",
     "shell.execute_reply": "2024-10-16T20:50:54.839814Z"
    },
    "papermill": {
     "duration": 0.040833,
     "end_time": "2024-10-16T20:50:54.844015",
     "exception": false,
     "start_time": "2024-10-16T20:50:54.803182",
     "status": "completed"
    },
    "tags": []
   },
   "outputs": [
    {
     "name": "stdout",
     "output_type": "stream",
     "text": [
      "11\n",
      "(58645, 11)\n"
     ]
    }
   ],
   "source": [
    "int_cols = X.select_dtypes('int64').columns.to_list()\n",
    "float_cols = X.select_dtypes('float64').columns.to_list()\n",
    "\n",
    "obj_cols = X.select_dtypes('object').columns.to_list()\n",
    "\n",
    "print(len(int_cols) + len(float_cols) + len(obj_cols))\n",
    "print(X.shape)"
   ]
  },
  {
   "cell_type": "code",
   "execution_count": 23,
   "id": "f4b68fe6",
   "metadata": {
    "execution": {
     "iopub.execute_input": "2024-10-16T20:50:54.892487Z",
     "iopub.status.busy": "2024-10-16T20:50:54.892030Z",
     "iopub.status.idle": "2024-10-16T20:50:54.899128Z",
     "shell.execute_reply": "2024-10-16T20:50:54.898096Z"
    },
    "papermill": {
     "duration": 0.034071,
     "end_time": "2024-10-16T20:50:54.901667",
     "exception": false,
     "start_time": "2024-10-16T20:50:54.867596",
     "status": "completed"
    },
    "tags": []
   },
   "outputs": [],
   "source": [
    "temp = X.copy()"
   ]
  },
  {
   "cell_type": "markdown",
   "id": "f5253ff6",
   "metadata": {
    "papermill": {
     "duration": 0.022873,
     "end_time": "2024-10-16T20:50:54.947419",
     "exception": false,
     "start_time": "2024-10-16T20:50:54.924546",
     "status": "completed"
    },
    "tags": []
   },
   "source": [
    "## 3.1 Feature Engineering"
   ]
  },
  {
   "cell_type": "code",
   "execution_count": 24,
   "id": "bd9a7503",
   "metadata": {
    "execution": {
     "iopub.execute_input": "2024-10-16T20:50:54.994888Z",
     "iopub.status.busy": "2024-10-16T20:50:54.994429Z",
     "iopub.status.idle": "2024-10-16T20:50:55.005327Z",
     "shell.execute_reply": "2024-10-16T20:50:55.003942Z"
    },
    "papermill": {
     "duration": 0.037769,
     "end_time": "2024-10-16T20:50:55.008012",
     "exception": false,
     "start_time": "2024-10-16T20:50:54.970243",
     "status": "completed"
    },
    "tags": []
   },
   "outputs": [],
   "source": [
    "def transform(df):\n",
    "    df['loan_to_income'] = ((df['loan_amnt'] / df['person_income']) - df['loan_percent_income'])\n",
    "    df['age_income_interaction'] = (df['person_age'] * df['person_income'])\n",
    "    df['loan_to_emp_length_ratio'] = (df['loan_amnt'] / (0.1 + df['person_emp_length']).astype('float'))\n",
    "    df['monthly_debt'] = (df['loan_amnt'] * (1 + df['loan_int_rate']) / 12)\n",
    "    \n",
    "    monthly_income = df['person_income'] / 12\n",
    "    df['dti_ratio'] = (df['monthly_debt'] / monthly_income)\n",
    "    \n",
    "    df['monthly_debt'] = (df['loan_amnt'] * (1 + df['loan_int_rate']) / 12)\n",
    "    df['risk_flag'] = (np.where((df['cb_person_default_on_file'] == 'Y') & (df['loan_grade'].isin(['C', 'D', 'E'])), 1, 0))\n",
    "    \n",
    "    \n",
    "    df['loan_int_rate'] = (df['loan_int_rate'] * 100)\n",
    "    df['loan_percent_income'] = (df['loan_percent_income'] * 100)\n",
    "    return df"
   ]
  },
  {
   "cell_type": "code",
   "execution_count": 25,
   "id": "6d1ae4d1",
   "metadata": {
    "execution": {
     "iopub.execute_input": "2024-10-16T20:50:55.057414Z",
     "iopub.status.busy": "2024-10-16T20:50:55.056929Z",
     "iopub.status.idle": "2024-10-16T20:50:55.111921Z",
     "shell.execute_reply": "2024-10-16T20:50:55.110807Z"
    },
    "papermill": {
     "duration": 0.082892,
     "end_time": "2024-10-16T20:50:55.114806",
     "exception": false,
     "start_time": "2024-10-16T20:50:55.031914",
     "status": "completed"
    },
    "tags": []
   },
   "outputs": [
    {
     "name": "stdout",
     "output_type": "stream",
     "text": [
      "(58645, 17)\n"
     ]
    },
    {
     "data": {
      "text/html": [
       "<div>\n",
       "<style scoped>\n",
       "    .dataframe tbody tr th:only-of-type {\n",
       "        vertical-align: middle;\n",
       "    }\n",
       "\n",
       "    .dataframe tbody tr th {\n",
       "        vertical-align: top;\n",
       "    }\n",
       "\n",
       "    .dataframe thead th {\n",
       "        text-align: right;\n",
       "    }\n",
       "</style>\n",
       "<table border=\"1\" class=\"dataframe\">\n",
       "  <thead>\n",
       "    <tr style=\"text-align: right;\">\n",
       "      <th></th>\n",
       "      <th>person_age</th>\n",
       "      <th>person_income</th>\n",
       "      <th>person_home_ownership</th>\n",
       "      <th>person_emp_length</th>\n",
       "      <th>loan_intent</th>\n",
       "      <th>loan_grade</th>\n",
       "      <th>loan_amnt</th>\n",
       "      <th>loan_int_rate</th>\n",
       "      <th>loan_percent_income</th>\n",
       "      <th>cb_person_default_on_file</th>\n",
       "      <th>cb_person_cred_hist_length</th>\n",
       "      <th>loan_to_income</th>\n",
       "      <th>age_income_interaction</th>\n",
       "      <th>loan_to_emp_length_ratio</th>\n",
       "      <th>monthly_debt</th>\n",
       "      <th>dti_ratio</th>\n",
       "      <th>risk_flag</th>\n",
       "    </tr>\n",
       "  </thead>\n",
       "  <tbody>\n",
       "    <tr>\n",
       "      <th>0</th>\n",
       "      <td>37</td>\n",
       "      <td>35000</td>\n",
       "      <td>RENT</td>\n",
       "      <td>0.0</td>\n",
       "      <td>EDUCATION</td>\n",
       "      <td>B</td>\n",
       "      <td>6000</td>\n",
       "      <td>1149.0</td>\n",
       "      <td>17.0</td>\n",
       "      <td>N</td>\n",
       "      <td>14</td>\n",
       "      <td>0.001429</td>\n",
       "      <td>1295000</td>\n",
       "      <td>60000.000000</td>\n",
       "      <td>6245.000000</td>\n",
       "      <td>2.141143</td>\n",
       "      <td>0</td>\n",
       "    </tr>\n",
       "    <tr>\n",
       "      <th>1</th>\n",
       "      <td>22</td>\n",
       "      <td>56000</td>\n",
       "      <td>OWN</td>\n",
       "      <td>6.0</td>\n",
       "      <td>MEDICAL</td>\n",
       "      <td>C</td>\n",
       "      <td>4000</td>\n",
       "      <td>1335.0</td>\n",
       "      <td>7.0</td>\n",
       "      <td>N</td>\n",
       "      <td>2</td>\n",
       "      <td>0.001429</td>\n",
       "      <td>1232000</td>\n",
       "      <td>655.737705</td>\n",
       "      <td>4783.333333</td>\n",
       "      <td>1.025000</td>\n",
       "      <td>0</td>\n",
       "    </tr>\n",
       "    <tr>\n",
       "      <th>2</th>\n",
       "      <td>29</td>\n",
       "      <td>28800</td>\n",
       "      <td>OWN</td>\n",
       "      <td>8.0</td>\n",
       "      <td>PERSONAL</td>\n",
       "      <td>A</td>\n",
       "      <td>6000</td>\n",
       "      <td>890.0</td>\n",
       "      <td>21.0</td>\n",
       "      <td>N</td>\n",
       "      <td>10</td>\n",
       "      <td>-0.001667</td>\n",
       "      <td>835200</td>\n",
       "      <td>740.740741</td>\n",
       "      <td>4950.000000</td>\n",
       "      <td>2.062500</td>\n",
       "      <td>0</td>\n",
       "    </tr>\n",
       "  </tbody>\n",
       "</table>\n",
       "</div>"
      ],
      "text/plain": [
       "   person_age  person_income person_home_ownership  person_emp_length  \\\n",
       "0          37          35000                  RENT                0.0   \n",
       "1          22          56000                   OWN                6.0   \n",
       "2          29          28800                   OWN                8.0   \n",
       "\n",
       "  loan_intent loan_grade  loan_amnt  loan_int_rate  loan_percent_income  \\\n",
       "0   EDUCATION          B       6000         1149.0                 17.0   \n",
       "1     MEDICAL          C       4000         1335.0                  7.0   \n",
       "2    PERSONAL          A       6000          890.0                 21.0   \n",
       "\n",
       "  cb_person_default_on_file  cb_person_cred_hist_length  loan_to_income  \\\n",
       "0                         N                          14        0.001429   \n",
       "1                         N                           2        0.001429   \n",
       "2                         N                          10       -0.001667   \n",
       "\n",
       "   age_income_interaction  loan_to_emp_length_ratio  monthly_debt  dti_ratio  \\\n",
       "0                 1295000              60000.000000   6245.000000   2.141143   \n",
       "1                 1232000                655.737705   4783.333333   1.025000   \n",
       "2                  835200                740.740741   4950.000000   2.062500   \n",
       "\n",
       "   risk_flag  \n",
       "0          0  \n",
       "1          0  \n",
       "2          0  "
      ]
     },
     "execution_count": 25,
     "metadata": {},
     "output_type": "execute_result"
    }
   ],
   "source": [
    "temp = transform(temp)\n",
    "print(temp.shape)\n",
    "temp.head(3)"
   ]
  },
  {
   "cell_type": "code",
   "execution_count": 26,
   "id": "7fb157ae",
   "metadata": {
    "execution": {
     "iopub.execute_input": "2024-10-16T20:50:55.163926Z",
     "iopub.status.busy": "2024-10-16T20:50:55.163516Z",
     "iopub.status.idle": "2024-10-16T20:50:55.190426Z",
     "shell.execute_reply": "2024-10-16T20:50:55.189038Z"
    },
    "papermill": {
     "duration": 0.055202,
     "end_time": "2024-10-16T20:50:55.193190",
     "exception": false,
     "start_time": "2024-10-16T20:50:55.137988",
     "status": "completed"
    },
    "tags": []
   },
   "outputs": [
    {
     "name": "stdout",
     "output_type": "stream",
     "text": [
      "17\n",
      "(58645, 17)\n"
     ]
    }
   ],
   "source": [
    "int_cols = temp.select_dtypes('int64').columns.to_list()\n",
    "float_cols = temp.select_dtypes('float64').columns.to_list()\n",
    "\n",
    "obj_cols = temp.select_dtypes('object').columns.to_list()\n",
    "\n",
    "print(len(int_cols) + len(float_cols) + len(obj_cols))\n",
    "print(temp.shape)"
   ]
  },
  {
   "cell_type": "markdown",
   "id": "7e774d54",
   "metadata": {
    "papermill": {
     "duration": 0.02473,
     "end_time": "2024-10-16T20:50:55.241930",
     "exception": false,
     "start_time": "2024-10-16T20:50:55.217200",
     "status": "completed"
    },
    "tags": []
   },
   "source": [
    "## 3.2 Converting The Features Into Numericals"
   ]
  },
  {
   "cell_type": "markdown",
   "id": "7e9addbd",
   "metadata": {
    "papermill": {
     "duration": 0.023584,
     "end_time": "2024-10-16T20:50:55.288944",
     "exception": false,
     "start_time": "2024-10-16T20:50:55.265360",
     "status": "completed"
    },
    "tags": []
   },
   "source": [
    "### 3.2.1 Numerical Columns"
   ]
  },
  {
   "cell_type": "code",
   "execution_count": 27,
   "id": "f08899e1",
   "metadata": {
    "execution": {
     "iopub.execute_input": "2024-10-16T20:50:55.337713Z",
     "iopub.status.busy": "2024-10-16T20:50:55.337241Z",
     "iopub.status.idle": "2024-10-16T20:50:55.351472Z",
     "shell.execute_reply": "2024-10-16T20:50:55.350265Z"
    },
    "papermill": {
     "duration": 0.041624,
     "end_time": "2024-10-16T20:50:55.354129",
     "exception": false,
     "start_time": "2024-10-16T20:50:55.312505",
     "status": "completed"
    },
    "tags": []
   },
   "outputs": [
    {
     "data": {
      "text/html": [
       "<div>\n",
       "<style scoped>\n",
       "    .dataframe tbody tr th:only-of-type {\n",
       "        vertical-align: middle;\n",
       "    }\n",
       "\n",
       "    .dataframe tbody tr th {\n",
       "        vertical-align: top;\n",
       "    }\n",
       "\n",
       "    .dataframe thead th {\n",
       "        text-align: right;\n",
       "    }\n",
       "</style>\n",
       "<table border=\"1\" class=\"dataframe\">\n",
       "  <thead>\n",
       "    <tr style=\"text-align: right;\">\n",
       "      <th></th>\n",
       "      <th>person_age</th>\n",
       "      <th>person_income</th>\n",
       "      <th>loan_amnt</th>\n",
       "      <th>cb_person_cred_hist_length</th>\n",
       "      <th>age_income_interaction</th>\n",
       "      <th>risk_flag</th>\n",
       "    </tr>\n",
       "  </thead>\n",
       "  <tbody>\n",
       "    <tr>\n",
       "      <th>0</th>\n",
       "      <td>37</td>\n",
       "      <td>35000</td>\n",
       "      <td>6000</td>\n",
       "      <td>14</td>\n",
       "      <td>1295000</td>\n",
       "      <td>0</td>\n",
       "    </tr>\n",
       "    <tr>\n",
       "      <th>1</th>\n",
       "      <td>22</td>\n",
       "      <td>56000</td>\n",
       "      <td>4000</td>\n",
       "      <td>2</td>\n",
       "      <td>1232000</td>\n",
       "      <td>0</td>\n",
       "    </tr>\n",
       "    <tr>\n",
       "      <th>2</th>\n",
       "      <td>29</td>\n",
       "      <td>28800</td>\n",
       "      <td>6000</td>\n",
       "      <td>10</td>\n",
       "      <td>835200</td>\n",
       "      <td>0</td>\n",
       "    </tr>\n",
       "  </tbody>\n",
       "</table>\n",
       "</div>"
      ],
      "text/plain": [
       "   person_age  person_income  loan_amnt  cb_person_cred_hist_length  \\\n",
       "0          37          35000       6000                          14   \n",
       "1          22          56000       4000                           2   \n",
       "2          29          28800       6000                          10   \n",
       "\n",
       "   age_income_interaction  risk_flag  \n",
       "0                 1295000          0  \n",
       "1                 1232000          0  \n",
       "2                  835200          0  "
      ]
     },
     "execution_count": 27,
     "metadata": {},
     "output_type": "execute_result"
    }
   ],
   "source": [
    "temp[int_cols].head(3)"
   ]
  },
  {
   "cell_type": "code",
   "execution_count": 28,
   "id": "20fe0819",
   "metadata": {
    "execution": {
     "iopub.execute_input": "2024-10-16T20:50:55.403992Z",
     "iopub.status.busy": "2024-10-16T20:50:55.403520Z",
     "iopub.status.idle": "2024-10-16T20:50:55.424241Z",
     "shell.execute_reply": "2024-10-16T20:50:55.423025Z"
    },
    "papermill": {
     "duration": 0.049253,
     "end_time": "2024-10-16T20:50:55.427038",
     "exception": false,
     "start_time": "2024-10-16T20:50:55.377785",
     "status": "completed"
    },
    "tags": []
   },
   "outputs": [
    {
     "data": {
      "text/html": [
       "<div>\n",
       "<style scoped>\n",
       "    .dataframe tbody tr th:only-of-type {\n",
       "        vertical-align: middle;\n",
       "    }\n",
       "\n",
       "    .dataframe tbody tr th {\n",
       "        vertical-align: top;\n",
       "    }\n",
       "\n",
       "    .dataframe thead th {\n",
       "        text-align: right;\n",
       "    }\n",
       "</style>\n",
       "<table border=\"1\" class=\"dataframe\">\n",
       "  <thead>\n",
       "    <tr style=\"text-align: right;\">\n",
       "      <th></th>\n",
       "      <th>person_emp_length</th>\n",
       "      <th>loan_int_rate</th>\n",
       "      <th>loan_percent_income</th>\n",
       "      <th>loan_to_income</th>\n",
       "      <th>loan_to_emp_length_ratio</th>\n",
       "      <th>monthly_debt</th>\n",
       "      <th>dti_ratio</th>\n",
       "    </tr>\n",
       "  </thead>\n",
       "  <tbody>\n",
       "    <tr>\n",
       "      <th>0</th>\n",
       "      <td>0.0</td>\n",
       "      <td>1149.0</td>\n",
       "      <td>17.0</td>\n",
       "      <td>0.001429</td>\n",
       "      <td>60000.000000</td>\n",
       "      <td>6245.000000</td>\n",
       "      <td>2.141143</td>\n",
       "    </tr>\n",
       "    <tr>\n",
       "      <th>1</th>\n",
       "      <td>6.0</td>\n",
       "      <td>1335.0</td>\n",
       "      <td>7.0</td>\n",
       "      <td>0.001429</td>\n",
       "      <td>655.737705</td>\n",
       "      <td>4783.333333</td>\n",
       "      <td>1.025000</td>\n",
       "    </tr>\n",
       "    <tr>\n",
       "      <th>2</th>\n",
       "      <td>8.0</td>\n",
       "      <td>890.0</td>\n",
       "      <td>21.0</td>\n",
       "      <td>-0.001667</td>\n",
       "      <td>740.740741</td>\n",
       "      <td>4950.000000</td>\n",
       "      <td>2.062500</td>\n",
       "    </tr>\n",
       "  </tbody>\n",
       "</table>\n",
       "</div>"
      ],
      "text/plain": [
       "   person_emp_length  loan_int_rate  loan_percent_income  loan_to_income  \\\n",
       "0                0.0         1149.0                 17.0        0.001429   \n",
       "1                6.0         1335.0                  7.0        0.001429   \n",
       "2                8.0          890.0                 21.0       -0.001667   \n",
       "\n",
       "   loan_to_emp_length_ratio  monthly_debt  dti_ratio  \n",
       "0              60000.000000   6245.000000   2.141143  \n",
       "1                655.737705   4783.333333   1.025000  \n",
       "2                740.740741   4950.000000   2.062500  "
      ]
     },
     "execution_count": 28,
     "metadata": {},
     "output_type": "execute_result"
    }
   ],
   "source": [
    "temp[float_cols].head(3)"
   ]
  },
  {
   "cell_type": "markdown",
   "id": "8e437b95",
   "metadata": {
    "papermill": {
     "duration": 0.024159,
     "end_time": "2024-10-16T20:50:55.475164",
     "exception": false,
     "start_time": "2024-10-16T20:50:55.451005",
     "status": "completed"
    },
    "tags": []
   },
   "source": [
    "No extra transformation required"
   ]
  },
  {
   "cell_type": "markdown",
   "id": "18ed281d",
   "metadata": {
    "papermill": {
     "duration": 0.023737,
     "end_time": "2024-10-16T20:50:55.523092",
     "exception": false,
     "start_time": "2024-10-16T20:50:55.499355",
     "status": "completed"
    },
    "tags": []
   },
   "source": [
    "### 3.2.2 Categorical Columns"
   ]
  },
  {
   "cell_type": "code",
   "execution_count": 29,
   "id": "27cf90e0",
   "metadata": {
    "execution": {
     "iopub.execute_input": "2024-10-16T20:50:55.573152Z",
     "iopub.status.busy": "2024-10-16T20:50:55.572258Z",
     "iopub.status.idle": "2024-10-16T20:50:55.658349Z",
     "shell.execute_reply": "2024-10-16T20:50:55.657129Z"
    },
    "papermill": {
     "duration": 0.114286,
     "end_time": "2024-10-16T20:50:55.661159",
     "exception": false,
     "start_time": "2024-10-16T20:50:55.546873",
     "status": "completed"
    },
    "tags": []
   },
   "outputs": [
    {
     "data": {
      "text/html": [
       "<div>\n",
       "<style scoped>\n",
       "    .dataframe tbody tr th:only-of-type {\n",
       "        vertical-align: middle;\n",
       "    }\n",
       "\n",
       "    .dataframe tbody tr th {\n",
       "        vertical-align: top;\n",
       "    }\n",
       "\n",
       "    .dataframe thead th {\n",
       "        text-align: right;\n",
       "    }\n",
       "</style>\n",
       "<table border=\"1\" class=\"dataframe\">\n",
       "  <thead>\n",
       "    <tr style=\"text-align: right;\">\n",
       "      <th></th>\n",
       "      <th>Feat</th>\n",
       "      <th>count</th>\n",
       "      <th>unique</th>\n",
       "      <th>top</th>\n",
       "      <th>freq</th>\n",
       "    </tr>\n",
       "  </thead>\n",
       "  <tbody>\n",
       "    <tr>\n",
       "      <th>0</th>\n",
       "      <td>person_home_ownership</td>\n",
       "      <td>58645</td>\n",
       "      <td>4</td>\n",
       "      <td>RENT</td>\n",
       "      <td>30594</td>\n",
       "    </tr>\n",
       "    <tr>\n",
       "      <th>1</th>\n",
       "      <td>loan_intent</td>\n",
       "      <td>58645</td>\n",
       "      <td>6</td>\n",
       "      <td>EDUCATION</td>\n",
       "      <td>12271</td>\n",
       "    </tr>\n",
       "    <tr>\n",
       "      <th>2</th>\n",
       "      <td>loan_grade</td>\n",
       "      <td>58645</td>\n",
       "      <td>7</td>\n",
       "      <td>A</td>\n",
       "      <td>20984</td>\n",
       "    </tr>\n",
       "    <tr>\n",
       "      <th>3</th>\n",
       "      <td>cb_person_default_on_file</td>\n",
       "      <td>58645</td>\n",
       "      <td>2</td>\n",
       "      <td>N</td>\n",
       "      <td>49943</td>\n",
       "    </tr>\n",
       "  </tbody>\n",
       "</table>\n",
       "</div>"
      ],
      "text/plain": [
       "                        Feat  count unique        top   freq\n",
       "0      person_home_ownership  58645      4       RENT  30594\n",
       "1                loan_intent  58645      6  EDUCATION  12271\n",
       "2                 loan_grade  58645      7          A  20984\n",
       "3  cb_person_default_on_file  58645      2          N  49943"
      ]
     },
     "execution_count": 29,
     "metadata": {},
     "output_type": "execute_result"
    }
   ],
   "source": [
    "string_feat = temp[obj_cols].describe().T.reset_index().rename(columns = {'index': 'Feat'})\n",
    "string_feat.head()"
   ]
  },
  {
   "cell_type": "code",
   "execution_count": 30,
   "id": "87bfab4c",
   "metadata": {
    "execution": {
     "iopub.execute_input": "2024-10-16T20:50:55.711478Z",
     "iopub.status.busy": "2024-10-16T20:50:55.711024Z",
     "iopub.status.idle": "2024-10-16T20:50:55.757738Z",
     "shell.execute_reply": "2024-10-16T20:50:55.756433Z"
    },
    "papermill": {
     "duration": 0.075405,
     "end_time": "2024-10-16T20:50:55.760708",
     "exception": false,
     "start_time": "2024-10-16T20:50:55.685303",
     "status": "completed"
    },
    "tags": []
   },
   "outputs": [
    {
     "name": "stdout",
     "output_type": "stream",
     "text": [
      "person_home_ownership\n",
      "RENT        0.521681\n",
      "MORTGAGE    0.423293\n",
      "OWN         0.053508\n",
      "OTHER       0.001518\n",
      "Name: proportion, dtype: float64\n",
      "********************\n",
      "loan_intent\n",
      "EDUCATION            0.209242\n",
      "MEDICAL              0.186444\n",
      "PERSONAL             0.170790\n",
      "VENTURE              0.170705\n",
      "DEBTCONSOLIDATION    0.155734\n",
      "HOMEIMPROVEMENT      0.107085\n",
      "Name: proportion, dtype: float64\n",
      "********************\n",
      "loan_grade\n",
      "A    0.357814\n",
      "B    0.347856\n",
      "C    0.188183\n",
      "D    0.085839\n",
      "E    0.017205\n",
      "F    0.002541\n",
      "G    0.000563\n",
      "Name: proportion, dtype: float64\n",
      "********************\n",
      "cb_person_default_on_file\n",
      "N    0.851616\n",
      "Y    0.148384\n",
      "Name: proportion, dtype: float64\n",
      "********************\n"
     ]
    }
   ],
   "source": [
    "for cat in obj_cols:\n",
    "#     print(cat)\n",
    "    print(temp[cat].value_counts(normalize=True))\n",
    "    print(\"*\"*20)"
   ]
  },
  {
   "cell_type": "code",
   "execution_count": 31,
   "id": "4223cd27",
   "metadata": {
    "execution": {
     "iopub.execute_input": "2024-10-16T20:50:55.813244Z",
     "iopub.status.busy": "2024-10-16T20:50:55.812768Z",
     "iopub.status.idle": "2024-10-16T20:50:55.872764Z",
     "shell.execute_reply": "2024-10-16T20:50:55.871611Z"
    },
    "papermill": {
     "duration": 0.090202,
     "end_time": "2024-10-16T20:50:55.875846",
     "exception": false,
     "start_time": "2024-10-16T20:50:55.785644",
     "status": "completed"
    },
    "tags": []
   },
   "outputs": [
    {
     "name": "stdout",
     "output_type": "stream",
     "text": [
      "(58645, 15)\n"
     ]
    },
    {
     "data": {
      "text/html": [
       "<div>\n",
       "<style scoped>\n",
       "    .dataframe tbody tr th:only-of-type {\n",
       "        vertical-align: middle;\n",
       "    }\n",
       "\n",
       "    .dataframe tbody tr th {\n",
       "        vertical-align: top;\n",
       "    }\n",
       "\n",
       "    .dataframe thead th {\n",
       "        text-align: right;\n",
       "    }\n",
       "</style>\n",
       "<table border=\"1\" class=\"dataframe\">\n",
       "  <thead>\n",
       "    <tr style=\"text-align: right;\">\n",
       "      <th></th>\n",
       "      <th>person_home_ownership_OTHER</th>\n",
       "      <th>person_home_ownership_OWN</th>\n",
       "      <th>person_home_ownership_RENT</th>\n",
       "      <th>loan_intent_EDUCATION</th>\n",
       "      <th>loan_intent_HOMEIMPROVEMENT</th>\n",
       "      <th>loan_intent_MEDICAL</th>\n",
       "      <th>loan_intent_PERSONAL</th>\n",
       "      <th>loan_intent_VENTURE</th>\n",
       "      <th>loan_grade_B</th>\n",
       "      <th>loan_grade_C</th>\n",
       "      <th>loan_grade_D</th>\n",
       "      <th>loan_grade_E</th>\n",
       "      <th>loan_grade_F</th>\n",
       "      <th>loan_grade_G</th>\n",
       "      <th>cb_person_default_on_file_Y</th>\n",
       "    </tr>\n",
       "  </thead>\n",
       "  <tbody>\n",
       "    <tr>\n",
       "      <th>0</th>\n",
       "      <td>0</td>\n",
       "      <td>0</td>\n",
       "      <td>1</td>\n",
       "      <td>1</td>\n",
       "      <td>0</td>\n",
       "      <td>0</td>\n",
       "      <td>0</td>\n",
       "      <td>0</td>\n",
       "      <td>1</td>\n",
       "      <td>0</td>\n",
       "      <td>0</td>\n",
       "      <td>0</td>\n",
       "      <td>0</td>\n",
       "      <td>0</td>\n",
       "      <td>0</td>\n",
       "    </tr>\n",
       "    <tr>\n",
       "      <th>1</th>\n",
       "      <td>0</td>\n",
       "      <td>1</td>\n",
       "      <td>0</td>\n",
       "      <td>0</td>\n",
       "      <td>0</td>\n",
       "      <td>1</td>\n",
       "      <td>0</td>\n",
       "      <td>0</td>\n",
       "      <td>0</td>\n",
       "      <td>1</td>\n",
       "      <td>0</td>\n",
       "      <td>0</td>\n",
       "      <td>0</td>\n",
       "      <td>0</td>\n",
       "      <td>0</td>\n",
       "    </tr>\n",
       "    <tr>\n",
       "      <th>2</th>\n",
       "      <td>0</td>\n",
       "      <td>1</td>\n",
       "      <td>0</td>\n",
       "      <td>0</td>\n",
       "      <td>0</td>\n",
       "      <td>0</td>\n",
       "      <td>1</td>\n",
       "      <td>0</td>\n",
       "      <td>0</td>\n",
       "      <td>0</td>\n",
       "      <td>0</td>\n",
       "      <td>0</td>\n",
       "      <td>0</td>\n",
       "      <td>0</td>\n",
       "      <td>0</td>\n",
       "    </tr>\n",
       "  </tbody>\n",
       "</table>\n",
       "</div>"
      ],
      "text/plain": [
       "   person_home_ownership_OTHER  person_home_ownership_OWN  \\\n",
       "0                            0                          0   \n",
       "1                            0                          1   \n",
       "2                            0                          1   \n",
       "\n",
       "   person_home_ownership_RENT  loan_intent_EDUCATION  \\\n",
       "0                           1                      1   \n",
       "1                           0                      0   \n",
       "2                           0                      0   \n",
       "\n",
       "   loan_intent_HOMEIMPROVEMENT  loan_intent_MEDICAL  loan_intent_PERSONAL  \\\n",
       "0                            0                    0                     0   \n",
       "1                            0                    1                     0   \n",
       "2                            0                    0                     1   \n",
       "\n",
       "   loan_intent_VENTURE  loan_grade_B  loan_grade_C  loan_grade_D  \\\n",
       "0                    0             1             0             0   \n",
       "1                    0             0             1             0   \n",
       "2                    0             0             0             0   \n",
       "\n",
       "   loan_grade_E  loan_grade_F  loan_grade_G  cb_person_default_on_file_Y  \n",
       "0             0             0             0                            0  \n",
       "1             0             0             0                            0  \n",
       "2             0             0             0                            0  "
      ]
     },
     "execution_count": 31,
     "metadata": {},
     "output_type": "execute_result"
    }
   ],
   "source": [
    "cat_data = pd.get_dummies(\n",
    "            temp[obj_cols],\n",
    "            drop_first = True\n",
    ")\n",
    "cat_data = cat_data.astype(int)\n",
    "print(cat_data.shape)\n",
    "cat_data.head(3)"
   ]
  },
  {
   "cell_type": "code",
   "execution_count": null,
   "id": "01d16b6c",
   "metadata": {
    "papermill": {
     "duration": 0.024999,
     "end_time": "2024-10-16T20:50:55.925828",
     "exception": false,
     "start_time": "2024-10-16T20:50:55.900829",
     "status": "completed"
    },
    "tags": []
   },
   "outputs": [],
   "source": []
  },
  {
   "cell_type": "markdown",
   "id": "2b3377b8",
   "metadata": {
    "papermill": {
     "duration": 0.02518,
     "end_time": "2024-10-16T20:50:55.975811",
     "exception": false,
     "start_time": "2024-10-16T20:50:55.950631",
     "status": "completed"
    },
    "tags": []
   },
   "source": [
    "## 3.4 Remove High Corr. Data"
   ]
  },
  {
   "cell_type": "code",
   "execution_count": 32,
   "id": "ec4d91f0",
   "metadata": {
    "execution": {
     "iopub.execute_input": "2024-10-16T20:50:56.027556Z",
     "iopub.status.busy": "2024-10-16T20:50:56.027084Z",
     "iopub.status.idle": "2024-10-16T20:50:56.216375Z",
     "shell.execute_reply": "2024-10-16T20:50:56.215126Z"
    },
    "papermill": {
     "duration": 0.218535,
     "end_time": "2024-10-16T20:50:56.219511",
     "exception": false,
     "start_time": "2024-10-16T20:50:56.000976",
     "status": "completed"
    },
    "tags": []
   },
   "outputs": [
    {
     "name": "stdout",
     "output_type": "stream",
     "text": [
      "Low Corr. Feat. :\n",
      "\n",
      "person_age                    -0.001130\n",
      "cb_person_cred_hist_length    -0.003030\n",
      "loan_to_income                 0.031176\n",
      "person_home_ownership_OTHER    0.002918\n",
      "loan_intent_HOMEIMPROVEMENT    0.031063\n",
      "loan_intent_MEDICAL            0.049139\n",
      "loan_intent_PERSONAL          -0.012461\n",
      "loan_grade_C                  -0.009654\n",
      "loan_grade_G                   0.045889\n",
      "Name: loan_status, dtype: float64\n",
      "1st Stage Feat. :\n",
      "\n",
      "20 \n",
      " person_income                 -0.169956\n",
      "loan_amnt                      0.144982\n",
      "age_income_interaction        -0.150138\n",
      "risk_flag                      0.180697\n",
      "person_emp_length             -0.100428\n",
      "loan_int_rate                  0.338948\n",
      "loan_percent_income            0.378280\n",
      "loan_to_emp_length_ratio       0.098961\n",
      "monthly_debt                   0.247493\n",
      "dti_ratio                      0.455077\n",
      "person_home_ownership_OWN     -0.087556\n",
      "person_home_ownership_RENT     0.239620\n",
      "loan_intent_EDUCATION         -0.051005\n",
      "loan_intent_VENTURE           -0.064378\n",
      "loan_grade_B                  -0.083765\n",
      "loan_grade_D                   0.395646\n",
      "loan_grade_E                   0.182878\n",
      "loan_grade_F                   0.067644\n",
      "cb_person_default_on_file_Y    0.186962\n",
      "loan_status                    1.000000\n",
      "Name: loan_status, dtype: float64\n"
     ]
    }
   ],
   "source": [
    "combined_df = pd.concat([temp[int_cols], temp[float_cols], cat_data, target_df['loan_status']], axis=1)\n",
    "corr_matrix = combined_df.corr()\n",
    "\n",
    "corr_with_target = corr_matrix['loan_status']\n",
    "low_corr = corr_with_target[corr_with_target.abs() < 0.05]\n",
    "\n",
    "filter_feat = corr_with_target[corr_with_target.abs() >= 0.05]\n",
    "# filter_feat.drop('loan_status', axis = 0)\n",
    "\n",
    "print('Low Corr. Feat. :\\n')\n",
    "print(low_corr)\n",
    "\n",
    "\n",
    "print('1st Stage Feat. :\\n')\n",
    "print(len(filter_feat), '\\n', filter_feat)"
   ]
  },
  {
   "cell_type": "code",
   "execution_count": 33,
   "id": "3e4fcb39",
   "metadata": {
    "execution": {
     "iopub.execute_input": "2024-10-16T20:50:56.273963Z",
     "iopub.status.busy": "2024-10-16T20:50:56.273531Z",
     "iopub.status.idle": "2024-10-16T20:50:56.284752Z",
     "shell.execute_reply": "2024-10-16T20:50:56.283565Z"
    },
    "papermill": {
     "duration": 0.040371,
     "end_time": "2024-10-16T20:50:56.287511",
     "exception": false,
     "start_time": "2024-10-16T20:50:56.247140",
     "status": "completed"
    },
    "tags": []
   },
   "outputs": [],
   "source": [
    "def filter_corr_columns(df, target='target', th = 0.7):\n",
    "    corr_matrix = df.corr().abs()\n",
    "    \n",
    "    target_corr = corr_matrix[target].drop(labels = [target])\n",
    "    columns_to_drop = set()\n",
    "    \n",
    "    for i in tqdm(range(len(corr_matrix.columns[:-1]))):\n",
    "        for j in range(i+1, len(corr_matrix.columns[:-1])):\n",
    "            col1 = corr_matrix.columns[i]\n",
    "            col2 = corr_matrix.columns[j]\n",
    "            \n",
    "            if corr_matrix.loc[col1, col2] > th:\n",
    "                print(f\"Corr. : {corr_matrix.loc[col1, col2]}\")\n",
    "                if target_corr[col1] > target_corr[col2]:\n",
    "                    columns_to_drop.add(col2)\n",
    "                    \n",
    "                    print(f\"Drop Column: {col2} (Corr With {target}: {target_corr[col2]:.2f}),\\\n",
    "                    \\Keep Column: {col1} (Corr with {target}: {target_corr[col1]:.2f})\")\n",
    "                else:\n",
    "                    columns_to_drop.add(col1)\n",
    "                    print(f\"Drop Column: {col1} (Corr With {target}: {target_corr[col1]:.2f}),\\\n",
    "                    Keep Column: {col2} (Corr with {target}: {target_corr[col2]:.2f})\")\n",
    "                    \n",
    "    df_filtered = df.drop(columns = columns_to_drop)\n",
    "    return df_filtered\n",
    "                \n",
    "    "
   ]
  },
  {
   "cell_type": "code",
   "execution_count": 34,
   "id": "98759706",
   "metadata": {
    "execution": {
     "iopub.execute_input": "2024-10-16T20:50:56.339564Z",
     "iopub.status.busy": "2024-10-16T20:50:56.339082Z",
     "iopub.status.idle": "2024-10-16T20:50:56.511900Z",
     "shell.execute_reply": "2024-10-16T20:50:56.510039Z"
    },
    "papermill": {
     "duration": 0.202767,
     "end_time": "2024-10-16T20:50:56.515399",
     "exception": false,
     "start_time": "2024-10-16T20:50:56.312632",
     "status": "completed"
    },
    "tags": []
   },
   "outputs": [
    {
     "name": "stderr",
     "output_type": "stream",
     "text": [
      "100%|██████████| 28/28 [00:00<00:00, 2352.81it/s]"
     ]
    },
    {
     "name": "stdout",
     "output_type": "stream",
     "text": [
      "Corr. : 0.8742597354896693\n",
      "Drop Column: person_age (Corr With loan_status: 0.00),                    Keep Column: cb_person_cred_hist_length (Corr with loan_status: 0.00)\n",
      "Corr. : 0.9281219270339907\n",
      "Drop Column: age_income_interaction (Corr With loan_status: 0.15),                    \\Keep Column: person_income (Corr with loan_status: 0.17)\n",
      "Corr. : 0.9118178264160725\n",
      "Drop Column: loan_amnt (Corr With loan_status: 0.14),                    Keep Column: monthly_debt (Corr with loan_status: 0.25)\n",
      "Corr. : 0.9926347196813035\n",
      "Drop Column: risk_flag (Corr With loan_status: 0.18),                    Keep Column: cb_person_default_on_file_Y (Corr with loan_status: 0.19)\n",
      "Corr. : 0.8722474107535992\n",
      "Drop Column: loan_percent_income (Corr With loan_status: 0.38),                    Keep Column: dti_ratio (Corr with loan_status: 0.46)\n",
      "Corr. : 0.7161217337082184\n",
      "Drop Column: monthly_debt (Corr With loan_status: 0.25),                    Keep Column: dti_ratio (Corr with loan_status: 0.46)\n"
     ]
    },
    {
     "name": "stderr",
     "output_type": "stream",
     "text": [
      "\n"
     ]
    }
   ],
   "source": [
    "num_table = filter_corr_columns(combined_df, target='loan_status', th = 0.7)"
   ]
  },
  {
   "cell_type": "code",
   "execution_count": 35,
   "id": "5b397c27",
   "metadata": {
    "execution": {
     "iopub.execute_input": "2024-10-16T20:50:56.569505Z",
     "iopub.status.busy": "2024-10-16T20:50:56.568156Z",
     "iopub.status.idle": "2024-10-16T20:50:56.579523Z",
     "shell.execute_reply": "2024-10-16T20:50:56.578348Z"
    },
    "papermill": {
     "duration": 0.041162,
     "end_time": "2024-10-16T20:50:56.582223",
     "exception": false,
     "start_time": "2024-10-16T20:50:56.541061",
     "status": "completed"
    },
    "tags": []
   },
   "outputs": [
    {
     "data": {
      "text/plain": [
       "22"
      ]
     },
     "execution_count": 35,
     "metadata": {},
     "output_type": "execute_result"
    }
   ],
   "source": [
    "num_table.drop('loan_status', axis = 1, inplace= True)\n",
    "len(num_table.columns)\n"
   ]
  },
  {
   "cell_type": "markdown",
   "id": "d0f7af97",
   "metadata": {
    "papermill": {
     "duration": 0.025379,
     "end_time": "2024-10-16T20:50:56.633705",
     "exception": false,
     "start_time": "2024-10-16T20:50:56.608326",
     "status": "completed"
    },
    "tags": []
   },
   "source": [
    "## 3.4 VIF"
   ]
  },
  {
   "cell_type": "code",
   "execution_count": 36,
   "id": "6f63d427",
   "metadata": {
    "execution": {
     "iopub.execute_input": "2024-10-16T20:50:56.686821Z",
     "iopub.status.busy": "2024-10-16T20:50:56.686368Z",
     "iopub.status.idle": "2024-10-16T20:50:56.695023Z",
     "shell.execute_reply": "2024-10-16T20:50:56.693689Z"
    },
    "papermill": {
     "duration": 0.038547,
     "end_time": "2024-10-16T20:50:56.697665",
     "exception": false,
     "start_time": "2024-10-16T20:50:56.659118",
     "status": "completed"
    },
    "tags": []
   },
   "outputs": [],
   "source": [
    "from sklearn.linear_model import LinearRegression\n",
    "from joblib import Parallel, delayed\n",
    "\n",
    "def compute_vif_parallel(df):\n",
    "    def compute_vif_single(column):\n",
    "        x_columns = [i for i in df.columns if i != column]\n",
    "        lr_model = LinearRegression().fit(df[x_columns], df[column])\n",
    "        r2 = lr_model.score(df[x_columns], df[column])\n",
    "        \n",
    "        vif = 1/(1 - r2)\n",
    "        return {\"Variable\":column, \"VIF\": vif}\n",
    "    num_cores = -1\n",
    "    vif_results = Parallel(n_jobs = num_cores)(\n",
    "        delayed(compute_vif_single)(col) for col in df.columns\n",
    "    )\n",
    "    \n",
    "    return vif_results"
   ]
  },
  {
   "cell_type": "code",
   "execution_count": 37,
   "id": "a883fd9c",
   "metadata": {
    "execution": {
     "iopub.execute_input": "2024-10-16T20:50:56.753051Z",
     "iopub.status.busy": "2024-10-16T20:50:56.752600Z",
     "iopub.status.idle": "2024-10-16T20:51:00.885956Z",
     "shell.execute_reply": "2024-10-16T20:51:00.884578Z"
    },
    "papermill": {
     "duration": 4.164067,
     "end_time": "2024-10-16T20:51:00.888875",
     "exception": false,
     "start_time": "2024-10-16T20:50:56.724808",
     "status": "completed"
    },
    "tags": []
   },
   "outputs": [
    {
     "name": "stdout",
     "output_type": "stream",
     "text": [
      "Dropped:  loan_int_rate VIF 11.047577512031427\n",
      "21\n"
     ]
    }
   ],
   "source": [
    "while True:\n",
    "    temp = compute_vif_parallel(num_table)\n",
    "    vif_data_sorted = pd.DataFrame(temp)\n",
    "    vif_data_sorted.sort_values(by ='VIF', ascending= False, inplace=True)\n",
    "    \n",
    "    \n",
    "    if vif_data_sorted.iloc[0, 1] > 6:\n",
    "        print(\"Dropped: \", vif_data_sorted.iloc[0,0], \"VIF\", vif_data_sorted.iloc[0,1])\n",
    "        drop_feat = vif_data_sorted.iloc[0,0]\n",
    "        num_table.drop(drop_feat, axis = 1, inplace=True)\n",
    "        print(num_table.shape[1])\n",
    "    else:\n",
    "        break"
   ]
  },
  {
   "cell_type": "markdown",
   "id": "a7e7a339",
   "metadata": {
    "papermill": {
     "duration": 0.025604,
     "end_time": "2024-10-16T20:51:00.940322",
     "exception": false,
     "start_time": "2024-10-16T20:51:00.914718",
     "status": "completed"
    },
    "tags": []
   },
   "source": [
    "## 3.5 Adjusting Test Set Accordingly"
   ]
  },
  {
   "cell_type": "code",
   "execution_count": 38,
   "id": "5cb98b62",
   "metadata": {
    "execution": {
     "iopub.execute_input": "2024-10-16T20:51:00.995643Z",
     "iopub.status.busy": "2024-10-16T20:51:00.995154Z",
     "iopub.status.idle": "2024-10-16T20:51:01.005095Z",
     "shell.execute_reply": "2024-10-16T20:51:01.003776Z"
    },
    "papermill": {
     "duration": 0.040202,
     "end_time": "2024-10-16T20:51:01.007619",
     "exception": false,
     "start_time": "2024-10-16T20:51:00.967417",
     "status": "completed"
    },
    "tags": []
   },
   "outputs": [
    {
     "name": "stdout",
     "output_type": "stream",
     "text": [
      "21\n"
     ]
    },
    {
     "data": {
      "text/plain": [
       "Index(['person_income', 'cb_person_cred_hist_length', 'person_emp_length',\n",
       "       'loan_to_income', 'loan_to_emp_length_ratio', 'dti_ratio',\n",
       "       'person_home_ownership_OTHER', 'person_home_ownership_OWN',\n",
       "       'person_home_ownership_RENT', 'loan_intent_EDUCATION',\n",
       "       'loan_intent_HOMEIMPROVEMENT', 'loan_intent_MEDICAL',\n",
       "       'loan_intent_PERSONAL', 'loan_intent_VENTURE', 'loan_grade_B',\n",
       "       'loan_grade_C', 'loan_grade_D', 'loan_grade_E', 'loan_grade_F',\n",
       "       'loan_grade_G', 'cb_person_default_on_file_Y'],\n",
       "      dtype='object')"
      ]
     },
     "execution_count": 38,
     "metadata": {},
     "output_type": "execute_result"
    }
   ],
   "source": [
    "print(len(vif_data_sorted))\n",
    "\n",
    "num_table.columns"
   ]
  },
  {
   "cell_type": "code",
   "execution_count": 39,
   "id": "9a1bc236",
   "metadata": {
    "execution": {
     "iopub.execute_input": "2024-10-16T20:51:01.062164Z",
     "iopub.status.busy": "2024-10-16T20:51:01.061426Z",
     "iopub.status.idle": "2024-10-16T20:51:01.090383Z",
     "shell.execute_reply": "2024-10-16T20:51:01.089163Z"
    },
    "papermill": {
     "duration": 0.059412,
     "end_time": "2024-10-16T20:51:01.093260",
     "exception": false,
     "start_time": "2024-10-16T20:51:01.033848",
     "status": "completed"
    },
    "tags": []
   },
   "outputs": [],
   "source": [
    "df_test = transform(df_test)"
   ]
  },
  {
   "cell_type": "code",
   "execution_count": 40,
   "id": "26a384a4",
   "metadata": {
    "execution": {
     "iopub.execute_input": "2024-10-16T20:51:01.148550Z",
     "iopub.status.busy": "2024-10-16T20:51:01.148084Z",
     "iopub.status.idle": "2024-10-16T20:51:01.184671Z",
     "shell.execute_reply": "2024-10-16T20:51:01.182836Z"
    },
    "papermill": {
     "duration": 0.069276,
     "end_time": "2024-10-16T20:51:01.188698",
     "exception": false,
     "start_time": "2024-10-16T20:51:01.119422",
     "status": "completed"
    },
    "tags": []
   },
   "outputs": [
    {
     "name": "stdout",
     "output_type": "stream",
     "text": [
      "(39098, 13)\n"
     ]
    },
    {
     "data": {
      "text/html": [
       "<div>\n",
       "<style scoped>\n",
       "    .dataframe tbody tr th:only-of-type {\n",
       "        vertical-align: middle;\n",
       "    }\n",
       "\n",
       "    .dataframe tbody tr th {\n",
       "        vertical-align: top;\n",
       "    }\n",
       "\n",
       "    .dataframe thead th {\n",
       "        text-align: right;\n",
       "    }\n",
       "</style>\n",
       "<table border=\"1\" class=\"dataframe\">\n",
       "  <thead>\n",
       "    <tr style=\"text-align: right;\">\n",
       "      <th></th>\n",
       "      <th>person_age</th>\n",
       "      <th>person_income</th>\n",
       "      <th>loan_amnt</th>\n",
       "      <th>cb_person_cred_hist_length</th>\n",
       "      <th>age_income_interaction</th>\n",
       "      <th>risk_flag</th>\n",
       "      <th>person_emp_length</th>\n",
       "      <th>loan_int_rate</th>\n",
       "      <th>loan_percent_income</th>\n",
       "      <th>loan_to_income</th>\n",
       "      <th>loan_to_emp_length_ratio</th>\n",
       "      <th>monthly_debt</th>\n",
       "      <th>dti_ratio</th>\n",
       "    </tr>\n",
       "  </thead>\n",
       "  <tbody>\n",
       "    <tr>\n",
       "      <th>0</th>\n",
       "      <td>23</td>\n",
       "      <td>69000</td>\n",
       "      <td>25000</td>\n",
       "      <td>2</td>\n",
       "      <td>1587000</td>\n",
       "      <td>0</td>\n",
       "      <td>3.0</td>\n",
       "      <td>1576.0</td>\n",
       "      <td>36.0</td>\n",
       "      <td>0.002319</td>\n",
       "      <td>8064.516129</td>\n",
       "      <td>34916.666667</td>\n",
       "      <td>6.072464</td>\n",
       "    </tr>\n",
       "    <tr>\n",
       "      <th>1</th>\n",
       "      <td>26</td>\n",
       "      <td>96000</td>\n",
       "      <td>10000</td>\n",
       "      <td>4</td>\n",
       "      <td>2496000</td>\n",
       "      <td>1</td>\n",
       "      <td>6.0</td>\n",
       "      <td>1268.0</td>\n",
       "      <td>10.0</td>\n",
       "      <td>0.004167</td>\n",
       "      <td>1639.344262</td>\n",
       "      <td>11400.000000</td>\n",
       "      <td>1.425000</td>\n",
       "    </tr>\n",
       "    <tr>\n",
       "      <th>2</th>\n",
       "      <td>26</td>\n",
       "      <td>30000</td>\n",
       "      <td>4000</td>\n",
       "      <td>2</td>\n",
       "      <td>780000</td>\n",
       "      <td>1</td>\n",
       "      <td>5.0</td>\n",
       "      <td>1719.0</td>\n",
       "      <td>13.0</td>\n",
       "      <td>0.003333</td>\n",
       "      <td>784.313725</td>\n",
       "      <td>6063.333333</td>\n",
       "      <td>2.425333</td>\n",
       "    </tr>\n",
       "  </tbody>\n",
       "</table>\n",
       "</div>"
      ],
      "text/plain": [
       "   person_age  person_income  loan_amnt  cb_person_cred_hist_length  \\\n",
       "0          23          69000      25000                           2   \n",
       "1          26          96000      10000                           4   \n",
       "2          26          30000       4000                           2   \n",
       "\n",
       "   age_income_interaction  risk_flag  person_emp_length  loan_int_rate  \\\n",
       "0                 1587000          0                3.0         1576.0   \n",
       "1                 2496000          1                6.0         1268.0   \n",
       "2                  780000          1                5.0         1719.0   \n",
       "\n",
       "   loan_percent_income  loan_to_income  loan_to_emp_length_ratio  \\\n",
       "0                 36.0        0.002319               8064.516129   \n",
       "1                 10.0        0.004167               1639.344262   \n",
       "2                 13.0        0.003333                784.313725   \n",
       "\n",
       "   monthly_debt  dti_ratio  \n",
       "0  34916.666667   6.072464  \n",
       "1  11400.000000   1.425000  \n",
       "2   6063.333333   2.425333  "
      ]
     },
     "execution_count": 40,
     "metadata": {},
     "output_type": "execute_result"
    }
   ],
   "source": [
    "test_num_data = pd.concat([df_test[int_cols], df_test[float_cols]], axis = 1 )\n",
    "print(test_num_data.shape)\n",
    "test_num_data.head(3)"
   ]
  },
  {
   "cell_type": "code",
   "execution_count": 41,
   "id": "e2cebadf",
   "metadata": {
    "execution": {
     "iopub.execute_input": "2024-10-16T20:51:01.254088Z",
     "iopub.status.busy": "2024-10-16T20:51:01.253351Z",
     "iopub.status.idle": "2024-10-16T20:51:01.309090Z",
     "shell.execute_reply": "2024-10-16T20:51:01.307592Z"
    },
    "papermill": {
     "duration": 0.091261,
     "end_time": "2024-10-16T20:51:01.312984",
     "exception": false,
     "start_time": "2024-10-16T20:51:01.221723",
     "status": "completed"
    },
    "tags": []
   },
   "outputs": [
    {
     "name": "stdout",
     "output_type": "stream",
     "text": [
      "(39098, 19)\n"
     ]
    },
    {
     "data": {
      "text/html": [
       "<div>\n",
       "<style scoped>\n",
       "    .dataframe tbody tr th:only-of-type {\n",
       "        vertical-align: middle;\n",
       "    }\n",
       "\n",
       "    .dataframe tbody tr th {\n",
       "        vertical-align: top;\n",
       "    }\n",
       "\n",
       "    .dataframe thead th {\n",
       "        text-align: right;\n",
       "    }\n",
       "</style>\n",
       "<table border=\"1\" class=\"dataframe\">\n",
       "  <thead>\n",
       "    <tr style=\"text-align: right;\">\n",
       "      <th></th>\n",
       "      <th>person_home_ownership_MORTGAGE</th>\n",
       "      <th>person_home_ownership_OTHER</th>\n",
       "      <th>person_home_ownership_OWN</th>\n",
       "      <th>person_home_ownership_RENT</th>\n",
       "      <th>loan_intent_DEBTCONSOLIDATION</th>\n",
       "      <th>loan_intent_EDUCATION</th>\n",
       "      <th>loan_intent_HOMEIMPROVEMENT</th>\n",
       "      <th>loan_intent_MEDICAL</th>\n",
       "      <th>loan_intent_PERSONAL</th>\n",
       "      <th>loan_intent_VENTURE</th>\n",
       "      <th>loan_grade_A</th>\n",
       "      <th>loan_grade_B</th>\n",
       "      <th>loan_grade_C</th>\n",
       "      <th>loan_grade_D</th>\n",
       "      <th>loan_grade_E</th>\n",
       "      <th>loan_grade_F</th>\n",
       "      <th>loan_grade_G</th>\n",
       "      <th>cb_person_default_on_file_N</th>\n",
       "      <th>cb_person_default_on_file_Y</th>\n",
       "    </tr>\n",
       "  </thead>\n",
       "  <tbody>\n",
       "    <tr>\n",
       "      <th>0</th>\n",
       "      <td>0</td>\n",
       "      <td>0</td>\n",
       "      <td>0</td>\n",
       "      <td>1</td>\n",
       "      <td>0</td>\n",
       "      <td>0</td>\n",
       "      <td>1</td>\n",
       "      <td>0</td>\n",
       "      <td>0</td>\n",
       "      <td>0</td>\n",
       "      <td>0</td>\n",
       "      <td>0</td>\n",
       "      <td>0</td>\n",
       "      <td>0</td>\n",
       "      <td>0</td>\n",
       "      <td>1</td>\n",
       "      <td>0</td>\n",
       "      <td>1</td>\n",
       "      <td>0</td>\n",
       "    </tr>\n",
       "    <tr>\n",
       "      <th>1</th>\n",
       "      <td>1</td>\n",
       "      <td>0</td>\n",
       "      <td>0</td>\n",
       "      <td>0</td>\n",
       "      <td>0</td>\n",
       "      <td>0</td>\n",
       "      <td>0</td>\n",
       "      <td>0</td>\n",
       "      <td>1</td>\n",
       "      <td>0</td>\n",
       "      <td>0</td>\n",
       "      <td>0</td>\n",
       "      <td>1</td>\n",
       "      <td>0</td>\n",
       "      <td>0</td>\n",
       "      <td>0</td>\n",
       "      <td>0</td>\n",
       "      <td>0</td>\n",
       "      <td>1</td>\n",
       "    </tr>\n",
       "    <tr>\n",
       "      <th>2</th>\n",
       "      <td>0</td>\n",
       "      <td>0</td>\n",
       "      <td>0</td>\n",
       "      <td>1</td>\n",
       "      <td>0</td>\n",
       "      <td>0</td>\n",
       "      <td>0</td>\n",
       "      <td>0</td>\n",
       "      <td>0</td>\n",
       "      <td>1</td>\n",
       "      <td>0</td>\n",
       "      <td>0</td>\n",
       "      <td>0</td>\n",
       "      <td>0</td>\n",
       "      <td>1</td>\n",
       "      <td>0</td>\n",
       "      <td>0</td>\n",
       "      <td>0</td>\n",
       "      <td>1</td>\n",
       "    </tr>\n",
       "  </tbody>\n",
       "</table>\n",
       "</div>"
      ],
      "text/plain": [
       "   person_home_ownership_MORTGAGE  person_home_ownership_OTHER  \\\n",
       "0                               0                            0   \n",
       "1                               1                            0   \n",
       "2                               0                            0   \n",
       "\n",
       "   person_home_ownership_OWN  person_home_ownership_RENT  \\\n",
       "0                          0                           1   \n",
       "1                          0                           0   \n",
       "2                          0                           1   \n",
       "\n",
       "   loan_intent_DEBTCONSOLIDATION  loan_intent_EDUCATION  \\\n",
       "0                              0                      0   \n",
       "1                              0                      0   \n",
       "2                              0                      0   \n",
       "\n",
       "   loan_intent_HOMEIMPROVEMENT  loan_intent_MEDICAL  loan_intent_PERSONAL  \\\n",
       "0                            1                    0                     0   \n",
       "1                            0                    0                     1   \n",
       "2                            0                    0                     0   \n",
       "\n",
       "   loan_intent_VENTURE  loan_grade_A  loan_grade_B  loan_grade_C  \\\n",
       "0                    0             0             0             0   \n",
       "1                    0             0             0             1   \n",
       "2                    1             0             0             0   \n",
       "\n",
       "   loan_grade_D  loan_grade_E  loan_grade_F  loan_grade_G  \\\n",
       "0             0             0             1             0   \n",
       "1             0             0             0             0   \n",
       "2             0             1             0             0   \n",
       "\n",
       "   cb_person_default_on_file_N  cb_person_default_on_file_Y  \n",
       "0                            1                            0  \n",
       "1                            0                            1  \n",
       "2                            0                            1  "
      ]
     },
     "execution_count": 41,
     "metadata": {},
     "output_type": "execute_result"
    }
   ],
   "source": [
    "test_cat_data = pd.get_dummies(\n",
    "            df_test[obj_cols],\n",
    "#             drop_first = True\n",
    ")\n",
    "test_cat_data = test_cat_data.astype(int)\n",
    "print(test_cat_data.shape)\n",
    "test_cat_data.head(3)"
   ]
  },
  {
   "cell_type": "code",
   "execution_count": 42,
   "id": "0e342599",
   "metadata": {
    "execution": {
     "iopub.execute_input": "2024-10-16T20:51:01.386064Z",
     "iopub.status.busy": "2024-10-16T20:51:01.385603Z",
     "iopub.status.idle": "2024-10-16T20:51:01.422664Z",
     "shell.execute_reply": "2024-10-16T20:51:01.421348Z"
    },
    "papermill": {
     "duration": 0.072914,
     "end_time": "2024-10-16T20:51:01.425334",
     "exception": false,
     "start_time": "2024-10-16T20:51:01.352420",
     "status": "completed"
    },
    "tags": []
   },
   "outputs": [
    {
     "name": "stdout",
     "output_type": "stream",
     "text": [
      "(39098, 32)\n"
     ]
    },
    {
     "data": {
      "text/html": [
       "<div>\n",
       "<style scoped>\n",
       "    .dataframe tbody tr th:only-of-type {\n",
       "        vertical-align: middle;\n",
       "    }\n",
       "\n",
       "    .dataframe tbody tr th {\n",
       "        vertical-align: top;\n",
       "    }\n",
       "\n",
       "    .dataframe thead th {\n",
       "        text-align: right;\n",
       "    }\n",
       "</style>\n",
       "<table border=\"1\" class=\"dataframe\">\n",
       "  <thead>\n",
       "    <tr style=\"text-align: right;\">\n",
       "      <th></th>\n",
       "      <th>person_home_ownership_MORTGAGE</th>\n",
       "      <th>person_home_ownership_OTHER</th>\n",
       "      <th>person_home_ownership_OWN</th>\n",
       "      <th>person_home_ownership_RENT</th>\n",
       "      <th>loan_intent_DEBTCONSOLIDATION</th>\n",
       "      <th>loan_intent_EDUCATION</th>\n",
       "      <th>loan_intent_HOMEIMPROVEMENT</th>\n",
       "      <th>loan_intent_MEDICAL</th>\n",
       "      <th>loan_intent_PERSONAL</th>\n",
       "      <th>loan_intent_VENTURE</th>\n",
       "      <th>...</th>\n",
       "      <th>cb_person_cred_hist_length</th>\n",
       "      <th>age_income_interaction</th>\n",
       "      <th>risk_flag</th>\n",
       "      <th>person_emp_length</th>\n",
       "      <th>loan_int_rate</th>\n",
       "      <th>loan_percent_income</th>\n",
       "      <th>loan_to_income</th>\n",
       "      <th>loan_to_emp_length_ratio</th>\n",
       "      <th>monthly_debt</th>\n",
       "      <th>dti_ratio</th>\n",
       "    </tr>\n",
       "  </thead>\n",
       "  <tbody>\n",
       "    <tr>\n",
       "      <th>0</th>\n",
       "      <td>0</td>\n",
       "      <td>0</td>\n",
       "      <td>0</td>\n",
       "      <td>1</td>\n",
       "      <td>0</td>\n",
       "      <td>0</td>\n",
       "      <td>1</td>\n",
       "      <td>0</td>\n",
       "      <td>0</td>\n",
       "      <td>0</td>\n",
       "      <td>...</td>\n",
       "      <td>2</td>\n",
       "      <td>1587000</td>\n",
       "      <td>0</td>\n",
       "      <td>3.0</td>\n",
       "      <td>1576.0</td>\n",
       "      <td>36.0</td>\n",
       "      <td>0.002319</td>\n",
       "      <td>8064.516129</td>\n",
       "      <td>34916.666667</td>\n",
       "      <td>6.072464</td>\n",
       "    </tr>\n",
       "    <tr>\n",
       "      <th>1</th>\n",
       "      <td>1</td>\n",
       "      <td>0</td>\n",
       "      <td>0</td>\n",
       "      <td>0</td>\n",
       "      <td>0</td>\n",
       "      <td>0</td>\n",
       "      <td>0</td>\n",
       "      <td>0</td>\n",
       "      <td>1</td>\n",
       "      <td>0</td>\n",
       "      <td>...</td>\n",
       "      <td>4</td>\n",
       "      <td>2496000</td>\n",
       "      <td>1</td>\n",
       "      <td>6.0</td>\n",
       "      <td>1268.0</td>\n",
       "      <td>10.0</td>\n",
       "      <td>0.004167</td>\n",
       "      <td>1639.344262</td>\n",
       "      <td>11400.000000</td>\n",
       "      <td>1.425000</td>\n",
       "    </tr>\n",
       "    <tr>\n",
       "      <th>2</th>\n",
       "      <td>0</td>\n",
       "      <td>0</td>\n",
       "      <td>0</td>\n",
       "      <td>1</td>\n",
       "      <td>0</td>\n",
       "      <td>0</td>\n",
       "      <td>0</td>\n",
       "      <td>0</td>\n",
       "      <td>0</td>\n",
       "      <td>1</td>\n",
       "      <td>...</td>\n",
       "      <td>2</td>\n",
       "      <td>780000</td>\n",
       "      <td>1</td>\n",
       "      <td>5.0</td>\n",
       "      <td>1719.0</td>\n",
       "      <td>13.0</td>\n",
       "      <td>0.003333</td>\n",
       "      <td>784.313725</td>\n",
       "      <td>6063.333333</td>\n",
       "      <td>2.425333</td>\n",
       "    </tr>\n",
       "  </tbody>\n",
       "</table>\n",
       "<p>3 rows × 32 columns</p>\n",
       "</div>"
      ],
      "text/plain": [
       "   person_home_ownership_MORTGAGE  person_home_ownership_OTHER  \\\n",
       "0                               0                            0   \n",
       "1                               1                            0   \n",
       "2                               0                            0   \n",
       "\n",
       "   person_home_ownership_OWN  person_home_ownership_RENT  \\\n",
       "0                          0                           1   \n",
       "1                          0                           0   \n",
       "2                          0                           1   \n",
       "\n",
       "   loan_intent_DEBTCONSOLIDATION  loan_intent_EDUCATION  \\\n",
       "0                              0                      0   \n",
       "1                              0                      0   \n",
       "2                              0                      0   \n",
       "\n",
       "   loan_intent_HOMEIMPROVEMENT  loan_intent_MEDICAL  loan_intent_PERSONAL  \\\n",
       "0                            1                    0                     0   \n",
       "1                            0                    0                     1   \n",
       "2                            0                    0                     0   \n",
       "\n",
       "   loan_intent_VENTURE  ...  cb_person_cred_hist_length  \\\n",
       "0                    0  ...                           2   \n",
       "1                    0  ...                           4   \n",
       "2                    1  ...                           2   \n",
       "\n",
       "   age_income_interaction  risk_flag  person_emp_length  loan_int_rate  \\\n",
       "0                 1587000          0                3.0         1576.0   \n",
       "1                 2496000          1                6.0         1268.0   \n",
       "2                  780000          1                5.0         1719.0   \n",
       "\n",
       "   loan_percent_income  loan_to_income  loan_to_emp_length_ratio  \\\n",
       "0                 36.0        0.002319               8064.516129   \n",
       "1                 10.0        0.004167               1639.344262   \n",
       "2                 13.0        0.003333                784.313725   \n",
       "\n",
       "   monthly_debt  dti_ratio  \n",
       "0  34916.666667   6.072464  \n",
       "1  11400.000000   1.425000  \n",
       "2   6063.333333   2.425333  \n",
       "\n",
       "[3 rows x 32 columns]"
      ]
     },
     "execution_count": 42,
     "metadata": {},
     "output_type": "execute_result"
    }
   ],
   "source": [
    "test_combined_df = pd.concat([test_cat_data, test_num_data], axis=1)\n",
    "print(test_combined_df.shape)\n",
    "test_combined_df.head(3)"
   ]
  },
  {
   "cell_type": "code",
   "execution_count": 43,
   "id": "ec41a3e1",
   "metadata": {
    "execution": {
     "iopub.execute_input": "2024-10-16T20:51:01.481831Z",
     "iopub.status.busy": "2024-10-16T20:51:01.481375Z",
     "iopub.status.idle": "2024-10-16T20:51:01.512904Z",
     "shell.execute_reply": "2024-10-16T20:51:01.511236Z"
    },
    "papermill": {
     "duration": 0.063612,
     "end_time": "2024-10-16T20:51:01.516346",
     "exception": false,
     "start_time": "2024-10-16T20:51:01.452734",
     "status": "completed"
    },
    "tags": []
   },
   "outputs": [
    {
     "name": "stdout",
     "output_type": "stream",
     "text": [
      "(39098, 21)\n"
     ]
    },
    {
     "data": {
      "text/html": [
       "<div>\n",
       "<style scoped>\n",
       "    .dataframe tbody tr th:only-of-type {\n",
       "        vertical-align: middle;\n",
       "    }\n",
       "\n",
       "    .dataframe tbody tr th {\n",
       "        vertical-align: top;\n",
       "    }\n",
       "\n",
       "    .dataframe thead th {\n",
       "        text-align: right;\n",
       "    }\n",
       "</style>\n",
       "<table border=\"1\" class=\"dataframe\">\n",
       "  <thead>\n",
       "    <tr style=\"text-align: right;\">\n",
       "      <th></th>\n",
       "      <th>person_income</th>\n",
       "      <th>cb_person_cred_hist_length</th>\n",
       "      <th>person_emp_length</th>\n",
       "      <th>loan_to_income</th>\n",
       "      <th>loan_to_emp_length_ratio</th>\n",
       "      <th>dti_ratio</th>\n",
       "      <th>person_home_ownership_OTHER</th>\n",
       "      <th>person_home_ownership_OWN</th>\n",
       "      <th>person_home_ownership_RENT</th>\n",
       "      <th>loan_intent_EDUCATION</th>\n",
       "      <th>...</th>\n",
       "      <th>loan_intent_MEDICAL</th>\n",
       "      <th>loan_intent_PERSONAL</th>\n",
       "      <th>loan_intent_VENTURE</th>\n",
       "      <th>loan_grade_B</th>\n",
       "      <th>loan_grade_C</th>\n",
       "      <th>loan_grade_D</th>\n",
       "      <th>loan_grade_E</th>\n",
       "      <th>loan_grade_F</th>\n",
       "      <th>loan_grade_G</th>\n",
       "      <th>cb_person_default_on_file_Y</th>\n",
       "    </tr>\n",
       "  </thead>\n",
       "  <tbody>\n",
       "    <tr>\n",
       "      <th>0</th>\n",
       "      <td>69000</td>\n",
       "      <td>2</td>\n",
       "      <td>3.0</td>\n",
       "      <td>0.002319</td>\n",
       "      <td>8064.516129</td>\n",
       "      <td>6.072464</td>\n",
       "      <td>0</td>\n",
       "      <td>0</td>\n",
       "      <td>1</td>\n",
       "      <td>0</td>\n",
       "      <td>...</td>\n",
       "      <td>0</td>\n",
       "      <td>0</td>\n",
       "      <td>0</td>\n",
       "      <td>0</td>\n",
       "      <td>0</td>\n",
       "      <td>0</td>\n",
       "      <td>0</td>\n",
       "      <td>1</td>\n",
       "      <td>0</td>\n",
       "      <td>0</td>\n",
       "    </tr>\n",
       "    <tr>\n",
       "      <th>1</th>\n",
       "      <td>96000</td>\n",
       "      <td>4</td>\n",
       "      <td>6.0</td>\n",
       "      <td>0.004167</td>\n",
       "      <td>1639.344262</td>\n",
       "      <td>1.425000</td>\n",
       "      <td>0</td>\n",
       "      <td>0</td>\n",
       "      <td>0</td>\n",
       "      <td>0</td>\n",
       "      <td>...</td>\n",
       "      <td>0</td>\n",
       "      <td>1</td>\n",
       "      <td>0</td>\n",
       "      <td>0</td>\n",
       "      <td>1</td>\n",
       "      <td>0</td>\n",
       "      <td>0</td>\n",
       "      <td>0</td>\n",
       "      <td>0</td>\n",
       "      <td>1</td>\n",
       "    </tr>\n",
       "    <tr>\n",
       "      <th>2</th>\n",
       "      <td>30000</td>\n",
       "      <td>2</td>\n",
       "      <td>5.0</td>\n",
       "      <td>0.003333</td>\n",
       "      <td>784.313725</td>\n",
       "      <td>2.425333</td>\n",
       "      <td>0</td>\n",
       "      <td>0</td>\n",
       "      <td>1</td>\n",
       "      <td>0</td>\n",
       "      <td>...</td>\n",
       "      <td>0</td>\n",
       "      <td>0</td>\n",
       "      <td>1</td>\n",
       "      <td>0</td>\n",
       "      <td>0</td>\n",
       "      <td>0</td>\n",
       "      <td>1</td>\n",
       "      <td>0</td>\n",
       "      <td>0</td>\n",
       "      <td>1</td>\n",
       "    </tr>\n",
       "  </tbody>\n",
       "</table>\n",
       "<p>3 rows × 21 columns</p>\n",
       "</div>"
      ],
      "text/plain": [
       "   person_income  cb_person_cred_hist_length  person_emp_length  \\\n",
       "0          69000                           2                3.0   \n",
       "1          96000                           4                6.0   \n",
       "2          30000                           2                5.0   \n",
       "\n",
       "   loan_to_income  loan_to_emp_length_ratio  dti_ratio  \\\n",
       "0        0.002319               8064.516129   6.072464   \n",
       "1        0.004167               1639.344262   1.425000   \n",
       "2        0.003333                784.313725   2.425333   \n",
       "\n",
       "   person_home_ownership_OTHER  person_home_ownership_OWN  \\\n",
       "0                            0                          0   \n",
       "1                            0                          0   \n",
       "2                            0                          0   \n",
       "\n",
       "   person_home_ownership_RENT  loan_intent_EDUCATION  ...  \\\n",
       "0                           1                      0  ...   \n",
       "1                           0                      0  ...   \n",
       "2                           1                      0  ...   \n",
       "\n",
       "   loan_intent_MEDICAL  loan_intent_PERSONAL  loan_intent_VENTURE  \\\n",
       "0                    0                     0                    0   \n",
       "1                    0                     1                    0   \n",
       "2                    0                     0                    1   \n",
       "\n",
       "   loan_grade_B  loan_grade_C  loan_grade_D  loan_grade_E  loan_grade_F  \\\n",
       "0             0             0             0             0             1   \n",
       "1             0             1             0             0             0   \n",
       "2             0             0             0             1             0   \n",
       "\n",
       "   loan_grade_G  cb_person_default_on_file_Y  \n",
       "0             0                            0  \n",
       "1             0                            1  \n",
       "2             0                            1  \n",
       "\n",
       "[3 rows x 21 columns]"
      ]
     },
     "execution_count": 43,
     "metadata": {},
     "output_type": "execute_result"
    }
   ],
   "source": [
    "final_test = test_combined_df[num_table.columns]\n",
    "print(final_test.shape)\n",
    "final_test.head(3)"
   ]
  },
  {
   "cell_type": "markdown",
   "id": "e68d0719",
   "metadata": {
    "papermill": {
     "duration": 0.031126,
     "end_time": "2024-10-16T20:51:01.581898",
     "exception": false,
     "start_time": "2024-10-16T20:51:01.550772",
     "status": "completed"
    },
    "tags": []
   },
   "source": [
    "# 4. Model Building"
   ]
  },
  {
   "cell_type": "code",
   "execution_count": 44,
   "id": "4e1f84b1",
   "metadata": {
    "execution": {
     "iopub.execute_input": "2024-10-16T20:51:01.640190Z",
     "iopub.status.busy": "2024-10-16T20:51:01.639762Z",
     "iopub.status.idle": "2024-10-16T20:51:01.645754Z",
     "shell.execute_reply": "2024-10-16T20:51:01.644259Z"
    },
    "papermill": {
     "duration": 0.038535,
     "end_time": "2024-10-16T20:51:01.648766",
     "exception": false,
     "start_time": "2024-10-16T20:51:01.610231",
     "status": "completed"
    },
    "tags": []
   },
   "outputs": [],
   "source": [
    "scaled_train_data = num_table\n",
    "scaled_test_data = final_test\n",
    "y = target_df['loan_status']"
   ]
  },
  {
   "cell_type": "code",
   "execution_count": 45,
   "id": "0b764cdd",
   "metadata": {
    "execution": {
     "iopub.execute_input": "2024-10-16T20:51:01.708816Z",
     "iopub.status.busy": "2024-10-16T20:51:01.708228Z",
     "iopub.status.idle": "2024-10-16T20:51:16.428132Z",
     "shell.execute_reply": "2024-10-16T20:51:16.426332Z"
    },
    "papermill": {
     "duration": 14.754169,
     "end_time": "2024-10-16T20:51:16.431382",
     "exception": false,
     "start_time": "2024-10-16T20:51:01.677213",
     "status": "completed"
    },
    "tags": []
   },
   "outputs": [
    {
     "name": "stdout",
     "output_type": "stream",
     "text": [
      "[LightGBM] [Warning] Accuracy may be bad since you didn't explicitly set num_leaves OR 2^max_depth > num_leaves. (num_leaves=31).\n",
      "[LightGBM] [Warning] Accuracy may be bad since you didn't explicitly set num_leaves OR 2^max_depth > num_leaves. (num_leaves=31).\n",
      "[LightGBM] [Info] Number of positive: 6587, number of negative: 40329\n",
      "[LightGBM] [Info] Auto-choosing row-wise multi-threading, the overhead of testing was 0.006082 seconds.\n",
      "You can set `force_row_wise=true` to remove the overhead.\n",
      "And if memory is not enough, you can set `force_col_wise=true`.\n",
      "[LightGBM] [Info] Total Bins 1109\n",
      "[LightGBM] [Info] Number of data points in the train set: 46916, number of used features: 21\n",
      "[LightGBM] [Warning] Accuracy may be bad since you didn't explicitly set num_leaves OR 2^max_depth > num_leaves. (num_leaves=31).\n",
      "[LightGBM] [Info] [binary:BoostFromScore]: pavg=0.140400 -> initscore=-1.811973\n",
      "[LightGBM] [Info] Start training from score -1.811973\n",
      "Training until validation scores don't improve for 10 rounds\n",
      "[100]\tvalid_0's auc: 0.94821\n",
      "[200]\tvalid_0's auc: 0.95108\n",
      "Early stopping, best iteration is:\n",
      "[279]\tvalid_0's auc: 0.952045\n",
      "[LightGBM] [Warning] Accuracy may be bad since you didn't explicitly set num_leaves OR 2^max_depth > num_leaves. (num_leaves=31).\n",
      "[LightGBM] [Warning] Accuracy may be bad since you didn't explicitly set num_leaves OR 2^max_depth > num_leaves. (num_leaves=31).\n",
      "[LightGBM] [Warning] Accuracy may be bad since you didn't explicitly set num_leaves OR 2^max_depth > num_leaves. (num_leaves=31).\n",
      "[LightGBM] [Warning] Accuracy may be bad since you didn't explicitly set num_leaves OR 2^max_depth > num_leaves. (num_leaves=31).\n",
      "[LightGBM] [Info] Number of positive: 6750, number of negative: 40166\n",
      "[LightGBM] [Info] Auto-choosing row-wise multi-threading, the overhead of testing was 0.004860 seconds.\n",
      "You can set `force_row_wise=true` to remove the overhead.\n",
      "And if memory is not enough, you can set `force_col_wise=true`.\n",
      "[LightGBM] [Info] Total Bins 1111\n",
      "[LightGBM] [Info] Number of data points in the train set: 46916, number of used features: 21\n",
      "[LightGBM] [Warning] Accuracy may be bad since you didn't explicitly set num_leaves OR 2^max_depth > num_leaves. (num_leaves=31).\n",
      "[LightGBM] [Info] [binary:BoostFromScore]: pavg=0.143874 -> initscore=-1.783478\n",
      "[LightGBM] [Info] Start training from score -1.783478\n",
      "Training until validation scores don't improve for 10 rounds\n",
      "[100]\tvalid_0's auc: 0.950567\n",
      "Early stopping, best iteration is:\n",
      "[181]\tvalid_0's auc: 0.952905\n",
      "[LightGBM] [Warning] Accuracy may be bad since you didn't explicitly set num_leaves OR 2^max_depth > num_leaves. (num_leaves=31).\n",
      "[LightGBM] [Warning] Accuracy may be bad since you didn't explicitly set num_leaves OR 2^max_depth > num_leaves. (num_leaves=31).\n",
      "[LightGBM] [Warning] Accuracy may be bad since you didn't explicitly set num_leaves OR 2^max_depth > num_leaves. (num_leaves=31).\n",
      "[LightGBM] [Warning] Accuracy may be bad since you didn't explicitly set num_leaves OR 2^max_depth > num_leaves. (num_leaves=31).\n",
      "[LightGBM] [Info] Number of positive: 6648, number of negative: 40268\n",
      "[LightGBM] [Info] Auto-choosing col-wise multi-threading, the overhead of testing was 0.016089 seconds.\n",
      "You can set `force_col_wise=true` to remove the overhead.\n",
      "[LightGBM] [Info] Total Bins 1110\n",
      "[LightGBM] [Info] Number of data points in the train set: 46916, number of used features: 21\n",
      "[LightGBM] [Warning] Accuracy may be bad since you didn't explicitly set num_leaves OR 2^max_depth > num_leaves. (num_leaves=31).\n",
      "[LightGBM] [Info] [binary:BoostFromScore]: pavg=0.141700 -> initscore=-1.801241\n",
      "[LightGBM] [Info] Start training from score -1.801241\n",
      "Training until validation scores don't improve for 10 rounds\n",
      "[100]\tvalid_0's auc: 0.950488\n",
      "Early stopping, best iteration is:\n",
      "[141]\tvalid_0's auc: 0.952036\n",
      "[LightGBM] [Warning] Accuracy may be bad since you didn't explicitly set num_leaves OR 2^max_depth > num_leaves. (num_leaves=31).\n",
      "[LightGBM] [Warning] Accuracy may be bad since you didn't explicitly set num_leaves OR 2^max_depth > num_leaves. (num_leaves=31).\n",
      "[LightGBM] [Warning] Accuracy may be bad since you didn't explicitly set num_leaves OR 2^max_depth > num_leaves. (num_leaves=31).\n",
      "[LightGBM] [Warning] Accuracy may be bad since you didn't explicitly set num_leaves OR 2^max_depth > num_leaves. (num_leaves=31).\n",
      "[LightGBM] [Info] Number of positive: 6732, number of negative: 40184\n",
      "[LightGBM] [Info] Auto-choosing col-wise multi-threading, the overhead of testing was 0.016113 seconds.\n",
      "You can set `force_col_wise=true` to remove the overhead.\n",
      "[LightGBM] [Info] Total Bins 1111\n",
      "[LightGBM] [Info] Number of data points in the train set: 46916, number of used features: 21\n",
      "[LightGBM] [Warning] Accuracy may be bad since you didn't explicitly set num_leaves OR 2^max_depth > num_leaves. (num_leaves=31).\n",
      "[LightGBM] [Info] [binary:BoostFromScore]: pavg=0.143490 -> initscore=-1.786597\n",
      "[LightGBM] [Info] Start training from score -1.786597\n",
      "Training until validation scores don't improve for 10 rounds\n",
      "[100]\tvalid_0's auc: 0.952546\n",
      "[200]\tvalid_0's auc: 0.956334\n",
      "Early stopping, best iteration is:\n",
      "[221]\tvalid_0's auc: 0.956732\n",
      "[LightGBM] [Warning] Accuracy may be bad since you didn't explicitly set num_leaves OR 2^max_depth > num_leaves. (num_leaves=31).\n",
      "[LightGBM] [Warning] Accuracy may be bad since you didn't explicitly set num_leaves OR 2^max_depth > num_leaves. (num_leaves=31).\n",
      "[LightGBM] [Warning] Accuracy may be bad since you didn't explicitly set num_leaves OR 2^max_depth > num_leaves. (num_leaves=31).\n",
      "[LightGBM] [Warning] Accuracy may be bad since you didn't explicitly set num_leaves OR 2^max_depth > num_leaves. (num_leaves=31).\n",
      "[LightGBM] [Info] Number of positive: 6683, number of negative: 40233\n",
      "[LightGBM] [Info] Auto-choosing col-wise multi-threading, the overhead of testing was 0.016090 seconds.\n",
      "You can set `force_col_wise=true` to remove the overhead.\n",
      "[LightGBM] [Info] Total Bins 1111\n",
      "[LightGBM] [Info] Number of data points in the train set: 46916, number of used features: 21\n",
      "[LightGBM] [Warning] Accuracy may be bad since you didn't explicitly set num_leaves OR 2^max_depth > num_leaves. (num_leaves=31).\n",
      "[LightGBM] [Info] [binary:BoostFromScore]: pavg=0.142446 -> initscore=-1.795121\n",
      "[LightGBM] [Info] Start training from score -1.795121\n",
      "Training until validation scores don't improve for 10 rounds\n",
      "[100]\tvalid_0's auc: 0.947201\n",
      "[200]\tvalid_0's auc: 0.950656\n",
      "Early stopping, best iteration is:\n",
      "[217]\tvalid_0's auc: 0.950804\n",
      "[LightGBM] [Warning] Accuracy may be bad since you didn't explicitly set num_leaves OR 2^max_depth > num_leaves. (num_leaves=31).\n",
      "[LightGBM] [Warning] Accuracy may be bad since you didn't explicitly set num_leaves OR 2^max_depth > num_leaves. (num_leaves=31).\n",
      "Overall AUC (LGBMClassifier): 0.9527564209487378\n"
     ]
    }
   ],
   "source": [
    "lgb_params = {\n",
    "    'n_estimators': 600,\n",
    "    'max_depth': 10,\n",
    "    'learning_rate': 0.06,\n",
    "    'random_state': 99,\n",
    "    'objective': 'binary',\n",
    "    'metric': 'auc'\n",
    "}\n",
    "\n",
    "n_splits = 5\n",
    "kf = KFold(n_splits=n_splits, shuffle=True, random_state=99)\n",
    "\n",
    "lgb_predictions = np.zeros(len(scaled_train_data))\n",
    "lgb_true_labels = np.zeros(len(scaled_train_data))\n",
    "lgb_test_predictions = np.zeros(len(scaled_test_data))\n",
    "\n",
    "for fold, (train_idx, val_idx) in enumerate(kf.split(scaled_train_data, y)):\n",
    "    X_train, X_val = scaled_train_data.iloc[train_idx], scaled_train_data.iloc[val_idx]\n",
    "    y_train, y_val = y.iloc[train_idx], y.iloc[val_idx]\n",
    "\n",
    "    lgb_model = lgb.LGBMClassifier(**lgb_params)\n",
    "    lgb_model.fit(X_train, y_train,\n",
    "                  eval_set=[(X_val, y_val)],\n",
    "                  eval_metric='auc',\n",
    "                  callbacks=[lgb.early_stopping(stopping_rounds=10), lgb.log_evaluation(100)],\n",
    "                  )\n",
    "    \n",
    "    lgb_fold_preds = lgb_model.predict_proba(X_val)[:, 1] \n",
    "    lgb_fold_test_preds = lgb_model.predict_proba(scaled_test_data)[:, 1]\n",
    "    lgb_predictions[val_idx] = lgb_fold_preds\n",
    "    lgb_true_labels[val_idx] = y_val\n",
    "    lgb_test_predictions += lgb_fold_test_preds / n_splits\n",
    "\n",
    "overall_auc_lgb = roc_auc_score(lgb_true_labels, lgb_predictions)\n",
    "print(\"Overall AUC (LGBMClassifier):\", overall_auc_lgb)\n"
   ]
  },
  {
   "cell_type": "markdown",
   "id": "63237529",
   "metadata": {
    "papermill": {
     "duration": 0.029935,
     "end_time": "2024-10-16T20:51:16.491681",
     "exception": false,
     "start_time": "2024-10-16T20:51:16.461746",
     "status": "completed"
    },
    "tags": []
   },
   "source": [
    "# 5. Tune Thresholds"
   ]
  },
  {
   "cell_type": "code",
   "execution_count": 46,
   "id": "982d3a0a",
   "metadata": {
    "execution": {
     "iopub.execute_input": "2024-10-16T20:51:16.554090Z",
     "iopub.status.busy": "2024-10-16T20:51:16.553571Z",
     "iopub.status.idle": "2024-10-16T20:51:16.575028Z",
     "shell.execute_reply": "2024-10-16T20:51:16.573753Z"
    },
    "papermill": {
     "duration": 0.055541,
     "end_time": "2024-10-16T20:51:16.577614",
     "exception": false,
     "start_time": "2024-10-16T20:51:16.522073",
     "status": "completed"
    },
    "tags": []
   },
   "outputs": [
    {
     "name": "stdout",
     "output_type": "stream",
     "text": [
      "0.14268106082274748\n"
     ]
    }
   ],
   "source": [
    "from sklearn.metrics import roc_curve, auc\n",
    "fpr_lgb, tpr_lgb, thresholds = roc_curve(lgb_true_labels, lgb_predictions)\n",
    "roc_auc_xgb = auc(fpr_lgb, tpr_lgb)\n",
    "\n",
    "\n",
    "j_scores = tpr_lgb - fpr_lgb\n",
    "j_index = np.argmax(j_scores)\n",
    "best_threshold = thresholds[j_index]\n",
    "print(best_threshold)"
   ]
  },
  {
   "cell_type": "code",
   "execution_count": 47,
   "id": "c7a6b389",
   "metadata": {
    "execution": {
     "iopub.execute_input": "2024-10-16T20:51:16.640475Z",
     "iopub.status.busy": "2024-10-16T20:51:16.640021Z",
     "iopub.status.idle": "2024-10-16T20:51:17.061686Z",
     "shell.execute_reply": "2024-10-16T20:51:17.060446Z"
    },
    "papermill": {
     "duration": 0.456535,
     "end_time": "2024-10-16T20:51:17.064593",
     "exception": false,
     "start_time": "2024-10-16T20:51:16.608058",
     "status": "completed"
    },
    "tags": []
   },
   "outputs": [
    {
     "data": {
      "image/png": "[encoded data removed]",
      "text/plain": [
       "<Figure size 1000x600 with 1 Axes>"
      ]
     },
     "metadata": {},
     "output_type": "display_data"
    }
   ],
   "source": [
    "\n",
    "plt.figure(figsize=(10, 6))\n",
    "\n",
    "plt.plot(fpr_lgb, tpr_lgb, color='blue', lw=2, label=f'xGBoost ROC Curve (AUC = {roc_auc_xgb:.4f})')\n",
    "plt.axvline(x=fpr_lgb[j_index], color='green', linestyle=':', lw=2, label=f'Best Threshold = {best_threshold:.4f}')\n",
    "\n",
    "plt.plot([0, 1], [0, 1], color='red', linestyle='--')  \n",
    "plt.xlim([0.0, 1.0])\n",
    "plt.ylim([0.0, 1.05])\n",
    "plt.xlabel('False Positive Rate')\n",
    "plt.ylabel('True Positive Rate')\n",
    "plt.title('Receiver Operating Characteristic (ROC) Curves')\n",
    "plt.legend(loc='lower right')\n",
    "plt.grid(True)\n",
    "plt.show()"
   ]
  },
  {
   "cell_type": "markdown",
   "id": "3adedf64",
   "metadata": {
    "papermill": {
     "duration": 0.031375,
     "end_time": "2024-10-16T20:51:17.126856",
     "exception": false,
     "start_time": "2024-10-16T20:51:17.095481",
     "status": "completed"
    },
    "tags": []
   },
   "source": [
    "# 99. Submission"
   ]
  },
  {
   "cell_type": "code",
   "execution_count": 48,
   "id": "0c9a4292",
   "metadata": {
    "execution": {
     "iopub.execute_input": "2024-10-16T20:51:17.191399Z",
     "iopub.status.busy": "2024-10-16T20:51:17.190932Z",
     "iopub.status.idle": "2024-10-16T20:51:17.233910Z",
     "shell.execute_reply": "2024-10-16T20:51:17.232602Z"
    },
    "papermill": {
     "duration": 0.079027,
     "end_time": "2024-10-16T20:51:17.236743",
     "exception": false,
     "start_time": "2024-10-16T20:51:17.157716",
     "status": "completed"
    },
    "tags": []
   },
   "outputs": [
    {
     "data": {
      "text/html": [
       "<div>\n",
       "<style scoped>\n",
       "    .dataframe tbody tr th:only-of-type {\n",
       "        vertical-align: middle;\n",
       "    }\n",
       "\n",
       "    .dataframe tbody tr th {\n",
       "        vertical-align: top;\n",
       "    }\n",
       "\n",
       "    .dataframe thead th {\n",
       "        text-align: right;\n",
       "    }\n",
       "</style>\n",
       "<table border=\"1\" class=\"dataframe\">\n",
       "  <thead>\n",
       "    <tr style=\"text-align: right;\">\n",
       "      <th></th>\n",
       "      <th>id</th>\n",
       "      <th>loan_status</th>\n",
       "    </tr>\n",
       "  </thead>\n",
       "  <tbody>\n",
       "    <tr>\n",
       "      <th>0</th>\n",
       "      <td>58645</td>\n",
       "      <td>1</td>\n",
       "    </tr>\n",
       "    <tr>\n",
       "      <th>1</th>\n",
       "      <td>58646</td>\n",
       "      <td>0</td>\n",
       "    </tr>\n",
       "    <tr>\n",
       "      <th>2</th>\n",
       "      <td>58647</td>\n",
       "      <td>1</td>\n",
       "    </tr>\n",
       "    <tr>\n",
       "      <th>3</th>\n",
       "      <td>58648</td>\n",
       "      <td>0</td>\n",
       "    </tr>\n",
       "    <tr>\n",
       "      <th>4</th>\n",
       "      <td>58649</td>\n",
       "      <td>0</td>\n",
       "    </tr>\n",
       "  </tbody>\n",
       "</table>\n",
       "</div>"
      ],
      "text/plain": [
       "      id  loan_status\n",
       "0  58645            1\n",
       "1  58646            0\n",
       "2  58647            1\n",
       "3  58648            0\n",
       "4  58649            0"
      ]
     },
     "execution_count": 48,
     "metadata": {},
     "output_type": "execute_result"
    }
   ],
   "source": [
    "df_sub['loan_status'] = [1 if x > best_threshold else 0 for x in lgb_test_predictions]\n",
    "df_sub.head()"
   ]
  },
  {
   "cell_type": "code",
   "execution_count": 49,
   "id": "84bd85bf",
   "metadata": {
    "execution": {
     "iopub.execute_input": "2024-10-16T20:51:17.303468Z",
     "iopub.status.busy": "2024-10-16T20:51:17.302108Z",
     "iopub.status.idle": "2024-10-16T20:51:17.365432Z",
     "shell.execute_reply": "2024-10-16T20:51:17.364352Z"
    },
    "papermill": {
     "duration": 0.099426,
     "end_time": "2024-10-16T20:51:17.368250",
     "exception": false,
     "start_time": "2024-10-16T20:51:17.268824",
     "status": "completed"
    },
    "tags": []
   },
   "outputs": [],
   "source": [
    "df_sub.to_csv('submission.csv', index=False)"
   ]
  }
 ],
 "metadata": {
  "kaggle": {
   "accelerator": "none",
   "dataSources": [
    {
     "databundleVersionId": 9709193,
     "sourceId": 84894,
     "sourceType": "competition"
    }
   ],
   "dockerImageVersionId": 30775,
   "isGpuEnabled": false,
   "isInternetEnabled": true,
   "language": "python",
   "sourceType": "notebook"
  },
  "kernelspec": {
   "display_name": "Python 3",
   "language": "python",
   "name": "python3"
  },
  "language_info": {
   "codemirror_mode": {
    "name": "ipython",
    "version": 3
   },
   "file_extension": ".py",
   "mimetype": "text/x-python",
   "name": "python",
   "nbconvert_exporter": "python",
   "pygments_lexer": "ipython3",
   "version": "3.10.14"
  },
  "papermill": {
   "default_parameters": {},
   "duration": 36.910899,
   "end_time": "2024-10-16T20:51:20.021696",
   "environment_variables": {},
   "exception": null,
   "input_path": "__notebook__.ipynb",
   "output_path": "__notebook__.ipynb",
   "parameters": {},
   "start_time": "2024-10-16T20:50:43.110797",
   "version": "2.6.0"
  }
 },
 "nbformat": 4,
 "nbformat_minor": 5
}
