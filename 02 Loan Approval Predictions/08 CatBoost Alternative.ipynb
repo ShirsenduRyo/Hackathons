{
 "cells": [
  {
   "cell_type": "code",
   "execution_count": 1,
   "id": "1c6e5830",
   "metadata": {
    "_cell_guid": "b1076dfc-b9ad-4769-8c92-a6c4dae69d19",
    "_uuid": "8f2839f25d086af736a60e9eeb907d3b93b6e0e5",
    "execution": {
     "iopub.execute_input": "2024-10-16T21:03:00.350418Z",
     "iopub.status.busy": "2024-10-16T21:03:00.349976Z",
     "iopub.status.idle": "2024-10-16T21:03:01.361218Z",
     "shell.execute_reply": "2024-10-16T21:03:01.359561Z"
    },
    "papermill": {
     "duration": 1.03554,
     "end_time": "2024-10-16T21:03:01.364168",
     "exception": false,
     "start_time": "2024-10-16T21:03:00.328628",
     "status": "completed"
    },
    "tags": []
   },
   "outputs": [
    {
     "name": "stdout",
     "output_type": "stream",
     "text": [
      "/kaggle/input/playground-series-s4e10/sample_submission.csv\n",
      "/kaggle/input/playground-series-s4e10/train.csv\n",
      "/kaggle/input/playground-series-s4e10/test.csv\n"
     ]
    }
   ],
   "source": [
    "# This Python 3 environment comes with many helpful analytics libraries installed\n",
    "# It is defined by the kaggle/python Docker image: https://github.com/kaggle/docker-python\n",
    "# For example, here's several helpful packages to load\n",
    "\n",
    "import numpy as np # linear algebra\n",
    "import pandas as pd # data processing, CSV file I/O (e.g. pd.read_csv)\n",
    "\n",
    "# Input data files are available in the read-only \"../input/\" directory\n",
    "# For example, running this (by clicking run or pressing Shift+Enter) will list all files under the input directory\n",
    "\n",
    "import os\n",
    "for dirname, _, filenames in os.walk('/kaggle/input'):\n",
    "    for filename in filenames:\n",
    "        print(os.path.join(dirname, filename))\n",
    "\n",
    "# You can write up to 20GB to the current directory (/kaggle/working/) that gets preserved as output when you create a version using \"Save & Run All\" \n",
    "# You can also write temporary files to /kaggle/temp/, but they won't be saved outside of the current session"
   ]
  },
  {
   "cell_type": "markdown",
   "id": "4e14506f",
   "metadata": {
    "papermill": {
     "duration": 0.020283,
     "end_time": "2024-10-16T21:03:01.405581",
     "exception": false,
     "start_time": "2024-10-16T21:03:01.385298",
     "status": "completed"
    },
    "tags": []
   },
   "source": [
    "# 0. Import Packages"
   ]
  },
  {
   "cell_type": "code",
   "execution_count": 2,
   "id": "e86cb309",
   "metadata": {
    "execution": {
     "iopub.execute_input": "2024-10-16T21:03:01.445864Z",
     "iopub.status.busy": "2024-10-16T21:03:01.445272Z",
     "iopub.status.idle": "2024-10-16T21:03:03.367832Z",
     "shell.execute_reply": "2024-10-16T21:03:03.366306Z"
    },
    "papermill": {
     "duration": 1.946071,
     "end_time": "2024-10-16T21:03:03.370673",
     "exception": false,
     "start_time": "2024-10-16T21:03:01.424602",
     "status": "completed"
    },
    "tags": []
   },
   "outputs": [],
   "source": [
    "import pandas as pd\n",
    "import numpy as np\n",
    "from tqdm import tqdm\n",
    "\n",
    "import matplotlib.pyplot as plt\n",
    "import seaborn as sns\n",
    "from matplotlib.patches import ConnectionPatch"
   ]
  },
  {
   "cell_type": "code",
   "execution_count": 3,
   "id": "11472b5b",
   "metadata": {
    "execution": {
     "iopub.execute_input": "2024-10-16T21:03:03.413929Z",
     "iopub.status.busy": "2024-10-16T21:03:03.413296Z",
     "iopub.status.idle": "2024-10-16T21:03:04.007251Z",
     "shell.execute_reply": "2024-10-16T21:03:04.006090Z"
    },
    "papermill": {
     "duration": 0.61795,
     "end_time": "2024-10-16T21:03:04.010239",
     "exception": false,
     "start_time": "2024-10-16T21:03:03.392289",
     "status": "completed"
    },
    "tags": []
   },
   "outputs": [
    {
     "name": "stderr",
     "output_type": "stream",
     "text": [
      "/opt/conda/lib/python3.10/site-packages/sklearn/experimental/enable_hist_gradient_boosting.py:16: UserWarning: Since version 1.0, it is not needed to import enable_hist_gradient_boosting anymore. HistGradientBoostingClassifier and HistGradientBoostingRegressor are now stable and can be normally imported from sklearn.ensemble.\n",
      "  warnings.warn(\n"
     ]
    }
   ],
   "source": [
    "from sklearn.experimental import enable_hist_gradient_boosting  \n",
    "from sklearn.ensemble import HistGradientBoostingRegressor\n",
    "from sklearn.metrics import median_absolute_error\n",
    "from sklearn.model_selection import KFold\n",
    "from sklearn.model_selection import train_test_split\n",
    "\n",
    "\n",
    "from sklearn.metrics import roc_auc_score\n",
    "from sklearn.model_selection import KFold\n",
    "from sklearn.model_selection import StratifiedKFold"
   ]
  },
  {
   "cell_type": "code",
   "execution_count": 4,
   "id": "1c55fdd3",
   "metadata": {
    "execution": {
     "iopub.execute_input": "2024-10-16T21:03:04.052916Z",
     "iopub.status.busy": "2024-10-16T21:03:04.052408Z",
     "iopub.status.idle": "2024-10-16T21:03:05.853996Z",
     "shell.execute_reply": "2024-10-16T21:03:05.852212Z"
    },
    "papermill": {
     "duration": 1.826549,
     "end_time": "2024-10-16T21:03:05.858143",
     "exception": false,
     "start_time": "2024-10-16T21:03:04.031594",
     "status": "completed"
    },
    "tags": []
   },
   "outputs": [],
   "source": [
    "from xgboost import XGBClassifier\n",
    "import lightgbm as lgb\n",
    "from catboost import CatBoostClassifier"
   ]
  },
  {
   "cell_type": "markdown",
   "id": "dc9ef30f",
   "metadata": {
    "papermill": {
     "duration": 0.019281,
     "end_time": "2024-10-16T21:03:05.897486",
     "exception": false,
     "start_time": "2024-10-16T21:03:05.878205",
     "status": "completed"
    },
    "tags": []
   },
   "source": [
    "# 1. Read Data"
   ]
  },
  {
   "cell_type": "code",
   "execution_count": 5,
   "id": "d30ac014",
   "metadata": {
    "execution": {
     "iopub.execute_input": "2024-10-16T21:03:05.937478Z",
     "iopub.status.busy": "2024-10-16T21:03:05.936767Z",
     "iopub.status.idle": "2024-10-16T21:03:06.236553Z",
     "shell.execute_reply": "2024-10-16T21:03:06.235253Z"
    },
    "papermill": {
     "duration": 0.323723,
     "end_time": "2024-10-16T21:03:06.240082",
     "exception": false,
     "start_time": "2024-10-16T21:03:05.916359",
     "status": "completed"
    },
    "tags": []
   },
   "outputs": [],
   "source": [
    "df_train = pd.read_csv('/kaggle/input/playground-series-s4e10/train.csv')\n",
    "df_test  = pd.read_csv('/kaggle/input/playground-series-s4e10/test.csv')\n",
    "df_sub = pd.read_csv('/kaggle/input/playground-series-s4e10/sample_submission.csv')"
   ]
  },
  {
   "cell_type": "code",
   "execution_count": 6,
   "id": "d239f799",
   "metadata": {
    "execution": {
     "iopub.execute_input": "2024-10-16T21:03:06.285983Z",
     "iopub.status.busy": "2024-10-16T21:03:06.285509Z",
     "iopub.status.idle": "2024-10-16T21:03:06.319617Z",
     "shell.execute_reply": "2024-10-16T21:03:06.318379Z"
    },
    "papermill": {
     "duration": 0.059007,
     "end_time": "2024-10-16T21:03:06.322852",
     "exception": false,
     "start_time": "2024-10-16T21:03:06.263845",
     "status": "completed"
    },
    "tags": []
   },
   "outputs": [
    {
     "data": {
      "text/html": [
       "<div>\n",
       "<style scoped>\n",
       "    .dataframe tbody tr th:only-of-type {\n",
       "        vertical-align: middle;\n",
       "    }\n",
       "\n",
       "    .dataframe tbody tr th {\n",
       "        vertical-align: top;\n",
       "    }\n",
       "\n",
       "    .dataframe thead th {\n",
       "        text-align: right;\n",
       "    }\n",
       "</style>\n",
       "<table border=\"1\" class=\"dataframe\">\n",
       "  <thead>\n",
       "    <tr style=\"text-align: right;\">\n",
       "      <th></th>\n",
       "      <th>id</th>\n",
       "      <th>person_age</th>\n",
       "      <th>person_income</th>\n",
       "      <th>person_home_ownership</th>\n",
       "      <th>person_emp_length</th>\n",
       "      <th>loan_intent</th>\n",
       "      <th>loan_grade</th>\n",
       "      <th>loan_amnt</th>\n",
       "      <th>loan_int_rate</th>\n",
       "      <th>loan_percent_income</th>\n",
       "      <th>cb_person_default_on_file</th>\n",
       "      <th>cb_person_cred_hist_length</th>\n",
       "      <th>loan_status</th>\n",
       "    </tr>\n",
       "  </thead>\n",
       "  <tbody>\n",
       "    <tr>\n",
       "      <th>0</th>\n",
       "      <td>0</td>\n",
       "      <td>37</td>\n",
       "      <td>35000</td>\n",
       "      <td>RENT</td>\n",
       "      <td>0.0</td>\n",
       "      <td>EDUCATION</td>\n",
       "      <td>B</td>\n",
       "      <td>6000</td>\n",
       "      <td>11.49</td>\n",
       "      <td>0.17</td>\n",
       "      <td>N</td>\n",
       "      <td>14</td>\n",
       "      <td>0</td>\n",
       "    </tr>\n",
       "    <tr>\n",
       "      <th>1</th>\n",
       "      <td>1</td>\n",
       "      <td>22</td>\n",
       "      <td>56000</td>\n",
       "      <td>OWN</td>\n",
       "      <td>6.0</td>\n",
       "      <td>MEDICAL</td>\n",
       "      <td>C</td>\n",
       "      <td>4000</td>\n",
       "      <td>13.35</td>\n",
       "      <td>0.07</td>\n",
       "      <td>N</td>\n",
       "      <td>2</td>\n",
       "      <td>0</td>\n",
       "    </tr>\n",
       "    <tr>\n",
       "      <th>2</th>\n",
       "      <td>2</td>\n",
       "      <td>29</td>\n",
       "      <td>28800</td>\n",
       "      <td>OWN</td>\n",
       "      <td>8.0</td>\n",
       "      <td>PERSONAL</td>\n",
       "      <td>A</td>\n",
       "      <td>6000</td>\n",
       "      <td>8.90</td>\n",
       "      <td>0.21</td>\n",
       "      <td>N</td>\n",
       "      <td>10</td>\n",
       "      <td>0</td>\n",
       "    </tr>\n",
       "    <tr>\n",
       "      <th>3</th>\n",
       "      <td>3</td>\n",
       "      <td>30</td>\n",
       "      <td>70000</td>\n",
       "      <td>RENT</td>\n",
       "      <td>14.0</td>\n",
       "      <td>VENTURE</td>\n",
       "      <td>B</td>\n",
       "      <td>12000</td>\n",
       "      <td>11.11</td>\n",
       "      <td>0.17</td>\n",
       "      <td>N</td>\n",
       "      <td>5</td>\n",
       "      <td>0</td>\n",
       "    </tr>\n",
       "    <tr>\n",
       "      <th>4</th>\n",
       "      <td>4</td>\n",
       "      <td>22</td>\n",
       "      <td>60000</td>\n",
       "      <td>RENT</td>\n",
       "      <td>2.0</td>\n",
       "      <td>MEDICAL</td>\n",
       "      <td>A</td>\n",
       "      <td>6000</td>\n",
       "      <td>6.92</td>\n",
       "      <td>0.10</td>\n",
       "      <td>N</td>\n",
       "      <td>3</td>\n",
       "      <td>0</td>\n",
       "    </tr>\n",
       "  </tbody>\n",
       "</table>\n",
       "</div>"
      ],
      "text/plain": [
       "   id  person_age  person_income person_home_ownership  person_emp_length  \\\n",
       "0   0          37          35000                  RENT                0.0   \n",
       "1   1          22          56000                   OWN                6.0   \n",
       "2   2          29          28800                   OWN                8.0   \n",
       "3   3          30          70000                  RENT               14.0   \n",
       "4   4          22          60000                  RENT                2.0   \n",
       "\n",
       "  loan_intent loan_grade  loan_amnt  loan_int_rate  loan_percent_income  \\\n",
       "0   EDUCATION          B       6000          11.49                 0.17   \n",
       "1     MEDICAL          C       4000          13.35                 0.07   \n",
       "2    PERSONAL          A       6000           8.90                 0.21   \n",
       "3     VENTURE          B      12000          11.11                 0.17   \n",
       "4     MEDICAL          A       6000           6.92                 0.10   \n",
       "\n",
       "  cb_person_default_on_file  cb_person_cred_hist_length  loan_status  \n",
       "0                         N                          14            0  \n",
       "1                         N                           2            0  \n",
       "2                         N                          10            0  \n",
       "3                         N                           5            0  \n",
       "4                         N                           3            0  "
      ]
     },
     "execution_count": 6,
     "metadata": {},
     "output_type": "execute_result"
    }
   ],
   "source": [
    "df_train.head()"
   ]
  },
  {
   "cell_type": "code",
   "execution_count": 7,
   "id": "8820ea8c",
   "metadata": {
    "execution": {
     "iopub.execute_input": "2024-10-16T21:03:06.363653Z",
     "iopub.status.busy": "2024-10-16T21:03:06.363187Z",
     "iopub.status.idle": "2024-10-16T21:03:06.431646Z",
     "shell.execute_reply": "2024-10-16T21:03:06.430087Z"
    },
    "papermill": {
     "duration": 0.091993,
     "end_time": "2024-10-16T21:03:06.434394",
     "exception": false,
     "start_time": "2024-10-16T21:03:06.342401",
     "status": "completed"
    },
    "tags": []
   },
   "outputs": [
    {
     "data": {
      "text/html": [
       "<div>\n",
       "<style scoped>\n",
       "    .dataframe tbody tr th:only-of-type {\n",
       "        vertical-align: middle;\n",
       "    }\n",
       "\n",
       "    .dataframe tbody tr th {\n",
       "        vertical-align: top;\n",
       "    }\n",
       "\n",
       "    .dataframe thead th {\n",
       "        text-align: right;\n",
       "    }\n",
       "</style>\n",
       "<table border=\"1\" class=\"dataframe\">\n",
       "  <thead>\n",
       "    <tr style=\"text-align: right;\">\n",
       "      <th></th>\n",
       "      <th>id</th>\n",
       "      <th>person_age</th>\n",
       "      <th>person_income</th>\n",
       "      <th>person_emp_length</th>\n",
       "      <th>loan_amnt</th>\n",
       "      <th>loan_int_rate</th>\n",
       "      <th>loan_percent_income</th>\n",
       "      <th>cb_person_cred_hist_length</th>\n",
       "      <th>loan_status</th>\n",
       "    </tr>\n",
       "  </thead>\n",
       "  <tbody>\n",
       "    <tr>\n",
       "      <th>count</th>\n",
       "      <td>58645.000000</td>\n",
       "      <td>58645.000000</td>\n",
       "      <td>5.864500e+04</td>\n",
       "      <td>58645.000000</td>\n",
       "      <td>58645.000000</td>\n",
       "      <td>58645.000000</td>\n",
       "      <td>58645.000000</td>\n",
       "      <td>58645.000000</td>\n",
       "      <td>58645.000000</td>\n",
       "    </tr>\n",
       "    <tr>\n",
       "      <th>mean</th>\n",
       "      <td>29322.000000</td>\n",
       "      <td>27.550857</td>\n",
       "      <td>6.404617e+04</td>\n",
       "      <td>4.701015</td>\n",
       "      <td>9217.556518</td>\n",
       "      <td>10.677874</td>\n",
       "      <td>0.159238</td>\n",
       "      <td>5.813556</td>\n",
       "      <td>0.142382</td>\n",
       "    </tr>\n",
       "    <tr>\n",
       "      <th>std</th>\n",
       "      <td>16929.497605</td>\n",
       "      <td>6.033216</td>\n",
       "      <td>3.793111e+04</td>\n",
       "      <td>3.959784</td>\n",
       "      <td>5563.807384</td>\n",
       "      <td>3.034697</td>\n",
       "      <td>0.091692</td>\n",
       "      <td>4.029196</td>\n",
       "      <td>0.349445</td>\n",
       "    </tr>\n",
       "    <tr>\n",
       "      <th>min</th>\n",
       "      <td>0.000000</td>\n",
       "      <td>20.000000</td>\n",
       "      <td>4.200000e+03</td>\n",
       "      <td>0.000000</td>\n",
       "      <td>500.000000</td>\n",
       "      <td>5.420000</td>\n",
       "      <td>0.000000</td>\n",
       "      <td>2.000000</td>\n",
       "      <td>0.000000</td>\n",
       "    </tr>\n",
       "    <tr>\n",
       "      <th>25%</th>\n",
       "      <td>14661.000000</td>\n",
       "      <td>23.000000</td>\n",
       "      <td>4.200000e+04</td>\n",
       "      <td>2.000000</td>\n",
       "      <td>5000.000000</td>\n",
       "      <td>7.880000</td>\n",
       "      <td>0.090000</td>\n",
       "      <td>3.000000</td>\n",
       "      <td>0.000000</td>\n",
       "    </tr>\n",
       "    <tr>\n",
       "      <th>50%</th>\n",
       "      <td>29322.000000</td>\n",
       "      <td>26.000000</td>\n",
       "      <td>5.800000e+04</td>\n",
       "      <td>4.000000</td>\n",
       "      <td>8000.000000</td>\n",
       "      <td>10.750000</td>\n",
       "      <td>0.140000</td>\n",
       "      <td>4.000000</td>\n",
       "      <td>0.000000</td>\n",
       "    </tr>\n",
       "    <tr>\n",
       "      <th>75%</th>\n",
       "      <td>43983.000000</td>\n",
       "      <td>30.000000</td>\n",
       "      <td>7.560000e+04</td>\n",
       "      <td>7.000000</td>\n",
       "      <td>12000.000000</td>\n",
       "      <td>12.990000</td>\n",
       "      <td>0.210000</td>\n",
       "      <td>8.000000</td>\n",
       "      <td>0.000000</td>\n",
       "    </tr>\n",
       "    <tr>\n",
       "      <th>max</th>\n",
       "      <td>58644.000000</td>\n",
       "      <td>123.000000</td>\n",
       "      <td>1.900000e+06</td>\n",
       "      <td>123.000000</td>\n",
       "      <td>35000.000000</td>\n",
       "      <td>23.220000</td>\n",
       "      <td>0.830000</td>\n",
       "      <td>30.000000</td>\n",
       "      <td>1.000000</td>\n",
       "    </tr>\n",
       "  </tbody>\n",
       "</table>\n",
       "</div>"
      ],
      "text/plain": [
       "                 id    person_age  person_income  person_emp_length  \\\n",
       "count  58645.000000  58645.000000   5.864500e+04       58645.000000   \n",
       "mean   29322.000000     27.550857   6.404617e+04           4.701015   \n",
       "std    16929.497605      6.033216   3.793111e+04           3.959784   \n",
       "min        0.000000     20.000000   4.200000e+03           0.000000   \n",
       "25%    14661.000000     23.000000   4.200000e+04           2.000000   \n",
       "50%    29322.000000     26.000000   5.800000e+04           4.000000   \n",
       "75%    43983.000000     30.000000   7.560000e+04           7.000000   \n",
       "max    58644.000000    123.000000   1.900000e+06         123.000000   \n",
       "\n",
       "          loan_amnt  loan_int_rate  loan_percent_income  \\\n",
       "count  58645.000000   58645.000000         58645.000000   \n",
       "mean    9217.556518      10.677874             0.159238   \n",
       "std     5563.807384       3.034697             0.091692   \n",
       "min      500.000000       5.420000             0.000000   \n",
       "25%     5000.000000       7.880000             0.090000   \n",
       "50%     8000.000000      10.750000             0.140000   \n",
       "75%    12000.000000      12.990000             0.210000   \n",
       "max    35000.000000      23.220000             0.830000   \n",
       "\n",
       "       cb_person_cred_hist_length   loan_status  \n",
       "count                58645.000000  58645.000000  \n",
       "mean                     5.813556      0.142382  \n",
       "std                      4.029196      0.349445  \n",
       "min                      2.000000      0.000000  \n",
       "25%                      3.000000      0.000000  \n",
       "50%                      4.000000      0.000000  \n",
       "75%                      8.000000      0.000000  \n",
       "max                     30.000000      1.000000  "
      ]
     },
     "execution_count": 7,
     "metadata": {},
     "output_type": "execute_result"
    }
   ],
   "source": [
    "df_train.describe()"
   ]
  },
  {
   "cell_type": "code",
   "execution_count": 8,
   "id": "eb89109d",
   "metadata": {
    "execution": {
     "iopub.execute_input": "2024-10-16T21:03:06.475864Z",
     "iopub.status.busy": "2024-10-16T21:03:06.475388Z",
     "iopub.status.idle": "2024-10-16T21:03:06.483194Z",
     "shell.execute_reply": "2024-10-16T21:03:06.481996Z"
    },
    "papermill": {
     "duration": 0.031589,
     "end_time": "2024-10-16T21:03:06.485767",
     "exception": false,
     "start_time": "2024-10-16T21:03:06.454178",
     "status": "completed"
    },
    "tags": []
   },
   "outputs": [
    {
     "data": {
      "text/plain": [
       "{'loan_status'}"
      ]
     },
     "execution_count": 8,
     "metadata": {},
     "output_type": "execute_result"
    }
   ],
   "source": [
    "set(df_train.columns) - set(df_test.columns)"
   ]
  },
  {
   "cell_type": "code",
   "execution_count": 9,
   "id": "e3b458be",
   "metadata": {
    "execution": {
     "iopub.execute_input": "2024-10-16T21:03:06.527610Z",
     "iopub.status.busy": "2024-10-16T21:03:06.527054Z",
     "iopub.status.idle": "2024-10-16T21:03:06.539617Z",
     "shell.execute_reply": "2024-10-16T21:03:06.538540Z"
    },
    "papermill": {
     "duration": 0.036165,
     "end_time": "2024-10-16T21:03:06.542144",
     "exception": false,
     "start_time": "2024-10-16T21:03:06.505979",
     "status": "completed"
    },
    "tags": []
   },
   "outputs": [
    {
     "data": {
      "text/html": [
       "<div>\n",
       "<style scoped>\n",
       "    .dataframe tbody tr th:only-of-type {\n",
       "        vertical-align: middle;\n",
       "    }\n",
       "\n",
       "    .dataframe tbody tr th {\n",
       "        vertical-align: top;\n",
       "    }\n",
       "\n",
       "    .dataframe thead th {\n",
       "        text-align: right;\n",
       "    }\n",
       "</style>\n",
       "<table border=\"1\" class=\"dataframe\">\n",
       "  <thead>\n",
       "    <tr style=\"text-align: right;\">\n",
       "      <th></th>\n",
       "      <th>id</th>\n",
       "      <th>loan_status</th>\n",
       "    </tr>\n",
       "  </thead>\n",
       "  <tbody>\n",
       "    <tr>\n",
       "      <th>0</th>\n",
       "      <td>58645</td>\n",
       "      <td>0.5</td>\n",
       "    </tr>\n",
       "    <tr>\n",
       "      <th>1</th>\n",
       "      <td>58646</td>\n",
       "      <td>0.5</td>\n",
       "    </tr>\n",
       "    <tr>\n",
       "      <th>2</th>\n",
       "      <td>58647</td>\n",
       "      <td>0.5</td>\n",
       "    </tr>\n",
       "    <tr>\n",
       "      <th>3</th>\n",
       "      <td>58648</td>\n",
       "      <td>0.5</td>\n",
       "    </tr>\n",
       "    <tr>\n",
       "      <th>4</th>\n",
       "      <td>58649</td>\n",
       "      <td>0.5</td>\n",
       "    </tr>\n",
       "  </tbody>\n",
       "</table>\n",
       "</div>"
      ],
      "text/plain": [
       "      id  loan_status\n",
       "0  58645          0.5\n",
       "1  58646          0.5\n",
       "2  58647          0.5\n",
       "3  58648          0.5\n",
       "4  58649          0.5"
      ]
     },
     "execution_count": 9,
     "metadata": {},
     "output_type": "execute_result"
    }
   ],
   "source": [
    "df_sub.head()"
   ]
  },
  {
   "cell_type": "code",
   "execution_count": 10,
   "id": "65a576c3",
   "metadata": {
    "execution": {
     "iopub.execute_input": "2024-10-16T21:03:06.585322Z",
     "iopub.status.busy": "2024-10-16T21:03:06.584773Z",
     "iopub.status.idle": "2024-10-16T21:03:06.603674Z",
     "shell.execute_reply": "2024-10-16T21:03:06.602370Z"
    },
    "papermill": {
     "duration": 0.04377,
     "end_time": "2024-10-16T21:03:06.607040",
     "exception": false,
     "start_time": "2024-10-16T21:03:06.563270",
     "status": "completed"
    },
    "tags": []
   },
   "outputs": [],
   "source": [
    "df_train = df_train.drop(columns=['id'])\n",
    "df_test = df_test.drop(columns=['id'])"
   ]
  },
  {
   "cell_type": "markdown",
   "id": "dc74a13f",
   "metadata": {
    "papermill": {
     "duration": 0.019888,
     "end_time": "2024-10-16T21:03:06.647463",
     "exception": false,
     "start_time": "2024-10-16T21:03:06.627575",
     "status": "completed"
    },
    "tags": []
   },
   "source": [
    "# 2. Data EDA"
   ]
  },
  {
   "cell_type": "code",
   "execution_count": 11,
   "id": "a7b48531",
   "metadata": {
    "execution": {
     "iopub.execute_input": "2024-10-16T21:03:06.699049Z",
     "iopub.status.busy": "2024-10-16T21:03:06.697715Z",
     "iopub.status.idle": "2024-10-16T21:03:06.710491Z",
     "shell.execute_reply": "2024-10-16T21:03:06.709071Z"
    },
    "papermill": {
     "duration": 0.045839,
     "end_time": "2024-10-16T21:03:06.715054",
     "exception": false,
     "start_time": "2024-10-16T21:03:06.669215",
     "status": "completed"
    },
    "tags": []
   },
   "outputs": [
    {
     "data": {
      "text/plain": [
       "((58645, 12), (39098, 11))"
      ]
     },
     "execution_count": 11,
     "metadata": {},
     "output_type": "execute_result"
    }
   ],
   "source": [
    "df_train.shape,df_test.shape"
   ]
  },
  {
   "cell_type": "code",
   "execution_count": 12,
   "id": "7fdbd506",
   "metadata": {
    "execution": {
     "iopub.execute_input": "2024-10-16T21:03:06.760501Z",
     "iopub.status.busy": "2024-10-16T21:03:06.759346Z",
     "iopub.status.idle": "2024-10-16T21:03:06.800228Z",
     "shell.execute_reply": "2024-10-16T21:03:06.798729Z"
    },
    "papermill": {
     "duration": 0.066575,
     "end_time": "2024-10-16T21:03:06.802965",
     "exception": false,
     "start_time": "2024-10-16T21:03:06.736390",
     "status": "completed"
    },
    "tags": []
   },
   "outputs": [
    {
     "data": {
      "text/plain": [
       "person_age                    0\n",
       "person_income                 0\n",
       "person_home_ownership         0\n",
       "person_emp_length             0\n",
       "loan_intent                   0\n",
       "loan_grade                    0\n",
       "loan_amnt                     0\n",
       "loan_int_rate                 0\n",
       "loan_percent_income           0\n",
       "cb_person_default_on_file     0\n",
       "cb_person_cred_hist_length    0\n",
       "loan_status                   0\n",
       "dtype: int64"
      ]
     },
     "execution_count": 12,
     "metadata": {},
     "output_type": "execute_result"
    }
   ],
   "source": [
    "df_train.isnull().sum()"
   ]
  },
  {
   "cell_type": "code",
   "execution_count": 13,
   "id": "4486e040",
   "metadata": {
    "execution": {
     "iopub.execute_input": "2024-10-16T21:03:06.846476Z",
     "iopub.status.busy": "2024-10-16T21:03:06.846024Z",
     "iopub.status.idle": "2024-10-16T21:03:06.878392Z",
     "shell.execute_reply": "2024-10-16T21:03:06.876916Z"
    },
    "papermill": {
     "duration": 0.057311,
     "end_time": "2024-10-16T21:03:06.881219",
     "exception": false,
     "start_time": "2024-10-16T21:03:06.823908",
     "status": "completed"
    },
    "tags": []
   },
   "outputs": [
    {
     "data": {
      "text/plain": [
       "person_age                    0\n",
       "person_income                 0\n",
       "person_home_ownership         0\n",
       "person_emp_length             0\n",
       "loan_intent                   0\n",
       "loan_grade                    0\n",
       "loan_amnt                     0\n",
       "loan_int_rate                 0\n",
       "loan_percent_income           0\n",
       "cb_person_default_on_file     0\n",
       "cb_person_cred_hist_length    0\n",
       "dtype: int64"
      ]
     },
     "execution_count": 13,
     "metadata": {},
     "output_type": "execute_result"
    }
   ],
   "source": [
    "df_test.isnull().sum()"
   ]
  },
  {
   "cell_type": "code",
   "execution_count": 14,
   "id": "6caebf25",
   "metadata": {
    "execution": {
     "iopub.execute_input": "2024-10-16T21:03:06.939538Z",
     "iopub.status.busy": "2024-10-16T21:03:06.938675Z",
     "iopub.status.idle": "2024-10-16T21:03:07.430684Z",
     "shell.execute_reply": "2024-10-16T21:03:07.429288Z"
    },
    "papermill": {
     "duration": 0.524935,
     "end_time": "2024-10-16T21:03:07.433455",
     "exception": false,
     "start_time": "2024-10-16T21:03:06.908520",
     "status": "completed"
    },
    "tags": []
   },
   "outputs": [
    {
     "data": {
      "image/png": "[encoded data removed]",
      "text/plain": [
       "<Figure size 1000x600 with 1 Axes>"
      ]
     },
     "metadata": {},
     "output_type": "display_data"
    }
   ],
   "source": [
    "def stacked_bar_plot(df, feature, target='loan_status'):\n",
    "    crosstab = pd.crosstab(df[feature], df[target], normalize='index')\n",
    "    crosstab.plot(kind='bar', stacked=True, figsize=(10, 6), cmap='magma')\n",
    "    plt.title(f'Stacked Bar Plotting of {feature} vs {target}')\n",
    "    plt.ylabel('PROPORTION')\n",
    "    plt.show()\n",
    "stacked_bar_plot(df_train, 'loan_intent')"
   ]
  },
  {
   "cell_type": "code",
   "execution_count": 15,
   "id": "8931ca62",
   "metadata": {
    "execution": {
     "iopub.execute_input": "2024-10-16T21:03:07.479545Z",
     "iopub.status.busy": "2024-10-16T21:03:07.478977Z",
     "iopub.status.idle": "2024-10-16T21:03:08.358065Z",
     "shell.execute_reply": "2024-10-16T21:03:08.356669Z"
    },
    "papermill": {
     "duration": 0.906534,
     "end_time": "2024-10-16T21:03:08.361440",
     "exception": false,
     "start_time": "2024-10-16T21:03:07.454906",
     "status": "completed"
    },
    "tags": []
   },
   "outputs": [
    {
     "name": "stderr",
     "output_type": "stream",
     "text": [
      "/opt/conda/lib/python3.10/site-packages/seaborn/_oldcore.py:1119: FutureWarning: use_inf_as_na option is deprecated and will be removed in a future version. Convert inf values to NaN before operating instead.\n",
      "  with pd.option_context('mode.use_inf_as_na', True):\n",
      "/opt/conda/lib/python3.10/site-packages/seaborn/_oldcore.py:1119: FutureWarning: use_inf_as_na option is deprecated and will be removed in a future version. Convert inf values to NaN before operating instead.\n",
      "  with pd.option_context('mode.use_inf_as_na', True):\n"
     ]
    },
    {
     "data": {
      "image/png": "[encoded data removed]",
      "text/plain": [
       "<Figure size 1000x600 with 1 Axes>"
      ]
     },
     "metadata": {},
     "output_type": "display_data"
    }
   ],
   "source": [
    "plt.figure(figsize=(10, 6))\n",
    "sns.kdeplot(df_train[df_train['loan_status'] == 1]['loan_amnt'], label='Default', fill=True)\n",
    "sns.kdeplot(df_train[df_train['loan_status'] == 0]['loan_amnt'], label='Non-Default', fill=True)\n",
    "plt.title('CDF of Loan Amount by Loan Status')\n",
    "plt.xlabel('Loan Amount')\n",
    "plt.ylabel('Density')\n",
    "plt.legend()\n",
    "plt.show()"
   ]
  },
  {
   "cell_type": "code",
   "execution_count": 16,
   "id": "0de29e1e",
   "metadata": {
    "execution": {
     "iopub.execute_input": "2024-10-16T21:03:08.413924Z",
     "iopub.status.busy": "2024-10-16T21:03:08.412637Z",
     "iopub.status.idle": "2024-10-16T21:03:08.427177Z",
     "shell.execute_reply": "2024-10-16T21:03:08.425597Z"
    },
    "papermill": {
     "duration": 0.045584,
     "end_time": "2024-10-16T21:03:08.430015",
     "exception": false,
     "start_time": "2024-10-16T21:03:08.384431",
     "status": "completed"
    },
    "tags": []
   },
   "outputs": [],
   "source": [
    "target_df = pd.DataFrame()\n",
    "target_df['loan_status'] = df_train['loan_status'] \n",
    "df_train = df_train.drop(['loan_status'],axis=1)\n",
    "X = df_train"
   ]
  },
  {
   "cell_type": "code",
   "execution_count": 17,
   "id": "df74d18a",
   "metadata": {
    "execution": {
     "iopub.execute_input": "2024-10-16T21:03:08.478176Z",
     "iopub.status.busy": "2024-10-16T21:03:08.477061Z",
     "iopub.status.idle": "2024-10-16T21:03:08.491847Z",
     "shell.execute_reply": "2024-10-16T21:03:08.490577Z"
    },
    "papermill": {
     "duration": 0.042162,
     "end_time": "2024-10-16T21:03:08.494675",
     "exception": false,
     "start_time": "2024-10-16T21:03:08.452513",
     "status": "completed"
    },
    "tags": []
   },
   "outputs": [
    {
     "data": {
      "text/plain": [
       "loan_status\n",
       "0    0.857618\n",
       "1    0.142382\n",
       "Name: proportion, dtype: float64"
      ]
     },
     "execution_count": 17,
     "metadata": {},
     "output_type": "execute_result"
    }
   ],
   "source": [
    "target_df['loan_status'].value_counts(normalize=True)"
   ]
  },
  {
   "cell_type": "code",
   "execution_count": 18,
   "id": "b56fc785",
   "metadata": {
    "execution": {
     "iopub.execute_input": "2024-10-16T21:03:08.543416Z",
     "iopub.status.busy": "2024-10-16T21:03:08.542920Z",
     "iopub.status.idle": "2024-10-16T21:03:08.549776Z",
     "shell.execute_reply": "2024-10-16T21:03:08.547067Z"
    },
    "papermill": {
     "duration": 0.033935,
     "end_time": "2024-10-16T21:03:08.552471",
     "exception": false,
     "start_time": "2024-10-16T21:03:08.518536",
     "status": "completed"
    },
    "tags": []
   },
   "outputs": [],
   "source": [
    "# from sklearn.preprocessing import StandardScaler\n",
    "# scaler = StandardScaler()\n",
    "# scaled_train_data = X\n",
    "# scaled_test_data = df_test"
   ]
  },
  {
   "cell_type": "code",
   "execution_count": 19,
   "id": "63007691",
   "metadata": {
    "execution": {
     "iopub.execute_input": "2024-10-16T21:03:08.603114Z",
     "iopub.status.busy": "2024-10-16T21:03:08.601744Z",
     "iopub.status.idle": "2024-10-16T21:03:08.645113Z",
     "shell.execute_reply": "2024-10-16T21:03:08.643588Z"
    },
    "papermill": {
     "duration": 0.071382,
     "end_time": "2024-10-16T21:03:08.647782",
     "exception": false,
     "start_time": "2024-10-16T21:03:08.576400",
     "status": "completed"
    },
    "tags": []
   },
   "outputs": [
    {
     "name": "stdout",
     "output_type": "stream",
     "text": [
      "<class 'pandas.core.frame.DataFrame'>\n",
      "RangeIndex: 58645 entries, 0 to 58644\n",
      "Data columns (total 11 columns):\n",
      " #   Column                      Non-Null Count  Dtype  \n",
      "---  ------                      --------------  -----  \n",
      " 0   person_age                  58645 non-null  int64  \n",
      " 1   person_income               58645 non-null  int64  \n",
      " 2   person_home_ownership       58645 non-null  object \n",
      " 3   person_emp_length           58645 non-null  float64\n",
      " 4   loan_intent                 58645 non-null  object \n",
      " 5   loan_grade                  58645 non-null  object \n",
      " 6   loan_amnt                   58645 non-null  int64  \n",
      " 7   loan_int_rate               58645 non-null  float64\n",
      " 8   loan_percent_income         58645 non-null  float64\n",
      " 9   cb_person_default_on_file   58645 non-null  object \n",
      " 10  cb_person_cred_hist_length  58645 non-null  int64  \n",
      "dtypes: float64(3), int64(4), object(4)\n",
      "memory usage: 4.9+ MB\n"
     ]
    }
   ],
   "source": [
    "X.info()"
   ]
  },
  {
   "cell_type": "code",
   "execution_count": 20,
   "id": "118c5578",
   "metadata": {
    "execution": {
     "iopub.execute_input": "2024-10-16T21:03:08.696979Z",
     "iopub.status.busy": "2024-10-16T21:03:08.696511Z",
     "iopub.status.idle": "2024-10-16T21:03:08.727482Z",
     "shell.execute_reply": "2024-10-16T21:03:08.726100Z"
    },
    "papermill": {
     "duration": 0.058838,
     "end_time": "2024-10-16T21:03:08.730122",
     "exception": false,
     "start_time": "2024-10-16T21:03:08.671284",
     "status": "completed"
    },
    "tags": []
   },
   "outputs": [
    {
     "name": "stdout",
     "output_type": "stream",
     "text": [
      "<class 'pandas.core.frame.DataFrame'>\n",
      "RangeIndex: 39098 entries, 0 to 39097\n",
      "Data columns (total 11 columns):\n",
      " #   Column                      Non-Null Count  Dtype  \n",
      "---  ------                      --------------  -----  \n",
      " 0   person_age                  39098 non-null  int64  \n",
      " 1   person_income               39098 non-null  int64  \n",
      " 2   person_home_ownership       39098 non-null  object \n",
      " 3   person_emp_length           39098 non-null  float64\n",
      " 4   loan_intent                 39098 non-null  object \n",
      " 5   loan_grade                  39098 non-null  object \n",
      " 6   loan_amnt                   39098 non-null  int64  \n",
      " 7   loan_int_rate               39098 non-null  float64\n",
      " 8   loan_percent_income         39098 non-null  float64\n",
      " 9   cb_person_default_on_file   39098 non-null  object \n",
      " 10  cb_person_cred_hist_length  39098 non-null  int64  \n",
      "dtypes: float64(3), int64(4), object(4)\n",
      "memory usage: 3.3+ MB\n"
     ]
    }
   ],
   "source": [
    "df_test.info()"
   ]
  },
  {
   "cell_type": "code",
   "execution_count": 21,
   "id": "a2b18cc7",
   "metadata": {
    "execution": {
     "iopub.execute_input": "2024-10-16T21:03:08.781084Z",
     "iopub.status.busy": "2024-10-16T21:03:08.780503Z",
     "iopub.status.idle": "2024-10-16T21:03:08.785858Z",
     "shell.execute_reply": "2024-10-16T21:03:08.784684Z"
    },
    "papermill": {
     "duration": 0.034859,
     "end_time": "2024-10-16T21:03:08.788680",
     "exception": false,
     "start_time": "2024-10-16T21:03:08.753821",
     "status": "completed"
    },
    "tags": []
   },
   "outputs": [],
   "source": [
    "# df_train.drop([\"person_home_ownership\", \"loan_intent\", \"loan_grade\", \"cb_person_default_on_file\"], axis=1, inplace=True)\n",
    "# df_test.drop([\"person_home_ownership\", \"loan_intent\", \"loan_grade\", \"cb_person_default_on_file\"], axis=1, inplace=True)"
   ]
  },
  {
   "cell_type": "markdown",
   "id": "2c9944d3",
   "metadata": {
    "papermill": {
     "duration": 0.02291,
     "end_time": "2024-10-16T21:03:08.835857",
     "exception": false,
     "start_time": "2024-10-16T21:03:08.812947",
     "status": "completed"
    },
    "tags": []
   },
   "source": [
    "# 3. Data Processing"
   ]
  },
  {
   "cell_type": "markdown",
   "id": "8e228776",
   "metadata": {
    "papermill": {
     "duration": 0.022615,
     "end_time": "2024-10-16T21:03:08.881593",
     "exception": false,
     "start_time": "2024-10-16T21:03:08.858978",
     "status": "completed"
    },
    "tags": []
   },
   "source": [
    "## 3.0 Data Types"
   ]
  },
  {
   "cell_type": "code",
   "execution_count": 22,
   "id": "891aff4d",
   "metadata": {
    "execution": {
     "iopub.execute_input": "2024-10-16T21:03:08.930564Z",
     "iopub.status.busy": "2024-10-16T21:03:08.929603Z",
     "iopub.status.idle": "2024-10-16T21:03:08.942076Z",
     "shell.execute_reply": "2024-10-16T21:03:08.940596Z"
    },
    "papermill": {
     "duration": 0.039978,
     "end_time": "2024-10-16T21:03:08.945005",
     "exception": false,
     "start_time": "2024-10-16T21:03:08.905027",
     "status": "completed"
    },
    "tags": []
   },
   "outputs": [
    {
     "name": "stdout",
     "output_type": "stream",
     "text": [
      "11\n",
      "(58645, 11)\n"
     ]
    }
   ],
   "source": [
    "int_cols = X.select_dtypes('int64').columns.to_list()\n",
    "float_cols = X.select_dtypes('float64').columns.to_list()\n",
    "\n",
    "obj_cols = X.select_dtypes('object').columns.to_list()\n",
    "\n",
    "print(len(int_cols) + len(float_cols) + len(obj_cols))\n",
    "print(X.shape)"
   ]
  },
  {
   "cell_type": "code",
   "execution_count": 23,
   "id": "7f0fd0cf",
   "metadata": {
    "execution": {
     "iopub.execute_input": "2024-10-16T21:03:08.993770Z",
     "iopub.status.busy": "2024-10-16T21:03:08.993307Z",
     "iopub.status.idle": "2024-10-16T21:03:09.001516Z",
     "shell.execute_reply": "2024-10-16T21:03:09.000301Z"
    },
    "papermill": {
     "duration": 0.035494,
     "end_time": "2024-10-16T21:03:09.004261",
     "exception": false,
     "start_time": "2024-10-16T21:03:08.968767",
     "status": "completed"
    },
    "tags": []
   },
   "outputs": [],
   "source": [
    "temp = X.copy()"
   ]
  },
  {
   "cell_type": "markdown",
   "id": "921e5a9f",
   "metadata": {
    "papermill": {
     "duration": 0.023028,
     "end_time": "2024-10-16T21:03:09.051717",
     "exception": false,
     "start_time": "2024-10-16T21:03:09.028689",
     "status": "completed"
    },
    "tags": []
   },
   "source": [
    "## 3.1 Feature Engineering"
   ]
  },
  {
   "cell_type": "code",
   "execution_count": 24,
   "id": "05448f8a",
   "metadata": {
    "execution": {
     "iopub.execute_input": "2024-10-16T21:03:09.101786Z",
     "iopub.status.busy": "2024-10-16T21:03:09.100766Z",
     "iopub.status.idle": "2024-10-16T21:03:09.111205Z",
     "shell.execute_reply": "2024-10-16T21:03:09.109902Z"
    },
    "papermill": {
     "duration": 0.038122,
     "end_time": "2024-10-16T21:03:09.113702",
     "exception": false,
     "start_time": "2024-10-16T21:03:09.075580",
     "status": "completed"
    },
    "tags": []
   },
   "outputs": [],
   "source": [
    "def transform(df):\n",
    "    df['loan_to_income'] = ((df['loan_amnt'] / df['person_income']) - df['loan_percent_income'])\n",
    "    df['age_income_interaction'] = (df['person_age'] * df['person_income'])\n",
    "    df['loan_to_emp_length_ratio'] = (df['loan_amnt'] / (0.1 + df['person_emp_length']).astype('float'))\n",
    "    df['monthly_debt'] = (df['loan_amnt'] * (1 + df['loan_int_rate']) / 12)\n",
    "    \n",
    "    monthly_income = df['person_income'] / 12\n",
    "    df['dti_ratio'] = (df['monthly_debt'] / monthly_income)\n",
    "    \n",
    "    df['monthly_debt'] = (df['loan_amnt'] * (1 + df['loan_int_rate']) / 12)\n",
    "    df['risk_flag'] = (np.where((df['cb_person_default_on_file'] == 'Y') & (df['loan_grade'].isin(['C', 'D', 'E'])), 1, 0))\n",
    "    \n",
    "    \n",
    "    df['loan_int_rate'] = (df['loan_int_rate'] * 100)\n",
    "    df['loan_percent_income'] = (df['loan_percent_income'] * 100)\n",
    "    return df"
   ]
  },
  {
   "cell_type": "code",
   "execution_count": 25,
   "id": "5780d71c",
   "metadata": {
    "execution": {
     "iopub.execute_input": "2024-10-16T21:03:09.162657Z",
     "iopub.status.busy": "2024-10-16T21:03:09.162181Z",
     "iopub.status.idle": "2024-10-16T21:03:09.219239Z",
     "shell.execute_reply": "2024-10-16T21:03:09.217693Z"
    },
    "papermill": {
     "duration": 0.084895,
     "end_time": "2024-10-16T21:03:09.222089",
     "exception": false,
     "start_time": "2024-10-16T21:03:09.137194",
     "status": "completed"
    },
    "tags": []
   },
   "outputs": [
    {
     "name": "stdout",
     "output_type": "stream",
     "text": [
      "(58645, 17)\n"
     ]
    },
    {
     "data": {
      "text/html": [
       "<div>\n",
       "<style scoped>\n",
       "    .dataframe tbody tr th:only-of-type {\n",
       "        vertical-align: middle;\n",
       "    }\n",
       "\n",
       "    .dataframe tbody tr th {\n",
       "        vertical-align: top;\n",
       "    }\n",
       "\n",
       "    .dataframe thead th {\n",
       "        text-align: right;\n",
       "    }\n",
       "</style>\n",
       "<table border=\"1\" class=\"dataframe\">\n",
       "  <thead>\n",
       "    <tr style=\"text-align: right;\">\n",
       "      <th></th>\n",
       "      <th>person_age</th>\n",
       "      <th>person_income</th>\n",
       "      <th>person_home_ownership</th>\n",
       "      <th>person_emp_length</th>\n",
       "      <th>loan_intent</th>\n",
       "      <th>loan_grade</th>\n",
       "      <th>loan_amnt</th>\n",
       "      <th>loan_int_rate</th>\n",
       "      <th>loan_percent_income</th>\n",
       "      <th>cb_person_default_on_file</th>\n",
       "      <th>cb_person_cred_hist_length</th>\n",
       "      <th>loan_to_income</th>\n",
       "      <th>age_income_interaction</th>\n",
       "      <th>loan_to_emp_length_ratio</th>\n",
       "      <th>monthly_debt</th>\n",
       "      <th>dti_ratio</th>\n",
       "      <th>risk_flag</th>\n",
       "    </tr>\n",
       "  </thead>\n",
       "  <tbody>\n",
       "    <tr>\n",
       "      <th>0</th>\n",
       "      <td>37</td>\n",
       "      <td>35000</td>\n",
       "      <td>RENT</td>\n",
       "      <td>0.0</td>\n",
       "      <td>EDUCATION</td>\n",
       "      <td>B</td>\n",
       "      <td>6000</td>\n",
       "      <td>1149.0</td>\n",
       "      <td>17.0</td>\n",
       "      <td>N</td>\n",
       "      <td>14</td>\n",
       "      <td>0.001429</td>\n",
       "      <td>1295000</td>\n",
       "      <td>60000.000000</td>\n",
       "      <td>6245.000000</td>\n",
       "      <td>2.141143</td>\n",
       "      <td>0</td>\n",
       "    </tr>\n",
       "    <tr>\n",
       "      <th>1</th>\n",
       "      <td>22</td>\n",
       "      <td>56000</td>\n",
       "      <td>OWN</td>\n",
       "      <td>6.0</td>\n",
       "      <td>MEDICAL</td>\n",
       "      <td>C</td>\n",
       "      <td>4000</td>\n",
       "      <td>1335.0</td>\n",
       "      <td>7.0</td>\n",
       "      <td>N</td>\n",
       "      <td>2</td>\n",
       "      <td>0.001429</td>\n",
       "      <td>1232000</td>\n",
       "      <td>655.737705</td>\n",
       "      <td>4783.333333</td>\n",
       "      <td>1.025000</td>\n",
       "      <td>0</td>\n",
       "    </tr>\n",
       "    <tr>\n",
       "      <th>2</th>\n",
       "      <td>29</td>\n",
       "      <td>28800</td>\n",
       "      <td>OWN</td>\n",
       "      <td>8.0</td>\n",
       "      <td>PERSONAL</td>\n",
       "      <td>A</td>\n",
       "      <td>6000</td>\n",
       "      <td>890.0</td>\n",
       "      <td>21.0</td>\n",
       "      <td>N</td>\n",
       "      <td>10</td>\n",
       "      <td>-0.001667</td>\n",
       "      <td>835200</td>\n",
       "      <td>740.740741</td>\n",
       "      <td>4950.000000</td>\n",
       "      <td>2.062500</td>\n",
       "      <td>0</td>\n",
       "    </tr>\n",
       "  </tbody>\n",
       "</table>\n",
       "</div>"
      ],
      "text/plain": [
       "   person_age  person_income person_home_ownership  person_emp_length  \\\n",
       "0          37          35000                  RENT                0.0   \n",
       "1          22          56000                   OWN                6.0   \n",
       "2          29          28800                   OWN                8.0   \n",
       "\n",
       "  loan_intent loan_grade  loan_amnt  loan_int_rate  loan_percent_income  \\\n",
       "0   EDUCATION          B       6000         1149.0                 17.0   \n",
       "1     MEDICAL          C       4000         1335.0                  7.0   \n",
       "2    PERSONAL          A       6000          890.0                 21.0   \n",
       "\n",
       "  cb_person_default_on_file  cb_person_cred_hist_length  loan_to_income  \\\n",
       "0                         N                          14        0.001429   \n",
       "1                         N                           2        0.001429   \n",
       "2                         N                          10       -0.001667   \n",
       "\n",
       "   age_income_interaction  loan_to_emp_length_ratio  monthly_debt  dti_ratio  \\\n",
       "0                 1295000              60000.000000   6245.000000   2.141143   \n",
       "1                 1232000                655.737705   4783.333333   1.025000   \n",
       "2                  835200                740.740741   4950.000000   2.062500   \n",
       "\n",
       "   risk_flag  \n",
       "0          0  \n",
       "1          0  \n",
       "2          0  "
      ]
     },
     "execution_count": 25,
     "metadata": {},
     "output_type": "execute_result"
    }
   ],
   "source": [
    "temp = transform(temp)\n",
    "print(temp.shape)\n",
    "temp.head(3)"
   ]
  },
  {
   "cell_type": "code",
   "execution_count": 26,
   "id": "1fb0aec8",
   "metadata": {
    "execution": {
     "iopub.execute_input": "2024-10-16T21:03:09.271626Z",
     "iopub.status.busy": "2024-10-16T21:03:09.271190Z",
     "iopub.status.idle": "2024-10-16T21:03:09.298388Z",
     "shell.execute_reply": "2024-10-16T21:03:09.296881Z"
    },
    "papermill": {
     "duration": 0.0555,
     "end_time": "2024-10-16T21:03:09.301334",
     "exception": false,
     "start_time": "2024-10-16T21:03:09.245834",
     "status": "completed"
    },
    "tags": []
   },
   "outputs": [
    {
     "name": "stdout",
     "output_type": "stream",
     "text": [
      "17\n",
      "(58645, 17)\n"
     ]
    }
   ],
   "source": [
    "int_cols = temp.select_dtypes('int64').columns.to_list()\n",
    "float_cols = temp.select_dtypes('float64').columns.to_list()\n",
    "\n",
    "obj_cols = temp.select_dtypes('object').columns.to_list()\n",
    "\n",
    "print(len(int_cols) + len(float_cols) + len(obj_cols))\n",
    "print(temp.shape)"
   ]
  },
  {
   "cell_type": "markdown",
   "id": "121c7db6",
   "metadata": {
    "papermill": {
     "duration": 0.02345,
     "end_time": "2024-10-16T21:03:09.349085",
     "exception": false,
     "start_time": "2024-10-16T21:03:09.325635",
     "status": "completed"
    },
    "tags": []
   },
   "source": [
    "## 3.2 Converting The Features Into Numericals"
   ]
  },
  {
   "cell_type": "markdown",
   "id": "2c927b0e",
   "metadata": {
    "papermill": {
     "duration": 0.024045,
     "end_time": "2024-10-16T21:03:09.396624",
     "exception": false,
     "start_time": "2024-10-16T21:03:09.372579",
     "status": "completed"
    },
    "tags": []
   },
   "source": [
    "### 3.2.1 Numerical Columns"
   ]
  },
  {
   "cell_type": "code",
   "execution_count": 27,
   "id": "e8d87fe2",
   "metadata": {
    "execution": {
     "iopub.execute_input": "2024-10-16T21:03:09.448702Z",
     "iopub.status.busy": "2024-10-16T21:03:09.448281Z",
     "iopub.status.idle": "2024-10-16T21:03:09.463102Z",
     "shell.execute_reply": "2024-10-16T21:03:09.461884Z"
    },
    "papermill": {
     "duration": 0.042761,
     "end_time": "2024-10-16T21:03:09.466123",
     "exception": false,
     "start_time": "2024-10-16T21:03:09.423362",
     "status": "completed"
    },
    "tags": []
   },
   "outputs": [
    {
     "data": {
      "text/html": [
       "<div>\n",
       "<style scoped>\n",
       "    .dataframe tbody tr th:only-of-type {\n",
       "        vertical-align: middle;\n",
       "    }\n",
       "\n",
       "    .dataframe tbody tr th {\n",
       "        vertical-align: top;\n",
       "    }\n",
       "\n",
       "    .dataframe thead th {\n",
       "        text-align: right;\n",
       "    }\n",
       "</style>\n",
       "<table border=\"1\" class=\"dataframe\">\n",
       "  <thead>\n",
       "    <tr style=\"text-align: right;\">\n",
       "      <th></th>\n",
       "      <th>person_age</th>\n",
       "      <th>person_income</th>\n",
       "      <th>loan_amnt</th>\n",
       "      <th>cb_person_cred_hist_length</th>\n",
       "      <th>age_income_interaction</th>\n",
       "      <th>risk_flag</th>\n",
       "    </tr>\n",
       "  </thead>\n",
       "  <tbody>\n",
       "    <tr>\n",
       "      <th>0</th>\n",
       "      <td>37</td>\n",
       "      <td>35000</td>\n",
       "      <td>6000</td>\n",
       "      <td>14</td>\n",
       "      <td>1295000</td>\n",
       "      <td>0</td>\n",
       "    </tr>\n",
       "    <tr>\n",
       "      <th>1</th>\n",
       "      <td>22</td>\n",
       "      <td>56000</td>\n",
       "      <td>4000</td>\n",
       "      <td>2</td>\n",
       "      <td>1232000</td>\n",
       "      <td>0</td>\n",
       "    </tr>\n",
       "    <tr>\n",
       "      <th>2</th>\n",
       "      <td>29</td>\n",
       "      <td>28800</td>\n",
       "      <td>6000</td>\n",
       "      <td>10</td>\n",
       "      <td>835200</td>\n",
       "      <td>0</td>\n",
       "    </tr>\n",
       "  </tbody>\n",
       "</table>\n",
       "</div>"
      ],
      "text/plain": [
       "   person_age  person_income  loan_amnt  cb_person_cred_hist_length  \\\n",
       "0          37          35000       6000                          14   \n",
       "1          22          56000       4000                           2   \n",
       "2          29          28800       6000                          10   \n",
       "\n",
       "   age_income_interaction  risk_flag  \n",
       "0                 1295000          0  \n",
       "1                 1232000          0  \n",
       "2                  835200          0  "
      ]
     },
     "execution_count": 27,
     "metadata": {},
     "output_type": "execute_result"
    }
   ],
   "source": [
    "temp[int_cols].head(3)"
   ]
  },
  {
   "cell_type": "code",
   "execution_count": 28,
   "id": "c831add7",
   "metadata": {
    "execution": {
     "iopub.execute_input": "2024-10-16T21:03:09.516725Z",
     "iopub.status.busy": "2024-10-16T21:03:09.516281Z",
     "iopub.status.idle": "2024-10-16T21:03:09.538400Z",
     "shell.execute_reply": "2024-10-16T21:03:09.537168Z"
    },
    "papermill": {
     "duration": 0.050652,
     "end_time": "2024-10-16T21:03:09.541131",
     "exception": false,
     "start_time": "2024-10-16T21:03:09.490479",
     "status": "completed"
    },
    "tags": []
   },
   "outputs": [
    {
     "data": {
      "text/html": [
       "<div>\n",
       "<style scoped>\n",
       "    .dataframe tbody tr th:only-of-type {\n",
       "        vertical-align: middle;\n",
       "    }\n",
       "\n",
       "    .dataframe tbody tr th {\n",
       "        vertical-align: top;\n",
       "    }\n",
       "\n",
       "    .dataframe thead th {\n",
       "        text-align: right;\n",
       "    }\n",
       "</style>\n",
       "<table border=\"1\" class=\"dataframe\">\n",
       "  <thead>\n",
       "    <tr style=\"text-align: right;\">\n",
       "      <th></th>\n",
       "      <th>person_emp_length</th>\n",
       "      <th>loan_int_rate</th>\n",
       "      <th>loan_percent_income</th>\n",
       "      <th>loan_to_income</th>\n",
       "      <th>loan_to_emp_length_ratio</th>\n",
       "      <th>monthly_debt</th>\n",
       "      <th>dti_ratio</th>\n",
       "    </tr>\n",
       "  </thead>\n",
       "  <tbody>\n",
       "    <tr>\n",
       "      <th>0</th>\n",
       "      <td>0.0</td>\n",
       "      <td>1149.0</td>\n",
       "      <td>17.0</td>\n",
       "      <td>0.001429</td>\n",
       "      <td>60000.000000</td>\n",
       "      <td>6245.000000</td>\n",
       "      <td>2.141143</td>\n",
       "    </tr>\n",
       "    <tr>\n",
       "      <th>1</th>\n",
       "      <td>6.0</td>\n",
       "      <td>1335.0</td>\n",
       "      <td>7.0</td>\n",
       "      <td>0.001429</td>\n",
       "      <td>655.737705</td>\n",
       "      <td>4783.333333</td>\n",
       "      <td>1.025000</td>\n",
       "    </tr>\n",
       "    <tr>\n",
       "      <th>2</th>\n",
       "      <td>8.0</td>\n",
       "      <td>890.0</td>\n",
       "      <td>21.0</td>\n",
       "      <td>-0.001667</td>\n",
       "      <td>740.740741</td>\n",
       "      <td>4950.000000</td>\n",
       "      <td>2.062500</td>\n",
       "    </tr>\n",
       "  </tbody>\n",
       "</table>\n",
       "</div>"
      ],
      "text/plain": [
       "   person_emp_length  loan_int_rate  loan_percent_income  loan_to_income  \\\n",
       "0                0.0         1149.0                 17.0        0.001429   \n",
       "1                6.0         1335.0                  7.0        0.001429   \n",
       "2                8.0          890.0                 21.0       -0.001667   \n",
       "\n",
       "   loan_to_emp_length_ratio  monthly_debt  dti_ratio  \n",
       "0              60000.000000   6245.000000   2.141143  \n",
       "1                655.737705   4783.333333   1.025000  \n",
       "2                740.740741   4950.000000   2.062500  "
      ]
     },
     "execution_count": 28,
     "metadata": {},
     "output_type": "execute_result"
    }
   ],
   "source": [
    "temp[float_cols].head(3)"
   ]
  },
  {
   "cell_type": "markdown",
   "id": "74a59df4",
   "metadata": {
    "papermill": {
     "duration": 0.023849,
     "end_time": "2024-10-16T21:03:09.590049",
     "exception": false,
     "start_time": "2024-10-16T21:03:09.566200",
     "status": "completed"
    },
    "tags": []
   },
   "source": [
    "No extra transformation required"
   ]
  },
  {
   "cell_type": "markdown",
   "id": "ffe63dab",
   "metadata": {
    "papermill": {
     "duration": 0.024103,
     "end_time": "2024-10-16T21:03:09.638392",
     "exception": false,
     "start_time": "2024-10-16T21:03:09.614289",
     "status": "completed"
    },
    "tags": []
   },
   "source": [
    "### 3.2.2 Categorical Columns"
   ]
  },
  {
   "cell_type": "code",
   "execution_count": 29,
   "id": "003d33e0",
   "metadata": {
    "execution": {
     "iopub.execute_input": "2024-10-16T21:03:09.688672Z",
     "iopub.status.busy": "2024-10-16T21:03:09.688198Z",
     "iopub.status.idle": "2024-10-16T21:03:09.774916Z",
     "shell.execute_reply": "2024-10-16T21:03:09.773826Z"
    },
    "papermill": {
     "duration": 0.11502,
     "end_time": "2024-10-16T21:03:09.777618",
     "exception": false,
     "start_time": "2024-10-16T21:03:09.662598",
     "status": "completed"
    },
    "tags": []
   },
   "outputs": [
    {
     "data": {
      "text/html": [
       "<div>\n",
       "<style scoped>\n",
       "    .dataframe tbody tr th:only-of-type {\n",
       "        vertical-align: middle;\n",
       "    }\n",
       "\n",
       "    .dataframe tbody tr th {\n",
       "        vertical-align: top;\n",
       "    }\n",
       "\n",
       "    .dataframe thead th {\n",
       "        text-align: right;\n",
       "    }\n",
       "</style>\n",
       "<table border=\"1\" class=\"dataframe\">\n",
       "  <thead>\n",
       "    <tr style=\"text-align: right;\">\n",
       "      <th></th>\n",
       "      <th>Feat</th>\n",
       "      <th>count</th>\n",
       "      <th>unique</th>\n",
       "      <th>top</th>\n",
       "      <th>freq</th>\n",
       "    </tr>\n",
       "  </thead>\n",
       "  <tbody>\n",
       "    <tr>\n",
       "      <th>0</th>\n",
       "      <td>person_home_ownership</td>\n",
       "      <td>58645</td>\n",
       "      <td>4</td>\n",
       "      <td>RENT</td>\n",
       "      <td>30594</td>\n",
       "    </tr>\n",
       "    <tr>\n",
       "      <th>1</th>\n",
       "      <td>loan_intent</td>\n",
       "      <td>58645</td>\n",
       "      <td>6</td>\n",
       "      <td>EDUCATION</td>\n",
       "      <td>12271</td>\n",
       "    </tr>\n",
       "    <tr>\n",
       "      <th>2</th>\n",
       "      <td>loan_grade</td>\n",
       "      <td>58645</td>\n",
       "      <td>7</td>\n",
       "      <td>A</td>\n",
       "      <td>20984</td>\n",
       "    </tr>\n",
       "    <tr>\n",
       "      <th>3</th>\n",
       "      <td>cb_person_default_on_file</td>\n",
       "      <td>58645</td>\n",
       "      <td>2</td>\n",
       "      <td>N</td>\n",
       "      <td>49943</td>\n",
       "    </tr>\n",
       "  </tbody>\n",
       "</table>\n",
       "</div>"
      ],
      "text/plain": [
       "                        Feat  count unique        top   freq\n",
       "0      person_home_ownership  58645      4       RENT  30594\n",
       "1                loan_intent  58645      6  EDUCATION  12271\n",
       "2                 loan_grade  58645      7          A  20984\n",
       "3  cb_person_default_on_file  58645      2          N  49943"
      ]
     },
     "execution_count": 29,
     "metadata": {},
     "output_type": "execute_result"
    }
   ],
   "source": [
    "string_feat = temp[obj_cols].describe().T.reset_index().rename(columns = {'index': 'Feat'})\n",
    "string_feat.head()"
   ]
  },
  {
   "cell_type": "code",
   "execution_count": 30,
   "id": "ccd79a84",
   "metadata": {
    "execution": {
     "iopub.execute_input": "2024-10-16T21:03:09.828378Z",
     "iopub.status.busy": "2024-10-16T21:03:09.827924Z",
     "iopub.status.idle": "2024-10-16T21:03:09.874746Z",
     "shell.execute_reply": "2024-10-16T21:03:09.873620Z"
    },
    "papermill": {
     "duration": 0.075477,
     "end_time": "2024-10-16T21:03:09.877632",
     "exception": false,
     "start_time": "2024-10-16T21:03:09.802155",
     "status": "completed"
    },
    "tags": []
   },
   "outputs": [
    {
     "name": "stdout",
     "output_type": "stream",
     "text": [
      "person_home_ownership\n",
      "RENT        0.521681\n",
      "MORTGAGE    0.423293\n",
      "OWN         0.053508\n",
      "OTHER       0.001518\n",
      "Name: proportion, dtype: float64\n",
      "********************\n",
      "loan_intent\n",
      "EDUCATION            0.209242\n",
      "MEDICAL              0.186444\n",
      "PERSONAL             0.170790\n",
      "VENTURE              0.170705\n",
      "DEBTCONSOLIDATION    0.155734\n",
      "HOMEIMPROVEMENT      0.107085\n",
      "Name: proportion, dtype: float64\n",
      "********************\n",
      "loan_grade\n",
      "A    0.357814\n",
      "B    0.347856\n",
      "C    0.188183\n",
      "D    0.085839\n",
      "E    0.017205\n",
      "F    0.002541\n",
      "G    0.000563\n",
      "Name: proportion, dtype: float64\n",
      "********************\n",
      "cb_person_default_on_file\n",
      "N    0.851616\n",
      "Y    0.148384\n",
      "Name: proportion, dtype: float64\n",
      "********************\n"
     ]
    }
   ],
   "source": [
    "for cat in obj_cols:\n",
    "#     print(cat)\n",
    "    print(temp[cat].value_counts(normalize=True))\n",
    "    print(\"*\"*20)"
   ]
  },
  {
   "cell_type": "code",
   "execution_count": 31,
   "id": "c8f0af4a",
   "metadata": {
    "execution": {
     "iopub.execute_input": "2024-10-16T21:03:09.929926Z",
     "iopub.status.busy": "2024-10-16T21:03:09.928693Z",
     "iopub.status.idle": "2024-10-16T21:03:09.986640Z",
     "shell.execute_reply": "2024-10-16T21:03:09.985489Z"
    },
    "papermill": {
     "duration": 0.087112,
     "end_time": "2024-10-16T21:03:09.989568",
     "exception": false,
     "start_time": "2024-10-16T21:03:09.902456",
     "status": "completed"
    },
    "tags": []
   },
   "outputs": [
    {
     "name": "stdout",
     "output_type": "stream",
     "text": [
      "(58645, 15)\n"
     ]
    },
    {
     "data": {
      "text/html": [
       "<div>\n",
       "<style scoped>\n",
       "    .dataframe tbody tr th:only-of-type {\n",
       "        vertical-align: middle;\n",
       "    }\n",
       "\n",
       "    .dataframe tbody tr th {\n",
       "        vertical-align: top;\n",
       "    }\n",
       "\n",
       "    .dataframe thead th {\n",
       "        text-align: right;\n",
       "    }\n",
       "</style>\n",
       "<table border=\"1\" class=\"dataframe\">\n",
       "  <thead>\n",
       "    <tr style=\"text-align: right;\">\n",
       "      <th></th>\n",
       "      <th>person_home_ownership_OTHER</th>\n",
       "      <th>person_home_ownership_OWN</th>\n",
       "      <th>person_home_ownership_RENT</th>\n",
       "      <th>loan_intent_EDUCATION</th>\n",
       "      <th>loan_intent_HOMEIMPROVEMENT</th>\n",
       "      <th>loan_intent_MEDICAL</th>\n",
       "      <th>loan_intent_PERSONAL</th>\n",
       "      <th>loan_intent_VENTURE</th>\n",
       "      <th>loan_grade_B</th>\n",
       "      <th>loan_grade_C</th>\n",
       "      <th>loan_grade_D</th>\n",
       "      <th>loan_grade_E</th>\n",
       "      <th>loan_grade_F</th>\n",
       "      <th>loan_grade_G</th>\n",
       "      <th>cb_person_default_on_file_Y</th>\n",
       "    </tr>\n",
       "  </thead>\n",
       "  <tbody>\n",
       "    <tr>\n",
       "      <th>0</th>\n",
       "      <td>0</td>\n",
       "      <td>0</td>\n",
       "      <td>1</td>\n",
       "      <td>1</td>\n",
       "      <td>0</td>\n",
       "      <td>0</td>\n",
       "      <td>0</td>\n",
       "      <td>0</td>\n",
       "      <td>1</td>\n",
       "      <td>0</td>\n",
       "      <td>0</td>\n",
       "      <td>0</td>\n",
       "      <td>0</td>\n",
       "      <td>0</td>\n",
       "      <td>0</td>\n",
       "    </tr>\n",
       "    <tr>\n",
       "      <th>1</th>\n",
       "      <td>0</td>\n",
       "      <td>1</td>\n",
       "      <td>0</td>\n",
       "      <td>0</td>\n",
       "      <td>0</td>\n",
       "      <td>1</td>\n",
       "      <td>0</td>\n",
       "      <td>0</td>\n",
       "      <td>0</td>\n",
       "      <td>1</td>\n",
       "      <td>0</td>\n",
       "      <td>0</td>\n",
       "      <td>0</td>\n",
       "      <td>0</td>\n",
       "      <td>0</td>\n",
       "    </tr>\n",
       "    <tr>\n",
       "      <th>2</th>\n",
       "      <td>0</td>\n",
       "      <td>1</td>\n",
       "      <td>0</td>\n",
       "      <td>0</td>\n",
       "      <td>0</td>\n",
       "      <td>0</td>\n",
       "      <td>1</td>\n",
       "      <td>0</td>\n",
       "      <td>0</td>\n",
       "      <td>0</td>\n",
       "      <td>0</td>\n",
       "      <td>0</td>\n",
       "      <td>0</td>\n",
       "      <td>0</td>\n",
       "      <td>0</td>\n",
       "    </tr>\n",
       "  </tbody>\n",
       "</table>\n",
       "</div>"
      ],
      "text/plain": [
       "   person_home_ownership_OTHER  person_home_ownership_OWN  \\\n",
       "0                            0                          0   \n",
       "1                            0                          1   \n",
       "2                            0                          1   \n",
       "\n",
       "   person_home_ownership_RENT  loan_intent_EDUCATION  \\\n",
       "0                           1                      1   \n",
       "1                           0                      0   \n",
       "2                           0                      0   \n",
       "\n",
       "   loan_intent_HOMEIMPROVEMENT  loan_intent_MEDICAL  loan_intent_PERSONAL  \\\n",
       "0                            0                    0                     0   \n",
       "1                            0                    1                     0   \n",
       "2                            0                    0                     1   \n",
       "\n",
       "   loan_intent_VENTURE  loan_grade_B  loan_grade_C  loan_grade_D  \\\n",
       "0                    0             1             0             0   \n",
       "1                    0             0             1             0   \n",
       "2                    0             0             0             0   \n",
       "\n",
       "   loan_grade_E  loan_grade_F  loan_grade_G  cb_person_default_on_file_Y  \n",
       "0             0             0             0                            0  \n",
       "1             0             0             0                            0  \n",
       "2             0             0             0                            0  "
      ]
     },
     "execution_count": 31,
     "metadata": {},
     "output_type": "execute_result"
    }
   ],
   "source": [
    "cat_data = pd.get_dummies(\n",
    "            temp[obj_cols],\n",
    "            drop_first = True\n",
    ")\n",
    "cat_data = cat_data.astype(int)\n",
    "print(cat_data.shape)\n",
    "cat_data.head(3)"
   ]
  },
  {
   "cell_type": "code",
   "execution_count": null,
   "id": "68592052",
   "metadata": {
    "papermill": {
     "duration": 0.024597,
     "end_time": "2024-10-16T21:03:10.039564",
     "exception": false,
     "start_time": "2024-10-16T21:03:10.014967",
     "status": "completed"
    },
    "tags": []
   },
   "outputs": [],
   "source": []
  },
  {
   "cell_type": "markdown",
   "id": "5ca36eb2",
   "metadata": {
    "papermill": {
     "duration": 0.025477,
     "end_time": "2024-10-16T21:03:10.091359",
     "exception": false,
     "start_time": "2024-10-16T21:03:10.065882",
     "status": "completed"
    },
    "tags": []
   },
   "source": [
    "## 3.4 Remove High Corr. Data"
   ]
  },
  {
   "cell_type": "code",
   "execution_count": 32,
   "id": "0a7550c0",
   "metadata": {
    "execution": {
     "iopub.execute_input": "2024-10-16T21:03:10.143604Z",
     "iopub.status.busy": "2024-10-16T21:03:10.143177Z",
     "iopub.status.idle": "2024-10-16T21:03:10.333867Z",
     "shell.execute_reply": "2024-10-16T21:03:10.332594Z"
    },
    "papermill": {
     "duration": 0.219975,
     "end_time": "2024-10-16T21:03:10.336646",
     "exception": false,
     "start_time": "2024-10-16T21:03:10.116671",
     "status": "completed"
    },
    "tags": []
   },
   "outputs": [
    {
     "name": "stdout",
     "output_type": "stream",
     "text": [
      "Low Corr. Feat. :\n",
      "\n",
      "person_age                    -0.001130\n",
      "cb_person_cred_hist_length    -0.003030\n",
      "loan_to_income                 0.031176\n",
      "person_home_ownership_OTHER    0.002918\n",
      "loan_intent_HOMEIMPROVEMENT    0.031063\n",
      "loan_intent_MEDICAL            0.049139\n",
      "loan_intent_PERSONAL          -0.012461\n",
      "loan_grade_C                  -0.009654\n",
      "loan_grade_G                   0.045889\n",
      "Name: loan_status, dtype: float64\n",
      "1st Stage Feat. :\n",
      "\n",
      "20 \n",
      " person_income                 -0.169956\n",
      "loan_amnt                      0.144982\n",
      "age_income_interaction        -0.150138\n",
      "risk_flag                      0.180697\n",
      "person_emp_length             -0.100428\n",
      "loan_int_rate                  0.338948\n",
      "loan_percent_income            0.378280\n",
      "loan_to_emp_length_ratio       0.098961\n",
      "monthly_debt                   0.247493\n",
      "dti_ratio                      0.455077\n",
      "person_home_ownership_OWN     -0.087556\n",
      "person_home_ownership_RENT     0.239620\n",
      "loan_intent_EDUCATION         -0.051005\n",
      "loan_intent_VENTURE           -0.064378\n",
      "loan_grade_B                  -0.083765\n",
      "loan_grade_D                   0.395646\n",
      "loan_grade_E                   0.182878\n",
      "loan_grade_F                   0.067644\n",
      "cb_person_default_on_file_Y    0.186962\n",
      "loan_status                    1.000000\n",
      "Name: loan_status, dtype: float64\n"
     ]
    }
   ],
   "source": [
    "combined_df = pd.concat([temp[int_cols], temp[float_cols], cat_data, target_df['loan_status']], axis=1)\n",
    "corr_matrix = combined_df.corr()\n",
    "\n",
    "corr_with_target = corr_matrix['loan_status']\n",
    "low_corr = corr_with_target[corr_with_target.abs() < 0.05]\n",
    "\n",
    "filter_feat = corr_with_target[corr_with_target.abs() >= 0.05]\n",
    "# filter_feat.drop('loan_status', axis = 0)\n",
    "\n",
    "print('Low Corr. Feat. :\\n')\n",
    "print(low_corr)\n",
    "\n",
    "\n",
    "print('1st Stage Feat. :\\n')\n",
    "print(len(filter_feat), '\\n', filter_feat)"
   ]
  },
  {
   "cell_type": "code",
   "execution_count": 33,
   "id": "af5b3ca1",
   "metadata": {
    "execution": {
     "iopub.execute_input": "2024-10-16T21:03:10.389393Z",
     "iopub.status.busy": "2024-10-16T21:03:10.388941Z",
     "iopub.status.idle": "2024-10-16T21:03:10.400558Z",
     "shell.execute_reply": "2024-10-16T21:03:10.399419Z"
    },
    "papermill": {
     "duration": 0.040842,
     "end_time": "2024-10-16T21:03:10.403228",
     "exception": false,
     "start_time": "2024-10-16T21:03:10.362386",
     "status": "completed"
    },
    "tags": []
   },
   "outputs": [],
   "source": [
    "def filter_corr_columns(df, target='target', th = 0.7):\n",
    "    corr_matrix = df.corr().abs()\n",
    "    \n",
    "    target_corr = corr_matrix[target].drop(labels = [target])\n",
    "    columns_to_drop = set()\n",
    "    \n",
    "    for i in tqdm(range(len(corr_matrix.columns[:-1]))):\n",
    "        for j in range(i+1, len(corr_matrix.columns[:-1])):\n",
    "            col1 = corr_matrix.columns[i]\n",
    "            col2 = corr_matrix.columns[j]\n",
    "            \n",
    "            if corr_matrix.loc[col1, col2] > th:\n",
    "                print(f\"Corr. : {corr_matrix.loc[col1, col2]}\")\n",
    "                if target_corr[col1] > target_corr[col2]:\n",
    "                    columns_to_drop.add(col2)\n",
    "                    \n",
    "                    print(f\"Drop Column: {col2} (Corr With {target}: {target_corr[col2]:.2f}),\\\n",
    "                    \\Keep Column: {col1} (Corr with {target}: {target_corr[col1]:.2f})\")\n",
    "                else:\n",
    "                    columns_to_drop.add(col1)\n",
    "                    print(f\"Drop Column: {col1} (Corr With {target}: {target_corr[col1]:.2f}),\\\n",
    "                    Keep Column: {col2} (Corr with {target}: {target_corr[col2]:.2f})\")\n",
    "                    \n",
    "    df_filtered = df.drop(columns = columns_to_drop)\n",
    "    return df_filtered\n",
    "                \n",
    "    "
   ]
  },
  {
   "cell_type": "code",
   "execution_count": 34,
   "id": "a54f1dab",
   "metadata": {
    "execution": {
     "iopub.execute_input": "2024-10-16T21:03:10.458445Z",
     "iopub.status.busy": "2024-10-16T21:03:10.457989Z",
     "iopub.status.idle": "2024-10-16T21:03:10.630670Z",
     "shell.execute_reply": "2024-10-16T21:03:10.629538Z"
    },
    "papermill": {
     "duration": 0.204163,
     "end_time": "2024-10-16T21:03:10.634558",
     "exception": false,
     "start_time": "2024-10-16T21:03:10.430395",
     "status": "completed"
    },
    "tags": []
   },
   "outputs": [
    {
     "name": "stderr",
     "output_type": "stream",
     "text": [
      "100%|██████████| 28/28 [00:00<00:00, 2235.47it/s]"
     ]
    },
    {
     "name": "stdout",
     "output_type": "stream",
     "text": [
      "Corr. : 0.8742597354896693\n",
      "Drop Column: person_age (Corr With loan_status: 0.00),                    Keep Column: cb_person_cred_hist_length (Corr with loan_status: 0.00)\n",
      "Corr. : 0.9281219270339907\n",
      "Drop Column: age_income_interaction (Corr With loan_status: 0.15),                    \\Keep Column: person_income (Corr with loan_status: 0.17)\n",
      "Corr. : 0.9118178264160725\n",
      "Drop Column: loan_amnt (Corr With loan_status: 0.14),                    Keep Column: monthly_debt (Corr with loan_status: 0.25)\n",
      "Corr. : 0.9926347196813035\n",
      "Drop Column: risk_flag (Corr With loan_status: 0.18),                    Keep Column: cb_person_default_on_file_Y (Corr with loan_status: 0.19)\n",
      "Corr. : 0.8722474107535992\n",
      "Drop Column: loan_percent_income (Corr With loan_status: 0.38),                    Keep Column: dti_ratio (Corr with loan_status: 0.46)\n",
      "Corr. : 0.7161217337082184\n",
      "Drop Column: monthly_debt (Corr With loan_status: 0.25),                    Keep Column: dti_ratio (Corr with loan_status: 0.46)\n"
     ]
    },
    {
     "name": "stderr",
     "output_type": "stream",
     "text": [
      "\n"
     ]
    }
   ],
   "source": [
    "num_table = filter_corr_columns(combined_df, target='loan_status', th = 0.7)"
   ]
  },
  {
   "cell_type": "code",
   "execution_count": 35,
   "id": "dae390cf",
   "metadata": {
    "execution": {
     "iopub.execute_input": "2024-10-16T21:03:10.688092Z",
     "iopub.status.busy": "2024-10-16T21:03:10.687630Z",
     "iopub.status.idle": "2024-10-16T21:03:10.699623Z",
     "shell.execute_reply": "2024-10-16T21:03:10.698329Z"
    },
    "papermill": {
     "duration": 0.041869,
     "end_time": "2024-10-16T21:03:10.702401",
     "exception": false,
     "start_time": "2024-10-16T21:03:10.660532",
     "status": "completed"
    },
    "tags": []
   },
   "outputs": [
    {
     "data": {
      "text/plain": [
       "22"
      ]
     },
     "execution_count": 35,
     "metadata": {},
     "output_type": "execute_result"
    }
   ],
   "source": [
    "num_table.drop('loan_status', axis = 1, inplace= True)\n",
    "len(num_table.columns)\n"
   ]
  },
  {
   "cell_type": "markdown",
   "id": "1ab89300",
   "metadata": {
    "papermill": {
     "duration": 0.026022,
     "end_time": "2024-10-16T21:03:10.754910",
     "exception": false,
     "start_time": "2024-10-16T21:03:10.728888",
     "status": "completed"
    },
    "tags": []
   },
   "source": [
    "## 3.4 VIF"
   ]
  },
  {
   "cell_type": "code",
   "execution_count": 36,
   "id": "60f705e5",
   "metadata": {
    "execution": {
     "iopub.execute_input": "2024-10-16T21:03:10.809687Z",
     "iopub.status.busy": "2024-10-16T21:03:10.809223Z",
     "iopub.status.idle": "2024-10-16T21:03:10.818530Z",
     "shell.execute_reply": "2024-10-16T21:03:10.816951Z"
    },
    "papermill": {
     "duration": 0.03936,
     "end_time": "2024-10-16T21:03:10.821284",
     "exception": false,
     "start_time": "2024-10-16T21:03:10.781924",
     "status": "completed"
    },
    "tags": []
   },
   "outputs": [],
   "source": [
    "from sklearn.linear_model import LinearRegression\n",
    "from joblib import Parallel, delayed\n",
    "\n",
    "def compute_vif_parallel(df):\n",
    "    def compute_vif_single(column):\n",
    "        x_columns = [i for i in df.columns if i != column]\n",
    "        lr_model = LinearRegression().fit(df[x_columns], df[column])\n",
    "        r2 = lr_model.score(df[x_columns], df[column])\n",
    "        \n",
    "        vif = 1/(1 - r2)\n",
    "        return {\"Variable\":column, \"VIF\": vif}\n",
    "    num_cores = -1\n",
    "    vif_results = Parallel(n_jobs = num_cores)(\n",
    "        delayed(compute_vif_single)(col) for col in df.columns\n",
    "    )\n",
    "    \n",
    "    return vif_results"
   ]
  },
  {
   "cell_type": "code",
   "execution_count": 37,
   "id": "d47c4db9",
   "metadata": {
    "execution": {
     "iopub.execute_input": "2024-10-16T21:03:10.875449Z",
     "iopub.status.busy": "2024-10-16T21:03:10.874489Z",
     "iopub.status.idle": "2024-10-16T21:03:14.823607Z",
     "shell.execute_reply": "2024-10-16T21:03:14.822456Z"
    },
    "papermill": {
     "duration": 3.979435,
     "end_time": "2024-10-16T21:03:14.826489",
     "exception": false,
     "start_time": "2024-10-16T21:03:10.847054",
     "status": "completed"
    },
    "tags": []
   },
   "outputs": [
    {
     "name": "stdout",
     "output_type": "stream",
     "text": [
      "Dropped:  loan_int_rate VIF 11.047577512031427\n",
      "21\n"
     ]
    }
   ],
   "source": [
    "while True:\n",
    "    temp = compute_vif_parallel(num_table)\n",
    "    vif_data_sorted = pd.DataFrame(temp)\n",
    "    vif_data_sorted.sort_values(by ='VIF', ascending= False, inplace=True)\n",
    "    \n",
    "    \n",
    "    if vif_data_sorted.iloc[0, 1] > 6:\n",
    "        print(\"Dropped: \", vif_data_sorted.iloc[0,0], \"VIF\", vif_data_sorted.iloc[0,1])\n",
    "        drop_feat = vif_data_sorted.iloc[0,0]\n",
    "        num_table.drop(drop_feat, axis = 1, inplace=True)\n",
    "        print(num_table.shape[1])\n",
    "    else:\n",
    "        break"
   ]
  },
  {
   "cell_type": "markdown",
   "id": "ba1ddc4d",
   "metadata": {
    "papermill": {
     "duration": 0.025251,
     "end_time": "2024-10-16T21:03:14.877546",
     "exception": false,
     "start_time": "2024-10-16T21:03:14.852295",
     "status": "completed"
    },
    "tags": []
   },
   "source": [
    "## 3.5 Adjusting Test Set Accordingly"
   ]
  },
  {
   "cell_type": "code",
   "execution_count": 38,
   "id": "e62125ca",
   "metadata": {
    "execution": {
     "iopub.execute_input": "2024-10-16T21:03:14.931150Z",
     "iopub.status.busy": "2024-10-16T21:03:14.930647Z",
     "iopub.status.idle": "2024-10-16T21:03:14.940459Z",
     "shell.execute_reply": "2024-10-16T21:03:14.939058Z"
    },
    "papermill": {
     "duration": 0.040379,
     "end_time": "2024-10-16T21:03:14.943700",
     "exception": false,
     "start_time": "2024-10-16T21:03:14.903321",
     "status": "completed"
    },
    "tags": []
   },
   "outputs": [
    {
     "name": "stdout",
     "output_type": "stream",
     "text": [
      "21\n"
     ]
    },
    {
     "data": {
      "text/plain": [
       "Index(['person_income', 'cb_person_cred_hist_length', 'person_emp_length',\n",
       "       'loan_to_income', 'loan_to_emp_length_ratio', 'dti_ratio',\n",
       "       'person_home_ownership_OTHER', 'person_home_ownership_OWN',\n",
       "       'person_home_ownership_RENT', 'loan_intent_EDUCATION',\n",
       "       'loan_intent_HOMEIMPROVEMENT', 'loan_intent_MEDICAL',\n",
       "       'loan_intent_PERSONAL', 'loan_intent_VENTURE', 'loan_grade_B',\n",
       "       'loan_grade_C', 'loan_grade_D', 'loan_grade_E', 'loan_grade_F',\n",
       "       'loan_grade_G', 'cb_person_default_on_file_Y'],\n",
       "      dtype='object')"
      ]
     },
     "execution_count": 38,
     "metadata": {},
     "output_type": "execute_result"
    }
   ],
   "source": [
    "print(len(vif_data_sorted))\n",
    "\n",
    "num_table.columns"
   ]
  },
  {
   "cell_type": "code",
   "execution_count": 39,
   "id": "25918872",
   "metadata": {
    "execution": {
     "iopub.execute_input": "2024-10-16T21:03:14.998392Z",
     "iopub.status.busy": "2024-10-16T21:03:14.997953Z",
     "iopub.status.idle": "2024-10-16T21:03:15.027235Z",
     "shell.execute_reply": "2024-10-16T21:03:15.026137Z"
    },
    "papermill": {
     "duration": 0.059877,
     "end_time": "2024-10-16T21:03:15.030206",
     "exception": false,
     "start_time": "2024-10-16T21:03:14.970329",
     "status": "completed"
    },
    "tags": []
   },
   "outputs": [],
   "source": [
    "df_test = transform(df_test)"
   ]
  },
  {
   "cell_type": "code",
   "execution_count": 40,
   "id": "db800891",
   "metadata": {
    "execution": {
     "iopub.execute_input": "2024-10-16T21:03:15.085457Z",
     "iopub.status.busy": "2024-10-16T21:03:15.084460Z",
     "iopub.status.idle": "2024-10-16T21:03:15.113662Z",
     "shell.execute_reply": "2024-10-16T21:03:15.112399Z"
    },
    "papermill": {
     "duration": 0.059391,
     "end_time": "2024-10-16T21:03:15.116210",
     "exception": false,
     "start_time": "2024-10-16T21:03:15.056819",
     "status": "completed"
    },
    "tags": []
   },
   "outputs": [
    {
     "name": "stdout",
     "output_type": "stream",
     "text": [
      "(39098, 13)\n"
     ]
    },
    {
     "data": {
      "text/html": [
       "<div>\n",
       "<style scoped>\n",
       "    .dataframe tbody tr th:only-of-type {\n",
       "        vertical-align: middle;\n",
       "    }\n",
       "\n",
       "    .dataframe tbody tr th {\n",
       "        vertical-align: top;\n",
       "    }\n",
       "\n",
       "    .dataframe thead th {\n",
       "        text-align: right;\n",
       "    }\n",
       "</style>\n",
       "<table border=\"1\" class=\"dataframe\">\n",
       "  <thead>\n",
       "    <tr style=\"text-align: right;\">\n",
       "      <th></th>\n",
       "      <th>person_age</th>\n",
       "      <th>person_income</th>\n",
       "      <th>loan_amnt</th>\n",
       "      <th>cb_person_cred_hist_length</th>\n",
       "      <th>age_income_interaction</th>\n",
       "      <th>risk_flag</th>\n",
       "      <th>person_emp_length</th>\n",
       "      <th>loan_int_rate</th>\n",
       "      <th>loan_percent_income</th>\n",
       "      <th>loan_to_income</th>\n",
       "      <th>loan_to_emp_length_ratio</th>\n",
       "      <th>monthly_debt</th>\n",
       "      <th>dti_ratio</th>\n",
       "    </tr>\n",
       "  </thead>\n",
       "  <tbody>\n",
       "    <tr>\n",
       "      <th>0</th>\n",
       "      <td>23</td>\n",
       "      <td>69000</td>\n",
       "      <td>25000</td>\n",
       "      <td>2</td>\n",
       "      <td>1587000</td>\n",
       "      <td>0</td>\n",
       "      <td>3.0</td>\n",
       "      <td>1576.0</td>\n",
       "      <td>36.0</td>\n",
       "      <td>0.002319</td>\n",
       "      <td>8064.516129</td>\n",
       "      <td>34916.666667</td>\n",
       "      <td>6.072464</td>\n",
       "    </tr>\n",
       "    <tr>\n",
       "      <th>1</th>\n",
       "      <td>26</td>\n",
       "      <td>96000</td>\n",
       "      <td>10000</td>\n",
       "      <td>4</td>\n",
       "      <td>2496000</td>\n",
       "      <td>1</td>\n",
       "      <td>6.0</td>\n",
       "      <td>1268.0</td>\n",
       "      <td>10.0</td>\n",
       "      <td>0.004167</td>\n",
       "      <td>1639.344262</td>\n",
       "      <td>11400.000000</td>\n",
       "      <td>1.425000</td>\n",
       "    </tr>\n",
       "    <tr>\n",
       "      <th>2</th>\n",
       "      <td>26</td>\n",
       "      <td>30000</td>\n",
       "      <td>4000</td>\n",
       "      <td>2</td>\n",
       "      <td>780000</td>\n",
       "      <td>1</td>\n",
       "      <td>5.0</td>\n",
       "      <td>1719.0</td>\n",
       "      <td>13.0</td>\n",
       "      <td>0.003333</td>\n",
       "      <td>784.313725</td>\n",
       "      <td>6063.333333</td>\n",
       "      <td>2.425333</td>\n",
       "    </tr>\n",
       "  </tbody>\n",
       "</table>\n",
       "</div>"
      ],
      "text/plain": [
       "   person_age  person_income  loan_amnt  cb_person_cred_hist_length  \\\n",
       "0          23          69000      25000                           2   \n",
       "1          26          96000      10000                           4   \n",
       "2          26          30000       4000                           2   \n",
       "\n",
       "   age_income_interaction  risk_flag  person_emp_length  loan_int_rate  \\\n",
       "0                 1587000          0                3.0         1576.0   \n",
       "1                 2496000          1                6.0         1268.0   \n",
       "2                  780000          1                5.0         1719.0   \n",
       "\n",
       "   loan_percent_income  loan_to_income  loan_to_emp_length_ratio  \\\n",
       "0                 36.0        0.002319               8064.516129   \n",
       "1                 10.0        0.004167               1639.344262   \n",
       "2                 13.0        0.003333                784.313725   \n",
       "\n",
       "   monthly_debt  dti_ratio  \n",
       "0  34916.666667   6.072464  \n",
       "1  11400.000000   1.425000  \n",
       "2   6063.333333   2.425333  "
      ]
     },
     "execution_count": 40,
     "metadata": {},
     "output_type": "execute_result"
    }
   ],
   "source": [
    "test_num_data = pd.concat([df_test[int_cols], df_test[float_cols]], axis = 1 )\n",
    "print(test_num_data.shape)\n",
    "test_num_data.head(3)"
   ]
  },
  {
   "cell_type": "code",
   "execution_count": 41,
   "id": "12703801",
   "metadata": {
    "execution": {
     "iopub.execute_input": "2024-10-16T21:03:15.171480Z",
     "iopub.status.busy": "2024-10-16T21:03:15.171043Z",
     "iopub.status.idle": "2024-10-16T21:03:15.219853Z",
     "shell.execute_reply": "2024-10-16T21:03:15.218614Z"
    },
    "papermill": {
     "duration": 0.079575,
     "end_time": "2024-10-16T21:03:15.222618",
     "exception": false,
     "start_time": "2024-10-16T21:03:15.143043",
     "status": "completed"
    },
    "tags": []
   },
   "outputs": [
    {
     "name": "stdout",
     "output_type": "stream",
     "text": [
      "(39098, 19)\n"
     ]
    },
    {
     "data": {
      "text/html": [
       "<div>\n",
       "<style scoped>\n",
       "    .dataframe tbody tr th:only-of-type {\n",
       "        vertical-align: middle;\n",
       "    }\n",
       "\n",
       "    .dataframe tbody tr th {\n",
       "        vertical-align: top;\n",
       "    }\n",
       "\n",
       "    .dataframe thead th {\n",
       "        text-align: right;\n",
       "    }\n",
       "</style>\n",
       "<table border=\"1\" class=\"dataframe\">\n",
       "  <thead>\n",
       "    <tr style=\"text-align: right;\">\n",
       "      <th></th>\n",
       "      <th>person_home_ownership_MORTGAGE</th>\n",
       "      <th>person_home_ownership_OTHER</th>\n",
       "      <th>person_home_ownership_OWN</th>\n",
       "      <th>person_home_ownership_RENT</th>\n",
       "      <th>loan_intent_DEBTCONSOLIDATION</th>\n",
       "      <th>loan_intent_EDUCATION</th>\n",
       "      <th>loan_intent_HOMEIMPROVEMENT</th>\n",
       "      <th>loan_intent_MEDICAL</th>\n",
       "      <th>loan_intent_PERSONAL</th>\n",
       "      <th>loan_intent_VENTURE</th>\n",
       "      <th>loan_grade_A</th>\n",
       "      <th>loan_grade_B</th>\n",
       "      <th>loan_grade_C</th>\n",
       "      <th>loan_grade_D</th>\n",
       "      <th>loan_grade_E</th>\n",
       "      <th>loan_grade_F</th>\n",
       "      <th>loan_grade_G</th>\n",
       "      <th>cb_person_default_on_file_N</th>\n",
       "      <th>cb_person_default_on_file_Y</th>\n",
       "    </tr>\n",
       "  </thead>\n",
       "  <tbody>\n",
       "    <tr>\n",
       "      <th>0</th>\n",
       "      <td>0</td>\n",
       "      <td>0</td>\n",
       "      <td>0</td>\n",
       "      <td>1</td>\n",
       "      <td>0</td>\n",
       "      <td>0</td>\n",
       "      <td>1</td>\n",
       "      <td>0</td>\n",
       "      <td>0</td>\n",
       "      <td>0</td>\n",
       "      <td>0</td>\n",
       "      <td>0</td>\n",
       "      <td>0</td>\n",
       "      <td>0</td>\n",
       "      <td>0</td>\n",
       "      <td>1</td>\n",
       "      <td>0</td>\n",
       "      <td>1</td>\n",
       "      <td>0</td>\n",
       "    </tr>\n",
       "    <tr>\n",
       "      <th>1</th>\n",
       "      <td>1</td>\n",
       "      <td>0</td>\n",
       "      <td>0</td>\n",
       "      <td>0</td>\n",
       "      <td>0</td>\n",
       "      <td>0</td>\n",
       "      <td>0</td>\n",
       "      <td>0</td>\n",
       "      <td>1</td>\n",
       "      <td>0</td>\n",
       "      <td>0</td>\n",
       "      <td>0</td>\n",
       "      <td>1</td>\n",
       "      <td>0</td>\n",
       "      <td>0</td>\n",
       "      <td>0</td>\n",
       "      <td>0</td>\n",
       "      <td>0</td>\n",
       "      <td>1</td>\n",
       "    </tr>\n",
       "    <tr>\n",
       "      <th>2</th>\n",
       "      <td>0</td>\n",
       "      <td>0</td>\n",
       "      <td>0</td>\n",
       "      <td>1</td>\n",
       "      <td>0</td>\n",
       "      <td>0</td>\n",
       "      <td>0</td>\n",
       "      <td>0</td>\n",
       "      <td>0</td>\n",
       "      <td>1</td>\n",
       "      <td>0</td>\n",
       "      <td>0</td>\n",
       "      <td>0</td>\n",
       "      <td>0</td>\n",
       "      <td>1</td>\n",
       "      <td>0</td>\n",
       "      <td>0</td>\n",
       "      <td>0</td>\n",
       "      <td>1</td>\n",
       "    </tr>\n",
       "  </tbody>\n",
       "</table>\n",
       "</div>"
      ],
      "text/plain": [
       "   person_home_ownership_MORTGAGE  person_home_ownership_OTHER  \\\n",
       "0                               0                            0   \n",
       "1                               1                            0   \n",
       "2                               0                            0   \n",
       "\n",
       "   person_home_ownership_OWN  person_home_ownership_RENT  \\\n",
       "0                          0                           1   \n",
       "1                          0                           0   \n",
       "2                          0                           1   \n",
       "\n",
       "   loan_intent_DEBTCONSOLIDATION  loan_intent_EDUCATION  \\\n",
       "0                              0                      0   \n",
       "1                              0                      0   \n",
       "2                              0                      0   \n",
       "\n",
       "   loan_intent_HOMEIMPROVEMENT  loan_intent_MEDICAL  loan_intent_PERSONAL  \\\n",
       "0                            1                    0                     0   \n",
       "1                            0                    0                     1   \n",
       "2                            0                    0                     0   \n",
       "\n",
       "   loan_intent_VENTURE  loan_grade_A  loan_grade_B  loan_grade_C  \\\n",
       "0                    0             0             0             0   \n",
       "1                    0             0             0             1   \n",
       "2                    1             0             0             0   \n",
       "\n",
       "   loan_grade_D  loan_grade_E  loan_grade_F  loan_grade_G  \\\n",
       "0             0             0             1             0   \n",
       "1             0             0             0             0   \n",
       "2             0             1             0             0   \n",
       "\n",
       "   cb_person_default_on_file_N  cb_person_default_on_file_Y  \n",
       "0                            1                            0  \n",
       "1                            0                            1  \n",
       "2                            0                            1  "
      ]
     },
     "execution_count": 41,
     "metadata": {},
     "output_type": "execute_result"
    }
   ],
   "source": [
    "test_cat_data = pd.get_dummies(\n",
    "            df_test[obj_cols],\n",
    "#             drop_first = True\n",
    ")\n",
    "test_cat_data = test_cat_data.astype(int)\n",
    "print(test_cat_data.shape)\n",
    "test_cat_data.head(3)"
   ]
  },
  {
   "cell_type": "code",
   "execution_count": 42,
   "id": "b67b4daa",
   "metadata": {
    "execution": {
     "iopub.execute_input": "2024-10-16T21:03:15.279722Z",
     "iopub.status.busy": "2024-10-16T21:03:15.279277Z",
     "iopub.status.idle": "2024-10-16T21:03:15.316150Z",
     "shell.execute_reply": "2024-10-16T21:03:15.314864Z"
    },
    "papermill": {
     "duration": 0.068158,
     "end_time": "2024-10-16T21:03:15.318823",
     "exception": false,
     "start_time": "2024-10-16T21:03:15.250665",
     "status": "completed"
    },
    "tags": []
   },
   "outputs": [
    {
     "name": "stdout",
     "output_type": "stream",
     "text": [
      "(39098, 32)\n"
     ]
    },
    {
     "data": {
      "text/html": [
       "<div>\n",
       "<style scoped>\n",
       "    .dataframe tbody tr th:only-of-type {\n",
       "        vertical-align: middle;\n",
       "    }\n",
       "\n",
       "    .dataframe tbody tr th {\n",
       "        vertical-align: top;\n",
       "    }\n",
       "\n",
       "    .dataframe thead th {\n",
       "        text-align: right;\n",
       "    }\n",
       "</style>\n",
       "<table border=\"1\" class=\"dataframe\">\n",
       "  <thead>\n",
       "    <tr style=\"text-align: right;\">\n",
       "      <th></th>\n",
       "      <th>person_home_ownership_MORTGAGE</th>\n",
       "      <th>person_home_ownership_OTHER</th>\n",
       "      <th>person_home_ownership_OWN</th>\n",
       "      <th>person_home_ownership_RENT</th>\n",
       "      <th>loan_intent_DEBTCONSOLIDATION</th>\n",
       "      <th>loan_intent_EDUCATION</th>\n",
       "      <th>loan_intent_HOMEIMPROVEMENT</th>\n",
       "      <th>loan_intent_MEDICAL</th>\n",
       "      <th>loan_intent_PERSONAL</th>\n",
       "      <th>loan_intent_VENTURE</th>\n",
       "      <th>...</th>\n",
       "      <th>cb_person_cred_hist_length</th>\n",
       "      <th>age_income_interaction</th>\n",
       "      <th>risk_flag</th>\n",
       "      <th>person_emp_length</th>\n",
       "      <th>loan_int_rate</th>\n",
       "      <th>loan_percent_income</th>\n",
       "      <th>loan_to_income</th>\n",
       "      <th>loan_to_emp_length_ratio</th>\n",
       "      <th>monthly_debt</th>\n",
       "      <th>dti_ratio</th>\n",
       "    </tr>\n",
       "  </thead>\n",
       "  <tbody>\n",
       "    <tr>\n",
       "      <th>0</th>\n",
       "      <td>0</td>\n",
       "      <td>0</td>\n",
       "      <td>0</td>\n",
       "      <td>1</td>\n",
       "      <td>0</td>\n",
       "      <td>0</td>\n",
       "      <td>1</td>\n",
       "      <td>0</td>\n",
       "      <td>0</td>\n",
       "      <td>0</td>\n",
       "      <td>...</td>\n",
       "      <td>2</td>\n",
       "      <td>1587000</td>\n",
       "      <td>0</td>\n",
       "      <td>3.0</td>\n",
       "      <td>1576.0</td>\n",
       "      <td>36.0</td>\n",
       "      <td>0.002319</td>\n",
       "      <td>8064.516129</td>\n",
       "      <td>34916.666667</td>\n",
       "      <td>6.072464</td>\n",
       "    </tr>\n",
       "    <tr>\n",
       "      <th>1</th>\n",
       "      <td>1</td>\n",
       "      <td>0</td>\n",
       "      <td>0</td>\n",
       "      <td>0</td>\n",
       "      <td>0</td>\n",
       "      <td>0</td>\n",
       "      <td>0</td>\n",
       "      <td>0</td>\n",
       "      <td>1</td>\n",
       "      <td>0</td>\n",
       "      <td>...</td>\n",
       "      <td>4</td>\n",
       "      <td>2496000</td>\n",
       "      <td>1</td>\n",
       "      <td>6.0</td>\n",
       "      <td>1268.0</td>\n",
       "      <td>10.0</td>\n",
       "      <td>0.004167</td>\n",
       "      <td>1639.344262</td>\n",
       "      <td>11400.000000</td>\n",
       "      <td>1.425000</td>\n",
       "    </tr>\n",
       "    <tr>\n",
       "      <th>2</th>\n",
       "      <td>0</td>\n",
       "      <td>0</td>\n",
       "      <td>0</td>\n",
       "      <td>1</td>\n",
       "      <td>0</td>\n",
       "      <td>0</td>\n",
       "      <td>0</td>\n",
       "      <td>0</td>\n",
       "      <td>0</td>\n",
       "      <td>1</td>\n",
       "      <td>...</td>\n",
       "      <td>2</td>\n",
       "      <td>780000</td>\n",
       "      <td>1</td>\n",
       "      <td>5.0</td>\n",
       "      <td>1719.0</td>\n",
       "      <td>13.0</td>\n",
       "      <td>0.003333</td>\n",
       "      <td>784.313725</td>\n",
       "      <td>6063.333333</td>\n",
       "      <td>2.425333</td>\n",
       "    </tr>\n",
       "  </tbody>\n",
       "</table>\n",
       "<p>3 rows × 32 columns</p>\n",
       "</div>"
      ],
      "text/plain": [
       "   person_home_ownership_MORTGAGE  person_home_ownership_OTHER  \\\n",
       "0                               0                            0   \n",
       "1                               1                            0   \n",
       "2                               0                            0   \n",
       "\n",
       "   person_home_ownership_OWN  person_home_ownership_RENT  \\\n",
       "0                          0                           1   \n",
       "1                          0                           0   \n",
       "2                          0                           1   \n",
       "\n",
       "   loan_intent_DEBTCONSOLIDATION  loan_intent_EDUCATION  \\\n",
       "0                              0                      0   \n",
       "1                              0                      0   \n",
       "2                              0                      0   \n",
       "\n",
       "   loan_intent_HOMEIMPROVEMENT  loan_intent_MEDICAL  loan_intent_PERSONAL  \\\n",
       "0                            1                    0                     0   \n",
       "1                            0                    0                     1   \n",
       "2                            0                    0                     0   \n",
       "\n",
       "   loan_intent_VENTURE  ...  cb_person_cred_hist_length  \\\n",
       "0                    0  ...                           2   \n",
       "1                    0  ...                           4   \n",
       "2                    1  ...                           2   \n",
       "\n",
       "   age_income_interaction  risk_flag  person_emp_length  loan_int_rate  \\\n",
       "0                 1587000          0                3.0         1576.0   \n",
       "1                 2496000          1                6.0         1268.0   \n",
       "2                  780000          1                5.0         1719.0   \n",
       "\n",
       "   loan_percent_income  loan_to_income  loan_to_emp_length_ratio  \\\n",
       "0                 36.0        0.002319               8064.516129   \n",
       "1                 10.0        0.004167               1639.344262   \n",
       "2                 13.0        0.003333                784.313725   \n",
       "\n",
       "   monthly_debt  dti_ratio  \n",
       "0  34916.666667   6.072464  \n",
       "1  11400.000000   1.425000  \n",
       "2   6063.333333   2.425333  \n",
       "\n",
       "[3 rows x 32 columns]"
      ]
     },
     "execution_count": 42,
     "metadata": {},
     "output_type": "execute_result"
    }
   ],
   "source": [
    "test_combined_df = pd.concat([test_cat_data, test_num_data], axis=1)\n",
    "print(test_combined_df.shape)\n",
    "test_combined_df.head(3)"
   ]
  },
  {
   "cell_type": "code",
   "execution_count": 43,
   "id": "df6f5a57",
   "metadata": {
    "execution": {
     "iopub.execute_input": "2024-10-16T21:03:15.393732Z",
     "iopub.status.busy": "2024-10-16T21:03:15.392914Z",
     "iopub.status.idle": "2024-10-16T21:03:15.422059Z",
     "shell.execute_reply": "2024-10-16T21:03:15.420858Z"
    },
    "papermill": {
     "duration": 0.075768,
     "end_time": "2024-10-16T21:03:15.425104",
     "exception": false,
     "start_time": "2024-10-16T21:03:15.349336",
     "status": "completed"
    },
    "tags": []
   },
   "outputs": [
    {
     "name": "stdout",
     "output_type": "stream",
     "text": [
      "(39098, 21)\n"
     ]
    },
    {
     "data": {
      "text/html": [
       "<div>\n",
       "<style scoped>\n",
       "    .dataframe tbody tr th:only-of-type {\n",
       "        vertical-align: middle;\n",
       "    }\n",
       "\n",
       "    .dataframe tbody tr th {\n",
       "        vertical-align: top;\n",
       "    }\n",
       "\n",
       "    .dataframe thead th {\n",
       "        text-align: right;\n",
       "    }\n",
       "</style>\n",
       "<table border=\"1\" class=\"dataframe\">\n",
       "  <thead>\n",
       "    <tr style=\"text-align: right;\">\n",
       "      <th></th>\n",
       "      <th>person_income</th>\n",
       "      <th>cb_person_cred_hist_length</th>\n",
       "      <th>person_emp_length</th>\n",
       "      <th>loan_to_income</th>\n",
       "      <th>loan_to_emp_length_ratio</th>\n",
       "      <th>dti_ratio</th>\n",
       "      <th>person_home_ownership_OTHER</th>\n",
       "      <th>person_home_ownership_OWN</th>\n",
       "      <th>person_home_ownership_RENT</th>\n",
       "      <th>loan_intent_EDUCATION</th>\n",
       "      <th>...</th>\n",
       "      <th>loan_intent_MEDICAL</th>\n",
       "      <th>loan_intent_PERSONAL</th>\n",
       "      <th>loan_intent_VENTURE</th>\n",
       "      <th>loan_grade_B</th>\n",
       "      <th>loan_grade_C</th>\n",
       "      <th>loan_grade_D</th>\n",
       "      <th>loan_grade_E</th>\n",
       "      <th>loan_grade_F</th>\n",
       "      <th>loan_grade_G</th>\n",
       "      <th>cb_person_default_on_file_Y</th>\n",
       "    </tr>\n",
       "  </thead>\n",
       "  <tbody>\n",
       "    <tr>\n",
       "      <th>0</th>\n",
       "      <td>69000</td>\n",
       "      <td>2</td>\n",
       "      <td>3.0</td>\n",
       "      <td>0.002319</td>\n",
       "      <td>8064.516129</td>\n",
       "      <td>6.072464</td>\n",
       "      <td>0</td>\n",
       "      <td>0</td>\n",
       "      <td>1</td>\n",
       "      <td>0</td>\n",
       "      <td>...</td>\n",
       "      <td>0</td>\n",
       "      <td>0</td>\n",
       "      <td>0</td>\n",
       "      <td>0</td>\n",
       "      <td>0</td>\n",
       "      <td>0</td>\n",
       "      <td>0</td>\n",
       "      <td>1</td>\n",
       "      <td>0</td>\n",
       "      <td>0</td>\n",
       "    </tr>\n",
       "    <tr>\n",
       "      <th>1</th>\n",
       "      <td>96000</td>\n",
       "      <td>4</td>\n",
       "      <td>6.0</td>\n",
       "      <td>0.004167</td>\n",
       "      <td>1639.344262</td>\n",
       "      <td>1.425000</td>\n",
       "      <td>0</td>\n",
       "      <td>0</td>\n",
       "      <td>0</td>\n",
       "      <td>0</td>\n",
       "      <td>...</td>\n",
       "      <td>0</td>\n",
       "      <td>1</td>\n",
       "      <td>0</td>\n",
       "      <td>0</td>\n",
       "      <td>1</td>\n",
       "      <td>0</td>\n",
       "      <td>0</td>\n",
       "      <td>0</td>\n",
       "      <td>0</td>\n",
       "      <td>1</td>\n",
       "    </tr>\n",
       "    <tr>\n",
       "      <th>2</th>\n",
       "      <td>30000</td>\n",
       "      <td>2</td>\n",
       "      <td>5.0</td>\n",
       "      <td>0.003333</td>\n",
       "      <td>784.313725</td>\n",
       "      <td>2.425333</td>\n",
       "      <td>0</td>\n",
       "      <td>0</td>\n",
       "      <td>1</td>\n",
       "      <td>0</td>\n",
       "      <td>...</td>\n",
       "      <td>0</td>\n",
       "      <td>0</td>\n",
       "      <td>1</td>\n",
       "      <td>0</td>\n",
       "      <td>0</td>\n",
       "      <td>0</td>\n",
       "      <td>1</td>\n",
       "      <td>0</td>\n",
       "      <td>0</td>\n",
       "      <td>1</td>\n",
       "    </tr>\n",
       "  </tbody>\n",
       "</table>\n",
       "<p>3 rows × 21 columns</p>\n",
       "</div>"
      ],
      "text/plain": [
       "   person_income  cb_person_cred_hist_length  person_emp_length  \\\n",
       "0          69000                           2                3.0   \n",
       "1          96000                           4                6.0   \n",
       "2          30000                           2                5.0   \n",
       "\n",
       "   loan_to_income  loan_to_emp_length_ratio  dti_ratio  \\\n",
       "0        0.002319               8064.516129   6.072464   \n",
       "1        0.004167               1639.344262   1.425000   \n",
       "2        0.003333                784.313725   2.425333   \n",
       "\n",
       "   person_home_ownership_OTHER  person_home_ownership_OWN  \\\n",
       "0                            0                          0   \n",
       "1                            0                          0   \n",
       "2                            0                          0   \n",
       "\n",
       "   person_home_ownership_RENT  loan_intent_EDUCATION  ...  \\\n",
       "0                           1                      0  ...   \n",
       "1                           0                      0  ...   \n",
       "2                           1                      0  ...   \n",
       "\n",
       "   loan_intent_MEDICAL  loan_intent_PERSONAL  loan_intent_VENTURE  \\\n",
       "0                    0                     0                    0   \n",
       "1                    0                     1                    0   \n",
       "2                    0                     0                    1   \n",
       "\n",
       "   loan_grade_B  loan_grade_C  loan_grade_D  loan_grade_E  loan_grade_F  \\\n",
       "0             0             0             0             0             1   \n",
       "1             0             1             0             0             0   \n",
       "2             0             0             0             1             0   \n",
       "\n",
       "   loan_grade_G  cb_person_default_on_file_Y  \n",
       "0             0                            0  \n",
       "1             0                            1  \n",
       "2             0                            1  \n",
       "\n",
       "[3 rows x 21 columns]"
      ]
     },
     "execution_count": 43,
     "metadata": {},
     "output_type": "execute_result"
    }
   ],
   "source": [
    "final_test = test_combined_df[num_table.columns]\n",
    "print(final_test.shape)\n",
    "final_test.head(3)"
   ]
  },
  {
   "cell_type": "markdown",
   "id": "84085797",
   "metadata": {
    "papermill": {
     "duration": 0.040884,
     "end_time": "2024-10-16T21:03:15.501899",
     "exception": false,
     "start_time": "2024-10-16T21:03:15.461015",
     "status": "completed"
    },
    "tags": []
   },
   "source": [
    "# 4. Model Building"
   ]
  },
  {
   "cell_type": "code",
   "execution_count": 44,
   "id": "e988350c",
   "metadata": {
    "execution": {
     "iopub.execute_input": "2024-10-16T21:03:15.569006Z",
     "iopub.status.busy": "2024-10-16T21:03:15.568542Z",
     "iopub.status.idle": "2024-10-16T21:03:15.574019Z",
     "shell.execute_reply": "2024-10-16T21:03:15.572851Z"
    },
    "papermill": {
     "duration": 0.037927,
     "end_time": "2024-10-16T21:03:15.576434",
     "exception": false,
     "start_time": "2024-10-16T21:03:15.538507",
     "status": "completed"
    },
    "tags": []
   },
   "outputs": [],
   "source": [
    "scaled_train_data = num_table\n",
    "scaled_test_data = final_test\n",
    "y = target_df['loan_status']"
   ]
  },
  {
   "cell_type": "code",
   "execution_count": 45,
   "id": "f3290bb6",
   "metadata": {
    "execution": {
     "iopub.execute_input": "2024-10-16T21:03:15.634782Z",
     "iopub.status.busy": "2024-10-16T21:03:15.634072Z",
     "iopub.status.idle": "2024-10-16T21:03:30.752080Z",
     "shell.execute_reply": "2024-10-16T21:03:30.750893Z"
    },
    "papermill": {
     "duration": 15.150385,
     "end_time": "2024-10-16T21:03:30.754914",
     "exception": false,
     "start_time": "2024-10-16T21:03:15.604529",
     "status": "completed"
    },
    "tags": []
   },
   "outputs": [
    {
     "name": "stdout",
     "output_type": "stream",
     "text": [
      "Overall AUC (CatBoostClassifier with StratifiedKFold): 0.951497913210263\n"
     ]
    }
   ],
   "source": [
    "catboost_params = {\n",
    "    'depth': 7,\n",
    "    'learning_rate': 0.199,\n",
    "    'bagging_temperature': 0.79,\n",
    "    'l2_leaf_reg': 5,\n",
    "    'loss_function': 'Logloss',\n",
    "    'iterations': 400,\n",
    "    'grow_policy': 'Lossguide',\n",
    "    'eval_metric': 'AUC',\n",
    "}\n",
    "\n",
    "n_splits = 5\n",
    "skf = StratifiedKFold(n_splits=n_splits, shuffle=True, random_state=42)\n",
    "\n",
    "catboost_predictions = np.zeros(len(scaled_train_data))\n",
    "catboost_true_labels = np.zeros(len(scaled_train_data))\n",
    "catboost_test_predictions = np.zeros(len(scaled_test_data))\n",
    "\n",
    "for fold, (train_idx, val_idx) in enumerate(skf.split(scaled_train_data, y)):\n",
    "    X_train, X_val = scaled_train_data.iloc[train_idx], scaled_train_data.iloc[val_idx]\n",
    "    y_train, y_val = y.iloc[train_idx], y.iloc[val_idx]\n",
    "    catboost_model = CatBoostClassifier(**catboost_params)\n",
    "    catboost_model.fit(X_train, y_train,\n",
    "                       eval_set=(X_val, y_val),\n",
    "                       early_stopping_rounds=10,\n",
    "                       verbose=False)\n",
    "  \n",
    "    catboost_fold_preds = catboost_model.predict_proba(X_val)[:, 1]  \n",
    "    catboost_fold_test_preds = catboost_model.predict_proba(scaled_test_data)[:, 1]  \n",
    "    catboost_predictions[val_idx] = catboost_fold_preds\n",
    "    catboost_true_labels[val_idx] = y_val    \n",
    "    catboost_test_predictions += catboost_fold_test_preds / n_splits\n",
    "overall_metric_catboost = roc_auc_score(catboost_true_labels, catboost_predictions)\n",
    "print(\"Overall AUC (CatBoostClassifier with StratifiedKFold):\", overall_metric_catboost)"
   ]
  },
  {
   "cell_type": "markdown",
   "id": "2f330fb9",
   "metadata": {
    "papermill": {
     "duration": 0.028302,
     "end_time": "2024-10-16T21:03:30.811501",
     "exception": false,
     "start_time": "2024-10-16T21:03:30.783199",
     "status": "completed"
    },
    "tags": []
   },
   "source": [
    "# 5. Tune Thresholds"
   ]
  },
  {
   "cell_type": "code",
   "execution_count": 46,
   "id": "f9d11cef",
   "metadata": {
    "execution": {
     "iopub.execute_input": "2024-10-16T21:03:30.869954Z",
     "iopub.status.busy": "2024-10-16T21:03:30.868896Z",
     "iopub.status.idle": "2024-10-16T21:03:30.890102Z",
     "shell.execute_reply": "2024-10-16T21:03:30.889008Z"
    },
    "papermill": {
     "duration": 0.053297,
     "end_time": "2024-10-16T21:03:30.892617",
     "exception": false,
     "start_time": "2024-10-16T21:03:30.839320",
     "status": "completed"
    },
    "tags": []
   },
   "outputs": [
    {
     "name": "stdout",
     "output_type": "stream",
     "text": [
      "0.14323992313461248\n"
     ]
    }
   ],
   "source": [
    "from sklearn.metrics import roc_curve, auc\n",
    "fpr_cat, tpr_cat, thresholds = roc_curve(catboost_true_labels, catboost_predictions)\n",
    "roc_auc_xgb = auc(fpr_cat, tpr_cat)\n",
    "\n",
    "\n",
    "j_scores = tpr_cat - fpr_cat\n",
    "j_index = np.argmax(j_scores)\n",
    "best_threshold = thresholds[j_index]\n",
    "print(best_threshold)"
   ]
  },
  {
   "cell_type": "code",
   "execution_count": 47,
   "id": "6bc6e992",
   "metadata": {
    "execution": {
     "iopub.execute_input": "2024-10-16T21:03:30.950239Z",
     "iopub.status.busy": "2024-10-16T21:03:30.949829Z",
     "iopub.status.idle": "2024-10-16T21:03:31.313881Z",
     "shell.execute_reply": "2024-10-16T21:03:31.312772Z"
    },
    "papermill": {
     "duration": 0.396657,
     "end_time": "2024-10-16T21:03:31.317182",
     "exception": false,
     "start_time": "2024-10-16T21:03:30.920525",
     "status": "completed"
    },
    "tags": []
   },
   "outputs": [
    {
     "data": {
      "image/png": "[encoded data removed]",
      "text/plain": [
       "<Figure size 1000x600 with 1 Axes>"
      ]
     },
     "metadata": {},
     "output_type": "display_data"
    }
   ],
   "source": [
    "\n",
    "plt.figure(figsize=(10, 6))\n",
    "\n",
    "plt.plot(fpr_cat, tpr_cat, color='blue', lw=2, label=f'xGBoost ROC Curve (AUC = {roc_auc_xgb:.4f})')\n",
    "plt.axvline(x=fpr_cat[j_index], color='green', linestyle=':', lw=2, label=f'Best Threshold = {best_threshold:.4f}')\n",
    "\n",
    "plt.plot([0, 1], [0, 1], color='red', linestyle='--')  \n",
    "plt.xlim([0.0, 1.0])\n",
    "plt.ylim([0.0, 1.05])\n",
    "plt.xlabel('False Positive Rate')\n",
    "plt.ylabel('True Positive Rate')\n",
    "plt.title('Receiver Operating Characteristic (ROC) Curves')\n",
    "plt.legend(loc='lower right')\n",
    "plt.grid(True)\n",
    "plt.show()"
   ]
  },
  {
   "cell_type": "markdown",
   "id": "4b093e3d",
   "metadata": {
    "papermill": {
     "duration": 0.029128,
     "end_time": "2024-10-16T21:03:31.375879",
     "exception": false,
     "start_time": "2024-10-16T21:03:31.346751",
     "status": "completed"
    },
    "tags": []
   },
   "source": [
    "# 99. Submission"
   ]
  },
  {
   "cell_type": "code",
   "execution_count": 48,
   "id": "5197e5b7",
   "metadata": {
    "execution": {
     "iopub.execute_input": "2024-10-16T21:03:31.436098Z",
     "iopub.status.busy": "2024-10-16T21:03:31.435621Z",
     "iopub.status.idle": "2024-10-16T21:03:31.477281Z",
     "shell.execute_reply": "2024-10-16T21:03:31.476111Z"
    },
    "papermill": {
     "duration": 0.074984,
     "end_time": "2024-10-16T21:03:31.480017",
     "exception": false,
     "start_time": "2024-10-16T21:03:31.405033",
     "status": "completed"
    },
    "tags": []
   },
   "outputs": [
    {
     "data": {
      "text/html": [
       "<div>\n",
       "<style scoped>\n",
       "    .dataframe tbody tr th:only-of-type {\n",
       "        vertical-align: middle;\n",
       "    }\n",
       "\n",
       "    .dataframe tbody tr th {\n",
       "        vertical-align: top;\n",
       "    }\n",
       "\n",
       "    .dataframe thead th {\n",
       "        text-align: right;\n",
       "    }\n",
       "</style>\n",
       "<table border=\"1\" class=\"dataframe\">\n",
       "  <thead>\n",
       "    <tr style=\"text-align: right;\">\n",
       "      <th></th>\n",
       "      <th>id</th>\n",
       "      <th>loan_status</th>\n",
       "    </tr>\n",
       "  </thead>\n",
       "  <tbody>\n",
       "    <tr>\n",
       "      <th>0</th>\n",
       "      <td>58645</td>\n",
       "      <td>1</td>\n",
       "    </tr>\n",
       "    <tr>\n",
       "      <th>1</th>\n",
       "      <td>58646</td>\n",
       "      <td>0</td>\n",
       "    </tr>\n",
       "    <tr>\n",
       "      <th>2</th>\n",
       "      <td>58647</td>\n",
       "      <td>1</td>\n",
       "    </tr>\n",
       "    <tr>\n",
       "      <th>3</th>\n",
       "      <td>58648</td>\n",
       "      <td>0</td>\n",
       "    </tr>\n",
       "    <tr>\n",
       "      <th>4</th>\n",
       "      <td>58649</td>\n",
       "      <td>0</td>\n",
       "    </tr>\n",
       "  </tbody>\n",
       "</table>\n",
       "</div>"
      ],
      "text/plain": [
       "      id  loan_status\n",
       "0  58645            1\n",
       "1  58646            0\n",
       "2  58647            1\n",
       "3  58648            0\n",
       "4  58649            0"
      ]
     },
     "execution_count": 48,
     "metadata": {},
     "output_type": "execute_result"
    }
   ],
   "source": [
    "df_sub['loan_status'] = [1 if x > best_threshold else 0 for x in catboost_test_predictions]\n",
    "df_sub.head()"
   ]
  },
  {
   "cell_type": "code",
   "execution_count": 49,
   "id": "68fddf7e",
   "metadata": {
    "execution": {
     "iopub.execute_input": "2024-10-16T21:03:31.542770Z",
     "iopub.status.busy": "2024-10-16T21:03:31.541769Z",
     "iopub.status.idle": "2024-10-16T21:03:31.601704Z",
     "shell.execute_reply": "2024-10-16T21:03:31.600561Z"
    },
    "papermill": {
     "duration": 0.093544,
     "end_time": "2024-10-16T21:03:31.604576",
     "exception": false,
     "start_time": "2024-10-16T21:03:31.511032",
     "status": "completed"
    },
    "tags": []
   },
   "outputs": [],
   "source": [
    "df_sub.to_csv('submission.csv', index=False)"
   ]
  }
 ],
 "metadata": {
  "kaggle": {
   "accelerator": "none",
   "dataSources": [
    {
     "databundleVersionId": 9709193,
     "sourceId": 84894,
     "sourceType": "competition"
    }
   ],
   "dockerImageVersionId": 30775,
   "isGpuEnabled": false,
   "isInternetEnabled": true,
   "language": "python",
   "sourceType": "notebook"
  },
  "kernelspec": {
   "display_name": "Python 3",
   "language": "python",
   "name": "python3"
  },
  "language_info": {
   "codemirror_mode": {
    "name": "ipython",
    "version": 3
   },
   "file_extension": ".py",
   "mimetype": "text/x-python",
   "name": "python",
   "nbconvert_exporter": "python",
   "pygments_lexer": "ipython3",
   "version": "3.10.14"
  },
  "papermill": {
   "default_parameters": {},
   "duration": 37.084309,
   "end_time": "2024-10-16T21:03:34.256687",
   "environment_variables": {},
   "exception": null,
   "input_path": "__notebook__.ipynb",
   "output_path": "__notebook__.ipynb",
   "parameters": {},
   "start_time": "2024-10-16T21:02:57.172378",
   "version": "2.6.0"
  }
 },
 "nbformat": 4,
 "nbformat_minor": 5
}
