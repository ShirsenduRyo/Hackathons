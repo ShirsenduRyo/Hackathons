{
 "cells": [
  {
   "cell_type": "markdown",
   "metadata": {},
   "source": [
    "# 0. Setting Up Env"
   ]
  },
  {
   "cell_type": "markdown",
   "metadata": {},
   "source": [
    "## 0.1 Import Packages"
   ]
  },
  {
   "cell_type": "code",
   "execution_count": 2,
   "metadata": {},
   "outputs": [],
   "source": [
    "import pandas as pd\n",
    "import numpy as np\n",
    "from  lightgbm import LGBMRegressor,LGBMClassifier,log_evaluation,early_stopping\n",
    "# from catboost import CatBoostRegressor,CatBoostClassifier\n",
    "# from lifelines import KaplanMeierFitter\n",
    "import warnings\n",
    "warnings.filterwarnings('ignore')\n",
    "import random\n"
   ]
  },
  {
   "cell_type": "markdown",
   "metadata": {},
   "source": [
    "## 0.2 Custom Functions"
   ]
  },
  {
   "cell_type": "code",
   "execution_count": 10,
   "metadata": {},
   "outputs": [],
   "source": [
    "def get_feature_types(df):\n",
    "    \"\"\"\n",
    "    Returns a dictionary containing lists of object (categorical), numerical, and boolean columns.\n",
    "    \n",
    "    Parameters:\n",
    "    df (pd.DataFrame): The input DataFrame\n",
    "\n",
    "    Returns:\n",
    "    dict: A dictionary with keys 'object', 'numeric', and 'boolean' containing respective column lists\n",
    "    \"\"\"\n",
    "    type_len = {\n",
    "        \"object_len\": len(df.select_dtypes(include=['object']).columns.tolist()),\n",
    "        \"int_len\": len(df.select_dtypes(include=['int']).columns.tolist()),\n",
    "        \"float_len\": len(df.select_dtypes(include=['float']).columns.tolist()),\n",
    "        \"boolean_len\": len(df.select_dtypes(include=['bool']).columns.tolist())\n",
    "    }\n",
    "\n",
    "    feature_types = {\n",
    "        \"object\": df.select_dtypes(include=['object']).columns.tolist(),\n",
    "        \"int\": df.select_dtypes(include=['int']).columns.tolist(),\n",
    "        \"float\": df.select_dtypes(include=['float']).columns.tolist(),\n",
    "        \"boolean\": df.select_dtypes(include=['bool']).columns.tolist()\n",
    "    }\n",
    "    return type_len, feature_types"
   ]
  },
  {
   "cell_type": "markdown",
   "metadata": {},
   "source": [
    "## 0.3 Other Setups"
   ]
  },
  {
   "cell_type": "code",
   "execution_count": 4,
   "metadata": {},
   "outputs": [],
   "source": [
    "pd.set_option(\"display.max_columns\", None)  # Show all columns\n",
    "pd.set_option(\"display.width\", 1000)  # Increase display width"
   ]
  },
  {
   "cell_type": "code",
   "execution_count": 5,
   "metadata": {},
   "outputs": [],
   "source": [
    "def seed_everything(seed):\n",
    "    np.random.seed(seed)\n",
    "    random.seed(seed)\n",
    "seed_everything(seed=99)"
   ]
  },
  {
   "cell_type": "markdown",
   "metadata": {},
   "source": [
    "# 1. Import Data"
   ]
  },
  {
   "cell_type": "code",
   "execution_count": 6,
   "metadata": {},
   "outputs": [
    {
     "name": "stdout",
     "output_type": "stream",
     "text": [
      " Train Data Shape :  (28800, 60)\n",
      " Test Data Shape :  (3, 58)\n"
     ]
    },
    {
     "data": {
      "text/html": [
       "<div>\n",
       "<style scoped>\n",
       "    .dataframe tbody tr th:only-of-type {\n",
       "        vertical-align: middle;\n",
       "    }\n",
       "\n",
       "    .dataframe tbody tr th {\n",
       "        vertical-align: top;\n",
       "    }\n",
       "\n",
       "    .dataframe thead th {\n",
       "        text-align: right;\n",
       "    }\n",
       "</style>\n",
       "<table border=\"1\" class=\"dataframe\">\n",
       "  <thead>\n",
       "    <tr style=\"text-align: right;\">\n",
       "      <th></th>\n",
       "      <th>ID</th>\n",
       "      <th>dri_score</th>\n",
       "      <th>psych_disturb</th>\n",
       "      <th>cyto_score</th>\n",
       "      <th>diabetes</th>\n",
       "      <th>hla_match_c_high</th>\n",
       "      <th>hla_high_res_8</th>\n",
       "      <th>tbi_status</th>\n",
       "      <th>arrhythmia</th>\n",
       "      <th>hla_low_res_6</th>\n",
       "      <th>graft_type</th>\n",
       "      <th>vent_hist</th>\n",
       "      <th>renal_issue</th>\n",
       "      <th>pulm_severe</th>\n",
       "      <th>prim_disease_hct</th>\n",
       "      <th>hla_high_res_6</th>\n",
       "      <th>cmv_status</th>\n",
       "      <th>hla_high_res_10</th>\n",
       "      <th>hla_match_dqb1_high</th>\n",
       "      <th>tce_imm_match</th>\n",
       "      <th>hla_nmdp_6</th>\n",
       "      <th>hla_match_c_low</th>\n",
       "      <th>rituximab</th>\n",
       "      <th>hla_match_drb1_low</th>\n",
       "      <th>hla_match_dqb1_low</th>\n",
       "      <th>prod_type</th>\n",
       "      <th>cyto_score_detail</th>\n",
       "      <th>conditioning_intensity</th>\n",
       "      <th>ethnicity</th>\n",
       "      <th>year_hct</th>\n",
       "      <th>obesity</th>\n",
       "      <th>mrd_hct</th>\n",
       "      <th>in_vivo_tcd</th>\n",
       "      <th>tce_match</th>\n",
       "      <th>hla_match_a_high</th>\n",
       "      <th>hepatic_severe</th>\n",
       "      <th>donor_age</th>\n",
       "      <th>prior_tumor</th>\n",
       "      <th>hla_match_b_low</th>\n",
       "      <th>peptic_ulcer</th>\n",
       "      <th>age_at_hct</th>\n",
       "      <th>hla_match_a_low</th>\n",
       "      <th>gvhd_proph</th>\n",
       "      <th>rheum_issue</th>\n",
       "      <th>sex_match</th>\n",
       "      <th>hla_match_b_high</th>\n",
       "      <th>race_group</th>\n",
       "      <th>comorbidity_score</th>\n",
       "      <th>karnofsky_score</th>\n",
       "      <th>hepatic_mild</th>\n",
       "      <th>tce_div_match</th>\n",
       "      <th>donor_related</th>\n",
       "      <th>melphalan_dose</th>\n",
       "      <th>hla_low_res_8</th>\n",
       "      <th>cardiac</th>\n",
       "      <th>hla_match_drb1_high</th>\n",
       "      <th>pulm_moderate</th>\n",
       "      <th>hla_low_res_10</th>\n",
       "      <th>efs</th>\n",
       "      <th>efs_time</th>\n",
       "    </tr>\n",
       "  </thead>\n",
       "  <tbody>\n",
       "    <tr>\n",
       "      <th>0</th>\n",
       "      <td>0</td>\n",
       "      <td>N/A - non-malignant indication</td>\n",
       "      <td>No</td>\n",
       "      <td>NaN</td>\n",
       "      <td>No</td>\n",
       "      <td>NaN</td>\n",
       "      <td>NaN</td>\n",
       "      <td>No TBI</td>\n",
       "      <td>No</td>\n",
       "      <td>6.0</td>\n",
       "      <td>Bone marrow</td>\n",
       "      <td>No</td>\n",
       "      <td>No</td>\n",
       "      <td>No</td>\n",
       "      <td>IEA</td>\n",
       "      <td>6.0</td>\n",
       "      <td>+/+</td>\n",
       "      <td>NaN</td>\n",
       "      <td>2.0</td>\n",
       "      <td>NaN</td>\n",
       "      <td>6.0</td>\n",
       "      <td>2.0</td>\n",
       "      <td>No</td>\n",
       "      <td>2.0</td>\n",
       "      <td>2.0</td>\n",
       "      <td>BM</td>\n",
       "      <td>NaN</td>\n",
       "      <td>NaN</td>\n",
       "      <td>Not Hispanic or Latino</td>\n",
       "      <td>2016</td>\n",
       "      <td>No</td>\n",
       "      <td>NaN</td>\n",
       "      <td>Yes</td>\n",
       "      <td>NaN</td>\n",
       "      <td>2.0</td>\n",
       "      <td>No</td>\n",
       "      <td>NaN</td>\n",
       "      <td>No</td>\n",
       "      <td>2.0</td>\n",
       "      <td>No</td>\n",
       "      <td>9.942</td>\n",
       "      <td>2.0</td>\n",
       "      <td>FKalone</td>\n",
       "      <td>No</td>\n",
       "      <td>M-F</td>\n",
       "      <td>2.0</td>\n",
       "      <td>More than one race</td>\n",
       "      <td>0.0</td>\n",
       "      <td>90.0</td>\n",
       "      <td>No</td>\n",
       "      <td>NaN</td>\n",
       "      <td>Unrelated</td>\n",
       "      <td>N/A, Mel not given</td>\n",
       "      <td>8.0</td>\n",
       "      <td>No</td>\n",
       "      <td>2.0</td>\n",
       "      <td>No</td>\n",
       "      <td>10.0</td>\n",
       "      <td>0.0</td>\n",
       "      <td>42.356</td>\n",
       "    </tr>\n",
       "    <tr>\n",
       "      <th>1</th>\n",
       "      <td>1</td>\n",
       "      <td>Intermediate</td>\n",
       "      <td>No</td>\n",
       "      <td>Intermediate</td>\n",
       "      <td>No</td>\n",
       "      <td>2.0</td>\n",
       "      <td>8.0</td>\n",
       "      <td>TBI +- Other, &gt;cGy</td>\n",
       "      <td>No</td>\n",
       "      <td>6.0</td>\n",
       "      <td>Peripheral blood</td>\n",
       "      <td>No</td>\n",
       "      <td>No</td>\n",
       "      <td>No</td>\n",
       "      <td>AML</td>\n",
       "      <td>6.0</td>\n",
       "      <td>+/+</td>\n",
       "      <td>10.0</td>\n",
       "      <td>2.0</td>\n",
       "      <td>P/P</td>\n",
       "      <td>6.0</td>\n",
       "      <td>2.0</td>\n",
       "      <td>No</td>\n",
       "      <td>2.0</td>\n",
       "      <td>2.0</td>\n",
       "      <td>PB</td>\n",
       "      <td>Intermediate</td>\n",
       "      <td>MAC</td>\n",
       "      <td>Not Hispanic or Latino</td>\n",
       "      <td>2008</td>\n",
       "      <td>No</td>\n",
       "      <td>Positive</td>\n",
       "      <td>No</td>\n",
       "      <td>Permissive</td>\n",
       "      <td>2.0</td>\n",
       "      <td>No</td>\n",
       "      <td>72.29</td>\n",
       "      <td>No</td>\n",
       "      <td>2.0</td>\n",
       "      <td>No</td>\n",
       "      <td>43.705</td>\n",
       "      <td>2.0</td>\n",
       "      <td>Other GVHD Prophylaxis</td>\n",
       "      <td>No</td>\n",
       "      <td>F-F</td>\n",
       "      <td>2.0</td>\n",
       "      <td>Asian</td>\n",
       "      <td>3.0</td>\n",
       "      <td>90.0</td>\n",
       "      <td>No</td>\n",
       "      <td>Permissive mismatched</td>\n",
       "      <td>Related</td>\n",
       "      <td>N/A, Mel not given</td>\n",
       "      <td>8.0</td>\n",
       "      <td>No</td>\n",
       "      <td>2.0</td>\n",
       "      <td>Yes</td>\n",
       "      <td>10.0</td>\n",
       "      <td>1.0</td>\n",
       "      <td>4.672</td>\n",
       "    </tr>\n",
       "    <tr>\n",
       "      <th>2</th>\n",
       "      <td>2</td>\n",
       "      <td>N/A - non-malignant indication</td>\n",
       "      <td>No</td>\n",
       "      <td>NaN</td>\n",
       "      <td>No</td>\n",
       "      <td>2.0</td>\n",
       "      <td>8.0</td>\n",
       "      <td>No TBI</td>\n",
       "      <td>No</td>\n",
       "      <td>6.0</td>\n",
       "      <td>Bone marrow</td>\n",
       "      <td>No</td>\n",
       "      <td>No</td>\n",
       "      <td>No</td>\n",
       "      <td>HIS</td>\n",
       "      <td>6.0</td>\n",
       "      <td>+/+</td>\n",
       "      <td>10.0</td>\n",
       "      <td>2.0</td>\n",
       "      <td>P/P</td>\n",
       "      <td>6.0</td>\n",
       "      <td>2.0</td>\n",
       "      <td>No</td>\n",
       "      <td>2.0</td>\n",
       "      <td>2.0</td>\n",
       "      <td>BM</td>\n",
       "      <td>NaN</td>\n",
       "      <td>NaN</td>\n",
       "      <td>Not Hispanic or Latino</td>\n",
       "      <td>2019</td>\n",
       "      <td>No</td>\n",
       "      <td>NaN</td>\n",
       "      <td>Yes</td>\n",
       "      <td>NaN</td>\n",
       "      <td>2.0</td>\n",
       "      <td>No</td>\n",
       "      <td>NaN</td>\n",
       "      <td>No</td>\n",
       "      <td>2.0</td>\n",
       "      <td>No</td>\n",
       "      <td>33.997</td>\n",
       "      <td>2.0</td>\n",
       "      <td>Cyclophosphamide alone</td>\n",
       "      <td>No</td>\n",
       "      <td>F-M</td>\n",
       "      <td>2.0</td>\n",
       "      <td>More than one race</td>\n",
       "      <td>0.0</td>\n",
       "      <td>90.0</td>\n",
       "      <td>No</td>\n",
       "      <td>Permissive mismatched</td>\n",
       "      <td>Related</td>\n",
       "      <td>N/A, Mel not given</td>\n",
       "      <td>8.0</td>\n",
       "      <td>No</td>\n",
       "      <td>2.0</td>\n",
       "      <td>No</td>\n",
       "      <td>10.0</td>\n",
       "      <td>0.0</td>\n",
       "      <td>19.793</td>\n",
       "    </tr>\n",
       "  </tbody>\n",
       "</table>\n",
       "</div>"
      ],
      "text/plain": [
       "   ID                       dri_score psych_disturb    cyto_score diabetes  hla_match_c_high  hla_high_res_8          tbi_status arrhythmia  hla_low_res_6        graft_type vent_hist renal_issue pulm_severe prim_disease_hct  hla_high_res_6 cmv_status  hla_high_res_10  hla_match_dqb1_high tce_imm_match  hla_nmdp_6  hla_match_c_low rituximab  hla_match_drb1_low  hla_match_dqb1_low prod_type cyto_score_detail conditioning_intensity               ethnicity  year_hct obesity   mrd_hct in_vivo_tcd   tce_match  hla_match_a_high hepatic_severe  donor_age prior_tumor  hla_match_b_low peptic_ulcer  age_at_hct  hla_match_a_low              gvhd_proph rheum_issue sex_match  hla_match_b_high          race_group  comorbidity_score  karnofsky_score hepatic_mild          tce_div_match donor_related      melphalan_dose  hla_low_res_8 cardiac  hla_match_drb1_high pulm_moderate  hla_low_res_10  efs  efs_time\n",
       "0   0  N/A - non-malignant indication            No           NaN       No               NaN             NaN              No TBI         No            6.0       Bone marrow        No          No          No              IEA             6.0        +/+              NaN                  2.0           NaN         6.0              2.0        No                 2.0                 2.0        BM               NaN                    NaN  Not Hispanic or Latino      2016      No       NaN         Yes         NaN               2.0             No        NaN          No              2.0           No       9.942              2.0                 FKalone          No       M-F               2.0  More than one race                0.0             90.0           No                    NaN     Unrelated  N/A, Mel not given            8.0      No                  2.0            No            10.0  0.0    42.356\n",
       "1   1                    Intermediate            No  Intermediate       No               2.0             8.0  TBI +- Other, >cGy         No            6.0  Peripheral blood        No          No          No              AML             6.0        +/+             10.0                  2.0           P/P         6.0              2.0        No                 2.0                 2.0        PB      Intermediate                    MAC  Not Hispanic or Latino      2008      No  Positive          No  Permissive               2.0             No      72.29          No              2.0           No      43.705              2.0  Other GVHD Prophylaxis          No       F-F               2.0               Asian                3.0             90.0           No  Permissive mismatched       Related  N/A, Mel not given            8.0      No                  2.0           Yes            10.0  1.0     4.672\n",
       "2   2  N/A - non-malignant indication            No           NaN       No               2.0             8.0              No TBI         No            6.0       Bone marrow        No          No          No              HIS             6.0        +/+             10.0                  2.0           P/P         6.0              2.0        No                 2.0                 2.0        BM               NaN                    NaN  Not Hispanic or Latino      2019      No       NaN         Yes         NaN               2.0             No        NaN          No              2.0           No      33.997              2.0  Cyclophosphamide alone          No       F-M               2.0  More than one race                0.0             90.0           No  Permissive mismatched       Related  N/A, Mel not given            8.0      No                  2.0            No            10.0  0.0    19.793"
      ]
     },
     "execution_count": 6,
     "metadata": {},
     "output_type": "execute_result"
    }
   ],
   "source": [
    "data_dir = \"/06 CIBMTR/01 Data\" \n",
    "train=pd.read_csv(\"D:/01 Work/01 Coding/01 Hackathons/06 CIBMTR/01 Data/train.csv\")\n",
    "test=pd.read_csv(\"D:/01 Work/01 Coding/01 Hackathons/06 CIBMTR/01 Data/test.csv\")\n",
    "print(f\" Train Data Shape : \", train.shape)\n",
    "print(f\" Test Data Shape : \", test.shape)\n",
    "\n",
    "train.head(3)"
   ]
  },
  {
   "cell_type": "code",
   "execution_count": 7,
   "metadata": {},
   "outputs": [
    {
     "data": {
      "text/plain": [
       "{'efs', 'efs_time'}"
      ]
     },
     "execution_count": 7,
     "metadata": {},
     "output_type": "execute_result"
    }
   ],
   "source": [
    "set(train.columns) - set(test.columns)"
   ]
  },
  {
   "cell_type": "markdown",
   "metadata": {},
   "source": [
    "# 2. EDA Data"
   ]
  },
  {
   "cell_type": "code",
   "execution_count": 8,
   "metadata": {},
   "outputs": [
    {
     "data": {
      "text/plain": [
       "ID                          int64\n",
       "dri_score                  object\n",
       "psych_disturb              object\n",
       "cyto_score                 object\n",
       "diabetes                   object\n",
       "hla_match_c_high          float64\n",
       "hla_high_res_8            float64\n",
       "tbi_status                 object\n",
       "arrhythmia                 object\n",
       "hla_low_res_6             float64\n",
       "graft_type                 object\n",
       "vent_hist                  object\n",
       "renal_issue                object\n",
       "pulm_severe                object\n",
       "prim_disease_hct           object\n",
       "hla_high_res_6            float64\n",
       "cmv_status                 object\n",
       "hla_high_res_10           float64\n",
       "hla_match_dqb1_high       float64\n",
       "tce_imm_match              object\n",
       "hla_nmdp_6                float64\n",
       "hla_match_c_low           float64\n",
       "rituximab                  object\n",
       "hla_match_drb1_low        float64\n",
       "hla_match_dqb1_low        float64\n",
       "prod_type                  object\n",
       "cyto_score_detail          object\n",
       "conditioning_intensity     object\n",
       "ethnicity                  object\n",
       "year_hct                    int64\n",
       "obesity                    object\n",
       "mrd_hct                    object\n",
       "in_vivo_tcd                object\n",
       "tce_match                  object\n",
       "hla_match_a_high          float64\n",
       "hepatic_severe             object\n",
       "donor_age                 float64\n",
       "prior_tumor                object\n",
       "hla_match_b_low           float64\n",
       "peptic_ulcer               object\n",
       "age_at_hct                float64\n",
       "hla_match_a_low           float64\n",
       "gvhd_proph                 object\n",
       "rheum_issue                object\n",
       "sex_match                  object\n",
       "hla_match_b_high          float64\n",
       "race_group                 object\n",
       "comorbidity_score         float64\n",
       "karnofsky_score           float64\n",
       "hepatic_mild               object\n",
       "tce_div_match              object\n",
       "donor_related              object\n",
       "melphalan_dose             object\n",
       "hla_low_res_8             float64\n",
       "cardiac                    object\n",
       "hla_match_drb1_high       float64\n",
       "pulm_moderate              object\n",
       "hla_low_res_10            float64\n",
       "dtype: object"
      ]
     },
     "execution_count": 8,
     "metadata": {},
     "output_type": "execute_result"
    }
   ],
   "source": [
    "X_train = train.iloc[:,:-2]\n",
    "y_train = train.iloc[:,-2:]\n",
    "\n",
    "X_train.dtypes\n"
   ]
  },
  {
   "cell_type": "code",
   "execution_count": 12,
   "metadata": {},
   "outputs": [
    {
     "data": {
      "text/plain": [
       "({'object_len': 35, 'int_len': 2, 'float_len': 21, 'boolean_len': 0}, 58)"
      ]
     },
     "execution_count": 12,
     "metadata": {},
     "output_type": "execute_result"
    }
   ],
   "source": [
    "ft_count, ft_cat = get_feature_types(X_train)\n",
    "ft_count, len(X_train.columns)"
   ]
  },
  {
   "cell_type": "markdown",
   "metadata": {},
   "source": [
    "# 3. Numerical Columns"
   ]
  },
  {
   "cell_type": "markdown",
   "metadata": {},
   "source": [
    "# 4. Categorical Columns"
   ]
  },
  {
   "cell_type": "markdown",
   "metadata": {},
   "source": [
    "# END"
   ]
  },
  {
   "cell_type": "markdown",
   "metadata": {},
   "source": []
  }
 ],
 "metadata": {
  "kernelspec": {
   "display_name": "hackathons",
   "language": "python",
   "name": "python3"
  },
  "language_info": {
   "codemirror_mode": {
    "name": "ipython",
    "version": 3
   },
   "file_extension": ".py",
   "mimetype": "text/x-python",
   "name": "python",
   "nbconvert_exporter": "python",
   "pygments_lexer": "ipython3",
   "version": "3.13.1"
  }
 },
 "nbformat": 4,
 "nbformat_minor": 2
}
